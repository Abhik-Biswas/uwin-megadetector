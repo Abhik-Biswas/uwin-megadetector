{
 "cells": [
  {
   "cell_type": "code",
   "execution_count": 1,
   "id": "44731171-c496-489d-a3f4-5492ecba25f3",
   "metadata": {},
   "outputs": [],
   "source": [
    "from megadetector.detection.run_detector_batch import load_and_run_detector_batch, write_results_to_file\n",
    "from megadetector.utils import path_utils\n",
    "import os"
   ]
  },
  {
   "cell_type": "code",
   "execution_count": 2,
   "id": "e495a14f-d333-4f85-961a-f192d6890b74",
   "metadata": {},
   "outputs": [],
   "source": [
    "# Pick a folder to run MD on recursively, and an output file\n",
    "image_folder = os.path.expanduser(r\"\\\\vector.e3b.columbia.edu\\e3b\\Globus Database\\UWIN Tagged Photos\\batch_004\")\n",
    "output_file = os.path.expanduser('./batch_004_out.json')"
   ]
  },
  {
   "cell_type": "code",
   "execution_count": 3,
   "id": "bcc03b77-0097-4fbe-b420-9375f7b75264",
   "metadata": {},
   "outputs": [],
   "source": [
    "image_file_names = path_utils.find_images(image_folder,recursive=True)"
   ]
  },
  {
   "cell_type": "code",
   "execution_count": 4,
   "id": "bb18f0d9-871f-4a9e-95e0-e9c5be832bf9",
   "metadata": {
    "scrolled": true
   },
   "outputs": [
    {
     "name": "stdout",
     "output_type": "stream",
     "text": [
      "Downloading model MDV5A\n",
      "Bypassing download of already-downloaded file md_v5a.0.0.pt\n",
      "PyTorch reports 0 available CUDA devices\n",
      "GPU available: False\n",
      "Imported YOLOv5 as utils.*\n",
      "Using PyTorch version 2.3.1+cpu\n"
     ]
    },
    {
     "name": "stderr",
     "output_type": "stream",
     "text": [
      "Fusing layers... \n",
      "Fusing layers... \n",
      "Model summary: 733 layers, 140054656 parameters, 0 gradients, 208.8 GFLOPs\n",
      "Model summary: 733 layers, 140054656 parameters, 0 gradients, 208.8 GFLOPs\n"
     ]
    },
    {
     "name": "stdout",
     "output_type": "stream",
     "text": [
      "Loaded model in 5.8 seconds\n",
      "Loaded model in 5.8 seconds\n"
     ]
    },
    {
     "name": "stderr",
     "output_type": "stream",
     "text": [
      "  0%|                                                                                         | 0/1256 [00:00<?, ?it/s]"
     ]
    },
    {
     "name": "stdout",
     "output_type": "stream",
     "text": [
      "Processing image //vector.e3b.columbia.edu/e3b/Globus Database/UWIN Tagged Photos/batch_004/VID30069-00000.jpg\n"
     ]
    },
    {
     "name": "stderr",
     "output_type": "stream",
     "text": [
      "  0%|                                                                                 | 1/1256 [00:01<23:32,  1.13s/it]"
     ]
    },
    {
     "name": "stdout",
     "output_type": "stream",
     "text": [
      "Processing image //vector.e3b.columbia.edu/e3b/Globus Database/UWIN Tagged Photos/batch_004/VID30069-00001.jpg\n"
     ]
    },
    {
     "name": "stderr",
     "output_type": "stream",
     "text": [
      "  0%|▏                                                                                | 2/1256 [00:02<22:56,  1.10s/it]"
     ]
    },
    {
     "name": "stdout",
     "output_type": "stream",
     "text": [
      "Processing image //vector.e3b.columbia.edu/e3b/Globus Database/UWIN Tagged Photos/batch_004/VID30069-00002.jpg\n"
     ]
    },
    {
     "name": "stderr",
     "output_type": "stream",
     "text": [
      "  0%|▏                                                                                | 3/1256 [00:03<23:28,  1.12s/it]"
     ]
    },
    {
     "name": "stdout",
     "output_type": "stream",
     "text": [
      "Processing image //vector.e3b.columbia.edu/e3b/Globus Database/UWIN Tagged Photos/batch_004/VID30069-00003.jpg\n"
     ]
    },
    {
     "name": "stderr",
     "output_type": "stream",
     "text": [
      "  0%|▎                                                                                | 4/1256 [00:04<23:11,  1.11s/it]"
     ]
    },
    {
     "name": "stdout",
     "output_type": "stream",
     "text": [
      "Processing image //vector.e3b.columbia.edu/e3b/Globus Database/UWIN Tagged Photos/batch_004/VID30069-00004.jpg\n"
     ]
    },
    {
     "name": "stderr",
     "output_type": "stream",
     "text": [
      "  0%|▎                                                                                | 5/1256 [00:05<22:49,  1.09s/it]"
     ]
    },
    {
     "name": "stdout",
     "output_type": "stream",
     "text": [
      "Processing image //vector.e3b.columbia.edu/e3b/Globus Database/UWIN Tagged Photos/batch_004/VID30069-00005.jpg\n"
     ]
    },
    {
     "name": "stderr",
     "output_type": "stream",
     "text": [
      "  0%|▍                                                                                | 6/1256 [00:06<22:57,  1.10s/it]"
     ]
    },
    {
     "name": "stdout",
     "output_type": "stream",
     "text": [
      "Processing image //vector.e3b.columbia.edu/e3b/Globus Database/UWIN Tagged Photos/batch_004/VID30069-00006.jpg\n"
     ]
    },
    {
     "name": "stderr",
     "output_type": "stream",
     "text": [
      "  1%|▍                                                                                | 7/1256 [00:07<22:56,  1.10s/it]"
     ]
    },
    {
     "name": "stdout",
     "output_type": "stream",
     "text": [
      "Processing image //vector.e3b.columbia.edu/e3b/Globus Database/UWIN Tagged Photos/batch_004/VID30069-00007.jpg\n"
     ]
    },
    {
     "name": "stderr",
     "output_type": "stream",
     "text": [
      "  1%|▌                                                                                | 8/1256 [00:08<22:45,  1.09s/it]"
     ]
    },
    {
     "name": "stdout",
     "output_type": "stream",
     "text": [
      "Processing image //vector.e3b.columbia.edu/e3b/Globus Database/UWIN Tagged Photos/batch_004/VID30069-00009.jpg\n"
     ]
    },
    {
     "name": "stderr",
     "output_type": "stream",
     "text": [
      "  1%|▌                                                                                | 9/1256 [00:09<22:38,  1.09s/it]"
     ]
    },
    {
     "name": "stdout",
     "output_type": "stream",
     "text": [
      "Processing image //vector.e3b.columbia.edu/e3b/Globus Database/UWIN Tagged Photos/batch_004/VID30069-00010.jpg\n"
     ]
    },
    {
     "name": "stderr",
     "output_type": "stream",
     "text": [
      "  1%|▋                                                                               | 10/1256 [00:11<22:58,  1.11s/it]"
     ]
    },
    {
     "name": "stdout",
     "output_type": "stream",
     "text": [
      "Processing image //vector.e3b.columbia.edu/e3b/Globus Database/UWIN Tagged Photos/batch_004/VID30069-00011.jpg\n"
     ]
    },
    {
     "name": "stderr",
     "output_type": "stream",
     "text": [
      "  1%|▋                                                                               | 11/1256 [00:12<22:37,  1.09s/it]"
     ]
    },
    {
     "name": "stdout",
     "output_type": "stream",
     "text": [
      "Processing image //vector.e3b.columbia.edu/e3b/Globus Database/UWIN Tagged Photos/batch_004/VID30069-00012.jpg\n"
     ]
    },
    {
     "name": "stderr",
     "output_type": "stream",
     "text": [
      "  1%|▊                                                                               | 12/1256 [00:13<22:25,  1.08s/it]"
     ]
    },
    {
     "name": "stdout",
     "output_type": "stream",
     "text": [
      "Processing image //vector.e3b.columbia.edu/e3b/Globus Database/UWIN Tagged Photos/batch_004/VID30069-00013.jpg\n"
     ]
    },
    {
     "name": "stderr",
     "output_type": "stream",
     "text": [
      "  1%|▊                                                                               | 13/1256 [00:14<22:14,  1.07s/it]"
     ]
    },
    {
     "name": "stdout",
     "output_type": "stream",
     "text": [
      "Processing image //vector.e3b.columbia.edu/e3b/Globus Database/UWIN Tagged Photos/batch_004/VID30069-00014.jpg\n"
     ]
    },
    {
     "name": "stderr",
     "output_type": "stream",
     "text": [
      "  1%|▉                                                                               | 14/1256 [00:15<22:21,  1.08s/it]"
     ]
    },
    {
     "name": "stdout",
     "output_type": "stream",
     "text": [
      "Processing image //vector.e3b.columbia.edu/e3b/Globus Database/UWIN Tagged Photos/batch_004/VID30069-00015.jpg\n"
     ]
    },
    {
     "name": "stderr",
     "output_type": "stream",
     "text": [
      "  1%|▉                                                                               | 15/1256 [00:16<22:42,  1.10s/it]"
     ]
    },
    {
     "name": "stdout",
     "output_type": "stream",
     "text": [
      "Processing image //vector.e3b.columbia.edu/e3b/Globus Database/UWIN Tagged Photos/batch_004/VID30069-00016.jpg\n"
     ]
    },
    {
     "name": "stderr",
     "output_type": "stream",
     "text": [
      "  1%|█                                                                               | 16/1256 [00:17<23:09,  1.12s/it]"
     ]
    },
    {
     "name": "stdout",
     "output_type": "stream",
     "text": [
      "Processing image //vector.e3b.columbia.edu/e3b/Globus Database/UWIN Tagged Photos/batch_004/VID30069-00017.jpg\n"
     ]
    },
    {
     "name": "stderr",
     "output_type": "stream",
     "text": [
      "  1%|█                                                                               | 17/1256 [00:18<22:57,  1.11s/it]"
     ]
    },
    {
     "name": "stdout",
     "output_type": "stream",
     "text": [
      "Processing image //vector.e3b.columbia.edu/e3b/Globus Database/UWIN Tagged Photos/batch_004/VID30069-00018.jpg\n"
     ]
    },
    {
     "name": "stderr",
     "output_type": "stream",
     "text": [
      "  1%|█▏                                                                              | 18/1256 [00:19<22:42,  1.10s/it]"
     ]
    },
    {
     "name": "stdout",
     "output_type": "stream",
     "text": [
      "Processing image //vector.e3b.columbia.edu/e3b/Globus Database/UWIN Tagged Photos/batch_004/VID30069-00019.jpg\n"
     ]
    },
    {
     "name": "stderr",
     "output_type": "stream",
     "text": [
      "  2%|█▏                                                                              | 19/1256 [00:20<22:41,  1.10s/it]"
     ]
    },
    {
     "name": "stdout",
     "output_type": "stream",
     "text": [
      "Processing image //vector.e3b.columbia.edu/e3b/Globus Database/UWIN Tagged Photos/batch_004/VID30069-00020.jpg\n"
     ]
    },
    {
     "name": "stderr",
     "output_type": "stream",
     "text": [
      "  2%|█▎                                                                              | 20/1256 [00:21<22:36,  1.10s/it]"
     ]
    },
    {
     "name": "stdout",
     "output_type": "stream",
     "text": [
      "Processing image //vector.e3b.columbia.edu/e3b/Globus Database/UWIN Tagged Photos/batch_004/VID30069-00021.jpg\n"
     ]
    },
    {
     "name": "stderr",
     "output_type": "stream",
     "text": [
      "  2%|█▎                                                                              | 21/1256 [00:23<22:33,  1.10s/it]"
     ]
    },
    {
     "name": "stdout",
     "output_type": "stream",
     "text": [
      "Processing image //vector.e3b.columbia.edu/e3b/Globus Database/UWIN Tagged Photos/batch_004/VID30069-00022.jpg\n"
     ]
    },
    {
     "name": "stderr",
     "output_type": "stream",
     "text": [
      "  2%|█▍                                                                              | 22/1256 [00:24<22:20,  1.09s/it]"
     ]
    },
    {
     "name": "stdout",
     "output_type": "stream",
     "text": [
      "Processing image //vector.e3b.columbia.edu/e3b/Globus Database/UWIN Tagged Photos/batch_004/VID30069-00023.jpg\n"
     ]
    },
    {
     "name": "stderr",
     "output_type": "stream",
     "text": [
      "  2%|█▍                                                                              | 23/1256 [00:25<22:27,  1.09s/it]"
     ]
    },
    {
     "name": "stdout",
     "output_type": "stream",
     "text": [
      "Processing image //vector.e3b.columbia.edu/e3b/Globus Database/UWIN Tagged Photos/batch_004/VID30069-00024.jpg\n"
     ]
    },
    {
     "name": "stderr",
     "output_type": "stream",
     "text": [
      "  2%|█▌                                                                              | 24/1256 [00:26<21:58,  1.07s/it]"
     ]
    },
    {
     "name": "stdout",
     "output_type": "stream",
     "text": [
      "Processing image //vector.e3b.columbia.edu/e3b/Globus Database/UWIN Tagged Photos/batch_004/VID30069-00025.jpg\n"
     ]
    },
    {
     "name": "stderr",
     "output_type": "stream",
     "text": [
      "  2%|█▌                                                                              | 25/1256 [00:27<22:14,  1.08s/it]"
     ]
    },
    {
     "name": "stdout",
     "output_type": "stream",
     "text": [
      "Processing image //vector.e3b.columbia.edu/e3b/Globus Database/UWIN Tagged Photos/batch_004/VID30069-00026.jpg\n"
     ]
    },
    {
     "name": "stderr",
     "output_type": "stream",
     "text": [
      "  2%|█▋                                                                              | 26/1256 [00:28<22:11,  1.08s/it]"
     ]
    },
    {
     "name": "stdout",
     "output_type": "stream",
     "text": [
      "Processing image //vector.e3b.columbia.edu/e3b/Globus Database/UWIN Tagged Photos/batch_004/VID30069-00027.jpg\n"
     ]
    },
    {
     "name": "stderr",
     "output_type": "stream",
     "text": [
      "  2%|█▋                                                                              | 27/1256 [00:29<22:38,  1.11s/it]"
     ]
    },
    {
     "name": "stdout",
     "output_type": "stream",
     "text": [
      "Processing image //vector.e3b.columbia.edu/e3b/Globus Database/UWIN Tagged Photos/batch_004/VID30069-00028.jpg\n"
     ]
    },
    {
     "name": "stderr",
     "output_type": "stream",
     "text": [
      "  2%|█▊                                                                              | 28/1256 [00:30<22:29,  1.10s/it]"
     ]
    },
    {
     "name": "stdout",
     "output_type": "stream",
     "text": [
      "Processing image //vector.e3b.columbia.edu/e3b/Globus Database/UWIN Tagged Photos/batch_004/VID30069-00029.jpg\n"
     ]
    },
    {
     "name": "stderr",
     "output_type": "stream",
     "text": [
      "  2%|█▊                                                                              | 29/1256 [00:31<22:14,  1.09s/it]"
     ]
    },
    {
     "name": "stdout",
     "output_type": "stream",
     "text": [
      "Processing image //vector.e3b.columbia.edu/e3b/Globus Database/UWIN Tagged Photos/batch_004/VID30069-00030.jpg\n"
     ]
    },
    {
     "name": "stderr",
     "output_type": "stream",
     "text": [
      "  2%|█▉                                                                              | 30/1256 [00:32<22:04,  1.08s/it]"
     ]
    },
    {
     "name": "stdout",
     "output_type": "stream",
     "text": [
      "Processing image //vector.e3b.columbia.edu/e3b/Globus Database/UWIN Tagged Photos/batch_004/VID30069-00031.jpg\n"
     ]
    },
    {
     "name": "stderr",
     "output_type": "stream",
     "text": [
      "  2%|█▉                                                                              | 31/1256 [00:33<21:56,  1.07s/it]"
     ]
    },
    {
     "name": "stdout",
     "output_type": "stream",
     "text": [
      "Processing image //vector.e3b.columbia.edu/e3b/Globus Database/UWIN Tagged Photos/batch_004/VID30069-00032.jpg\n"
     ]
    },
    {
     "name": "stderr",
     "output_type": "stream",
     "text": [
      "  3%|██                                                                              | 32/1256 [00:34<22:04,  1.08s/it]"
     ]
    },
    {
     "name": "stdout",
     "output_type": "stream",
     "text": [
      "Processing image //vector.e3b.columbia.edu/e3b/Globus Database/UWIN Tagged Photos/batch_004/VID30069-00033.jpg\n"
     ]
    },
    {
     "name": "stderr",
     "output_type": "stream",
     "text": [
      "  3%|██                                                                              | 33/1256 [00:36<22:05,  1.08s/it]"
     ]
    },
    {
     "name": "stdout",
     "output_type": "stream",
     "text": [
      "Processing image //vector.e3b.columbia.edu/e3b/Globus Database/UWIN Tagged Photos/batch_004/VID30069-00034.jpg\n"
     ]
    },
    {
     "name": "stderr",
     "output_type": "stream",
     "text": [
      "  3%|██▏                                                                             | 34/1256 [00:37<22:02,  1.08s/it]"
     ]
    },
    {
     "name": "stdout",
     "output_type": "stream",
     "text": [
      "Processing image //vector.e3b.columbia.edu/e3b/Globus Database/UWIN Tagged Photos/batch_004/VID30069-00035.jpg\n"
     ]
    },
    {
     "name": "stderr",
     "output_type": "stream",
     "text": [
      "  3%|██▏                                                                             | 35/1256 [00:38<22:01,  1.08s/it]"
     ]
    },
    {
     "name": "stdout",
     "output_type": "stream",
     "text": [
      "Processing image //vector.e3b.columbia.edu/e3b/Globus Database/UWIN Tagged Photos/batch_004/VID30069-00036.jpg\n"
     ]
    },
    {
     "name": "stderr",
     "output_type": "stream",
     "text": [
      "  3%|██▎                                                                             | 36/1256 [00:39<22:25,  1.10s/it]"
     ]
    },
    {
     "name": "stdout",
     "output_type": "stream",
     "text": [
      "Processing image //vector.e3b.columbia.edu/e3b/Globus Database/UWIN Tagged Photos/batch_004/VID30069-00037.jpg\n"
     ]
    },
    {
     "name": "stderr",
     "output_type": "stream",
     "text": [
      "  3%|██▎                                                                             | 37/1256 [00:40<22:20,  1.10s/it]"
     ]
    },
    {
     "name": "stdout",
     "output_type": "stream",
     "text": [
      "Processing image //vector.e3b.columbia.edu/e3b/Globus Database/UWIN Tagged Photos/batch_004/VID30069-00038.jpg\n"
     ]
    },
    {
     "name": "stderr",
     "output_type": "stream",
     "text": [
      "  3%|██▍                                                                             | 38/1256 [00:41<22:11,  1.09s/it]"
     ]
    },
    {
     "name": "stdout",
     "output_type": "stream",
     "text": [
      "Processing image //vector.e3b.columbia.edu/e3b/Globus Database/UWIN Tagged Photos/batch_004/VID30069-00039.jpg\n"
     ]
    },
    {
     "name": "stderr",
     "output_type": "stream",
     "text": [
      "  3%|██▍                                                                             | 39/1256 [00:42<21:57,  1.08s/it]"
     ]
    },
    {
     "name": "stdout",
     "output_type": "stream",
     "text": [
      "Processing image //vector.e3b.columbia.edu/e3b/Globus Database/UWIN Tagged Photos/batch_004/VID30069-00040.jpg\n"
     ]
    },
    {
     "name": "stderr",
     "output_type": "stream",
     "text": [
      "  3%|██▌                                                                             | 40/1256 [00:43<21:57,  1.08s/it]"
     ]
    },
    {
     "name": "stdout",
     "output_type": "stream",
     "text": [
      "Processing image //vector.e3b.columbia.edu/e3b/Globus Database/UWIN Tagged Photos/batch_004/VID30069-00041.jpg\n"
     ]
    },
    {
     "name": "stderr",
     "output_type": "stream",
     "text": [
      "  3%|██▌                                                                             | 41/1256 [00:44<21:42,  1.07s/it]"
     ]
    },
    {
     "name": "stdout",
     "output_type": "stream",
     "text": [
      "Processing image //vector.e3b.columbia.edu/e3b/Globus Database/UWIN Tagged Photos/batch_004/VID30069-00042.jpg\n"
     ]
    },
    {
     "name": "stderr",
     "output_type": "stream",
     "text": [
      "  3%|██▋                                                                             | 42/1256 [00:45<22:00,  1.09s/it]"
     ]
    },
    {
     "name": "stdout",
     "output_type": "stream",
     "text": [
      "Processing image //vector.e3b.columbia.edu/e3b/Globus Database/UWIN Tagged Photos/batch_004/VID30069-00043.jpg\n"
     ]
    },
    {
     "name": "stderr",
     "output_type": "stream",
     "text": [
      "  3%|██▋                                                                             | 43/1256 [00:46<21:51,  1.08s/it]"
     ]
    },
    {
     "name": "stdout",
     "output_type": "stream",
     "text": [
      "Processing image //vector.e3b.columbia.edu/e3b/Globus Database/UWIN Tagged Photos/batch_004/VID30069-00044.jpg\n"
     ]
    },
    {
     "name": "stderr",
     "output_type": "stream",
     "text": [
      "  4%|██▊                                                                             | 44/1256 [00:47<21:48,  1.08s/it]"
     ]
    },
    {
     "name": "stdout",
     "output_type": "stream",
     "text": [
      "Processing image //vector.e3b.columbia.edu/e3b/Globus Database/UWIN Tagged Photos/batch_004/VID30069-00045.jpg\n"
     ]
    },
    {
     "name": "stderr",
     "output_type": "stream",
     "text": [
      "  4%|██▊                                                                             | 45/1256 [00:49<21:46,  1.08s/it]"
     ]
    },
    {
     "name": "stdout",
     "output_type": "stream",
     "text": [
      "Processing image //vector.e3b.columbia.edu/e3b/Globus Database/UWIN Tagged Photos/batch_004/VID30069-00046.jpg\n"
     ]
    },
    {
     "name": "stderr",
     "output_type": "stream",
     "text": [
      "  4%|██▉                                                                             | 46/1256 [00:50<21:53,  1.09s/it]"
     ]
    },
    {
     "name": "stdout",
     "output_type": "stream",
     "text": [
      "Processing image //vector.e3b.columbia.edu/e3b/Globus Database/UWIN Tagged Photos/batch_004/VID30069-00047.jpg\n"
     ]
    },
    {
     "name": "stderr",
     "output_type": "stream",
     "text": [
      "  4%|██▉                                                                             | 47/1256 [00:51<21:47,  1.08s/it]"
     ]
    },
    {
     "name": "stdout",
     "output_type": "stream",
     "text": [
      "Processing image //vector.e3b.columbia.edu/e3b/Globus Database/UWIN Tagged Photos/batch_004/VID30069-00048.jpg\n"
     ]
    },
    {
     "name": "stderr",
     "output_type": "stream",
     "text": [
      "  4%|███                                                                             | 48/1256 [00:52<21:41,  1.08s/it]"
     ]
    },
    {
     "name": "stdout",
     "output_type": "stream",
     "text": [
      "Processing image //vector.e3b.columbia.edu/e3b/Globus Database/UWIN Tagged Photos/batch_004/VID30069-00049.jpg\n"
     ]
    },
    {
     "name": "stderr",
     "output_type": "stream",
     "text": [
      "  4%|███                                                                             | 49/1256 [00:53<21:36,  1.07s/it]"
     ]
    },
    {
     "name": "stdout",
     "output_type": "stream",
     "text": [
      "Processing image //vector.e3b.columbia.edu/e3b/Globus Database/UWIN Tagged Photos/batch_004/VID30069-00050.jpg\n"
     ]
    },
    {
     "name": "stderr",
     "output_type": "stream",
     "text": [
      "  4%|███▏                                                                            | 50/1256 [00:54<21:39,  1.08s/it]"
     ]
    },
    {
     "name": "stdout",
     "output_type": "stream",
     "text": [
      "Processing image //vector.e3b.columbia.edu/e3b/Globus Database/UWIN Tagged Photos/batch_004/VID30069-00051.jpg\n"
     ]
    },
    {
     "name": "stderr",
     "output_type": "stream",
     "text": [
      "  4%|███▏                                                                            | 51/1256 [00:55<21:43,  1.08s/it]"
     ]
    },
    {
     "name": "stdout",
     "output_type": "stream",
     "text": [
      "Processing image //vector.e3b.columbia.edu/e3b/Globus Database/UWIN Tagged Photos/batch_004/VID30069-00052.jpg\n"
     ]
    },
    {
     "name": "stderr",
     "output_type": "stream",
     "text": [
      "  4%|███▎                                                                            | 52/1256 [00:56<21:39,  1.08s/it]"
     ]
    },
    {
     "name": "stdout",
     "output_type": "stream",
     "text": [
      "Processing image //vector.e3b.columbia.edu/e3b/Globus Database/UWIN Tagged Photos/batch_004/VID30069-00053.jpg\n"
     ]
    },
    {
     "name": "stderr",
     "output_type": "stream",
     "text": [
      "  4%|███▍                                                                            | 53/1256 [00:57<21:28,  1.07s/it]"
     ]
    },
    {
     "name": "stdout",
     "output_type": "stream",
     "text": [
      "Processing image //vector.e3b.columbia.edu/e3b/Globus Database/UWIN Tagged Photos/batch_004/VID30069-00054.jpg\n"
     ]
    },
    {
     "name": "stderr",
     "output_type": "stream",
     "text": [
      "  4%|███▍                                                                            | 54/1256 [00:58<21:30,  1.07s/it]"
     ]
    },
    {
     "name": "stdout",
     "output_type": "stream",
     "text": [
      "Processing image //vector.e3b.columbia.edu/e3b/Globus Database/UWIN Tagged Photos/batch_004/VID30069-00055.jpg\n"
     ]
    },
    {
     "name": "stderr",
     "output_type": "stream",
     "text": [
      "  4%|███▌                                                                            | 55/1256 [00:59<21:36,  1.08s/it]"
     ]
    },
    {
     "name": "stdout",
     "output_type": "stream",
     "text": [
      "Processing image //vector.e3b.columbia.edu/e3b/Globus Database/UWIN Tagged Photos/batch_004/VID30069-00056.jpg\n"
     ]
    },
    {
     "name": "stderr",
     "output_type": "stream",
     "text": [
      "  4%|███▌                                                                            | 56/1256 [01:00<21:34,  1.08s/it]"
     ]
    },
    {
     "name": "stdout",
     "output_type": "stream",
     "text": [
      "Processing image //vector.e3b.columbia.edu/e3b/Globus Database/UWIN Tagged Photos/batch_004/VID30069-00057.jpg\n"
     ]
    },
    {
     "name": "stderr",
     "output_type": "stream",
     "text": [
      "  5%|███▋                                                                            | 57/1256 [01:02<21:35,  1.08s/it]"
     ]
    },
    {
     "name": "stdout",
     "output_type": "stream",
     "text": [
      "Processing image //vector.e3b.columbia.edu/e3b/Globus Database/UWIN Tagged Photos/batch_004/VID30069-00058.jpg\n"
     ]
    },
    {
     "name": "stderr",
     "output_type": "stream",
     "text": [
      "  5%|███▋                                                                            | 58/1256 [01:03<21:42,  1.09s/it]"
     ]
    },
    {
     "name": "stdout",
     "output_type": "stream",
     "text": [
      "Processing image //vector.e3b.columbia.edu/e3b/Globus Database/UWIN Tagged Photos/batch_004/VID30069-00059.jpg\n"
     ]
    },
    {
     "name": "stderr",
     "output_type": "stream",
     "text": [
      "  5%|███▊                                                                            | 59/1256 [01:04<21:27,  1.08s/it]"
     ]
    },
    {
     "name": "stdout",
     "output_type": "stream",
     "text": [
      "Processing image //vector.e3b.columbia.edu/e3b/Globus Database/UWIN Tagged Photos/batch_004/VID30069-00060.jpg\n"
     ]
    },
    {
     "name": "stderr",
     "output_type": "stream",
     "text": [
      "  5%|███▊                                                                            | 60/1256 [01:05<21:26,  1.08s/it]"
     ]
    },
    {
     "name": "stdout",
     "output_type": "stream",
     "text": [
      "Processing image //vector.e3b.columbia.edu/e3b/Globus Database/UWIN Tagged Photos/batch_004/VID30069-00061.jpg\n"
     ]
    },
    {
     "name": "stderr",
     "output_type": "stream",
     "text": [
      "  5%|███▉                                                                            | 61/1256 [01:06<21:28,  1.08s/it]"
     ]
    },
    {
     "name": "stdout",
     "output_type": "stream",
     "text": [
      "Processing image //vector.e3b.columbia.edu/e3b/Globus Database/UWIN Tagged Photos/batch_004/VID30069-00062.jpg\n"
     ]
    },
    {
     "name": "stderr",
     "output_type": "stream",
     "text": [
      "  5%|███▉                                                                            | 62/1256 [01:07<21:22,  1.07s/it]"
     ]
    },
    {
     "name": "stdout",
     "output_type": "stream",
     "text": [
      "Processing image //vector.e3b.columbia.edu/e3b/Globus Database/UWIN Tagged Photos/batch_004/VID30069-00063.jpg\n"
     ]
    },
    {
     "name": "stderr",
     "output_type": "stream",
     "text": [
      "  5%|████                                                                            | 63/1256 [01:08<21:27,  1.08s/it]"
     ]
    },
    {
     "name": "stdout",
     "output_type": "stream",
     "text": [
      "Processing image //vector.e3b.columbia.edu/e3b/Globus Database/UWIN Tagged Photos/batch_004/VID30069-00064.jpg\n"
     ]
    },
    {
     "name": "stderr",
     "output_type": "stream",
     "text": [
      "  5%|████                                                                            | 64/1256 [01:09<21:31,  1.08s/it]"
     ]
    },
    {
     "name": "stdout",
     "output_type": "stream",
     "text": [
      "Processing image //vector.e3b.columbia.edu/e3b/Globus Database/UWIN Tagged Photos/batch_004/VID30069-00065.jpg\n"
     ]
    },
    {
     "name": "stderr",
     "output_type": "stream",
     "text": [
      "  5%|████▏                                                                           | 65/1256 [01:10<21:30,  1.08s/it]"
     ]
    },
    {
     "name": "stdout",
     "output_type": "stream",
     "text": [
      "Processing image //vector.e3b.columbia.edu/e3b/Globus Database/UWIN Tagged Photos/batch_004/VID30069-00066.jpg\n"
     ]
    },
    {
     "name": "stderr",
     "output_type": "stream",
     "text": [
      "  5%|████▏                                                                           | 66/1256 [01:11<21:35,  1.09s/it]"
     ]
    },
    {
     "name": "stdout",
     "output_type": "stream",
     "text": [
      "Processing image //vector.e3b.columbia.edu/e3b/Globus Database/UWIN Tagged Photos/batch_004/VID30069-00067.jpg\n"
     ]
    },
    {
     "name": "stderr",
     "output_type": "stream",
     "text": [
      "  5%|████▎                                                                           | 67/1256 [01:12<21:29,  1.08s/it]"
     ]
    },
    {
     "name": "stdout",
     "output_type": "stream",
     "text": [
      "Processing image //vector.e3b.columbia.edu/e3b/Globus Database/UWIN Tagged Photos/batch_004/VID30069-00068.jpg\n"
     ]
    },
    {
     "name": "stderr",
     "output_type": "stream",
     "text": [
      "  5%|████▎                                                                           | 68/1256 [01:13<21:26,  1.08s/it]"
     ]
    },
    {
     "name": "stdout",
     "output_type": "stream",
     "text": [
      "Processing image //vector.e3b.columbia.edu/e3b/Globus Database/UWIN Tagged Photos/batch_004/VID30069-00069.jpg\n"
     ]
    },
    {
     "name": "stderr",
     "output_type": "stream",
     "text": [
      "  5%|████▍                                                                           | 69/1256 [01:15<21:30,  1.09s/it]"
     ]
    },
    {
     "name": "stdout",
     "output_type": "stream",
     "text": [
      "Processing image //vector.e3b.columbia.edu/e3b/Globus Database/UWIN Tagged Photos/batch_004/VID30069-00070.jpg\n"
     ]
    },
    {
     "name": "stderr",
     "output_type": "stream",
     "text": [
      "  6%|████▍                                                                           | 70/1256 [01:16<21:28,  1.09s/it]"
     ]
    },
    {
     "name": "stdout",
     "output_type": "stream",
     "text": [
      "Processing image //vector.e3b.columbia.edu/e3b/Globus Database/UWIN Tagged Photos/batch_004/VID30069-00071.jpg\n"
     ]
    },
    {
     "name": "stderr",
     "output_type": "stream",
     "text": [
      "  6%|████▌                                                                           | 71/1256 [01:17<21:22,  1.08s/it]"
     ]
    },
    {
     "name": "stdout",
     "output_type": "stream",
     "text": [
      "Processing image //vector.e3b.columbia.edu/e3b/Globus Database/UWIN Tagged Photos/batch_004/VID30069-00072.jpg\n"
     ]
    },
    {
     "name": "stderr",
     "output_type": "stream",
     "text": [
      "  6%|████▌                                                                           | 72/1256 [01:18<21:24,  1.08s/it]"
     ]
    },
    {
     "name": "stdout",
     "output_type": "stream",
     "text": [
      "Processing image //vector.e3b.columbia.edu/e3b/Globus Database/UWIN Tagged Photos/batch_004/VID30069-00073.jpg\n"
     ]
    },
    {
     "name": "stderr",
     "output_type": "stream",
     "text": [
      "  6%|████▋                                                                           | 73/1256 [01:19<21:08,  1.07s/it]"
     ]
    },
    {
     "name": "stdout",
     "output_type": "stream",
     "text": [
      "Processing image //vector.e3b.columbia.edu/e3b/Globus Database/UWIN Tagged Photos/batch_004/VID30069-00074.jpg\n"
     ]
    },
    {
     "name": "stderr",
     "output_type": "stream",
     "text": [
      "  6%|████▋                                                                           | 74/1256 [01:20<21:37,  1.10s/it]"
     ]
    },
    {
     "name": "stdout",
     "output_type": "stream",
     "text": [
      "Processing image //vector.e3b.columbia.edu/e3b/Globus Database/UWIN Tagged Photos/batch_004/VID30069-00075.jpg\n"
     ]
    },
    {
     "name": "stderr",
     "output_type": "stream",
     "text": [
      "  6%|████▊                                                                           | 75/1256 [01:21<21:23,  1.09s/it]"
     ]
    },
    {
     "name": "stdout",
     "output_type": "stream",
     "text": [
      "Processing image //vector.e3b.columbia.edu/e3b/Globus Database/UWIN Tagged Photos/batch_004/VID30069-00076.jpg\n"
     ]
    },
    {
     "name": "stderr",
     "output_type": "stream",
     "text": [
      "  6%|████▊                                                                           | 76/1256 [01:22<21:19,  1.08s/it]"
     ]
    },
    {
     "name": "stdout",
     "output_type": "stream",
     "text": [
      "Processing image //vector.e3b.columbia.edu/e3b/Globus Database/UWIN Tagged Photos/batch_004/VID30069-00077.jpg\n"
     ]
    },
    {
     "name": "stderr",
     "output_type": "stream",
     "text": [
      "  6%|████▉                                                                           | 77/1256 [01:23<21:11,  1.08s/it]"
     ]
    },
    {
     "name": "stdout",
     "output_type": "stream",
     "text": [
      "Processing image //vector.e3b.columbia.edu/e3b/Globus Database/UWIN Tagged Photos/batch_004/VID30069-00078.jpg\n"
     ]
    },
    {
     "name": "stderr",
     "output_type": "stream",
     "text": [
      "  6%|████▉                                                                           | 78/1256 [01:24<21:14,  1.08s/it]"
     ]
    },
    {
     "name": "stdout",
     "output_type": "stream",
     "text": [
      "Processing image //vector.e3b.columbia.edu/e3b/Globus Database/UWIN Tagged Photos/batch_004/VID30069-00079.jpg\n"
     ]
    },
    {
     "name": "stderr",
     "output_type": "stream",
     "text": [
      "  6%|█████                                                                           | 79/1256 [01:25<20:50,  1.06s/it]"
     ]
    },
    {
     "name": "stdout",
     "output_type": "stream",
     "text": [
      "Processing image //vector.e3b.columbia.edu/e3b/Globus Database/UWIN Tagged Photos/batch_004/VID30069-00080.jpg\n"
     ]
    },
    {
     "name": "stderr",
     "output_type": "stream",
     "text": [
      "  6%|█████                                                                           | 80/1256 [01:26<20:49,  1.06s/it]"
     ]
    },
    {
     "name": "stdout",
     "output_type": "stream",
     "text": [
      "Processing image //vector.e3b.columbia.edu/e3b/Globus Database/UWIN Tagged Photos/batch_004/VID30069-00081.jpg\n"
     ]
    },
    {
     "name": "stderr",
     "output_type": "stream",
     "text": [
      "  6%|█████▏                                                                          | 81/1256 [01:27<21:04,  1.08s/it]"
     ]
    },
    {
     "name": "stdout",
     "output_type": "stream",
     "text": [
      "Processing image //vector.e3b.columbia.edu/e3b/Globus Database/UWIN Tagged Photos/batch_004/VID30069-00082.jpg\n"
     ]
    },
    {
     "name": "stderr",
     "output_type": "stream",
     "text": [
      "  7%|█████▏                                                                          | 82/1256 [01:28<20:47,  1.06s/it]"
     ]
    },
    {
     "name": "stdout",
     "output_type": "stream",
     "text": [
      "Processing image //vector.e3b.columbia.edu/e3b/Globus Database/UWIN Tagged Photos/batch_004/VID30069-00083.jpg\n"
     ]
    },
    {
     "name": "stderr",
     "output_type": "stream",
     "text": [
      "  7%|█████▎                                                                          | 83/1256 [01:30<20:52,  1.07s/it]"
     ]
    },
    {
     "name": "stdout",
     "output_type": "stream",
     "text": [
      "Processing image //vector.e3b.columbia.edu/e3b/Globus Database/UWIN Tagged Photos/batch_004/VID30069-00084.jpg\n"
     ]
    },
    {
     "name": "stderr",
     "output_type": "stream",
     "text": [
      "  7%|█████▎                                                                          | 84/1256 [01:31<21:05,  1.08s/it]"
     ]
    },
    {
     "name": "stdout",
     "output_type": "stream",
     "text": [
      "Processing image //vector.e3b.columbia.edu/e3b/Globus Database/UWIN Tagged Photos/batch_004/VID30069-00085.jpg\n"
     ]
    },
    {
     "name": "stderr",
     "output_type": "stream",
     "text": [
      "  7%|█████▍                                                                          | 85/1256 [01:32<21:04,  1.08s/it]"
     ]
    },
    {
     "name": "stdout",
     "output_type": "stream",
     "text": [
      "Processing image //vector.e3b.columbia.edu/e3b/Globus Database/UWIN Tagged Photos/batch_004/VID30069-00086.jpg\n"
     ]
    },
    {
     "name": "stderr",
     "output_type": "stream",
     "text": [
      "  7%|█████▍                                                                          | 86/1256 [01:33<20:56,  1.07s/it]"
     ]
    },
    {
     "name": "stdout",
     "output_type": "stream",
     "text": [
      "Processing image //vector.e3b.columbia.edu/e3b/Globus Database/UWIN Tagged Photos/batch_004/VID30069-00087.jpg\n"
     ]
    },
    {
     "name": "stderr",
     "output_type": "stream",
     "text": [
      "  7%|█████▌                                                                          | 87/1256 [01:34<20:41,  1.06s/it]"
     ]
    },
    {
     "name": "stdout",
     "output_type": "stream",
     "text": [
      "Processing image //vector.e3b.columbia.edu/e3b/Globus Database/UWIN Tagged Photos/batch_004/VID30069-00088.jpg\n"
     ]
    },
    {
     "name": "stderr",
     "output_type": "stream",
     "text": [
      "  7%|█████▌                                                                          | 88/1256 [01:35<20:28,  1.05s/it]"
     ]
    },
    {
     "name": "stdout",
     "output_type": "stream",
     "text": [
      "Processing image //vector.e3b.columbia.edu/e3b/Globus Database/UWIN Tagged Photos/batch_004/VID30069-00089.jpg\n"
     ]
    },
    {
     "name": "stderr",
     "output_type": "stream",
     "text": [
      "  7%|█████▋                                                                          | 89/1256 [01:36<20:10,  1.04s/it]"
     ]
    },
    {
     "name": "stdout",
     "output_type": "stream",
     "text": [
      "Processing image //vector.e3b.columbia.edu/e3b/Globus Database/UWIN Tagged Photos/batch_004/VID30069-00090.jpg\n"
     ]
    },
    {
     "name": "stderr",
     "output_type": "stream",
     "text": [
      "  7%|█████▋                                                                          | 90/1256 [01:37<19:59,  1.03s/it]"
     ]
    },
    {
     "name": "stdout",
     "output_type": "stream",
     "text": [
      "Processing image //vector.e3b.columbia.edu/e3b/Globus Database/UWIN Tagged Photos/batch_004/VID30069-00091.jpg\n"
     ]
    },
    {
     "name": "stderr",
     "output_type": "stream",
     "text": [
      "  7%|█████▊                                                                          | 91/1256 [01:38<19:56,  1.03s/it]"
     ]
    },
    {
     "name": "stdout",
     "output_type": "stream",
     "text": [
      "Processing image //vector.e3b.columbia.edu/e3b/Globus Database/UWIN Tagged Photos/batch_004/VID30069-00092.jpg\n"
     ]
    },
    {
     "name": "stderr",
     "output_type": "stream",
     "text": [
      "  7%|█████▊                                                                          | 92/1256 [01:39<19:55,  1.03s/it]"
     ]
    },
    {
     "name": "stdout",
     "output_type": "stream",
     "text": [
      "Processing image //vector.e3b.columbia.edu/e3b/Globus Database/UWIN Tagged Photos/batch_004/VID30069-00093.jpg\n"
     ]
    },
    {
     "name": "stderr",
     "output_type": "stream",
     "text": [
      "  7%|█████▉                                                                          | 93/1256 [01:40<20:12,  1.04s/it]"
     ]
    },
    {
     "name": "stdout",
     "output_type": "stream",
     "text": [
      "Processing image //vector.e3b.columbia.edu/e3b/Globus Database/UWIN Tagged Photos/batch_004/VID30069-00094.jpg\n"
     ]
    },
    {
     "name": "stderr",
     "output_type": "stream",
     "text": [
      "  7%|█████▉                                                                          | 94/1256 [01:41<20:06,  1.04s/it]"
     ]
    },
    {
     "name": "stdout",
     "output_type": "stream",
     "text": [
      "Processing image //vector.e3b.columbia.edu/e3b/Globus Database/UWIN Tagged Photos/batch_004/VID30069-00095.jpg\n"
     ]
    },
    {
     "name": "stderr",
     "output_type": "stream",
     "text": [
      "  8%|██████                                                                          | 95/1256 [01:42<20:09,  1.04s/it]"
     ]
    },
    {
     "name": "stdout",
     "output_type": "stream",
     "text": [
      "Processing image //vector.e3b.columbia.edu/e3b/Globus Database/UWIN Tagged Photos/batch_004/VID30069-00096.jpg\n"
     ]
    },
    {
     "name": "stderr",
     "output_type": "stream",
     "text": [
      "  8%|██████                                                                          | 96/1256 [01:43<20:24,  1.06s/it]"
     ]
    },
    {
     "name": "stdout",
     "output_type": "stream",
     "text": [
      "Processing image //vector.e3b.columbia.edu/e3b/Globus Database/UWIN Tagged Photos/batch_004/VID30069-00097.jpg\n"
     ]
    },
    {
     "name": "stderr",
     "output_type": "stream",
     "text": [
      "  8%|██████▏                                                                         | 97/1256 [01:44<20:22,  1.06s/it]"
     ]
    },
    {
     "name": "stdout",
     "output_type": "stream",
     "text": [
      "Processing image //vector.e3b.columbia.edu/e3b/Globus Database/UWIN Tagged Photos/batch_004/VID30069-00098.jpg\n"
     ]
    },
    {
     "name": "stderr",
     "output_type": "stream",
     "text": [
      "  8%|██████▏                                                                         | 98/1256 [01:45<20:30,  1.06s/it]"
     ]
    },
    {
     "name": "stdout",
     "output_type": "stream",
     "text": [
      "Processing image //vector.e3b.columbia.edu/e3b/Globus Database/UWIN Tagged Photos/batch_004/VID30069-00099.jpg\n"
     ]
    },
    {
     "name": "stderr",
     "output_type": "stream",
     "text": [
      "  8%|██████▎                                                                         | 99/1256 [01:46<20:29,  1.06s/it]"
     ]
    },
    {
     "name": "stdout",
     "output_type": "stream",
     "text": [
      "Processing image //vector.e3b.columbia.edu/e3b/Globus Database/UWIN Tagged Photos/batch_004/VID30069-00100.jpg\n"
     ]
    },
    {
     "name": "stderr",
     "output_type": "stream",
     "text": [
      "  8%|██████▎                                                                        | 100/1256 [01:47<20:34,  1.07s/it]"
     ]
    },
    {
     "name": "stdout",
     "output_type": "stream",
     "text": [
      "Processing image //vector.e3b.columbia.edu/e3b/Globus Database/UWIN Tagged Photos/batch_004/VID30069-00101.jpg\n"
     ]
    },
    {
     "name": "stderr",
     "output_type": "stream",
     "text": [
      "  8%|██████▎                                                                        | 101/1256 [01:48<20:13,  1.05s/it]"
     ]
    },
    {
     "name": "stdout",
     "output_type": "stream",
     "text": [
      "Processing image //vector.e3b.columbia.edu/e3b/Globus Database/UWIN Tagged Photos/batch_004/VID30069-00102.jpg\n"
     ]
    },
    {
     "name": "stderr",
     "output_type": "stream",
     "text": [
      "  8%|██████▍                                                                        | 102/1256 [01:49<20:07,  1.05s/it]"
     ]
    },
    {
     "name": "stdout",
     "output_type": "stream",
     "text": [
      "Processing image //vector.e3b.columbia.edu/e3b/Globus Database/UWIN Tagged Photos/batch_004/VID30069-00103.jpg\n"
     ]
    },
    {
     "name": "stderr",
     "output_type": "stream",
     "text": [
      "  8%|██████▍                                                                        | 103/1256 [01:51<20:01,  1.04s/it]"
     ]
    },
    {
     "name": "stdout",
     "output_type": "stream",
     "text": [
      "Processing image //vector.e3b.columbia.edu/e3b/Globus Database/UWIN Tagged Photos/batch_004/VID30069-00104.jpg\n"
     ]
    },
    {
     "name": "stderr",
     "output_type": "stream",
     "text": [
      "  8%|██████▌                                                                        | 104/1256 [01:52<19:54,  1.04s/it]"
     ]
    },
    {
     "name": "stdout",
     "output_type": "stream",
     "text": [
      "Processing image //vector.e3b.columbia.edu/e3b/Globus Database/UWIN Tagged Photos/batch_004/VID30069-00105.jpg\n"
     ]
    },
    {
     "name": "stderr",
     "output_type": "stream",
     "text": [
      "  8%|██████▌                                                                        | 105/1256 [01:53<19:53,  1.04s/it]"
     ]
    },
    {
     "name": "stdout",
     "output_type": "stream",
     "text": [
      "Processing image //vector.e3b.columbia.edu/e3b/Globus Database/UWIN Tagged Photos/batch_004/VID30069-00106.jpg\n"
     ]
    },
    {
     "name": "stderr",
     "output_type": "stream",
     "text": [
      "  8%|██████▋                                                                        | 106/1256 [01:54<19:45,  1.03s/it]"
     ]
    },
    {
     "name": "stdout",
     "output_type": "stream",
     "text": [
      "Processing image //vector.e3b.columbia.edu/e3b/Globus Database/UWIN Tagged Photos/batch_004/VID30069-00107.jpg\n"
     ]
    },
    {
     "name": "stderr",
     "output_type": "stream",
     "text": [
      "  9%|██████▋                                                                        | 107/1256 [01:55<19:50,  1.04s/it]"
     ]
    },
    {
     "name": "stdout",
     "output_type": "stream",
     "text": [
      "Processing image //vector.e3b.columbia.edu/e3b/Globus Database/UWIN Tagged Photos/batch_004/VID30069-00108.jpg\n"
     ]
    },
    {
     "name": "stderr",
     "output_type": "stream",
     "text": [
      "  9%|██████▊                                                                        | 108/1256 [01:56<19:42,  1.03s/it]"
     ]
    },
    {
     "name": "stdout",
     "output_type": "stream",
     "text": [
      "Processing image //vector.e3b.columbia.edu/e3b/Globus Database/UWIN Tagged Photos/batch_004/VID30069-00109.jpg\n"
     ]
    },
    {
     "name": "stderr",
     "output_type": "stream",
     "text": [
      "  9%|██████▊                                                                        | 109/1256 [01:57<19:46,  1.03s/it]"
     ]
    },
    {
     "name": "stdout",
     "output_type": "stream",
     "text": [
      "Processing image //vector.e3b.columbia.edu/e3b/Globus Database/UWIN Tagged Photos/batch_004/VID30069-00110.jpg\n"
     ]
    },
    {
     "name": "stderr",
     "output_type": "stream",
     "text": [
      "  9%|██████▉                                                                        | 110/1256 [01:58<19:34,  1.02s/it]"
     ]
    },
    {
     "name": "stdout",
     "output_type": "stream",
     "text": [
      "Processing image //vector.e3b.columbia.edu/e3b/Globus Database/UWIN Tagged Photos/batch_004/VID30069-00111.jpg\n"
     ]
    },
    {
     "name": "stderr",
     "output_type": "stream",
     "text": [
      "  9%|██████▉                                                                        | 111/1256 [01:59<19:41,  1.03s/it]"
     ]
    },
    {
     "name": "stdout",
     "output_type": "stream",
     "text": [
      "Processing image //vector.e3b.columbia.edu/e3b/Globus Database/UWIN Tagged Photos/batch_004/VID30069-00112.jpg\n"
     ]
    },
    {
     "name": "stderr",
     "output_type": "stream",
     "text": [
      "  9%|███████                                                                        | 112/1256 [02:00<19:37,  1.03s/it]"
     ]
    },
    {
     "name": "stdout",
     "output_type": "stream",
     "text": [
      "Processing image //vector.e3b.columbia.edu/e3b/Globus Database/UWIN Tagged Photos/batch_004/VID30069-00113.jpg\n"
     ]
    },
    {
     "name": "stderr",
     "output_type": "stream",
     "text": [
      "  9%|███████                                                                        | 113/1256 [02:01<19:32,  1.03s/it]"
     ]
    },
    {
     "name": "stdout",
     "output_type": "stream",
     "text": [
      "Processing image //vector.e3b.columbia.edu/e3b/Globus Database/UWIN Tagged Photos/batch_004/VID30069-00114.jpg\n"
     ]
    },
    {
     "name": "stderr",
     "output_type": "stream",
     "text": [
      "  9%|███████▏                                                                       | 114/1256 [02:02<19:42,  1.04s/it]"
     ]
    },
    {
     "name": "stdout",
     "output_type": "stream",
     "text": [
      "Processing image //vector.e3b.columbia.edu/e3b/Globus Database/UWIN Tagged Photos/batch_004/VID30069-00115.jpg\n"
     ]
    },
    {
     "name": "stderr",
     "output_type": "stream",
     "text": [
      "  9%|███████▏                                                                       | 115/1256 [02:03<19:42,  1.04s/it]"
     ]
    },
    {
     "name": "stdout",
     "output_type": "stream",
     "text": [
      "Processing image //vector.e3b.columbia.edu/e3b/Globus Database/UWIN Tagged Photos/batch_004/VID30069-00116.jpg\n"
     ]
    },
    {
     "name": "stderr",
     "output_type": "stream",
     "text": [
      "  9%|███████▎                                                                       | 116/1256 [02:04<19:38,  1.03s/it]"
     ]
    },
    {
     "name": "stdout",
     "output_type": "stream",
     "text": [
      "Processing image //vector.e3b.columbia.edu/e3b/Globus Database/UWIN Tagged Photos/batch_004/VID30069-00117.jpg\n"
     ]
    },
    {
     "name": "stderr",
     "output_type": "stream",
     "text": [
      "  9%|███████▎                                                                       | 117/1256 [02:05<19:28,  1.03s/it]"
     ]
    },
    {
     "name": "stdout",
     "output_type": "stream",
     "text": [
      "Processing image //vector.e3b.columbia.edu/e3b/Globus Database/UWIN Tagged Photos/batch_004/VID30069-00118.jpg\n"
     ]
    },
    {
     "name": "stderr",
     "output_type": "stream",
     "text": [
      "  9%|███████▍                                                                       | 118/1256 [02:06<19:43,  1.04s/it]"
     ]
    },
    {
     "name": "stdout",
     "output_type": "stream",
     "text": [
      "Processing image //vector.e3b.columbia.edu/e3b/Globus Database/UWIN Tagged Photos/batch_004/VID30069-00119.jpg\n"
     ]
    },
    {
     "name": "stderr",
     "output_type": "stream",
     "text": [
      "  9%|███████▍                                                                       | 119/1256 [02:07<19:36,  1.03s/it]"
     ]
    },
    {
     "name": "stdout",
     "output_type": "stream",
     "text": [
      "Processing image //vector.e3b.columbia.edu/e3b/Globus Database/UWIN Tagged Photos/batch_004/VID30069-00120.jpg\n"
     ]
    },
    {
     "name": "stderr",
     "output_type": "stream",
     "text": [
      " 10%|███████▌                                                                       | 120/1256 [02:08<19:46,  1.04s/it]"
     ]
    },
    {
     "name": "stdout",
     "output_type": "stream",
     "text": [
      "Processing image //vector.e3b.columbia.edu/e3b/Globus Database/UWIN Tagged Photos/batch_004/VID30069-00121.jpg\n"
     ]
    },
    {
     "name": "stderr",
     "output_type": "stream",
     "text": [
      " 10%|███████▌                                                                       | 121/1256 [02:09<19:51,  1.05s/it]"
     ]
    },
    {
     "name": "stdout",
     "output_type": "stream",
     "text": [
      "Processing image //vector.e3b.columbia.edu/e3b/Globus Database/UWIN Tagged Photos/batch_004/VID30069-00122.jpg\n"
     ]
    },
    {
     "name": "stderr",
     "output_type": "stream",
     "text": [
      " 10%|███████▋                                                                       | 122/1256 [02:10<19:54,  1.05s/it]"
     ]
    },
    {
     "name": "stdout",
     "output_type": "stream",
     "text": [
      "Processing image //vector.e3b.columbia.edu/e3b/Globus Database/UWIN Tagged Photos/batch_004/VID30069-00123.jpg\n"
     ]
    },
    {
     "name": "stderr",
     "output_type": "stream",
     "text": [
      " 10%|███████▋                                                                       | 123/1256 [02:11<19:46,  1.05s/it]"
     ]
    },
    {
     "name": "stdout",
     "output_type": "stream",
     "text": [
      "Processing image //vector.e3b.columbia.edu/e3b/Globus Database/UWIN Tagged Photos/batch_004/VID30069-00124.jpg\n"
     ]
    },
    {
     "name": "stderr",
     "output_type": "stream",
     "text": [
      " 10%|███████▊                                                                       | 124/1256 [02:12<19:40,  1.04s/it]"
     ]
    },
    {
     "name": "stdout",
     "output_type": "stream",
     "text": [
      "Processing image //vector.e3b.columbia.edu/e3b/Globus Database/UWIN Tagged Photos/batch_004/VID30069-00125.jpg\n"
     ]
    },
    {
     "name": "stderr",
     "output_type": "stream",
     "text": [
      " 10%|███████▊                                                                       | 125/1256 [02:13<19:46,  1.05s/it]"
     ]
    },
    {
     "name": "stdout",
     "output_type": "stream",
     "text": [
      "Processing image //vector.e3b.columbia.edu/e3b/Globus Database/UWIN Tagged Photos/batch_004/VID30069-00126.jpg\n"
     ]
    },
    {
     "name": "stderr",
     "output_type": "stream",
     "text": [
      " 10%|███████▉                                                                       | 126/1256 [02:14<19:55,  1.06s/it]"
     ]
    },
    {
     "name": "stdout",
     "output_type": "stream",
     "text": [
      "Processing image //vector.e3b.columbia.edu/e3b/Globus Database/UWIN Tagged Photos/batch_004/VID30069-00127.jpg\n"
     ]
    },
    {
     "name": "stderr",
     "output_type": "stream",
     "text": [
      " 10%|███████▉                                                                       | 127/1256 [02:15<19:51,  1.05s/it]"
     ]
    },
    {
     "name": "stdout",
     "output_type": "stream",
     "text": [
      "Processing image //vector.e3b.columbia.edu/e3b/Globus Database/UWIN Tagged Photos/batch_004/VID30069-00128.jpg\n"
     ]
    },
    {
     "name": "stderr",
     "output_type": "stream",
     "text": [
      " 10%|████████                                                                       | 128/1256 [02:16<19:36,  1.04s/it]"
     ]
    },
    {
     "name": "stdout",
     "output_type": "stream",
     "text": [
      "Processing image //vector.e3b.columbia.edu/e3b/Globus Database/UWIN Tagged Photos/batch_004/VID30069-00129.jpg\n"
     ]
    },
    {
     "name": "stderr",
     "output_type": "stream",
     "text": [
      " 10%|████████                                                                       | 129/1256 [02:18<19:35,  1.04s/it]"
     ]
    },
    {
     "name": "stdout",
     "output_type": "stream",
     "text": [
      "Processing image //vector.e3b.columbia.edu/e3b/Globus Database/UWIN Tagged Photos/batch_004/VID30069-00130.jpg\n"
     ]
    },
    {
     "name": "stderr",
     "output_type": "stream",
     "text": [
      " 10%|████████▏                                                                      | 130/1256 [02:19<19:21,  1.03s/it]"
     ]
    },
    {
     "name": "stdout",
     "output_type": "stream",
     "text": [
      "Processing image //vector.e3b.columbia.edu/e3b/Globus Database/UWIN Tagged Photos/batch_004/VID30069-00131.jpg\n"
     ]
    },
    {
     "name": "stderr",
     "output_type": "stream",
     "text": [
      " 10%|████████▏                                                                      | 131/1256 [02:20<19:13,  1.03s/it]"
     ]
    },
    {
     "name": "stdout",
     "output_type": "stream",
     "text": [
      "Processing image //vector.e3b.columbia.edu/e3b/Globus Database/UWIN Tagged Photos/batch_004/VID30069-00132.jpg\n"
     ]
    },
    {
     "name": "stderr",
     "output_type": "stream",
     "text": [
      " 11%|████████▎                                                                      | 132/1256 [02:21<19:21,  1.03s/it]"
     ]
    },
    {
     "name": "stdout",
     "output_type": "stream",
     "text": [
      "Processing image //vector.e3b.columbia.edu/e3b/Globus Database/UWIN Tagged Photos/batch_004/VID30069-00133.jpg\n"
     ]
    },
    {
     "name": "stderr",
     "output_type": "stream",
     "text": [
      " 11%|████████▎                                                                      | 133/1256 [02:22<19:17,  1.03s/it]"
     ]
    },
    {
     "name": "stdout",
     "output_type": "stream",
     "text": [
      "Processing image //vector.e3b.columbia.edu/e3b/Globus Database/UWIN Tagged Photos/batch_004/VID30069-00134.jpg\n"
     ]
    },
    {
     "name": "stderr",
     "output_type": "stream",
     "text": [
      " 11%|████████▍                                                                      | 134/1256 [02:23<19:16,  1.03s/it]"
     ]
    },
    {
     "name": "stdout",
     "output_type": "stream",
     "text": [
      "Processing image //vector.e3b.columbia.edu/e3b/Globus Database/UWIN Tagged Photos/batch_004/VID30069-00135.jpg\n"
     ]
    },
    {
     "name": "stderr",
     "output_type": "stream",
     "text": [
      " 11%|████████▍                                                                      | 135/1256 [02:24<19:10,  1.03s/it]"
     ]
    },
    {
     "name": "stdout",
     "output_type": "stream",
     "text": [
      "Processing image //vector.e3b.columbia.edu/e3b/Globus Database/UWIN Tagged Photos/batch_004/VID30069-00136.jpg\n"
     ]
    },
    {
     "name": "stderr",
     "output_type": "stream",
     "text": [
      " 11%|████████▌                                                                      | 136/1256 [02:25<19:19,  1.04s/it]"
     ]
    },
    {
     "name": "stdout",
     "output_type": "stream",
     "text": [
      "Processing image //vector.e3b.columbia.edu/e3b/Globus Database/UWIN Tagged Photos/batch_004/VID30069-00137.jpg\n"
     ]
    },
    {
     "name": "stderr",
     "output_type": "stream",
     "text": [
      " 11%|████████▌                                                                      | 137/1256 [02:26<19:19,  1.04s/it]"
     ]
    },
    {
     "name": "stdout",
     "output_type": "stream",
     "text": [
      "Processing image //vector.e3b.columbia.edu/e3b/Globus Database/UWIN Tagged Photos/batch_004/VID30069-00138.jpg\n"
     ]
    },
    {
     "name": "stderr",
     "output_type": "stream",
     "text": [
      " 11%|████████▋                                                                      | 138/1256 [02:27<19:06,  1.03s/it]"
     ]
    },
    {
     "name": "stdout",
     "output_type": "stream",
     "text": [
      "Processing image //vector.e3b.columbia.edu/e3b/Globus Database/UWIN Tagged Photos/batch_004/VID30069-00139.jpg\n"
     ]
    },
    {
     "name": "stderr",
     "output_type": "stream",
     "text": [
      " 11%|████████▋                                                                      | 139/1256 [02:28<19:18,  1.04s/it]"
     ]
    },
    {
     "name": "stdout",
     "output_type": "stream",
     "text": [
      "Processing image //vector.e3b.columbia.edu/e3b/Globus Database/UWIN Tagged Photos/batch_004/VID30069-00140.jpg\n"
     ]
    },
    {
     "name": "stderr",
     "output_type": "stream",
     "text": [
      " 11%|████████▊                                                                      | 140/1256 [02:29<19:07,  1.03s/it]"
     ]
    },
    {
     "name": "stdout",
     "output_type": "stream",
     "text": [
      "Processing image //vector.e3b.columbia.edu/e3b/Globus Database/UWIN Tagged Photos/batch_004/VID30069-00141.jpg\n"
     ]
    },
    {
     "name": "stderr",
     "output_type": "stream",
     "text": [
      " 11%|████████▊                                                                      | 141/1256 [02:30<19:10,  1.03s/it]"
     ]
    },
    {
     "name": "stdout",
     "output_type": "stream",
     "text": [
      "Processing image //vector.e3b.columbia.edu/e3b/Globus Database/UWIN Tagged Photos/batch_004/VID30069-00142.jpg\n"
     ]
    },
    {
     "name": "stderr",
     "output_type": "stream",
     "text": [
      " 11%|████████▉                                                                      | 142/1256 [02:31<18:56,  1.02s/it]"
     ]
    },
    {
     "name": "stdout",
     "output_type": "stream",
     "text": [
      "Processing image //vector.e3b.columbia.edu/e3b/Globus Database/UWIN Tagged Photos/batch_004/VID30069-00143.jpg\n"
     ]
    },
    {
     "name": "stderr",
     "output_type": "stream",
     "text": [
      " 11%|████████▉                                                                      | 143/1256 [02:32<18:52,  1.02s/it]"
     ]
    },
    {
     "name": "stdout",
     "output_type": "stream",
     "text": [
      "Processing image //vector.e3b.columbia.edu/e3b/Globus Database/UWIN Tagged Photos/batch_004/VID30069-00144.jpg\n"
     ]
    },
    {
     "name": "stderr",
     "output_type": "stream",
     "text": [
      " 11%|█████████                                                                      | 144/1256 [02:33<18:58,  1.02s/it]"
     ]
    },
    {
     "name": "stdout",
     "output_type": "stream",
     "text": [
      "Processing image //vector.e3b.columbia.edu/e3b/Globus Database/UWIN Tagged Photos/batch_004/VID30069-00145.jpg\n"
     ]
    },
    {
     "name": "stderr",
     "output_type": "stream",
     "text": [
      " 12%|█████████                                                                      | 145/1256 [02:34<19:05,  1.03s/it]"
     ]
    },
    {
     "name": "stdout",
     "output_type": "stream",
     "text": [
      "Processing image //vector.e3b.columbia.edu/e3b/Globus Database/UWIN Tagged Photos/batch_004/VID30069-00146.jpg\n"
     ]
    },
    {
     "name": "stderr",
     "output_type": "stream",
     "text": [
      " 12%|█████████▏                                                                     | 146/1256 [02:35<19:24,  1.05s/it]"
     ]
    },
    {
     "name": "stdout",
     "output_type": "stream",
     "text": [
      "Processing image //vector.e3b.columbia.edu/e3b/Globus Database/UWIN Tagged Photos/batch_004/VID30069-00147.jpg\n"
     ]
    },
    {
     "name": "stderr",
     "output_type": "stream",
     "text": [
      " 12%|█████████▏                                                                     | 147/1256 [02:36<19:29,  1.05s/it]"
     ]
    },
    {
     "name": "stdout",
     "output_type": "stream",
     "text": [
      "Processing image //vector.e3b.columbia.edu/e3b/Globus Database/UWIN Tagged Photos/batch_004/VID30069-00148.jpg\n"
     ]
    },
    {
     "name": "stderr",
     "output_type": "stream",
     "text": [
      " 12%|█████████▎                                                                     | 148/1256 [02:37<19:35,  1.06s/it]"
     ]
    },
    {
     "name": "stdout",
     "output_type": "stream",
     "text": [
      "Processing image //vector.e3b.columbia.edu/e3b/Globus Database/UWIN Tagged Photos/batch_004/VID30069-00149.jpg\n"
     ]
    },
    {
     "name": "stderr",
     "output_type": "stream",
     "text": [
      " 12%|█████████▎                                                                     | 149/1256 [02:38<19:51,  1.08s/it]"
     ]
    },
    {
     "name": "stdout",
     "output_type": "stream",
     "text": [
      "Processing image //vector.e3b.columbia.edu/e3b/Globus Database/UWIN Tagged Photos/batch_004/VID30069-00150.jpg\n"
     ]
    },
    {
     "name": "stderr",
     "output_type": "stream",
     "text": [
      " 12%|█████████▍                                                                     | 150/1256 [02:39<20:10,  1.09s/it]"
     ]
    },
    {
     "name": "stdout",
     "output_type": "stream",
     "text": [
      "Processing image //vector.e3b.columbia.edu/e3b/Globus Database/UWIN Tagged Photos/batch_004/VID30069-00151.jpg\n"
     ]
    },
    {
     "name": "stderr",
     "output_type": "stream",
     "text": [
      " 12%|█████████▍                                                                     | 151/1256 [02:41<19:58,  1.08s/it]"
     ]
    },
    {
     "name": "stdout",
     "output_type": "stream",
     "text": [
      "Processing image //vector.e3b.columbia.edu/e3b/Globus Database/UWIN Tagged Photos/batch_004/VID30069-00152.jpg\n"
     ]
    },
    {
     "name": "stderr",
     "output_type": "stream",
     "text": [
      " 12%|█████████▌                                                                     | 152/1256 [02:42<19:36,  1.07s/it]"
     ]
    },
    {
     "name": "stdout",
     "output_type": "stream",
     "text": [
      "Processing image //vector.e3b.columbia.edu/e3b/Globus Database/UWIN Tagged Photos/batch_004/VID30069-00153.jpg\n"
     ]
    },
    {
     "name": "stderr",
     "output_type": "stream",
     "text": [
      " 12%|█████████▌                                                                     | 153/1256 [02:43<19:27,  1.06s/it]"
     ]
    },
    {
     "name": "stdout",
     "output_type": "stream",
     "text": [
      "Processing image //vector.e3b.columbia.edu/e3b/Globus Database/UWIN Tagged Photos/batch_004/VID30069-00154.jpg\n"
     ]
    },
    {
     "name": "stderr",
     "output_type": "stream",
     "text": [
      " 12%|█████████▋                                                                     | 154/1256 [02:44<19:07,  1.04s/it]"
     ]
    },
    {
     "name": "stdout",
     "output_type": "stream",
     "text": [
      "Processing image //vector.e3b.columbia.edu/e3b/Globus Database/UWIN Tagged Photos/batch_004/VID30069-00155.jpg\n"
     ]
    },
    {
     "name": "stderr",
     "output_type": "stream",
     "text": [
      " 12%|█████████▋                                                                     | 155/1256 [02:45<19:13,  1.05s/it]"
     ]
    },
    {
     "name": "stdout",
     "output_type": "stream",
     "text": [
      "Processing image //vector.e3b.columbia.edu/e3b/Globus Database/UWIN Tagged Photos/batch_004/VID30069-00156.jpg\n"
     ]
    },
    {
     "name": "stderr",
     "output_type": "stream",
     "text": [
      " 12%|█████████▊                                                                     | 156/1256 [02:46<19:17,  1.05s/it]"
     ]
    },
    {
     "name": "stdout",
     "output_type": "stream",
     "text": [
      "Processing image //vector.e3b.columbia.edu/e3b/Globus Database/UWIN Tagged Photos/batch_004/VID30069-00157.jpg\n"
     ]
    },
    {
     "name": "stderr",
     "output_type": "stream",
     "text": [
      " 12%|█████████▉                                                                     | 157/1256 [02:47<19:11,  1.05s/it]"
     ]
    },
    {
     "name": "stdout",
     "output_type": "stream",
     "text": [
      "Processing image //vector.e3b.columbia.edu/e3b/Globus Database/UWIN Tagged Photos/batch_004/VID30069-00158.jpg\n"
     ]
    },
    {
     "name": "stderr",
     "output_type": "stream",
     "text": [
      " 13%|█████████▉                                                                     | 158/1256 [02:48<19:08,  1.05s/it]"
     ]
    },
    {
     "name": "stdout",
     "output_type": "stream",
     "text": [
      "Processing image //vector.e3b.columbia.edu/e3b/Globus Database/UWIN Tagged Photos/batch_004/VID30069-00159.jpg\n"
     ]
    },
    {
     "name": "stderr",
     "output_type": "stream",
     "text": [
      " 13%|██████████                                                                     | 159/1256 [02:49<18:54,  1.03s/it]"
     ]
    },
    {
     "name": "stdout",
     "output_type": "stream",
     "text": [
      "Processing image //vector.e3b.columbia.edu/e3b/Globus Database/UWIN Tagged Photos/batch_004/VID30069-00160.jpg\n"
     ]
    },
    {
     "name": "stderr",
     "output_type": "stream",
     "text": [
      " 13%|██████████                                                                     | 160/1256 [02:50<18:54,  1.04s/it]"
     ]
    },
    {
     "name": "stdout",
     "output_type": "stream",
     "text": [
      "Processing image //vector.e3b.columbia.edu/e3b/Globus Database/UWIN Tagged Photos/batch_004/VID30069-00161.jpg\n"
     ]
    },
    {
     "name": "stderr",
     "output_type": "stream",
     "text": [
      " 13%|██████████▏                                                                    | 161/1256 [02:51<18:58,  1.04s/it]"
     ]
    },
    {
     "name": "stdout",
     "output_type": "stream",
     "text": [
      "Processing image //vector.e3b.columbia.edu/e3b/Globus Database/UWIN Tagged Photos/batch_004/VID30069-00162.jpg\n"
     ]
    },
    {
     "name": "stderr",
     "output_type": "stream",
     "text": [
      " 13%|██████████▏                                                                    | 162/1256 [02:52<18:43,  1.03s/it]"
     ]
    },
    {
     "name": "stdout",
     "output_type": "stream",
     "text": [
      "Processing image //vector.e3b.columbia.edu/e3b/Globus Database/UWIN Tagged Photos/batch_004/VID30069-00163.jpg\n"
     ]
    },
    {
     "name": "stderr",
     "output_type": "stream",
     "text": [
      " 13%|██████████▎                                                                    | 163/1256 [02:53<18:52,  1.04s/it]"
     ]
    },
    {
     "name": "stdout",
     "output_type": "stream",
     "text": [
      "Processing image //vector.e3b.columbia.edu/e3b/Globus Database/UWIN Tagged Photos/batch_004/VID30069-00164.jpg\n"
     ]
    },
    {
     "name": "stderr",
     "output_type": "stream",
     "text": [
      " 13%|██████████▎                                                                    | 164/1256 [02:54<18:50,  1.04s/it]"
     ]
    },
    {
     "name": "stdout",
     "output_type": "stream",
     "text": [
      "Processing image //vector.e3b.columbia.edu/e3b/Globus Database/UWIN Tagged Photos/batch_004/VID30069-00165.jpg\n"
     ]
    },
    {
     "name": "stderr",
     "output_type": "stream",
     "text": [
      " 13%|██████████▍                                                                    | 165/1256 [02:55<18:37,  1.02s/it]"
     ]
    },
    {
     "name": "stdout",
     "output_type": "stream",
     "text": [
      "Processing image //vector.e3b.columbia.edu/e3b/Globus Database/UWIN Tagged Photos/batch_004/VID30069-00166.jpg\n"
     ]
    },
    {
     "name": "stderr",
     "output_type": "stream",
     "text": [
      " 13%|██████████▍                                                                    | 166/1256 [02:56<18:45,  1.03s/it]"
     ]
    },
    {
     "name": "stdout",
     "output_type": "stream",
     "text": [
      "Processing image //vector.e3b.columbia.edu/e3b/Globus Database/UWIN Tagged Photos/batch_004/VID30069-00167.jpg\n"
     ]
    },
    {
     "name": "stderr",
     "output_type": "stream",
     "text": [
      " 13%|██████████▌                                                                    | 167/1256 [02:57<18:38,  1.03s/it]"
     ]
    },
    {
     "name": "stdout",
     "output_type": "stream",
     "text": [
      "Processing image //vector.e3b.columbia.edu/e3b/Globus Database/UWIN Tagged Photos/batch_004/VID30069-00168.jpg\n"
     ]
    },
    {
     "name": "stderr",
     "output_type": "stream",
     "text": [
      " 13%|██████████▌                                                                    | 168/1256 [02:58<18:38,  1.03s/it]"
     ]
    },
    {
     "name": "stdout",
     "output_type": "stream",
     "text": [
      "Processing image //vector.e3b.columbia.edu/e3b/Globus Database/UWIN Tagged Photos/batch_004/VID30069-00169.jpg\n"
     ]
    },
    {
     "name": "stderr",
     "output_type": "stream",
     "text": [
      " 13%|██████████▋                                                                    | 169/1256 [02:59<18:56,  1.05s/it]"
     ]
    },
    {
     "name": "stdout",
     "output_type": "stream",
     "text": [
      "Processing image //vector.e3b.columbia.edu/e3b/Globus Database/UWIN Tagged Photos/batch_004/VID30069-00170.jpg\n"
     ]
    },
    {
     "name": "stderr",
     "output_type": "stream",
     "text": [
      " 14%|██████████▋                                                                    | 170/1256 [03:00<18:48,  1.04s/it]"
     ]
    },
    {
     "name": "stdout",
     "output_type": "stream",
     "text": [
      "Processing image //vector.e3b.columbia.edu/e3b/Globus Database/UWIN Tagged Photos/batch_004/VID30069-00171.jpg\n"
     ]
    },
    {
     "name": "stderr",
     "output_type": "stream",
     "text": [
      " 14%|██████████▊                                                                    | 171/1256 [03:01<18:39,  1.03s/it]"
     ]
    },
    {
     "name": "stdout",
     "output_type": "stream",
     "text": [
      "Processing image //vector.e3b.columbia.edu/e3b/Globus Database/UWIN Tagged Photos/batch_004/VID30069-00172.jpg\n"
     ]
    },
    {
     "name": "stderr",
     "output_type": "stream",
     "text": [
      " 14%|██████████▊                                                                    | 172/1256 [03:02<18:50,  1.04s/it]"
     ]
    },
    {
     "name": "stdout",
     "output_type": "stream",
     "text": [
      "Processing image //vector.e3b.columbia.edu/e3b/Globus Database/UWIN Tagged Photos/batch_004/VID30069-00173.jpg\n"
     ]
    },
    {
     "name": "stderr",
     "output_type": "stream",
     "text": [
      " 14%|██████████▉                                                                    | 173/1256 [03:03<18:49,  1.04s/it]"
     ]
    },
    {
     "name": "stdout",
     "output_type": "stream",
     "text": [
      "Processing image //vector.e3b.columbia.edu/e3b/Globus Database/UWIN Tagged Photos/batch_004/VID30069-00174.jpg\n"
     ]
    },
    {
     "name": "stderr",
     "output_type": "stream",
     "text": [
      " 14%|██████████▉                                                                    | 174/1256 [03:04<18:53,  1.05s/it]"
     ]
    },
    {
     "name": "stdout",
     "output_type": "stream",
     "text": [
      "Processing image //vector.e3b.columbia.edu/e3b/Globus Database/UWIN Tagged Photos/batch_004/VID30069-00175.jpg\n"
     ]
    },
    {
     "name": "stderr",
     "output_type": "stream",
     "text": [
      " 14%|███████████                                                                    | 175/1256 [03:05<18:59,  1.05s/it]"
     ]
    },
    {
     "name": "stdout",
     "output_type": "stream",
     "text": [
      "Processing image //vector.e3b.columbia.edu/e3b/Globus Database/UWIN Tagged Photos/batch_004/VID30069-00176.jpg\n"
     ]
    },
    {
     "name": "stderr",
     "output_type": "stream",
     "text": [
      " 14%|███████████                                                                    | 176/1256 [03:06<18:49,  1.05s/it]"
     ]
    },
    {
     "name": "stdout",
     "output_type": "stream",
     "text": [
      "Processing image //vector.e3b.columbia.edu/e3b/Globus Database/UWIN Tagged Photos/batch_004/VID30069-00177.jpg\n"
     ]
    },
    {
     "name": "stderr",
     "output_type": "stream",
     "text": [
      " 14%|███████████▏                                                                   | 177/1256 [03:07<18:25,  1.02s/it]"
     ]
    },
    {
     "name": "stdout",
     "output_type": "stream",
     "text": [
      "Processing image //vector.e3b.columbia.edu/e3b/Globus Database/UWIN Tagged Photos/batch_004/VID30069-00178.jpg\n"
     ]
    },
    {
     "name": "stderr",
     "output_type": "stream",
     "text": [
      " 14%|███████████▏                                                                   | 178/1256 [03:08<18:19,  1.02s/it]"
     ]
    },
    {
     "name": "stdout",
     "output_type": "stream",
     "text": [
      "Processing image //vector.e3b.columbia.edu/e3b/Globus Database/UWIN Tagged Photos/batch_004/VID30069-00179.jpg\n"
     ]
    },
    {
     "name": "stderr",
     "output_type": "stream",
     "text": [
      " 14%|███████████▎                                                                   | 179/1256 [03:09<18:16,  1.02s/it]"
     ]
    },
    {
     "name": "stdout",
     "output_type": "stream",
     "text": [
      "Processing image //vector.e3b.columbia.edu/e3b/Globus Database/UWIN Tagged Photos/batch_004/VID30069-00180.jpg\n"
     ]
    },
    {
     "name": "stderr",
     "output_type": "stream",
     "text": [
      " 14%|███████████▎                                                                   | 180/1256 [03:11<18:30,  1.03s/it]"
     ]
    },
    {
     "name": "stdout",
     "output_type": "stream",
     "text": [
      "Processing image //vector.e3b.columbia.edu/e3b/Globus Database/UWIN Tagged Photos/batch_004/VID30069-00181.jpg\n"
     ]
    },
    {
     "name": "stderr",
     "output_type": "stream",
     "text": [
      " 14%|███████████▍                                                                   | 181/1256 [03:12<18:20,  1.02s/it]"
     ]
    },
    {
     "name": "stdout",
     "output_type": "stream",
     "text": [
      "Processing image //vector.e3b.columbia.edu/e3b/Globus Database/UWIN Tagged Photos/batch_004/VID30069-00182.jpg\n"
     ]
    },
    {
     "name": "stderr",
     "output_type": "stream",
     "text": [
      " 14%|███████████▍                                                                   | 182/1256 [03:13<18:09,  1.01s/it]"
     ]
    },
    {
     "name": "stdout",
     "output_type": "stream",
     "text": [
      "Processing image //vector.e3b.columbia.edu/e3b/Globus Database/UWIN Tagged Photos/batch_004/VID30069-00183.jpg\n"
     ]
    },
    {
     "name": "stderr",
     "output_type": "stream",
     "text": [
      " 15%|███████████▌                                                                   | 183/1256 [03:14<18:05,  1.01s/it]"
     ]
    },
    {
     "name": "stdout",
     "output_type": "stream",
     "text": [
      "Processing image //vector.e3b.columbia.edu/e3b/Globus Database/UWIN Tagged Photos/batch_004/VID30069-00184.jpg\n"
     ]
    },
    {
     "name": "stderr",
     "output_type": "stream",
     "text": [
      " 15%|███████████▌                                                                   | 184/1256 [03:15<18:04,  1.01s/it]"
     ]
    },
    {
     "name": "stdout",
     "output_type": "stream",
     "text": [
      "Processing image //vector.e3b.columbia.edu/e3b/Globus Database/UWIN Tagged Photos/batch_004/VID30069-00185.jpg\n"
     ]
    },
    {
     "name": "stderr",
     "output_type": "stream",
     "text": [
      " 15%|███████████▋                                                                   | 185/1256 [03:16<18:06,  1.01s/it]"
     ]
    },
    {
     "name": "stdout",
     "output_type": "stream",
     "text": [
      "Processing image //vector.e3b.columbia.edu/e3b/Globus Database/UWIN Tagged Photos/batch_004/VID30069-00186.jpg\n"
     ]
    },
    {
     "name": "stderr",
     "output_type": "stream",
     "text": [
      " 15%|███████████▋                                                                   | 186/1256 [03:17<18:08,  1.02s/it]"
     ]
    },
    {
     "name": "stdout",
     "output_type": "stream",
     "text": [
      "Processing image //vector.e3b.columbia.edu/e3b/Globus Database/UWIN Tagged Photos/batch_004/VID30069-00187.jpg\n"
     ]
    },
    {
     "name": "stderr",
     "output_type": "stream",
     "text": [
      " 15%|███████████▊                                                                   | 187/1256 [03:18<18:02,  1.01s/it]"
     ]
    },
    {
     "name": "stdout",
     "output_type": "stream",
     "text": [
      "Processing image //vector.e3b.columbia.edu/e3b/Globus Database/UWIN Tagged Photos/batch_004/VID30069-00188.jpg\n"
     ]
    },
    {
     "name": "stderr",
     "output_type": "stream",
     "text": [
      " 15%|███████████▊                                                                   | 188/1256 [03:19<18:18,  1.03s/it]"
     ]
    },
    {
     "name": "stdout",
     "output_type": "stream",
     "text": [
      "Processing image //vector.e3b.columbia.edu/e3b/Globus Database/UWIN Tagged Photos/batch_004/VID30069-00189.jpg\n"
     ]
    },
    {
     "name": "stderr",
     "output_type": "stream",
     "text": [
      " 15%|███████████▉                                                                   | 189/1256 [03:20<18:09,  1.02s/it]"
     ]
    },
    {
     "name": "stdout",
     "output_type": "stream",
     "text": [
      "Processing image //vector.e3b.columbia.edu/e3b/Globus Database/UWIN Tagged Photos/batch_004/VID30069-00190.jpg\n"
     ]
    },
    {
     "name": "stderr",
     "output_type": "stream",
     "text": [
      " 15%|███████████▉                                                                   | 190/1256 [03:21<18:05,  1.02s/it]"
     ]
    },
    {
     "name": "stdout",
     "output_type": "stream",
     "text": [
      "Processing image //vector.e3b.columbia.edu/e3b/Globus Database/UWIN Tagged Photos/batch_004/VID30069-00191.jpg\n"
     ]
    },
    {
     "name": "stderr",
     "output_type": "stream",
     "text": [
      " 15%|████████████                                                                   | 191/1256 [03:22<18:05,  1.02s/it]"
     ]
    },
    {
     "name": "stdout",
     "output_type": "stream",
     "text": [
      "Processing image //vector.e3b.columbia.edu/e3b/Globus Database/UWIN Tagged Photos/batch_004/VID30069-00192.jpg\n"
     ]
    },
    {
     "name": "stderr",
     "output_type": "stream",
     "text": [
      " 15%|████████████                                                                   | 192/1256 [03:23<17:56,  1.01s/it]"
     ]
    },
    {
     "name": "stdout",
     "output_type": "stream",
     "text": [
      "Processing image //vector.e3b.columbia.edu/e3b/Globus Database/UWIN Tagged Photos/batch_004/VID30069-00193.jpg\n"
     ]
    },
    {
     "name": "stderr",
     "output_type": "stream",
     "text": [
      " 15%|████████████▏                                                                  | 193/1256 [03:24<18:13,  1.03s/it]"
     ]
    },
    {
     "name": "stdout",
     "output_type": "stream",
     "text": [
      "Processing image //vector.e3b.columbia.edu/e3b/Globus Database/UWIN Tagged Photos/batch_004/VID30069-00194.jpg\n"
     ]
    },
    {
     "name": "stderr",
     "output_type": "stream",
     "text": [
      " 15%|████████████▏                                                                  | 194/1256 [03:25<18:20,  1.04s/it]"
     ]
    },
    {
     "name": "stdout",
     "output_type": "stream",
     "text": [
      "Processing image //vector.e3b.columbia.edu/e3b/Globus Database/UWIN Tagged Photos/batch_004/VID30069-00195.jpg\n"
     ]
    },
    {
     "name": "stderr",
     "output_type": "stream",
     "text": [
      " 16%|████████████▎                                                                  | 195/1256 [03:26<18:06,  1.02s/it]"
     ]
    },
    {
     "name": "stdout",
     "output_type": "stream",
     "text": [
      "Processing image //vector.e3b.columbia.edu/e3b/Globus Database/UWIN Tagged Photos/batch_004/VID30069-00196.jpg\n"
     ]
    },
    {
     "name": "stderr",
     "output_type": "stream",
     "text": [
      " 16%|████████████▎                                                                  | 196/1256 [03:27<18:11,  1.03s/it]"
     ]
    },
    {
     "name": "stdout",
     "output_type": "stream",
     "text": [
      "Processing image //vector.e3b.columbia.edu/e3b/Globus Database/UWIN Tagged Photos/batch_004/VID30069-00197.jpg\n"
     ]
    },
    {
     "name": "stderr",
     "output_type": "stream",
     "text": [
      " 16%|████████████▍                                                                  | 197/1256 [03:28<17:56,  1.02s/it]"
     ]
    },
    {
     "name": "stdout",
     "output_type": "stream",
     "text": [
      "Processing image //vector.e3b.columbia.edu/e3b/Globus Database/UWIN Tagged Photos/batch_004/VID30069-00198.jpg\n"
     ]
    },
    {
     "name": "stderr",
     "output_type": "stream",
     "text": [
      " 16%|████████████▍                                                                  | 198/1256 [03:29<18:12,  1.03s/it]"
     ]
    },
    {
     "name": "stdout",
     "output_type": "stream",
     "text": [
      "Processing image //vector.e3b.columbia.edu/e3b/Globus Database/UWIN Tagged Photos/batch_004/VID30069-00199.jpg\n"
     ]
    },
    {
     "name": "stderr",
     "output_type": "stream",
     "text": [
      " 16%|████████████▌                                                                  | 199/1256 [03:30<18:10,  1.03s/it]"
     ]
    },
    {
     "name": "stdout",
     "output_type": "stream",
     "text": [
      "Processing image //vector.e3b.columbia.edu/e3b/Globus Database/UWIN Tagged Photos/batch_004/VID30069-00200.jpg\n"
     ]
    },
    {
     "name": "stderr",
     "output_type": "stream",
     "text": [
      " 16%|████████████▌                                                                  | 200/1256 [03:31<18:05,  1.03s/it]"
     ]
    },
    {
     "name": "stdout",
     "output_type": "stream",
     "text": [
      "Processing image //vector.e3b.columbia.edu/e3b/Globus Database/UWIN Tagged Photos/batch_004/VID30069-00201.jpg\n"
     ]
    },
    {
     "name": "stderr",
     "output_type": "stream",
     "text": [
      " 16%|████████████▋                                                                  | 201/1256 [03:32<18:06,  1.03s/it]"
     ]
    },
    {
     "name": "stdout",
     "output_type": "stream",
     "text": [
      "Processing image //vector.e3b.columbia.edu/e3b/Globus Database/UWIN Tagged Photos/batch_004/VID30069-00202.jpg\n"
     ]
    },
    {
     "name": "stderr",
     "output_type": "stream",
     "text": [
      " 16%|████████████▋                                                                  | 202/1256 [03:33<17:58,  1.02s/it]"
     ]
    },
    {
     "name": "stdout",
     "output_type": "stream",
     "text": [
      "Processing image //vector.e3b.columbia.edu/e3b/Globus Database/UWIN Tagged Photos/batch_004/VID30069-00203.jpg\n"
     ]
    },
    {
     "name": "stderr",
     "output_type": "stream",
     "text": [
      " 16%|████████████▊                                                                  | 203/1256 [03:34<17:59,  1.03s/it]"
     ]
    },
    {
     "name": "stdout",
     "output_type": "stream",
     "text": [
      "Processing image //vector.e3b.columbia.edu/e3b/Globus Database/UWIN Tagged Photos/batch_004/VID30069-00204.jpg\n"
     ]
    },
    {
     "name": "stderr",
     "output_type": "stream",
     "text": [
      " 16%|████████████▊                                                                  | 204/1256 [03:35<18:01,  1.03s/it]"
     ]
    },
    {
     "name": "stdout",
     "output_type": "stream",
     "text": [
      "Processing image //vector.e3b.columbia.edu/e3b/Globus Database/UWIN Tagged Photos/batch_004/VID30069-00205.jpg\n"
     ]
    },
    {
     "name": "stderr",
     "output_type": "stream",
     "text": [
      " 16%|████████████▉                                                                  | 205/1256 [03:36<18:12,  1.04s/it]"
     ]
    },
    {
     "name": "stdout",
     "output_type": "stream",
     "text": [
      "Processing image //vector.e3b.columbia.edu/e3b/Globus Database/UWIN Tagged Photos/batch_004/VID30069-00206.jpg\n"
     ]
    },
    {
     "name": "stderr",
     "output_type": "stream",
     "text": [
      " 16%|████████████▉                                                                  | 206/1256 [03:37<18:22,  1.05s/it]"
     ]
    },
    {
     "name": "stdout",
     "output_type": "stream",
     "text": [
      "Processing image //vector.e3b.columbia.edu/e3b/Globus Database/UWIN Tagged Photos/batch_004/VID30069-00207.jpg\n"
     ]
    },
    {
     "name": "stderr",
     "output_type": "stream",
     "text": [
      " 16%|█████████████                                                                  | 207/1256 [03:38<18:35,  1.06s/it]"
     ]
    },
    {
     "name": "stdout",
     "output_type": "stream",
     "text": [
      "Processing image //vector.e3b.columbia.edu/e3b/Globus Database/UWIN Tagged Photos/batch_004/VID30069-00208.jpg\n"
     ]
    },
    {
     "name": "stderr",
     "output_type": "stream",
     "text": [
      " 17%|█████████████                                                                  | 208/1256 [03:39<18:53,  1.08s/it]"
     ]
    },
    {
     "name": "stdout",
     "output_type": "stream",
     "text": [
      "Processing image //vector.e3b.columbia.edu/e3b/Globus Database/UWIN Tagged Photos/batch_004/VID30069-00209.jpg\n"
     ]
    },
    {
     "name": "stderr",
     "output_type": "stream",
     "text": [
      " 17%|█████████████▏                                                                 | 209/1256 [03:40<18:52,  1.08s/it]"
     ]
    },
    {
     "name": "stdout",
     "output_type": "stream",
     "text": [
      "Processing image //vector.e3b.columbia.edu/e3b/Globus Database/UWIN Tagged Photos/batch_004/VID30069-00210.jpg\n"
     ]
    },
    {
     "name": "stderr",
     "output_type": "stream",
     "text": [
      " 17%|█████████████▏                                                                 | 210/1256 [03:42<18:48,  1.08s/it]"
     ]
    },
    {
     "name": "stdout",
     "output_type": "stream",
     "text": [
      "Processing image //vector.e3b.columbia.edu/e3b/Globus Database/UWIN Tagged Photos/batch_004/VID30069-00211.jpg\n"
     ]
    },
    {
     "name": "stderr",
     "output_type": "stream",
     "text": [
      " 17%|█████████████▎                                                                 | 211/1256 [03:43<18:47,  1.08s/it]"
     ]
    },
    {
     "name": "stdout",
     "output_type": "stream",
     "text": [
      "Processing image //vector.e3b.columbia.edu/e3b/Globus Database/UWIN Tagged Photos/batch_004/VID30069-00212.jpg\n"
     ]
    },
    {
     "name": "stderr",
     "output_type": "stream",
     "text": [
      " 17%|█████████████▎                                                                 | 212/1256 [03:44<19:03,  1.10s/it]"
     ]
    },
    {
     "name": "stdout",
     "output_type": "stream",
     "text": [
      "Processing image //vector.e3b.columbia.edu/e3b/Globus Database/UWIN Tagged Photos/batch_004/VID30069-00213.jpg\n"
     ]
    },
    {
     "name": "stderr",
     "output_type": "stream",
     "text": [
      " 17%|█████████████▍                                                                 | 213/1256 [03:45<19:04,  1.10s/it]"
     ]
    },
    {
     "name": "stdout",
     "output_type": "stream",
     "text": [
      "Processing image //vector.e3b.columbia.edu/e3b/Globus Database/UWIN Tagged Photos/batch_004/VID30069-00214.jpg\n"
     ]
    },
    {
     "name": "stderr",
     "output_type": "stream",
     "text": [
      " 17%|█████████████▍                                                                 | 214/1256 [03:46<19:00,  1.09s/it]"
     ]
    },
    {
     "name": "stdout",
     "output_type": "stream",
     "text": [
      "Processing image //vector.e3b.columbia.edu/e3b/Globus Database/UWIN Tagged Photos/batch_004/VID30069-00215.jpg\n"
     ]
    },
    {
     "name": "stderr",
     "output_type": "stream",
     "text": [
      " 17%|█████████████▌                                                                 | 215/1256 [03:47<19:00,  1.10s/it]"
     ]
    },
    {
     "name": "stdout",
     "output_type": "stream",
     "text": [
      "Processing image //vector.e3b.columbia.edu/e3b/Globus Database/UWIN Tagged Photos/batch_004/VID30069-00216.jpg\n"
     ]
    },
    {
     "name": "stderr",
     "output_type": "stream",
     "text": [
      " 17%|█████████████▌                                                                 | 216/1256 [03:48<18:53,  1.09s/it]"
     ]
    },
    {
     "name": "stdout",
     "output_type": "stream",
     "text": [
      "Processing image //vector.e3b.columbia.edu/e3b/Globus Database/UWIN Tagged Photos/batch_004/VID30069-00217.jpg\n"
     ]
    },
    {
     "name": "stderr",
     "output_type": "stream",
     "text": [
      " 17%|█████████████▋                                                                 | 217/1256 [03:49<18:48,  1.09s/it]"
     ]
    },
    {
     "name": "stdout",
     "output_type": "stream",
     "text": [
      "Processing image //vector.e3b.columbia.edu/e3b/Globus Database/UWIN Tagged Photos/batch_004/VID30069-00218.jpg\n"
     ]
    },
    {
     "name": "stderr",
     "output_type": "stream",
     "text": [
      " 17%|█████████████▋                                                                 | 218/1256 [03:50<18:49,  1.09s/it]"
     ]
    },
    {
     "name": "stdout",
     "output_type": "stream",
     "text": [
      "Processing image //vector.e3b.columbia.edu/e3b/Globus Database/UWIN Tagged Photos/batch_004/VID30069-00219.jpg\n"
     ]
    },
    {
     "name": "stderr",
     "output_type": "stream",
     "text": [
      " 17%|█████████████▊                                                                 | 219/1256 [03:51<18:31,  1.07s/it]"
     ]
    },
    {
     "name": "stdout",
     "output_type": "stream",
     "text": [
      "Processing image //vector.e3b.columbia.edu/e3b/Globus Database/UWIN Tagged Photos/batch_004/VID30069-00220.jpg\n"
     ]
    },
    {
     "name": "stderr",
     "output_type": "stream",
     "text": [
      " 18%|█████████████▊                                                                 | 220/1256 [03:52<18:27,  1.07s/it]"
     ]
    },
    {
     "name": "stdout",
     "output_type": "stream",
     "text": [
      "Processing image //vector.e3b.columbia.edu/e3b/Globus Database/UWIN Tagged Photos/batch_004/VID30069-00221.jpg\n"
     ]
    },
    {
     "name": "stderr",
     "output_type": "stream",
     "text": [
      " 18%|█████████████▉                                                                 | 221/1256 [03:53<18:20,  1.06s/it]"
     ]
    },
    {
     "name": "stdout",
     "output_type": "stream",
     "text": [
      "Processing image //vector.e3b.columbia.edu/e3b/Globus Database/UWIN Tagged Photos/batch_004/VID30069-00222.jpg\n"
     ]
    },
    {
     "name": "stderr",
     "output_type": "stream",
     "text": [
      " 18%|█████████████▉                                                                 | 222/1256 [03:54<18:08,  1.05s/it]"
     ]
    },
    {
     "name": "stdout",
     "output_type": "stream",
     "text": [
      "Processing image //vector.e3b.columbia.edu/e3b/Globus Database/UWIN Tagged Photos/batch_004/VID30069-00223.jpg\n"
     ]
    },
    {
     "name": "stderr",
     "output_type": "stream",
     "text": [
      " 18%|██████████████                                                                 | 223/1256 [03:55<17:47,  1.03s/it]"
     ]
    },
    {
     "name": "stdout",
     "output_type": "stream",
     "text": [
      "Processing image //vector.e3b.columbia.edu/e3b/Globus Database/UWIN Tagged Photos/batch_004/VID30069-00224.jpg\n"
     ]
    },
    {
     "name": "stderr",
     "output_type": "stream",
     "text": [
      " 18%|██████████████                                                                 | 224/1256 [03:56<17:40,  1.03s/it]"
     ]
    },
    {
     "name": "stdout",
     "output_type": "stream",
     "text": [
      "Processing image //vector.e3b.columbia.edu/e3b/Globus Database/UWIN Tagged Photos/batch_004/VID30069-00225.jpg\n"
     ]
    },
    {
     "name": "stderr",
     "output_type": "stream",
     "text": [
      " 18%|██████████████▏                                                                | 225/1256 [03:58<17:39,  1.03s/it]"
     ]
    },
    {
     "name": "stdout",
     "output_type": "stream",
     "text": [
      "Processing image //vector.e3b.columbia.edu/e3b/Globus Database/UWIN Tagged Photos/batch_004/VID30069-00226.jpg\n"
     ]
    },
    {
     "name": "stderr",
     "output_type": "stream",
     "text": [
      " 18%|██████████████▏                                                                | 226/1256 [03:59<17:44,  1.03s/it]"
     ]
    },
    {
     "name": "stdout",
     "output_type": "stream",
     "text": [
      "Processing image //vector.e3b.columbia.edu/e3b/Globus Database/UWIN Tagged Photos/batch_004/VID30069-00227.jpg\n"
     ]
    },
    {
     "name": "stderr",
     "output_type": "stream",
     "text": [
      " 18%|██████████████▎                                                                | 227/1256 [04:00<17:42,  1.03s/it]"
     ]
    },
    {
     "name": "stdout",
     "output_type": "stream",
     "text": [
      "Processing image //vector.e3b.columbia.edu/e3b/Globus Database/UWIN Tagged Photos/batch_004/VID30069-00228.jpg\n"
     ]
    },
    {
     "name": "stderr",
     "output_type": "stream",
     "text": [
      " 18%|██████████████▎                                                                | 228/1256 [04:01<17:39,  1.03s/it]"
     ]
    },
    {
     "name": "stdout",
     "output_type": "stream",
     "text": [
      "Processing image //vector.e3b.columbia.edu/e3b/Globus Database/UWIN Tagged Photos/batch_004/VID30069-00229.jpg\n"
     ]
    },
    {
     "name": "stderr",
     "output_type": "stream",
     "text": [
      " 18%|██████████████▍                                                                | 229/1256 [04:02<17:35,  1.03s/it]"
     ]
    },
    {
     "name": "stdout",
     "output_type": "stream",
     "text": [
      "Processing image //vector.e3b.columbia.edu/e3b/Globus Database/UWIN Tagged Photos/batch_004/VID30069-00230.jpg\n"
     ]
    },
    {
     "name": "stderr",
     "output_type": "stream",
     "text": [
      " 18%|██████████████▍                                                                | 230/1256 [04:03<17:35,  1.03s/it]"
     ]
    },
    {
     "name": "stdout",
     "output_type": "stream",
     "text": [
      "Processing image //vector.e3b.columbia.edu/e3b/Globus Database/UWIN Tagged Photos/batch_004/VID30069-00231.jpg\n"
     ]
    },
    {
     "name": "stderr",
     "output_type": "stream",
     "text": [
      " 18%|██████████████▌                                                                | 231/1256 [04:04<17:31,  1.03s/it]"
     ]
    },
    {
     "name": "stdout",
     "output_type": "stream",
     "text": [
      "Processing image //vector.e3b.columbia.edu/e3b/Globus Database/UWIN Tagged Photos/batch_004/VID30069-00232.jpg\n"
     ]
    },
    {
     "name": "stderr",
     "output_type": "stream",
     "text": [
      " 18%|██████████████▌                                                                | 232/1256 [04:05<17:30,  1.03s/it]"
     ]
    },
    {
     "name": "stdout",
     "output_type": "stream",
     "text": [
      "Processing image //vector.e3b.columbia.edu/e3b/Globus Database/UWIN Tagged Photos/batch_004/VID30069-00233.jpg\n"
     ]
    },
    {
     "name": "stderr",
     "output_type": "stream",
     "text": [
      " 19%|██████████████▋                                                                | 233/1256 [04:06<17:21,  1.02s/it]"
     ]
    },
    {
     "name": "stdout",
     "output_type": "stream",
     "text": [
      "Processing image //vector.e3b.columbia.edu/e3b/Globus Database/UWIN Tagged Photos/batch_004/VID30069-00234.jpg\n"
     ]
    },
    {
     "name": "stderr",
     "output_type": "stream",
     "text": [
      " 19%|██████████████▋                                                                | 234/1256 [04:07<17:19,  1.02s/it]"
     ]
    },
    {
     "name": "stdout",
     "output_type": "stream",
     "text": [
      "Processing image //vector.e3b.columbia.edu/e3b/Globus Database/UWIN Tagged Photos/batch_004/VID30069-00235.jpg\n"
     ]
    },
    {
     "name": "stderr",
     "output_type": "stream",
     "text": [
      " 19%|██████████████▊                                                                | 235/1256 [04:08<17:26,  1.02s/it]"
     ]
    },
    {
     "name": "stdout",
     "output_type": "stream",
     "text": [
      "Processing image //vector.e3b.columbia.edu/e3b/Globus Database/UWIN Tagged Photos/batch_004/VID30069-00236.jpg\n"
     ]
    },
    {
     "name": "stderr",
     "output_type": "stream",
     "text": [
      " 19%|██████████████▊                                                                | 236/1256 [04:09<17:28,  1.03s/it]"
     ]
    },
    {
     "name": "stdout",
     "output_type": "stream",
     "text": [
      "Processing image //vector.e3b.columbia.edu/e3b/Globus Database/UWIN Tagged Photos/batch_004/VID30069-00237.jpg\n"
     ]
    },
    {
     "name": "stderr",
     "output_type": "stream",
     "text": [
      " 19%|██████████████▉                                                                | 237/1256 [04:10<17:23,  1.02s/it]"
     ]
    },
    {
     "name": "stdout",
     "output_type": "stream",
     "text": [
      "Processing image //vector.e3b.columbia.edu/e3b/Globus Database/UWIN Tagged Photos/batch_004/VID30069-00238.jpg\n"
     ]
    },
    {
     "name": "stderr",
     "output_type": "stream",
     "text": [
      " 19%|██████████████▉                                                                | 238/1256 [04:11<17:15,  1.02s/it]"
     ]
    },
    {
     "name": "stdout",
     "output_type": "stream",
     "text": [
      "Processing image //vector.e3b.columbia.edu/e3b/Globus Database/UWIN Tagged Photos/batch_004/VID30069-00239.jpg\n"
     ]
    },
    {
     "name": "stderr",
     "output_type": "stream",
     "text": [
      " 19%|███████████████                                                                | 239/1256 [04:12<17:06,  1.01s/it]"
     ]
    },
    {
     "name": "stdout",
     "output_type": "stream",
     "text": [
      "Processing image //vector.e3b.columbia.edu/e3b/Globus Database/UWIN Tagged Photos/batch_004/VID30069-00240.jpg\n"
     ]
    },
    {
     "name": "stderr",
     "output_type": "stream",
     "text": [
      " 19%|███████████████                                                                | 240/1256 [04:13<17:05,  1.01s/it]"
     ]
    },
    {
     "name": "stdout",
     "output_type": "stream",
     "text": [
      "Processing image //vector.e3b.columbia.edu/e3b/Globus Database/UWIN Tagged Photos/batch_004/VID30069-00241.jpg\n"
     ]
    },
    {
     "name": "stderr",
     "output_type": "stream",
     "text": [
      " 19%|███████████████▏                                                               | 241/1256 [04:14<17:05,  1.01s/it]"
     ]
    },
    {
     "name": "stdout",
     "output_type": "stream",
     "text": [
      "Processing image //vector.e3b.columbia.edu/e3b/Globus Database/UWIN Tagged Photos/batch_004/VID30069-00242.jpg\n"
     ]
    },
    {
     "name": "stderr",
     "output_type": "stream",
     "text": [
      " 19%|███████████████▏                                                               | 242/1256 [04:15<17:07,  1.01s/it]"
     ]
    },
    {
     "name": "stdout",
     "output_type": "stream",
     "text": [
      "Processing image //vector.e3b.columbia.edu/e3b/Globus Database/UWIN Tagged Photos/batch_004/VID30069-00243.jpg\n"
     ]
    },
    {
     "name": "stderr",
     "output_type": "stream",
     "text": [
      " 19%|███████████████▎                                                               | 243/1256 [04:16<17:01,  1.01s/it]"
     ]
    },
    {
     "name": "stdout",
     "output_type": "stream",
     "text": [
      "Processing image //vector.e3b.columbia.edu/e3b/Globus Database/UWIN Tagged Photos/batch_004/VID30069-00244.jpg\n"
     ]
    },
    {
     "name": "stderr",
     "output_type": "stream",
     "text": [
      " 19%|███████████████▎                                                               | 244/1256 [04:17<16:53,  1.00s/it]"
     ]
    },
    {
     "name": "stdout",
     "output_type": "stream",
     "text": [
      "Processing image //vector.e3b.columbia.edu/e3b/Globus Database/UWIN Tagged Photos/batch_004/VID30069-00245.jpg\n"
     ]
    },
    {
     "name": "stderr",
     "output_type": "stream",
     "text": [
      " 20%|███████████████▍                                                               | 245/1256 [04:18<16:56,  1.01s/it]"
     ]
    },
    {
     "name": "stdout",
     "output_type": "stream",
     "text": [
      "Processing image //vector.e3b.columbia.edu/e3b/Globus Database/UWIN Tagged Photos/batch_004/VID30069-00246.jpg\n"
     ]
    },
    {
     "name": "stderr",
     "output_type": "stream",
     "text": [
      " 20%|███████████████▍                                                               | 246/1256 [04:19<17:03,  1.01s/it]"
     ]
    },
    {
     "name": "stdout",
     "output_type": "stream",
     "text": [
      "Processing image //vector.e3b.columbia.edu/e3b/Globus Database/UWIN Tagged Photos/batch_004/VID30069-00247.jpg\n"
     ]
    },
    {
     "name": "stderr",
     "output_type": "stream",
     "text": [
      " 20%|███████████████▌                                                               | 247/1256 [04:20<17:02,  1.01s/it]"
     ]
    },
    {
     "name": "stdout",
     "output_type": "stream",
     "text": [
      "Processing image //vector.e3b.columbia.edu/e3b/Globus Database/UWIN Tagged Photos/batch_004/VID30069-00248.jpg\n"
     ]
    },
    {
     "name": "stderr",
     "output_type": "stream",
     "text": [
      " 20%|███████████████▌                                                               | 248/1256 [04:21<17:07,  1.02s/it]"
     ]
    },
    {
     "name": "stdout",
     "output_type": "stream",
     "text": [
      "Processing image //vector.e3b.columbia.edu/e3b/Globus Database/UWIN Tagged Photos/batch_004/VID30069-00249.jpg\n"
     ]
    },
    {
     "name": "stderr",
     "output_type": "stream",
     "text": [
      " 20%|███████████████▋                                                               | 249/1256 [04:22<17:02,  1.02s/it]"
     ]
    },
    {
     "name": "stdout",
     "output_type": "stream",
     "text": [
      "Processing image //vector.e3b.columbia.edu/e3b/Globus Database/UWIN Tagged Photos/batch_004/VID30069-00250.jpg\n"
     ]
    },
    {
     "name": "stderr",
     "output_type": "stream",
     "text": [
      " 20%|███████████████▋                                                               | 250/1256 [04:23<17:13,  1.03s/it]"
     ]
    },
    {
     "name": "stdout",
     "output_type": "stream",
     "text": [
      "Processing image //vector.e3b.columbia.edu/e3b/Globus Database/UWIN Tagged Photos/batch_004/VID30069-00251.jpg\n"
     ]
    },
    {
     "name": "stderr",
     "output_type": "stream",
     "text": [
      " 20%|███████████████▊                                                               | 251/1256 [04:24<17:11,  1.03s/it]"
     ]
    },
    {
     "name": "stdout",
     "output_type": "stream",
     "text": [
      "Processing image //vector.e3b.columbia.edu/e3b/Globus Database/UWIN Tagged Photos/batch_004/VID30069-00252.jpg\n"
     ]
    },
    {
     "name": "stderr",
     "output_type": "stream",
     "text": [
      " 20%|███████████████▊                                                               | 252/1256 [04:25<17:10,  1.03s/it]"
     ]
    },
    {
     "name": "stdout",
     "output_type": "stream",
     "text": [
      "Processing image //vector.e3b.columbia.edu/e3b/Globus Database/UWIN Tagged Photos/batch_004/VID30069-00253.jpg\n"
     ]
    },
    {
     "name": "stderr",
     "output_type": "stream",
     "text": [
      " 20%|███████████████▉                                                               | 253/1256 [04:26<17:09,  1.03s/it]"
     ]
    },
    {
     "name": "stdout",
     "output_type": "stream",
     "text": [
      "Processing image //vector.e3b.columbia.edu/e3b/Globus Database/UWIN Tagged Photos/batch_004/VID30069-00254.jpg\n"
     ]
    },
    {
     "name": "stderr",
     "output_type": "stream",
     "text": [
      " 20%|███████████████▉                                                               | 254/1256 [04:27<17:00,  1.02s/it]"
     ]
    },
    {
     "name": "stdout",
     "output_type": "stream",
     "text": [
      "Processing image //vector.e3b.columbia.edu/e3b/Globus Database/UWIN Tagged Photos/batch_004/VID30069-00255.jpg\n"
     ]
    },
    {
     "name": "stderr",
     "output_type": "stream",
     "text": [
      " 20%|████████████████                                                               | 255/1256 [04:28<17:07,  1.03s/it]"
     ]
    },
    {
     "name": "stdout",
     "output_type": "stream",
     "text": [
      "Processing image //vector.e3b.columbia.edu/e3b/Globus Database/UWIN Tagged Photos/batch_004/VID30069-00256.jpg\n"
     ]
    },
    {
     "name": "stderr",
     "output_type": "stream",
     "text": [
      " 20%|████████████████                                                               | 256/1256 [04:29<17:08,  1.03s/it]"
     ]
    },
    {
     "name": "stdout",
     "output_type": "stream",
     "text": [
      "Processing image //vector.e3b.columbia.edu/e3b/Globus Database/UWIN Tagged Photos/batch_004/VID30069-00257.jpg\n"
     ]
    },
    {
     "name": "stderr",
     "output_type": "stream",
     "text": [
      " 20%|████████████████▏                                                              | 257/1256 [04:30<17:03,  1.02s/it]"
     ]
    },
    {
     "name": "stdout",
     "output_type": "stream",
     "text": [
      "Processing image //vector.e3b.columbia.edu/e3b/Globus Database/UWIN Tagged Photos/batch_004/VID30069-00258.jpg\n"
     ]
    },
    {
     "name": "stderr",
     "output_type": "stream",
     "text": [
      " 21%|████████████████▏                                                              | 258/1256 [04:31<16:59,  1.02s/it]"
     ]
    },
    {
     "name": "stdout",
     "output_type": "stream",
     "text": [
      "Processing image //vector.e3b.columbia.edu/e3b/Globus Database/UWIN Tagged Photos/batch_004/VID30069-00259.jpg\n"
     ]
    },
    {
     "name": "stderr",
     "output_type": "stream",
     "text": [
      " 21%|████████████████▎                                                              | 259/1256 [04:32<16:57,  1.02s/it]"
     ]
    },
    {
     "name": "stdout",
     "output_type": "stream",
     "text": [
      "Processing image //vector.e3b.columbia.edu/e3b/Globus Database/UWIN Tagged Photos/batch_004/VID30069-00260.jpg\n"
     ]
    },
    {
     "name": "stderr",
     "output_type": "stream",
     "text": [
      " 21%|████████████████▎                                                              | 260/1256 [04:33<16:59,  1.02s/it]"
     ]
    },
    {
     "name": "stdout",
     "output_type": "stream",
     "text": [
      "Processing image //vector.e3b.columbia.edu/e3b/Globus Database/UWIN Tagged Photos/batch_004/VID30069-00261.jpg\n"
     ]
    },
    {
     "name": "stderr",
     "output_type": "stream",
     "text": [
      " 21%|████████████████▍                                                              | 261/1256 [04:34<17:05,  1.03s/it]"
     ]
    },
    {
     "name": "stdout",
     "output_type": "stream",
     "text": [
      "Processing image //vector.e3b.columbia.edu/e3b/Globus Database/UWIN Tagged Photos/batch_004/VID30069-00262.jpg\n"
     ]
    },
    {
     "name": "stderr",
     "output_type": "stream",
     "text": [
      " 21%|████████████████▍                                                              | 262/1256 [04:35<17:03,  1.03s/it]"
     ]
    },
    {
     "name": "stdout",
     "output_type": "stream",
     "text": [
      "Processing image //vector.e3b.columbia.edu/e3b/Globus Database/UWIN Tagged Photos/batch_004/VID30069-00263.jpg\n"
     ]
    },
    {
     "name": "stderr",
     "output_type": "stream",
     "text": [
      " 21%|████████████████▌                                                              | 263/1256 [04:36<17:12,  1.04s/it]"
     ]
    },
    {
     "name": "stdout",
     "output_type": "stream",
     "text": [
      "Processing image //vector.e3b.columbia.edu/e3b/Globus Database/UWIN Tagged Photos/batch_004/VID30069-00264.jpg\n"
     ]
    },
    {
     "name": "stderr",
     "output_type": "stream",
     "text": [
      " 21%|████████████████▌                                                              | 264/1256 [04:37<17:08,  1.04s/it]"
     ]
    },
    {
     "name": "stdout",
     "output_type": "stream",
     "text": [
      "Processing image //vector.e3b.columbia.edu/e3b/Globus Database/UWIN Tagged Photos/batch_004/VID30069-00265.jpg\n"
     ]
    },
    {
     "name": "stderr",
     "output_type": "stream",
     "text": [
      " 21%|████████████████▋                                                              | 265/1256 [04:38<17:10,  1.04s/it]"
     ]
    },
    {
     "name": "stdout",
     "output_type": "stream",
     "text": [
      "Processing image //vector.e3b.columbia.edu/e3b/Globus Database/UWIN Tagged Photos/batch_004/VID30069-00266.jpg\n"
     ]
    },
    {
     "name": "stderr",
     "output_type": "stream",
     "text": [
      " 21%|████████████████▋                                                              | 266/1256 [04:40<17:16,  1.05s/it]"
     ]
    },
    {
     "name": "stdout",
     "output_type": "stream",
     "text": [
      "Processing image //vector.e3b.columbia.edu/e3b/Globus Database/UWIN Tagged Photos/batch_004/VID30069-00267.jpg\n"
     ]
    },
    {
     "name": "stderr",
     "output_type": "stream",
     "text": [
      " 21%|████████████████▊                                                              | 267/1256 [04:41<17:15,  1.05s/it]"
     ]
    },
    {
     "name": "stdout",
     "output_type": "stream",
     "text": [
      "Processing image //vector.e3b.columbia.edu/e3b/Globus Database/UWIN Tagged Photos/batch_004/VID30069-00268.jpg\n"
     ]
    },
    {
     "name": "stderr",
     "output_type": "stream",
     "text": [
      " 21%|████████████████▊                                                              | 268/1256 [04:42<17:14,  1.05s/it]"
     ]
    },
    {
     "name": "stdout",
     "output_type": "stream",
     "text": [
      "Processing image //vector.e3b.columbia.edu/e3b/Globus Database/UWIN Tagged Photos/batch_004/VID30069-00269.jpg\n"
     ]
    },
    {
     "name": "stderr",
     "output_type": "stream",
     "text": [
      " 21%|████████████████▉                                                              | 269/1256 [04:43<17:20,  1.05s/it]"
     ]
    },
    {
     "name": "stdout",
     "output_type": "stream",
     "text": [
      "Processing image //vector.e3b.columbia.edu/e3b/Globus Database/UWIN Tagged Photos/batch_004/VID30069-00270.jpg\n"
     ]
    },
    {
     "name": "stderr",
     "output_type": "stream",
     "text": [
      " 21%|████████████████▉                                                              | 270/1256 [04:44<17:31,  1.07s/it]"
     ]
    },
    {
     "name": "stdout",
     "output_type": "stream",
     "text": [
      "Processing image //vector.e3b.columbia.edu/e3b/Globus Database/UWIN Tagged Photos/batch_004/VID30069-00271.jpg\n"
     ]
    },
    {
     "name": "stderr",
     "output_type": "stream",
     "text": [
      " 22%|█████████████████                                                              | 271/1256 [04:45<17:38,  1.07s/it]"
     ]
    },
    {
     "name": "stdout",
     "output_type": "stream",
     "text": [
      "Processing image //vector.e3b.columbia.edu/e3b/Globus Database/UWIN Tagged Photos/batch_004/VID30069-00272.jpg\n"
     ]
    },
    {
     "name": "stderr",
     "output_type": "stream",
     "text": [
      " 22%|█████████████████                                                              | 272/1256 [04:46<17:49,  1.09s/it]"
     ]
    },
    {
     "name": "stdout",
     "output_type": "stream",
     "text": [
      "Processing image //vector.e3b.columbia.edu/e3b/Globus Database/UWIN Tagged Photos/batch_004/VID30069-00273.jpg\n"
     ]
    },
    {
     "name": "stderr",
     "output_type": "stream",
     "text": [
      " 22%|█████████████████▏                                                             | 273/1256 [04:47<17:41,  1.08s/it]"
     ]
    },
    {
     "name": "stdout",
     "output_type": "stream",
     "text": [
      "Processing image //vector.e3b.columbia.edu/e3b/Globus Database/UWIN Tagged Photos/batch_004/VID30069-00274.jpg\n"
     ]
    },
    {
     "name": "stderr",
     "output_type": "stream",
     "text": [
      " 22%|█████████████████▏                                                             | 274/1256 [04:48<17:38,  1.08s/it]"
     ]
    },
    {
     "name": "stdout",
     "output_type": "stream",
     "text": [
      "Processing image //vector.e3b.columbia.edu/e3b/Globus Database/UWIN Tagged Photos/batch_004/VID30069-00275.jpg\n"
     ]
    },
    {
     "name": "stderr",
     "output_type": "stream",
     "text": [
      " 22%|█████████████████▎                                                             | 275/1256 [04:49<17:38,  1.08s/it]"
     ]
    },
    {
     "name": "stdout",
     "output_type": "stream",
     "text": [
      "Processing image //vector.e3b.columbia.edu/e3b/Globus Database/UWIN Tagged Photos/batch_004/VID30069-00276.jpg\n"
     ]
    },
    {
     "name": "stderr",
     "output_type": "stream",
     "text": [
      " 22%|█████████████████▎                                                             | 276/1256 [04:50<17:37,  1.08s/it]"
     ]
    },
    {
     "name": "stdout",
     "output_type": "stream",
     "text": [
      "Processing image //vector.e3b.columbia.edu/e3b/Globus Database/UWIN Tagged Photos/batch_004/VID30069-00277.jpg\n"
     ]
    },
    {
     "name": "stderr",
     "output_type": "stream",
     "text": [
      " 22%|█████████████████▍                                                             | 277/1256 [04:51<17:36,  1.08s/it]"
     ]
    },
    {
     "name": "stdout",
     "output_type": "stream",
     "text": [
      "Processing image //vector.e3b.columbia.edu/e3b/Globus Database/UWIN Tagged Photos/batch_004/VID30069-00278.jpg\n"
     ]
    },
    {
     "name": "stderr",
     "output_type": "stream",
     "text": [
      " 22%|█████████████████▍                                                             | 278/1256 [04:52<17:29,  1.07s/it]"
     ]
    },
    {
     "name": "stdout",
     "output_type": "stream",
     "text": [
      "Processing image //vector.e3b.columbia.edu/e3b/Globus Database/UWIN Tagged Photos/batch_004/VID30069-00279.jpg\n"
     ]
    },
    {
     "name": "stderr",
     "output_type": "stream",
     "text": [
      " 22%|█████████████████▌                                                             | 279/1256 [04:53<17:26,  1.07s/it]"
     ]
    },
    {
     "name": "stdout",
     "output_type": "stream",
     "text": [
      "Processing image //vector.e3b.columbia.edu/e3b/Globus Database/UWIN Tagged Photos/batch_004/VID30069-00280.jpg\n"
     ]
    },
    {
     "name": "stderr",
     "output_type": "stream",
     "text": [
      " 22%|█████████████████▌                                                             | 280/1256 [04:55<17:22,  1.07s/it]"
     ]
    },
    {
     "name": "stdout",
     "output_type": "stream",
     "text": [
      "Processing image //vector.e3b.columbia.edu/e3b/Globus Database/UWIN Tagged Photos/batch_004/VID30069-00281.jpg\n"
     ]
    },
    {
     "name": "stderr",
     "output_type": "stream",
     "text": [
      " 22%|█████████████████▋                                                             | 281/1256 [04:56<17:09,  1.06s/it]"
     ]
    },
    {
     "name": "stdout",
     "output_type": "stream",
     "text": [
      "Processing image //vector.e3b.columbia.edu/e3b/Globus Database/UWIN Tagged Photos/batch_004/VID30069-00282.jpg\n"
     ]
    },
    {
     "name": "stderr",
     "output_type": "stream",
     "text": [
      " 22%|█████████████████▋                                                             | 282/1256 [04:57<17:16,  1.06s/it]"
     ]
    },
    {
     "name": "stdout",
     "output_type": "stream",
     "text": [
      "Processing image //vector.e3b.columbia.edu/e3b/Globus Database/UWIN Tagged Photos/batch_004/VID30069-00283.jpg\n"
     ]
    },
    {
     "name": "stderr",
     "output_type": "stream",
     "text": [
      " 23%|█████████████████▊                                                             | 283/1256 [04:58<17:11,  1.06s/it]"
     ]
    },
    {
     "name": "stdout",
     "output_type": "stream",
     "text": [
      "Processing image //vector.e3b.columbia.edu/e3b/Globus Database/UWIN Tagged Photos/batch_004/VID30069-00284.jpg\n"
     ]
    },
    {
     "name": "stderr",
     "output_type": "stream",
     "text": [
      " 23%|█████████████████▊                                                             | 284/1256 [04:59<17:17,  1.07s/it]"
     ]
    },
    {
     "name": "stdout",
     "output_type": "stream",
     "text": [
      "Processing image //vector.e3b.columbia.edu/e3b/Globus Database/UWIN Tagged Photos/batch_004/VID30069-00285.jpg\n"
     ]
    },
    {
     "name": "stderr",
     "output_type": "stream",
     "text": [
      " 23%|█████████████████▉                                                             | 285/1256 [05:00<17:18,  1.07s/it]"
     ]
    },
    {
     "name": "stdout",
     "output_type": "stream",
     "text": [
      "Processing image //vector.e3b.columbia.edu/e3b/Globus Database/UWIN Tagged Photos/batch_004/VID30069-00286.jpg\n"
     ]
    },
    {
     "name": "stderr",
     "output_type": "stream",
     "text": [
      " 23%|█████████████████▉                                                             | 286/1256 [05:01<17:30,  1.08s/it]"
     ]
    },
    {
     "name": "stdout",
     "output_type": "stream",
     "text": [
      "Processing image //vector.e3b.columbia.edu/e3b/Globus Database/UWIN Tagged Photos/batch_004/VID30069-00287.jpg\n"
     ]
    },
    {
     "name": "stderr",
     "output_type": "stream",
     "text": [
      " 23%|██████████████████                                                             | 287/1256 [05:02<17:26,  1.08s/it]"
     ]
    },
    {
     "name": "stdout",
     "output_type": "stream",
     "text": [
      "Processing image //vector.e3b.columbia.edu/e3b/Globus Database/UWIN Tagged Photos/batch_004/VID30069-00288.jpg\n"
     ]
    },
    {
     "name": "stderr",
     "output_type": "stream",
     "text": [
      " 23%|██████████████████                                                             | 288/1256 [05:03<17:32,  1.09s/it]"
     ]
    },
    {
     "name": "stdout",
     "output_type": "stream",
     "text": [
      "Processing image //vector.e3b.columbia.edu/e3b/Globus Database/UWIN Tagged Photos/batch_004/VID30069-00289.jpg\n"
     ]
    },
    {
     "name": "stderr",
     "output_type": "stream",
     "text": [
      " 23%|██████████████████▏                                                            | 289/1256 [05:04<17:31,  1.09s/it]"
     ]
    },
    {
     "name": "stdout",
     "output_type": "stream",
     "text": [
      "Processing image //vector.e3b.columbia.edu/e3b/Globus Database/UWIN Tagged Photos/batch_004/VID30069-00290.jpg\n"
     ]
    },
    {
     "name": "stderr",
     "output_type": "stream",
     "text": [
      " 23%|██████████████████▏                                                            | 290/1256 [05:05<17:19,  1.08s/it]"
     ]
    },
    {
     "name": "stdout",
     "output_type": "stream",
     "text": [
      "Processing image //vector.e3b.columbia.edu/e3b/Globus Database/UWIN Tagged Photos/batch_004/VID30069-00291.jpg\n"
     ]
    },
    {
     "name": "stderr",
     "output_type": "stream",
     "text": [
      " 23%|██████████████████▎                                                            | 291/1256 [05:06<17:19,  1.08s/it]"
     ]
    },
    {
     "name": "stdout",
     "output_type": "stream",
     "text": [
      "Processing image //vector.e3b.columbia.edu/e3b/Globus Database/UWIN Tagged Photos/batch_004/VID30069-00292.jpg\n"
     ]
    },
    {
     "name": "stderr",
     "output_type": "stream",
     "text": [
      " 23%|██████████████████▎                                                            | 292/1256 [05:07<17:23,  1.08s/it]"
     ]
    },
    {
     "name": "stdout",
     "output_type": "stream",
     "text": [
      "Processing image //vector.e3b.columbia.edu/e3b/Globus Database/UWIN Tagged Photos/batch_004/VID30069-00293.jpg\n"
     ]
    },
    {
     "name": "stderr",
     "output_type": "stream",
     "text": [
      " 23%|██████████████████▍                                                            | 293/1256 [05:08<17:05,  1.07s/it]"
     ]
    },
    {
     "name": "stdout",
     "output_type": "stream",
     "text": [
      "Processing image //vector.e3b.columbia.edu/e3b/Globus Database/UWIN Tagged Photos/batch_004/VID30069-00294.jpg\n"
     ]
    },
    {
     "name": "stderr",
     "output_type": "stream",
     "text": [
      " 23%|██████████████████▍                                                            | 294/1256 [05:10<16:56,  1.06s/it]"
     ]
    },
    {
     "name": "stdout",
     "output_type": "stream",
     "text": [
      "Processing image //vector.e3b.columbia.edu/e3b/Globus Database/UWIN Tagged Photos/batch_004/VID30069-00295.jpg\n"
     ]
    },
    {
     "name": "stderr",
     "output_type": "stream",
     "text": [
      " 23%|██████████████████▌                                                            | 295/1256 [05:11<16:44,  1.04s/it]"
     ]
    },
    {
     "name": "stdout",
     "output_type": "stream",
     "text": [
      "Processing image //vector.e3b.columbia.edu/e3b/Globus Database/UWIN Tagged Photos/batch_004/VID30069-00296.jpg\n"
     ]
    },
    {
     "name": "stderr",
     "output_type": "stream",
     "text": [
      " 24%|██████████████████▌                                                            | 296/1256 [05:12<16:37,  1.04s/it]"
     ]
    },
    {
     "name": "stdout",
     "output_type": "stream",
     "text": [
      "Processing image //vector.e3b.columbia.edu/e3b/Globus Database/UWIN Tagged Photos/batch_004/VID30069-00297.jpg\n"
     ]
    },
    {
     "name": "stderr",
     "output_type": "stream",
     "text": [
      " 24%|██████████████████▋                                                            | 297/1256 [05:13<16:36,  1.04s/it]"
     ]
    },
    {
     "name": "stdout",
     "output_type": "stream",
     "text": [
      "Processing image //vector.e3b.columbia.edu/e3b/Globus Database/UWIN Tagged Photos/batch_004/VID30069-00298.jpg\n"
     ]
    },
    {
     "name": "stderr",
     "output_type": "stream",
     "text": [
      " 24%|██████████████████▋                                                            | 298/1256 [05:14<16:33,  1.04s/it]"
     ]
    },
    {
     "name": "stdout",
     "output_type": "stream",
     "text": [
      "Processing image //vector.e3b.columbia.edu/e3b/Globus Database/UWIN Tagged Photos/batch_004/VID30069-00299.jpg\n"
     ]
    },
    {
     "name": "stderr",
     "output_type": "stream",
     "text": [
      " 24%|██████████████████▊                                                            | 299/1256 [05:15<16:48,  1.05s/it]"
     ]
    },
    {
     "name": "stdout",
     "output_type": "stream",
     "text": [
      "Processing image //vector.e3b.columbia.edu/e3b/Globus Database/UWIN Tagged Photos/batch_004/VID30069-00300.jpg\n"
     ]
    },
    {
     "name": "stderr",
     "output_type": "stream",
     "text": [
      " 24%|██████████████████▊                                                            | 300/1256 [05:16<16:44,  1.05s/it]"
     ]
    },
    {
     "name": "stdout",
     "output_type": "stream",
     "text": [
      "Processing image //vector.e3b.columbia.edu/e3b/Globus Database/UWIN Tagged Photos/batch_004/VID30069-00301.jpg\n"
     ]
    },
    {
     "name": "stderr",
     "output_type": "stream",
     "text": [
      " 24%|██████████████████▉                                                            | 301/1256 [05:17<16:40,  1.05s/it]"
     ]
    },
    {
     "name": "stdout",
     "output_type": "stream",
     "text": [
      "Processing image //vector.e3b.columbia.edu/e3b/Globus Database/UWIN Tagged Photos/batch_004/VID30069-00302.jpg\n"
     ]
    },
    {
     "name": "stderr",
     "output_type": "stream",
     "text": [
      " 24%|██████████████████▉                                                            | 302/1256 [05:18<16:37,  1.05s/it]"
     ]
    },
    {
     "name": "stdout",
     "output_type": "stream",
     "text": [
      "Processing image //vector.e3b.columbia.edu/e3b/Globus Database/UWIN Tagged Photos/batch_004/VID30069-00303.jpg\n"
     ]
    },
    {
     "name": "stderr",
     "output_type": "stream",
     "text": [
      " 24%|███████████████████                                                            | 303/1256 [05:19<16:32,  1.04s/it]"
     ]
    },
    {
     "name": "stdout",
     "output_type": "stream",
     "text": [
      "Processing image //vector.e3b.columbia.edu/e3b/Globus Database/UWIN Tagged Photos/batch_004/VID30069-00304.jpg\n"
     ]
    },
    {
     "name": "stderr",
     "output_type": "stream",
     "text": [
      " 24%|███████████████████                                                            | 304/1256 [05:20<16:37,  1.05s/it]"
     ]
    },
    {
     "name": "stdout",
     "output_type": "stream",
     "text": [
      "Processing image //vector.e3b.columbia.edu/e3b/Globus Database/UWIN Tagged Photos/batch_004/VID30069-00305.jpg\n"
     ]
    },
    {
     "name": "stderr",
     "output_type": "stream",
     "text": [
      " 24%|███████████████████▏                                                           | 305/1256 [05:21<16:42,  1.05s/it]"
     ]
    },
    {
     "name": "stdout",
     "output_type": "stream",
     "text": [
      "Processing image //vector.e3b.columbia.edu/e3b/Globus Database/UWIN Tagged Photos/batch_004/VID30069-00306.jpg\n"
     ]
    },
    {
     "name": "stderr",
     "output_type": "stream",
     "text": [
      " 24%|███████████████████▏                                                           | 306/1256 [05:22<16:40,  1.05s/it]"
     ]
    },
    {
     "name": "stdout",
     "output_type": "stream",
     "text": [
      "Processing image //vector.e3b.columbia.edu/e3b/Globus Database/UWIN Tagged Photos/batch_004/VID30069-00307.jpg\n"
     ]
    },
    {
     "name": "stderr",
     "output_type": "stream",
     "text": [
      " 24%|███████████████████▎                                                           | 307/1256 [05:23<16:48,  1.06s/it]"
     ]
    },
    {
     "name": "stdout",
     "output_type": "stream",
     "text": [
      "Processing image //vector.e3b.columbia.edu/e3b/Globus Database/UWIN Tagged Photos/batch_004/VID30069-00308.jpg\n"
     ]
    },
    {
     "name": "stderr",
     "output_type": "stream",
     "text": [
      " 25%|███████████████████▎                                                           | 308/1256 [05:24<16:39,  1.05s/it]"
     ]
    },
    {
     "name": "stdout",
     "output_type": "stream",
     "text": [
      "Processing image //vector.e3b.columbia.edu/e3b/Globus Database/UWIN Tagged Photos/batch_004/VID30069-00309.jpg\n"
     ]
    },
    {
     "name": "stderr",
     "output_type": "stream",
     "text": [
      " 25%|███████████████████▍                                                           | 309/1256 [05:25<16:41,  1.06s/it]"
     ]
    },
    {
     "name": "stdout",
     "output_type": "stream",
     "text": [
      "Processing image //vector.e3b.columbia.edu/e3b/Globus Database/UWIN Tagged Photos/batch_004/VID30069-00310.jpg\n"
     ]
    },
    {
     "name": "stderr",
     "output_type": "stream",
     "text": [
      " 25%|███████████████████▍                                                           | 310/1256 [05:26<16:46,  1.06s/it]"
     ]
    },
    {
     "name": "stdout",
     "output_type": "stream",
     "text": [
      "Processing image //vector.e3b.columbia.edu/e3b/Globus Database/UWIN Tagged Photos/batch_004/VID30069-00311.jpg\n"
     ]
    },
    {
     "name": "stderr",
     "output_type": "stream",
     "text": [
      " 25%|███████████████████▌                                                           | 311/1256 [05:27<16:44,  1.06s/it]"
     ]
    },
    {
     "name": "stdout",
     "output_type": "stream",
     "text": [
      "Processing image //vector.e3b.columbia.edu/e3b/Globus Database/UWIN Tagged Photos/batch_004/VID30069-00312.jpg\n"
     ]
    },
    {
     "name": "stderr",
     "output_type": "stream",
     "text": [
      " 25%|███████████████████▌                                                           | 312/1256 [05:29<16:56,  1.08s/it]"
     ]
    },
    {
     "name": "stdout",
     "output_type": "stream",
     "text": [
      "Processing image //vector.e3b.columbia.edu/e3b/Globus Database/UWIN Tagged Photos/batch_004/VID30069-00313.jpg\n"
     ]
    },
    {
     "name": "stderr",
     "output_type": "stream",
     "text": [
      " 25%|███████████████████▋                                                           | 313/1256 [05:30<16:53,  1.08s/it]"
     ]
    },
    {
     "name": "stdout",
     "output_type": "stream",
     "text": [
      "Processing image //vector.e3b.columbia.edu/e3b/Globus Database/UWIN Tagged Photos/batch_004/VID30069-00314.jpg\n"
     ]
    },
    {
     "name": "stderr",
     "output_type": "stream",
     "text": [
      " 25%|███████████████████▊                                                           | 314/1256 [05:31<16:55,  1.08s/it]"
     ]
    },
    {
     "name": "stdout",
     "output_type": "stream",
     "text": [
      "Processing image //vector.e3b.columbia.edu/e3b/Globus Database/UWIN Tagged Photos/batch_004/VID30069-00315.jpg\n"
     ]
    },
    {
     "name": "stderr",
     "output_type": "stream",
     "text": [
      " 25%|███████████████████▊                                                           | 315/1256 [05:32<17:01,  1.09s/it]"
     ]
    },
    {
     "name": "stdout",
     "output_type": "stream",
     "text": [
      "Processing image //vector.e3b.columbia.edu/e3b/Globus Database/UWIN Tagged Photos/batch_004/VID30069-00316.jpg\n"
     ]
    },
    {
     "name": "stderr",
     "output_type": "stream",
     "text": [
      " 25%|███████████████████▉                                                           | 316/1256 [05:33<17:03,  1.09s/it]"
     ]
    },
    {
     "name": "stdout",
     "output_type": "stream",
     "text": [
      "Processing image //vector.e3b.columbia.edu/e3b/Globus Database/UWIN Tagged Photos/batch_004/VID30069-00317.jpg\n"
     ]
    },
    {
     "name": "stderr",
     "output_type": "stream",
     "text": [
      " 25%|███████████████████▉                                                           | 317/1256 [05:34<17:03,  1.09s/it]"
     ]
    },
    {
     "name": "stdout",
     "output_type": "stream",
     "text": [
      "Processing image //vector.e3b.columbia.edu/e3b/Globus Database/UWIN Tagged Photos/batch_004/VID30069-00318.jpg\n"
     ]
    },
    {
     "name": "stderr",
     "output_type": "stream",
     "text": [
      " 25%|████████████████████                                                           | 318/1256 [05:35<16:58,  1.09s/it]"
     ]
    },
    {
     "name": "stdout",
     "output_type": "stream",
     "text": [
      "Processing image //vector.e3b.columbia.edu/e3b/Globus Database/UWIN Tagged Photos/batch_004/VID30069-00319.jpg\n"
     ]
    },
    {
     "name": "stderr",
     "output_type": "stream",
     "text": [
      " 25%|████████████████████                                                           | 319/1256 [05:36<16:52,  1.08s/it]"
     ]
    },
    {
     "name": "stdout",
     "output_type": "stream",
     "text": [
      "Processing image //vector.e3b.columbia.edu/e3b/Globus Database/UWIN Tagged Photos/batch_004/VID30069-00320.jpg\n"
     ]
    },
    {
     "name": "stderr",
     "output_type": "stream",
     "text": [
      " 25%|████████████████████▏                                                          | 320/1256 [05:37<16:59,  1.09s/it]"
     ]
    },
    {
     "name": "stdout",
     "output_type": "stream",
     "text": [
      "Processing image //vector.e3b.columbia.edu/e3b/Globus Database/UWIN Tagged Photos/batch_004/VID30069-00321.jpg\n"
     ]
    },
    {
     "name": "stderr",
     "output_type": "stream",
     "text": [
      " 26%|████████████████████▏                                                          | 321/1256 [05:38<16:46,  1.08s/it]"
     ]
    },
    {
     "name": "stdout",
     "output_type": "stream",
     "text": [
      "Processing image //vector.e3b.columbia.edu/e3b/Globus Database/UWIN Tagged Photos/batch_004/VID30069-00322.jpg\n"
     ]
    },
    {
     "name": "stderr",
     "output_type": "stream",
     "text": [
      " 26%|████████████████████▎                                                          | 322/1256 [05:39<16:32,  1.06s/it]"
     ]
    },
    {
     "name": "stdout",
     "output_type": "stream",
     "text": [
      "Processing image //vector.e3b.columbia.edu/e3b/Globus Database/UWIN Tagged Photos/batch_004/VID30069-00323.jpg\n"
     ]
    },
    {
     "name": "stderr",
     "output_type": "stream",
     "text": [
      " 26%|████████████████████▎                                                          | 323/1256 [05:40<16:22,  1.05s/it]"
     ]
    },
    {
     "name": "stdout",
     "output_type": "stream",
     "text": [
      "Processing image //vector.e3b.columbia.edu/e3b/Globus Database/UWIN Tagged Photos/batch_004/VID30069-00324.jpg\n"
     ]
    },
    {
     "name": "stderr",
     "output_type": "stream",
     "text": [
      " 26%|████████████████████▍                                                          | 324/1256 [05:41<16:06,  1.04s/it]"
     ]
    },
    {
     "name": "stdout",
     "output_type": "stream",
     "text": [
      "Processing image //vector.e3b.columbia.edu/e3b/Globus Database/UWIN Tagged Photos/batch_004/VID30069-00325.jpg\n"
     ]
    },
    {
     "name": "stderr",
     "output_type": "stream",
     "text": [
      " 26%|████████████████████▍                                                          | 325/1256 [05:42<16:03,  1.04s/it]"
     ]
    },
    {
     "name": "stdout",
     "output_type": "stream",
     "text": [
      "Processing image //vector.e3b.columbia.edu/e3b/Globus Database/UWIN Tagged Photos/batch_004/VID30069-00326.jpg\n"
     ]
    },
    {
     "name": "stderr",
     "output_type": "stream",
     "text": [
      " 26%|████████████████████▌                                                          | 326/1256 [05:43<15:53,  1.02s/it]"
     ]
    },
    {
     "name": "stdout",
     "output_type": "stream",
     "text": [
      "Processing image //vector.e3b.columbia.edu/e3b/Globus Database/UWIN Tagged Photos/batch_004/VID30069-00327.jpg\n"
     ]
    },
    {
     "name": "stderr",
     "output_type": "stream",
     "text": [
      " 26%|████████████████████▌                                                          | 327/1256 [05:44<15:50,  1.02s/it]"
     ]
    },
    {
     "name": "stdout",
     "output_type": "stream",
     "text": [
      "Processing image //vector.e3b.columbia.edu/e3b/Globus Database/UWIN Tagged Photos/batch_004/VID30069-00328.jpg\n"
     ]
    },
    {
     "name": "stderr",
     "output_type": "stream",
     "text": [
      " 26%|████████████████████▋                                                          | 328/1256 [05:45<15:50,  1.02s/it]"
     ]
    },
    {
     "name": "stdout",
     "output_type": "stream",
     "text": [
      "Processing image //vector.e3b.columbia.edu/e3b/Globus Database/UWIN Tagged Photos/batch_004/VID30069-00329.jpg\n"
     ]
    },
    {
     "name": "stderr",
     "output_type": "stream",
     "text": [
      " 26%|████████████████████▋                                                          | 329/1256 [05:46<15:47,  1.02s/it]"
     ]
    },
    {
     "name": "stdout",
     "output_type": "stream",
     "text": [
      "Processing image //vector.e3b.columbia.edu/e3b/Globus Database/UWIN Tagged Photos/batch_004/VID30069-00330.jpg\n"
     ]
    },
    {
     "name": "stderr",
     "output_type": "stream",
     "text": [
      " 26%|████████████████████▊                                                          | 330/1256 [05:48<16:15,  1.05s/it]"
     ]
    },
    {
     "name": "stdout",
     "output_type": "stream",
     "text": [
      "Processing image //vector.e3b.columbia.edu/e3b/Globus Database/UWIN Tagged Photos/batch_004/VID30069-00331.jpg\n"
     ]
    },
    {
     "name": "stderr",
     "output_type": "stream",
     "text": [
      " 26%|████████████████████▊                                                          | 331/1256 [05:49<16:16,  1.06s/it]"
     ]
    },
    {
     "name": "stdout",
     "output_type": "stream",
     "text": [
      "Processing image //vector.e3b.columbia.edu/e3b/Globus Database/UWIN Tagged Photos/batch_004/VID30069-00332.jpg\n"
     ]
    },
    {
     "name": "stderr",
     "output_type": "stream",
     "text": [
      " 26%|████████████████████▉                                                          | 332/1256 [05:50<16:18,  1.06s/it]"
     ]
    },
    {
     "name": "stdout",
     "output_type": "stream",
     "text": [
      "Processing image //vector.e3b.columbia.edu/e3b/Globus Database/UWIN Tagged Photos/batch_004/VID30069-00333.jpg\n"
     ]
    },
    {
     "name": "stderr",
     "output_type": "stream",
     "text": [
      " 27%|████████████████████▉                                                          | 333/1256 [05:51<16:21,  1.06s/it]"
     ]
    },
    {
     "name": "stdout",
     "output_type": "stream",
     "text": [
      "Processing image //vector.e3b.columbia.edu/e3b/Globus Database/UWIN Tagged Photos/batch_004/VID30069-00334.jpg\n"
     ]
    },
    {
     "name": "stderr",
     "output_type": "stream",
     "text": [
      " 27%|█████████████████████                                                          | 334/1256 [05:52<16:15,  1.06s/it]"
     ]
    },
    {
     "name": "stdout",
     "output_type": "stream",
     "text": [
      "Processing image //vector.e3b.columbia.edu/e3b/Globus Database/UWIN Tagged Photos/batch_004/VID30069-00335.jpg\n"
     ]
    },
    {
     "name": "stderr",
     "output_type": "stream",
     "text": [
      " 27%|█████████████████████                                                          | 335/1256 [05:53<16:20,  1.06s/it]"
     ]
    },
    {
     "name": "stdout",
     "output_type": "stream",
     "text": [
      "Processing image //vector.e3b.columbia.edu/e3b/Globus Database/UWIN Tagged Photos/batch_004/VID30069-00336.jpg\n"
     ]
    },
    {
     "name": "stderr",
     "output_type": "stream",
     "text": [
      " 27%|█████████████████████▏                                                         | 336/1256 [05:54<16:16,  1.06s/it]"
     ]
    },
    {
     "name": "stdout",
     "output_type": "stream",
     "text": [
      "Processing image //vector.e3b.columbia.edu/e3b/Globus Database/UWIN Tagged Photos/batch_004/VID30069-00337.jpg\n"
     ]
    },
    {
     "name": "stderr",
     "output_type": "stream",
     "text": [
      " 27%|█████████████████████▏                                                         | 337/1256 [05:55<16:30,  1.08s/it]"
     ]
    },
    {
     "name": "stdout",
     "output_type": "stream",
     "text": [
      "Processing image //vector.e3b.columbia.edu/e3b/Globus Database/UWIN Tagged Photos/batch_004/VID30069-00338.jpg\n"
     ]
    },
    {
     "name": "stderr",
     "output_type": "stream",
     "text": [
      " 27%|█████████████████████▎                                                         | 338/1256 [05:56<16:42,  1.09s/it]"
     ]
    },
    {
     "name": "stdout",
     "output_type": "stream",
     "text": [
      "Processing image //vector.e3b.columbia.edu/e3b/Globus Database/UWIN Tagged Photos/batch_004/VID30069-00339.jpg\n"
     ]
    },
    {
     "name": "stderr",
     "output_type": "stream",
     "text": [
      " 27%|█████████████████████▎                                                         | 339/1256 [05:57<16:41,  1.09s/it]"
     ]
    },
    {
     "name": "stdout",
     "output_type": "stream",
     "text": [
      "Processing image //vector.e3b.columbia.edu/e3b/Globus Database/UWIN Tagged Photos/batch_004/VID30069-00340.jpg\n"
     ]
    },
    {
     "name": "stderr",
     "output_type": "stream",
     "text": [
      " 27%|█████████████████████▍                                                         | 340/1256 [05:58<16:46,  1.10s/it]"
     ]
    },
    {
     "name": "stdout",
     "output_type": "stream",
     "text": [
      "Processing image //vector.e3b.columbia.edu/e3b/Globus Database/UWIN Tagged Photos/batch_004/VID30069-00341.jpg\n"
     ]
    },
    {
     "name": "stderr",
     "output_type": "stream",
     "text": [
      " 27%|█████████████████████▍                                                         | 341/1256 [05:59<16:30,  1.08s/it]"
     ]
    },
    {
     "name": "stdout",
     "output_type": "stream",
     "text": [
      "Processing image //vector.e3b.columbia.edu/e3b/Globus Database/UWIN Tagged Photos/batch_004/VID30069-00342.jpg\n"
     ]
    },
    {
     "name": "stderr",
     "output_type": "stream",
     "text": [
      " 27%|█████████████████████▌                                                         | 342/1256 [06:01<16:41,  1.10s/it]"
     ]
    },
    {
     "name": "stdout",
     "output_type": "stream",
     "text": [
      "Processing image //vector.e3b.columbia.edu/e3b/Globus Database/UWIN Tagged Photos/batch_004/VID30069-00343.jpg\n"
     ]
    },
    {
     "name": "stderr",
     "output_type": "stream",
     "text": [
      " 27%|█████████████████████▌                                                         | 343/1256 [06:02<16:33,  1.09s/it]"
     ]
    },
    {
     "name": "stdout",
     "output_type": "stream",
     "text": [
      "Processing image //vector.e3b.columbia.edu/e3b/Globus Database/UWIN Tagged Photos/batch_004/VID30069-00344.jpg\n"
     ]
    },
    {
     "name": "stderr",
     "output_type": "stream",
     "text": [
      " 27%|█████████████████████▋                                                         | 344/1256 [06:03<16:32,  1.09s/it]"
     ]
    },
    {
     "name": "stdout",
     "output_type": "stream",
     "text": [
      "Processing image //vector.e3b.columbia.edu/e3b/Globus Database/UWIN Tagged Photos/batch_004/VID30069-00345.jpg\n"
     ]
    },
    {
     "name": "stderr",
     "output_type": "stream",
     "text": [
      " 27%|█████████████████████▋                                                         | 345/1256 [06:04<16:26,  1.08s/it]"
     ]
    },
    {
     "name": "stdout",
     "output_type": "stream",
     "text": [
      "Processing image //vector.e3b.columbia.edu/e3b/Globus Database/UWIN Tagged Photos/batch_004/VID30069-00346.jpg\n"
     ]
    },
    {
     "name": "stderr",
     "output_type": "stream",
     "text": [
      " 28%|█████████████████████▊                                                         | 346/1256 [06:05<16:23,  1.08s/it]"
     ]
    },
    {
     "name": "stdout",
     "output_type": "stream",
     "text": [
      "Processing image //vector.e3b.columbia.edu/e3b/Globus Database/UWIN Tagged Photos/batch_004/VID30069-00347.jpg\n"
     ]
    },
    {
     "name": "stderr",
     "output_type": "stream",
     "text": [
      " 28%|█████████████████████▊                                                         | 347/1256 [06:06<16:20,  1.08s/it]"
     ]
    },
    {
     "name": "stdout",
     "output_type": "stream",
     "text": [
      "Processing image //vector.e3b.columbia.edu/e3b/Globus Database/UWIN Tagged Photos/batch_004/VID30069-00348.jpg\n"
     ]
    },
    {
     "name": "stderr",
     "output_type": "stream",
     "text": [
      " 28%|█████████████████████▉                                                         | 348/1256 [06:07<16:20,  1.08s/it]"
     ]
    },
    {
     "name": "stdout",
     "output_type": "stream",
     "text": [
      "Processing image //vector.e3b.columbia.edu/e3b/Globus Database/UWIN Tagged Photos/batch_004/VID30069-00349.jpg\n"
     ]
    },
    {
     "name": "stderr",
     "output_type": "stream",
     "text": [
      " 28%|█████████████████████▉                                                         | 349/1256 [06:08<16:11,  1.07s/it]"
     ]
    },
    {
     "name": "stdout",
     "output_type": "stream",
     "text": [
      "Processing image //vector.e3b.columbia.edu/e3b/Globus Database/UWIN Tagged Photos/batch_004/VID30069-00350.jpg\n"
     ]
    },
    {
     "name": "stderr",
     "output_type": "stream",
     "text": [
      " 28%|██████████████████████                                                         | 350/1256 [06:09<15:58,  1.06s/it]"
     ]
    },
    {
     "name": "stdout",
     "output_type": "stream",
     "text": [
      "Processing image //vector.e3b.columbia.edu/e3b/Globus Database/UWIN Tagged Photos/batch_004/VID30069-00351.jpg\n"
     ]
    },
    {
     "name": "stderr",
     "output_type": "stream",
     "text": [
      " 28%|██████████████████████                                                         | 351/1256 [06:10<15:49,  1.05s/it]"
     ]
    },
    {
     "name": "stdout",
     "output_type": "stream",
     "text": [
      "Processing image //vector.e3b.columbia.edu/e3b/Globus Database/UWIN Tagged Photos/batch_004/VID30069-00352.jpg\n"
     ]
    },
    {
     "name": "stderr",
     "output_type": "stream",
     "text": [
      " 28%|██████████████████████▏                                                        | 352/1256 [06:11<15:53,  1.05s/it]"
     ]
    },
    {
     "name": "stdout",
     "output_type": "stream",
     "text": [
      "Processing image //vector.e3b.columbia.edu/e3b/Globus Database/UWIN Tagged Photos/batch_004/VID30069-00353.jpg\n"
     ]
    },
    {
     "name": "stderr",
     "output_type": "stream",
     "text": [
      " 28%|██████████████████████▏                                                        | 353/1256 [06:12<16:03,  1.07s/it]"
     ]
    },
    {
     "name": "stdout",
     "output_type": "stream",
     "text": [
      "Processing image //vector.e3b.columbia.edu/e3b/Globus Database/UWIN Tagged Photos/batch_004/VID30086-00000.jpg\n"
     ]
    },
    {
     "name": "stderr",
     "output_type": "stream",
     "text": [
      " 28%|██████████████████████▎                                                        | 354/1256 [06:13<15:53,  1.06s/it]"
     ]
    },
    {
     "name": "stdout",
     "output_type": "stream",
     "text": [
      "Processing image //vector.e3b.columbia.edu/e3b/Globus Database/UWIN Tagged Photos/batch_004/VID30086-00001.jpg\n"
     ]
    },
    {
     "name": "stderr",
     "output_type": "stream",
     "text": [
      " 28%|██████████████████████▎                                                        | 355/1256 [06:14<15:48,  1.05s/it]"
     ]
    },
    {
     "name": "stdout",
     "output_type": "stream",
     "text": [
      "Processing image //vector.e3b.columbia.edu/e3b/Globus Database/UWIN Tagged Photos/batch_004/VID30086-00002.jpg\n"
     ]
    },
    {
     "name": "stderr",
     "output_type": "stream",
     "text": [
      " 28%|██████████████████████▍                                                        | 356/1256 [06:15<15:47,  1.05s/it]"
     ]
    },
    {
     "name": "stdout",
     "output_type": "stream",
     "text": [
      "Processing image //vector.e3b.columbia.edu/e3b/Globus Database/UWIN Tagged Photos/batch_004/VID30086-00003.jpg\n"
     ]
    },
    {
     "name": "stderr",
     "output_type": "stream",
     "text": [
      " 28%|██████████████████████▍                                                        | 357/1256 [06:16<15:48,  1.06s/it]"
     ]
    },
    {
     "name": "stdout",
     "output_type": "stream",
     "text": [
      "Processing image //vector.e3b.columbia.edu/e3b/Globus Database/UWIN Tagged Photos/batch_004/VID30086-00004.jpg\n"
     ]
    },
    {
     "name": "stderr",
     "output_type": "stream",
     "text": [
      " 29%|██████████████████████▌                                                        | 358/1256 [06:18<15:51,  1.06s/it]"
     ]
    },
    {
     "name": "stdout",
     "output_type": "stream",
     "text": [
      "Processing image //vector.e3b.columbia.edu/e3b/Globus Database/UWIN Tagged Photos/batch_004/VID30086-00005.jpg\n"
     ]
    },
    {
     "name": "stderr",
     "output_type": "stream",
     "text": [
      " 29%|██████████████████████▌                                                        | 359/1256 [06:19<15:52,  1.06s/it]"
     ]
    },
    {
     "name": "stdout",
     "output_type": "stream",
     "text": [
      "Processing image //vector.e3b.columbia.edu/e3b/Globus Database/UWIN Tagged Photos/batch_004/VID30086-00006.jpg\n"
     ]
    },
    {
     "name": "stderr",
     "output_type": "stream",
     "text": [
      " 29%|██████████████████████▋                                                        | 360/1256 [06:20<15:43,  1.05s/it]"
     ]
    },
    {
     "name": "stdout",
     "output_type": "stream",
     "text": [
      "Processing image //vector.e3b.columbia.edu/e3b/Globus Database/UWIN Tagged Photos/batch_004/VID30086-00007.jpg\n"
     ]
    },
    {
     "name": "stderr",
     "output_type": "stream",
     "text": [
      " 29%|██████████████████████▋                                                        | 361/1256 [06:21<15:36,  1.05s/it]"
     ]
    },
    {
     "name": "stdout",
     "output_type": "stream",
     "text": [
      "Processing image //vector.e3b.columbia.edu/e3b/Globus Database/UWIN Tagged Photos/batch_004/VID30086-00008.jpg\n"
     ]
    },
    {
     "name": "stderr",
     "output_type": "stream",
     "text": [
      " 29%|██████████████████████▊                                                        | 362/1256 [06:22<15:52,  1.07s/it]"
     ]
    },
    {
     "name": "stdout",
     "output_type": "stream",
     "text": [
      "Processing image //vector.e3b.columbia.edu/e3b/Globus Database/UWIN Tagged Photos/batch_004/VID30086-00009.jpg\n"
     ]
    },
    {
     "name": "stderr",
     "output_type": "stream",
     "text": [
      " 29%|██████████████████████▊                                                        | 363/1256 [06:23<15:57,  1.07s/it]"
     ]
    },
    {
     "name": "stdout",
     "output_type": "stream",
     "text": [
      "Processing image //vector.e3b.columbia.edu/e3b/Globus Database/UWIN Tagged Photos/batch_004/VID30086-00010.jpg\n"
     ]
    },
    {
     "name": "stderr",
     "output_type": "stream",
     "text": [
      " 29%|██████████████████████▉                                                        | 364/1256 [06:24<16:13,  1.09s/it]"
     ]
    },
    {
     "name": "stdout",
     "output_type": "stream",
     "text": [
      "Processing image //vector.e3b.columbia.edu/e3b/Globus Database/UWIN Tagged Photos/batch_004/VID30086-00011.jpg\n"
     ]
    },
    {
     "name": "stderr",
     "output_type": "stream",
     "text": [
      " 29%|██████████████████████▉                                                        | 365/1256 [06:25<16:07,  1.09s/it]"
     ]
    },
    {
     "name": "stdout",
     "output_type": "stream",
     "text": [
      "Processing image //vector.e3b.columbia.edu/e3b/Globus Database/UWIN Tagged Photos/batch_004/VID30086-00012.jpg\n"
     ]
    },
    {
     "name": "stderr",
     "output_type": "stream",
     "text": [
      " 29%|███████████████████████                                                        | 366/1256 [06:26<16:05,  1.08s/it]"
     ]
    },
    {
     "name": "stdout",
     "output_type": "stream",
     "text": [
      "Processing image //vector.e3b.columbia.edu/e3b/Globus Database/UWIN Tagged Photos/batch_004/VID30086-00013.jpg\n"
     ]
    },
    {
     "name": "stderr",
     "output_type": "stream",
     "text": [
      " 29%|███████████████████████                                                        | 367/1256 [06:27<15:52,  1.07s/it]"
     ]
    },
    {
     "name": "stdout",
     "output_type": "stream",
     "text": [
      "Processing image //vector.e3b.columbia.edu/e3b/Globus Database/UWIN Tagged Photos/batch_004/VID30086-00014.jpg\n"
     ]
    },
    {
     "name": "stderr",
     "output_type": "stream",
     "text": [
      " 29%|███████████████████████▏                                                       | 368/1256 [06:28<16:05,  1.09s/it]"
     ]
    },
    {
     "name": "stdout",
     "output_type": "stream",
     "text": [
      "Processing image //vector.e3b.columbia.edu/e3b/Globus Database/UWIN Tagged Photos/batch_004/VID30086-00015.jpg\n"
     ]
    },
    {
     "name": "stderr",
     "output_type": "stream",
     "text": [
      " 29%|███████████████████████▏                                                       | 369/1256 [06:29<16:02,  1.08s/it]"
     ]
    },
    {
     "name": "stdout",
     "output_type": "stream",
     "text": [
      "Processing image //vector.e3b.columbia.edu/e3b/Globus Database/UWIN Tagged Photos/batch_004/VID30086-00016.jpg\n"
     ]
    },
    {
     "name": "stderr",
     "output_type": "stream",
     "text": [
      " 29%|███████████████████████▎                                                       | 370/1256 [06:31<16:09,  1.09s/it]"
     ]
    },
    {
     "name": "stdout",
     "output_type": "stream",
     "text": [
      "Processing image //vector.e3b.columbia.edu/e3b/Globus Database/UWIN Tagged Photos/batch_004/VID30086-00017.jpg\n"
     ]
    },
    {
     "name": "stderr",
     "output_type": "stream",
     "text": [
      " 30%|███████████████████████▎                                                       | 371/1256 [06:32<16:08,  1.09s/it]"
     ]
    },
    {
     "name": "stdout",
     "output_type": "stream",
     "text": [
      "Processing image //vector.e3b.columbia.edu/e3b/Globus Database/UWIN Tagged Photos/batch_004/VID30086-00018.jpg\n"
     ]
    },
    {
     "name": "stderr",
     "output_type": "stream",
     "text": [
      " 30%|███████████████████████▍                                                       | 372/1256 [06:33<15:59,  1.09s/it]"
     ]
    },
    {
     "name": "stdout",
     "output_type": "stream",
     "text": [
      "Processing image //vector.e3b.columbia.edu/e3b/Globus Database/UWIN Tagged Photos/batch_004/VID30086-00019.jpg\n"
     ]
    },
    {
     "name": "stderr",
     "output_type": "stream",
     "text": [
      " 30%|███████████████████████▍                                                       | 373/1256 [06:34<16:06,  1.09s/it]"
     ]
    },
    {
     "name": "stdout",
     "output_type": "stream",
     "text": [
      "Processing image //vector.e3b.columbia.edu/e3b/Globus Database/UWIN Tagged Photos/batch_004/VID30086-00020.jpg\n"
     ]
    },
    {
     "name": "stderr",
     "output_type": "stream",
     "text": [
      " 30%|███████████████████████▌                                                       | 374/1256 [06:35<15:55,  1.08s/it]"
     ]
    },
    {
     "name": "stdout",
     "output_type": "stream",
     "text": [
      "Processing image //vector.e3b.columbia.edu/e3b/Globus Database/UWIN Tagged Photos/batch_004/VID30086-00021.jpg\n"
     ]
    },
    {
     "name": "stderr",
     "output_type": "stream",
     "text": [
      " 30%|███████████████████████▌                                                       | 375/1256 [06:36<15:51,  1.08s/it]"
     ]
    },
    {
     "name": "stdout",
     "output_type": "stream",
     "text": [
      "Processing image //vector.e3b.columbia.edu/e3b/Globus Database/UWIN Tagged Photos/batch_004/VID30086-00022.jpg\n"
     ]
    },
    {
     "name": "stderr",
     "output_type": "stream",
     "text": [
      " 30%|███████████████████████▋                                                       | 376/1256 [06:37<15:52,  1.08s/it]"
     ]
    },
    {
     "name": "stdout",
     "output_type": "stream",
     "text": [
      "Processing image //vector.e3b.columbia.edu/e3b/Globus Database/UWIN Tagged Photos/batch_004/VID30086-00023.jpg\n"
     ]
    },
    {
     "name": "stderr",
     "output_type": "stream",
     "text": [
      " 30%|███████████████████████▋                                                       | 377/1256 [06:38<15:52,  1.08s/it]"
     ]
    },
    {
     "name": "stdout",
     "output_type": "stream",
     "text": [
      "Processing image //vector.e3b.columbia.edu/e3b/Globus Database/UWIN Tagged Photos/batch_004/VID30086-00024.jpg\n"
     ]
    },
    {
     "name": "stderr",
     "output_type": "stream",
     "text": [
      " 30%|███████████████████████▊                                                       | 378/1256 [06:39<15:56,  1.09s/it]"
     ]
    },
    {
     "name": "stdout",
     "output_type": "stream",
     "text": [
      "Processing image //vector.e3b.columbia.edu/e3b/Globus Database/UWIN Tagged Photos/batch_004/VID30086-00025.jpg\n"
     ]
    },
    {
     "name": "stderr",
     "output_type": "stream",
     "text": [
      " 30%|███████████████████████▊                                                       | 379/1256 [06:40<15:48,  1.08s/it]"
     ]
    },
    {
     "name": "stdout",
     "output_type": "stream",
     "text": [
      "Processing image //vector.e3b.columbia.edu/e3b/Globus Database/UWIN Tagged Photos/batch_004/VID30086-00026.jpg\n"
     ]
    },
    {
     "name": "stderr",
     "output_type": "stream",
     "text": [
      " 30%|███████████████████████▉                                                       | 380/1256 [06:41<15:42,  1.08s/it]"
     ]
    },
    {
     "name": "stdout",
     "output_type": "stream",
     "text": [
      "Processing image //vector.e3b.columbia.edu/e3b/Globus Database/UWIN Tagged Photos/batch_004/VID30086-00027.jpg\n"
     ]
    },
    {
     "name": "stderr",
     "output_type": "stream",
     "text": [
      " 30%|███████████████████████▉                                                       | 381/1256 [06:42<15:45,  1.08s/it]"
     ]
    },
    {
     "name": "stdout",
     "output_type": "stream",
     "text": [
      "Processing image //vector.e3b.columbia.edu/e3b/Globus Database/UWIN Tagged Photos/batch_004/VID30086-00028.jpg\n"
     ]
    },
    {
     "name": "stderr",
     "output_type": "stream",
     "text": [
      " 30%|████████████████████████                                                       | 382/1256 [06:43<15:45,  1.08s/it]"
     ]
    },
    {
     "name": "stdout",
     "output_type": "stream",
     "text": [
      "Processing image //vector.e3b.columbia.edu/e3b/Globus Database/UWIN Tagged Photos/batch_004/VID30086-00029.jpg\n"
     ]
    },
    {
     "name": "stderr",
     "output_type": "stream",
     "text": [
      " 30%|████████████████████████                                                       | 383/1256 [06:45<15:43,  1.08s/it]"
     ]
    },
    {
     "name": "stdout",
     "output_type": "stream",
     "text": [
      "Processing image //vector.e3b.columbia.edu/e3b/Globus Database/UWIN Tagged Photos/batch_004/VID30086-00030.jpg\n"
     ]
    },
    {
     "name": "stderr",
     "output_type": "stream",
     "text": [
      " 31%|████████████████████████▏                                                      | 384/1256 [06:46<15:42,  1.08s/it]"
     ]
    },
    {
     "name": "stdout",
     "output_type": "stream",
     "text": [
      "Processing image //vector.e3b.columbia.edu/e3b/Globus Database/UWIN Tagged Photos/batch_004/VID30086-00031.jpg\n"
     ]
    },
    {
     "name": "stderr",
     "output_type": "stream",
     "text": [
      " 31%|████████████████████████▏                                                      | 385/1256 [06:47<16:04,  1.11s/it]"
     ]
    },
    {
     "name": "stdout",
     "output_type": "stream",
     "text": [
      "Processing image //vector.e3b.columbia.edu/e3b/Globus Database/UWIN Tagged Photos/batch_004/VID30086-00032.jpg\n"
     ]
    },
    {
     "name": "stderr",
     "output_type": "stream",
     "text": [
      " 31%|████████████████████████▎                                                      | 386/1256 [06:48<15:50,  1.09s/it]"
     ]
    },
    {
     "name": "stdout",
     "output_type": "stream",
     "text": [
      "Processing image //vector.e3b.columbia.edu/e3b/Globus Database/UWIN Tagged Photos/batch_004/VID30086-00033.jpg\n"
     ]
    },
    {
     "name": "stderr",
     "output_type": "stream",
     "text": [
      " 31%|████████████████████████▎                                                      | 387/1256 [06:49<15:36,  1.08s/it]"
     ]
    },
    {
     "name": "stdout",
     "output_type": "stream",
     "text": [
      "Processing image //vector.e3b.columbia.edu/e3b/Globus Database/UWIN Tagged Photos/batch_004/VID30086-00034.jpg\n"
     ]
    },
    {
     "name": "stderr",
     "output_type": "stream",
     "text": [
      " 31%|████████████████████████▍                                                      | 388/1256 [06:50<15:12,  1.05s/it]"
     ]
    },
    {
     "name": "stdout",
     "output_type": "stream",
     "text": [
      "Processing image //vector.e3b.columbia.edu/e3b/Globus Database/UWIN Tagged Photos/batch_004/VID30086-00035.jpg\n"
     ]
    },
    {
     "name": "stderr",
     "output_type": "stream",
     "text": [
      " 31%|████████████████████████▍                                                      | 389/1256 [06:51<15:24,  1.07s/it]"
     ]
    },
    {
     "name": "stdout",
     "output_type": "stream",
     "text": [
      "Processing image //vector.e3b.columbia.edu/e3b/Globus Database/UWIN Tagged Photos/batch_004/VID30086-00036.jpg\n"
     ]
    },
    {
     "name": "stderr",
     "output_type": "stream",
     "text": [
      " 31%|████████████████████████▌                                                      | 390/1256 [06:52<15:35,  1.08s/it]"
     ]
    },
    {
     "name": "stdout",
     "output_type": "stream",
     "text": [
      "Processing image //vector.e3b.columbia.edu/e3b/Globus Database/UWIN Tagged Photos/batch_004/VID30086-00037.jpg\n"
     ]
    },
    {
     "name": "stderr",
     "output_type": "stream",
     "text": [
      " 31%|████████████████████████▌                                                      | 391/1256 [06:53<15:30,  1.08s/it]"
     ]
    },
    {
     "name": "stdout",
     "output_type": "stream",
     "text": [
      "Processing image //vector.e3b.columbia.edu/e3b/Globus Database/UWIN Tagged Photos/batch_004/VID30086-00038.jpg\n"
     ]
    },
    {
     "name": "stderr",
     "output_type": "stream",
     "text": [
      " 31%|████████████████████████▋                                                      | 392/1256 [06:54<15:17,  1.06s/it]"
     ]
    },
    {
     "name": "stdout",
     "output_type": "stream",
     "text": [
      "Processing image //vector.e3b.columbia.edu/e3b/Globus Database/UWIN Tagged Photos/batch_004/VID30086-00039.jpg\n"
     ]
    },
    {
     "name": "stderr",
     "output_type": "stream",
     "text": [
      " 31%|████████████████████████▋                                                      | 393/1256 [06:55<15:21,  1.07s/it]"
     ]
    },
    {
     "name": "stdout",
     "output_type": "stream",
     "text": [
      "Processing image //vector.e3b.columbia.edu/e3b/Globus Database/UWIN Tagged Photos/batch_004/VID30086-00040.jpg\n"
     ]
    },
    {
     "name": "stderr",
     "output_type": "stream",
     "text": [
      " 31%|████████████████████████▊                                                      | 394/1256 [06:56<15:23,  1.07s/it]"
     ]
    },
    {
     "name": "stdout",
     "output_type": "stream",
     "text": [
      "Processing image //vector.e3b.columbia.edu/e3b/Globus Database/UWIN Tagged Photos/batch_004/VID30086-00041.jpg\n"
     ]
    },
    {
     "name": "stderr",
     "output_type": "stream",
     "text": [
      " 31%|████████████████████████▊                                                      | 395/1256 [06:57<15:24,  1.07s/it]"
     ]
    },
    {
     "name": "stdout",
     "output_type": "stream",
     "text": [
      "Processing image //vector.e3b.columbia.edu/e3b/Globus Database/UWIN Tagged Photos/batch_004/VID30086-00042.jpg\n"
     ]
    },
    {
     "name": "stderr",
     "output_type": "stream",
     "text": [
      " 32%|████████████████████████▉                                                      | 396/1256 [06:59<15:30,  1.08s/it]"
     ]
    },
    {
     "name": "stdout",
     "output_type": "stream",
     "text": [
      "Processing image //vector.e3b.columbia.edu/e3b/Globus Database/UWIN Tagged Photos/batch_004/VID30086-00043.jpg\n"
     ]
    },
    {
     "name": "stderr",
     "output_type": "stream",
     "text": [
      " 32%|████████████████████████▉                                                      | 397/1256 [07:00<15:24,  1.08s/it]"
     ]
    },
    {
     "name": "stdout",
     "output_type": "stream",
     "text": [
      "Processing image //vector.e3b.columbia.edu/e3b/Globus Database/UWIN Tagged Photos/batch_004/VID30086-00044.jpg\n"
     ]
    },
    {
     "name": "stderr",
     "output_type": "stream",
     "text": [
      " 32%|█████████████████████████                                                      | 398/1256 [07:01<15:11,  1.06s/it]"
     ]
    },
    {
     "name": "stdout",
     "output_type": "stream",
     "text": [
      "Processing image //vector.e3b.columbia.edu/e3b/Globus Database/UWIN Tagged Photos/batch_004/VID30086-00045.jpg\n"
     ]
    },
    {
     "name": "stderr",
     "output_type": "stream",
     "text": [
      " 32%|█████████████████████████                                                      | 399/1256 [07:02<15:10,  1.06s/it]"
     ]
    },
    {
     "name": "stdout",
     "output_type": "stream",
     "text": [
      "Processing image //vector.e3b.columbia.edu/e3b/Globus Database/UWIN Tagged Photos/batch_004/VID30086-00046.jpg\n"
     ]
    },
    {
     "name": "stderr",
     "output_type": "stream",
     "text": [
      " 32%|█████████████████████████▏                                                     | 400/1256 [07:03<14:55,  1.05s/it]"
     ]
    },
    {
     "name": "stdout",
     "output_type": "stream",
     "text": [
      "Processing image //vector.e3b.columbia.edu/e3b/Globus Database/UWIN Tagged Photos/batch_004/VID30086-00047.jpg\n"
     ]
    },
    {
     "name": "stderr",
     "output_type": "stream",
     "text": [
      " 32%|█████████████████████████▏                                                     | 401/1256 [07:04<14:56,  1.05s/it]"
     ]
    },
    {
     "name": "stdout",
     "output_type": "stream",
     "text": [
      "Processing image //vector.e3b.columbia.edu/e3b/Globus Database/UWIN Tagged Photos/batch_004/VID30086-00048.jpg\n"
     ]
    },
    {
     "name": "stderr",
     "output_type": "stream",
     "text": [
      " 32%|█████████████████████████▎                                                     | 402/1256 [07:05<14:59,  1.05s/it]"
     ]
    },
    {
     "name": "stdout",
     "output_type": "stream",
     "text": [
      "Processing image //vector.e3b.columbia.edu/e3b/Globus Database/UWIN Tagged Photos/batch_004/VID30086-00049.jpg\n"
     ]
    },
    {
     "name": "stderr",
     "output_type": "stream",
     "text": [
      " 32%|█████████████████████████▎                                                     | 403/1256 [07:06<15:04,  1.06s/it]"
     ]
    },
    {
     "name": "stdout",
     "output_type": "stream",
     "text": [
      "Processing image //vector.e3b.columbia.edu/e3b/Globus Database/UWIN Tagged Photos/batch_004/VID30086-00050.jpg\n"
     ]
    },
    {
     "name": "stderr",
     "output_type": "stream",
     "text": [
      " 32%|█████████████████████████▍                                                     | 404/1256 [07:07<15:23,  1.08s/it]"
     ]
    },
    {
     "name": "stdout",
     "output_type": "stream",
     "text": [
      "Processing image //vector.e3b.columbia.edu/e3b/Globus Database/UWIN Tagged Photos/batch_004/VID30086-00051.jpg\n"
     ]
    },
    {
     "name": "stderr",
     "output_type": "stream",
     "text": [
      " 32%|█████████████████████████▍                                                     | 405/1256 [07:08<15:24,  1.09s/it]"
     ]
    },
    {
     "name": "stdout",
     "output_type": "stream",
     "text": [
      "Processing image //vector.e3b.columbia.edu/e3b/Globus Database/UWIN Tagged Photos/batch_004/VID30086-00052.jpg\n"
     ]
    },
    {
     "name": "stderr",
     "output_type": "stream",
     "text": [
      " 32%|█████████████████████████▌                                                     | 406/1256 [07:09<15:21,  1.08s/it]"
     ]
    },
    {
     "name": "stdout",
     "output_type": "stream",
     "text": [
      "Processing image //vector.e3b.columbia.edu/e3b/Globus Database/UWIN Tagged Photos/batch_004/VID30086-00053.jpg\n"
     ]
    },
    {
     "name": "stderr",
     "output_type": "stream",
     "text": [
      " 32%|█████████████████████████▌                                                     | 407/1256 [07:10<15:24,  1.09s/it]"
     ]
    },
    {
     "name": "stdout",
     "output_type": "stream",
     "text": [
      "Processing image //vector.e3b.columbia.edu/e3b/Globus Database/UWIN Tagged Photos/batch_004/VID30086-00054.jpg\n"
     ]
    },
    {
     "name": "stderr",
     "output_type": "stream",
     "text": [
      " 32%|█████████████████████████▋                                                     | 408/1256 [07:11<15:12,  1.08s/it]"
     ]
    },
    {
     "name": "stdout",
     "output_type": "stream",
     "text": [
      "Processing image //vector.e3b.columbia.edu/e3b/Globus Database/UWIN Tagged Photos/batch_004/VID30086-00055.jpg\n"
     ]
    },
    {
     "name": "stderr",
     "output_type": "stream",
     "text": [
      " 33%|█████████████████████████▋                                                     | 409/1256 [07:12<15:19,  1.09s/it]"
     ]
    },
    {
     "name": "stdout",
     "output_type": "stream",
     "text": [
      "Processing image //vector.e3b.columbia.edu/e3b/Globus Database/UWIN Tagged Photos/batch_004/VID30086-00056.jpg\n"
     ]
    },
    {
     "name": "stderr",
     "output_type": "stream",
     "text": [
      " 33%|█████████████████████████▊                                                     | 410/1256 [07:14<15:19,  1.09s/it]"
     ]
    },
    {
     "name": "stdout",
     "output_type": "stream",
     "text": [
      "Processing image //vector.e3b.columbia.edu/e3b/Globus Database/UWIN Tagged Photos/batch_004/VID30086-00057.jpg\n"
     ]
    },
    {
     "name": "stderr",
     "output_type": "stream",
     "text": [
      " 33%|█████████████████████████▊                                                     | 411/1256 [07:15<15:20,  1.09s/it]"
     ]
    },
    {
     "name": "stdout",
     "output_type": "stream",
     "text": [
      "Processing image //vector.e3b.columbia.edu/e3b/Globus Database/UWIN Tagged Photos/batch_004/VID30086-00058.jpg\n"
     ]
    },
    {
     "name": "stderr",
     "output_type": "stream",
     "text": [
      " 33%|█████████████████████████▉                                                     | 412/1256 [07:16<15:18,  1.09s/it]"
     ]
    },
    {
     "name": "stdout",
     "output_type": "stream",
     "text": [
      "Processing image //vector.e3b.columbia.edu/e3b/Globus Database/UWIN Tagged Photos/batch_004/VID30086-00059.jpg\n"
     ]
    },
    {
     "name": "stderr",
     "output_type": "stream",
     "text": [
      " 33%|█████████████████████████▉                                                     | 413/1256 [07:17<15:10,  1.08s/it]"
     ]
    },
    {
     "name": "stdout",
     "output_type": "stream",
     "text": [
      "Processing image //vector.e3b.columbia.edu/e3b/Globus Database/UWIN Tagged Photos/batch_004/VID30086-00060.jpg\n"
     ]
    },
    {
     "name": "stderr",
     "output_type": "stream",
     "text": [
      " 33%|██████████████████████████                                                     | 414/1256 [07:18<15:15,  1.09s/it]"
     ]
    },
    {
     "name": "stdout",
     "output_type": "stream",
     "text": [
      "Processing image //vector.e3b.columbia.edu/e3b/Globus Database/UWIN Tagged Photos/batch_004/VID30086-00061.jpg\n"
     ]
    },
    {
     "name": "stderr",
     "output_type": "stream",
     "text": [
      " 33%|██████████████████████████                                                     | 415/1256 [07:19<15:10,  1.08s/it]"
     ]
    },
    {
     "name": "stdout",
     "output_type": "stream",
     "text": [
      "Processing image //vector.e3b.columbia.edu/e3b/Globus Database/UWIN Tagged Photos/batch_004/VID30086-00062.jpg\n"
     ]
    },
    {
     "name": "stderr",
     "output_type": "stream",
     "text": [
      " 33%|██████████████████████████▏                                                    | 416/1256 [07:20<15:09,  1.08s/it]"
     ]
    },
    {
     "name": "stdout",
     "output_type": "stream",
     "text": [
      "Processing image //vector.e3b.columbia.edu/e3b/Globus Database/UWIN Tagged Photos/batch_004/VID30086-00063.jpg\n"
     ]
    },
    {
     "name": "stderr",
     "output_type": "stream",
     "text": [
      " 33%|██████████████████████████▏                                                    | 417/1256 [07:21<15:11,  1.09s/it]"
     ]
    },
    {
     "name": "stdout",
     "output_type": "stream",
     "text": [
      "Processing image //vector.e3b.columbia.edu/e3b/Globus Database/UWIN Tagged Photos/batch_004/VID30086-00064.jpg\n"
     ]
    },
    {
     "name": "stderr",
     "output_type": "stream",
     "text": [
      " 33%|██████████████████████████▎                                                    | 418/1256 [07:22<15:15,  1.09s/it]"
     ]
    },
    {
     "name": "stdout",
     "output_type": "stream",
     "text": [
      "Processing image //vector.e3b.columbia.edu/e3b/Globus Database/UWIN Tagged Photos/batch_004/VID30086-00065.jpg\n"
     ]
    },
    {
     "name": "stderr",
     "output_type": "stream",
     "text": [
      " 33%|██████████████████████████▎                                                    | 419/1256 [07:23<15:10,  1.09s/it]"
     ]
    },
    {
     "name": "stdout",
     "output_type": "stream",
     "text": [
      "Processing image //vector.e3b.columbia.edu/e3b/Globus Database/UWIN Tagged Photos/batch_004/VID30086-00066.jpg\n"
     ]
    },
    {
     "name": "stderr",
     "output_type": "stream",
     "text": [
      " 33%|██████████████████████████▍                                                    | 420/1256 [07:24<15:16,  1.10s/it]"
     ]
    },
    {
     "name": "stdout",
     "output_type": "stream",
     "text": [
      "Processing image //vector.e3b.columbia.edu/e3b/Globus Database/UWIN Tagged Photos/batch_004/VID30086-00067.jpg\n"
     ]
    },
    {
     "name": "stderr",
     "output_type": "stream",
     "text": [
      " 34%|██████████████████████████▍                                                    | 421/1256 [07:26<15:05,  1.08s/it]"
     ]
    },
    {
     "name": "stdout",
     "output_type": "stream",
     "text": [
      "Processing image //vector.e3b.columbia.edu/e3b/Globus Database/UWIN Tagged Photos/batch_004/VID30086-00068.jpg\n"
     ]
    },
    {
     "name": "stderr",
     "output_type": "stream",
     "text": [
      " 34%|██████████████████████████▌                                                    | 422/1256 [07:27<14:55,  1.07s/it]"
     ]
    },
    {
     "name": "stdout",
     "output_type": "stream",
     "text": [
      "Processing image //vector.e3b.columbia.edu/e3b/Globus Database/UWIN Tagged Photos/batch_004/VID30086-00069.jpg\n"
     ]
    },
    {
     "name": "stderr",
     "output_type": "stream",
     "text": [
      " 34%|██████████████████████████▌                                                    | 423/1256 [07:28<15:01,  1.08s/it]"
     ]
    },
    {
     "name": "stdout",
     "output_type": "stream",
     "text": [
      "Processing image //vector.e3b.columbia.edu/e3b/Globus Database/UWIN Tagged Photos/batch_004/VID30086-00070.jpg\n"
     ]
    },
    {
     "name": "stderr",
     "output_type": "stream",
     "text": [
      " 34%|██████████████████████████▋                                                    | 424/1256 [07:29<15:11,  1.10s/it]"
     ]
    },
    {
     "name": "stdout",
     "output_type": "stream",
     "text": [
      "Processing image //vector.e3b.columbia.edu/e3b/Globus Database/UWIN Tagged Photos/batch_004/VID30086-00071.jpg\n"
     ]
    },
    {
     "name": "stderr",
     "output_type": "stream",
     "text": [
      " 34%|██████████████████████████▋                                                    | 425/1256 [07:30<15:07,  1.09s/it]"
     ]
    },
    {
     "name": "stdout",
     "output_type": "stream",
     "text": [
      "Processing image //vector.e3b.columbia.edu/e3b/Globus Database/UWIN Tagged Photos/batch_004/VID30086-00072.jpg\n"
     ]
    },
    {
     "name": "stderr",
     "output_type": "stream",
     "text": [
      " 34%|██████████████████████████▊                                                    | 426/1256 [07:31<15:02,  1.09s/it]"
     ]
    },
    {
     "name": "stdout",
     "output_type": "stream",
     "text": [
      "Processing image //vector.e3b.columbia.edu/e3b/Globus Database/UWIN Tagged Photos/batch_004/VID30086-00073.jpg\n"
     ]
    },
    {
     "name": "stderr",
     "output_type": "stream",
     "text": [
      " 34%|██████████████████████████▊                                                    | 427/1256 [07:32<15:11,  1.10s/it]"
     ]
    },
    {
     "name": "stdout",
     "output_type": "stream",
     "text": [
      "Processing image //vector.e3b.columbia.edu/e3b/Globus Database/UWIN Tagged Photos/batch_004/VID30086-00074.jpg\n"
     ]
    },
    {
     "name": "stderr",
     "output_type": "stream",
     "text": [
      " 34%|██████████████████████████▉                                                    | 428/1256 [07:33<15:12,  1.10s/it]"
     ]
    },
    {
     "name": "stdout",
     "output_type": "stream",
     "text": [
      "Processing image //vector.e3b.columbia.edu/e3b/Globus Database/UWIN Tagged Photos/batch_004/VID30086-00075.jpg\n"
     ]
    },
    {
     "name": "stderr",
     "output_type": "stream",
     "text": [
      " 34%|██████████████████████████▉                                                    | 429/1256 [07:34<14:53,  1.08s/it]"
     ]
    },
    {
     "name": "stdout",
     "output_type": "stream",
     "text": [
      "Processing image //vector.e3b.columbia.edu/e3b/Globus Database/UWIN Tagged Photos/batch_004/VID30086-00076.jpg\n"
     ]
    },
    {
     "name": "stderr",
     "output_type": "stream",
     "text": [
      " 34%|███████████████████████████                                                    | 430/1256 [07:35<15:04,  1.10s/it]"
     ]
    },
    {
     "name": "stdout",
     "output_type": "stream",
     "text": [
      "Processing image //vector.e3b.columbia.edu/e3b/Globus Database/UWIN Tagged Photos/batch_004/VID30086-00077.jpg\n"
     ]
    },
    {
     "name": "stderr",
     "output_type": "stream",
     "text": [
      " 34%|███████████████████████████                                                    | 431/1256 [07:36<15:05,  1.10s/it]"
     ]
    },
    {
     "name": "stdout",
     "output_type": "stream",
     "text": [
      "Processing image //vector.e3b.columbia.edu/e3b/Globus Database/UWIN Tagged Photos/batch_004/VID30086-00078.jpg\n"
     ]
    },
    {
     "name": "stderr",
     "output_type": "stream",
     "text": [
      " 34%|███████████████████████████▏                                                   | 432/1256 [07:38<15:05,  1.10s/it]"
     ]
    },
    {
     "name": "stdout",
     "output_type": "stream",
     "text": [
      "Processing image //vector.e3b.columbia.edu/e3b/Globus Database/UWIN Tagged Photos/batch_004/VID30086-00079.jpg\n"
     ]
    },
    {
     "name": "stderr",
     "output_type": "stream",
     "text": [
      " 34%|███████████████████████████▏                                                   | 433/1256 [07:39<15:07,  1.10s/it]"
     ]
    },
    {
     "name": "stdout",
     "output_type": "stream",
     "text": [
      "Processing image //vector.e3b.columbia.edu/e3b/Globus Database/UWIN Tagged Photos/batch_004/VID30086-00080.jpg\n"
     ]
    },
    {
     "name": "stderr",
     "output_type": "stream",
     "text": [
      " 35%|███████████████████████████▎                                                   | 434/1256 [07:40<15:00,  1.09s/it]"
     ]
    },
    {
     "name": "stdout",
     "output_type": "stream",
     "text": [
      "Processing image //vector.e3b.columbia.edu/e3b/Globus Database/UWIN Tagged Photos/batch_004/VID30086-00081.jpg\n"
     ]
    },
    {
     "name": "stderr",
     "output_type": "stream",
     "text": [
      " 35%|███████████████████████████▎                                                   | 435/1256 [07:41<14:57,  1.09s/it]"
     ]
    },
    {
     "name": "stdout",
     "output_type": "stream",
     "text": [
      "Processing image //vector.e3b.columbia.edu/e3b/Globus Database/UWIN Tagged Photos/batch_004/VID30086-00082.jpg\n"
     ]
    },
    {
     "name": "stderr",
     "output_type": "stream",
     "text": [
      " 35%|███████████████████████████▍                                                   | 436/1256 [07:42<14:55,  1.09s/it]"
     ]
    },
    {
     "name": "stdout",
     "output_type": "stream",
     "text": [
      "Processing image //vector.e3b.columbia.edu/e3b/Globus Database/UWIN Tagged Photos/batch_004/VID30086-00083.jpg\n"
     ]
    },
    {
     "name": "stderr",
     "output_type": "stream",
     "text": [
      " 35%|███████████████████████████▍                                                   | 437/1256 [07:43<15:11,  1.11s/it]"
     ]
    },
    {
     "name": "stdout",
     "output_type": "stream",
     "text": [
      "Processing image //vector.e3b.columbia.edu/e3b/Globus Database/UWIN Tagged Photos/batch_004/VID30086-00084.jpg\n"
     ]
    },
    {
     "name": "stderr",
     "output_type": "stream",
     "text": [
      " 35%|███████████████████████████▌                                                   | 438/1256 [07:44<15:04,  1.11s/it]"
     ]
    },
    {
     "name": "stdout",
     "output_type": "stream",
     "text": [
      "Processing image //vector.e3b.columbia.edu/e3b/Globus Database/UWIN Tagged Photos/batch_004/VID30086-00085.jpg\n"
     ]
    },
    {
     "name": "stderr",
     "output_type": "stream",
     "text": [
      " 35%|███████████████████████████▌                                                   | 439/1256 [07:45<15:00,  1.10s/it]"
     ]
    },
    {
     "name": "stdout",
     "output_type": "stream",
     "text": [
      "Processing image //vector.e3b.columbia.edu/e3b/Globus Database/UWIN Tagged Photos/batch_004/VID30086-00086.jpg\n"
     ]
    },
    {
     "name": "stderr",
     "output_type": "stream",
     "text": [
      " 35%|███████████████████████████▋                                                   | 440/1256 [07:46<14:57,  1.10s/it]"
     ]
    },
    {
     "name": "stdout",
     "output_type": "stream",
     "text": [
      "Processing image //vector.e3b.columbia.edu/e3b/Globus Database/UWIN Tagged Photos/batch_004/VID30086-00087.jpg\n"
     ]
    },
    {
     "name": "stderr",
     "output_type": "stream",
     "text": [
      " 35%|███████████████████████████▋                                                   | 441/1256 [07:47<14:59,  1.10s/it]"
     ]
    },
    {
     "name": "stdout",
     "output_type": "stream",
     "text": [
      "Processing image //vector.e3b.columbia.edu/e3b/Globus Database/UWIN Tagged Photos/batch_004/VID30086-00088.jpg\n"
     ]
    },
    {
     "name": "stderr",
     "output_type": "stream",
     "text": [
      " 35%|███████████████████████████▊                                                   | 442/1256 [07:49<14:58,  1.10s/it]"
     ]
    },
    {
     "name": "stdout",
     "output_type": "stream",
     "text": [
      "Processing image //vector.e3b.columbia.edu/e3b/Globus Database/UWIN Tagged Photos/batch_004/VID30086-00089.jpg\n"
     ]
    },
    {
     "name": "stderr",
     "output_type": "stream",
     "text": [
      " 35%|███████████████████████████▊                                                   | 443/1256 [07:50<14:56,  1.10s/it]"
     ]
    },
    {
     "name": "stdout",
     "output_type": "stream",
     "text": [
      "Processing image //vector.e3b.columbia.edu/e3b/Globus Database/UWIN Tagged Photos/batch_004/VID30086-00090.jpg\n"
     ]
    },
    {
     "name": "stderr",
     "output_type": "stream",
     "text": [
      " 35%|███████████████████████████▉                                                   | 444/1256 [07:51<14:53,  1.10s/it]"
     ]
    },
    {
     "name": "stdout",
     "output_type": "stream",
     "text": [
      "Processing image //vector.e3b.columbia.edu/e3b/Globus Database/UWIN Tagged Photos/batch_004/VID30086-00091.jpg\n"
     ]
    },
    {
     "name": "stderr",
     "output_type": "stream",
     "text": [
      " 35%|███████████████████████████▉                                                   | 445/1256 [07:52<14:51,  1.10s/it]"
     ]
    },
    {
     "name": "stdout",
     "output_type": "stream",
     "text": [
      "Processing image //vector.e3b.columbia.edu/e3b/Globus Database/UWIN Tagged Photos/batch_004/VID30086-00092.jpg\n"
     ]
    },
    {
     "name": "stderr",
     "output_type": "stream",
     "text": [
      " 36%|████████████████████████████                                                   | 446/1256 [07:53<14:49,  1.10s/it]"
     ]
    },
    {
     "name": "stdout",
     "output_type": "stream",
     "text": [
      "Processing image //vector.e3b.columbia.edu/e3b/Globus Database/UWIN Tagged Photos/batch_004/VID30086-00093.jpg\n"
     ]
    },
    {
     "name": "stderr",
     "output_type": "stream",
     "text": [
      " 36%|████████████████████████████                                                   | 447/1256 [07:54<14:51,  1.10s/it]"
     ]
    },
    {
     "name": "stdout",
     "output_type": "stream",
     "text": [
      "Processing image //vector.e3b.columbia.edu/e3b/Globus Database/UWIN Tagged Photos/batch_004/VID30086-00094.jpg\n"
     ]
    },
    {
     "name": "stderr",
     "output_type": "stream",
     "text": [
      " 36%|████████████████████████████▏                                                  | 448/1256 [07:55<14:48,  1.10s/it]"
     ]
    },
    {
     "name": "stdout",
     "output_type": "stream",
     "text": [
      "Processing image //vector.e3b.columbia.edu/e3b/Globus Database/UWIN Tagged Photos/batch_004/VID30086-00095.jpg\n"
     ]
    },
    {
     "name": "stderr",
     "output_type": "stream",
     "text": [
      " 36%|████████████████████████████▏                                                  | 449/1256 [07:56<14:46,  1.10s/it]"
     ]
    },
    {
     "name": "stdout",
     "output_type": "stream",
     "text": [
      "Processing image //vector.e3b.columbia.edu/e3b/Globus Database/UWIN Tagged Photos/batch_004/VID30086-00096.jpg\n"
     ]
    },
    {
     "name": "stderr",
     "output_type": "stream",
     "text": [
      " 36%|████████████████████████████▎                                                  | 450/1256 [07:57<14:32,  1.08s/it]"
     ]
    },
    {
     "name": "stdout",
     "output_type": "stream",
     "text": [
      "Processing image //vector.e3b.columbia.edu/e3b/Globus Database/UWIN Tagged Photos/batch_004/VID30086-00097.jpg\n"
     ]
    },
    {
     "name": "stderr",
     "output_type": "stream",
     "text": [
      " 36%|████████████████████████████▎                                                  | 451/1256 [07:58<14:30,  1.08s/it]"
     ]
    },
    {
     "name": "stdout",
     "output_type": "stream",
     "text": [
      "Processing image //vector.e3b.columbia.edu/e3b/Globus Database/UWIN Tagged Photos/batch_004/VID30086-00098.jpg\n"
     ]
    },
    {
     "name": "stderr",
     "output_type": "stream",
     "text": [
      " 36%|████████████████████████████▍                                                  | 452/1256 [08:00<14:33,  1.09s/it]"
     ]
    },
    {
     "name": "stdout",
     "output_type": "stream",
     "text": [
      "Processing image //vector.e3b.columbia.edu/e3b/Globus Database/UWIN Tagged Photos/batch_004/VID30086-00099.jpg\n"
     ]
    },
    {
     "name": "stderr",
     "output_type": "stream",
     "text": [
      " 36%|████████████████████████████▍                                                  | 453/1256 [08:01<14:32,  1.09s/it]"
     ]
    },
    {
     "name": "stdout",
     "output_type": "stream",
     "text": [
      "Processing image //vector.e3b.columbia.edu/e3b/Globus Database/UWIN Tagged Photos/batch_004/VID30086-00100.jpg\n"
     ]
    },
    {
     "name": "stderr",
     "output_type": "stream",
     "text": [
      " 36%|████████████████████████████▌                                                  | 454/1256 [08:02<14:25,  1.08s/it]"
     ]
    },
    {
     "name": "stdout",
     "output_type": "stream",
     "text": [
      "Processing image //vector.e3b.columbia.edu/e3b/Globus Database/UWIN Tagged Photos/batch_004/VID30086-00101.jpg\n"
     ]
    },
    {
     "name": "stderr",
     "output_type": "stream",
     "text": [
      " 36%|████████████████████████████▌                                                  | 455/1256 [08:03<14:09,  1.06s/it]"
     ]
    },
    {
     "name": "stdout",
     "output_type": "stream",
     "text": [
      "Processing image //vector.e3b.columbia.edu/e3b/Globus Database/UWIN Tagged Photos/batch_004/VID30086-00102.jpg\n"
     ]
    },
    {
     "name": "stderr",
     "output_type": "stream",
     "text": [
      " 36%|████████████████████████████▋                                                  | 456/1256 [08:04<14:14,  1.07s/it]"
     ]
    },
    {
     "name": "stdout",
     "output_type": "stream",
     "text": [
      "Processing image //vector.e3b.columbia.edu/e3b/Globus Database/UWIN Tagged Photos/batch_004/VID30086-00103.jpg\n"
     ]
    },
    {
     "name": "stderr",
     "output_type": "stream",
     "text": [
      " 36%|████████████████████████████▋                                                  | 457/1256 [08:05<14:25,  1.08s/it]"
     ]
    },
    {
     "name": "stdout",
     "output_type": "stream",
     "text": [
      "Processing image //vector.e3b.columbia.edu/e3b/Globus Database/UWIN Tagged Photos/batch_004/VID30086-00104.jpg\n"
     ]
    },
    {
     "name": "stderr",
     "output_type": "stream",
     "text": [
      " 36%|████████████████████████████▊                                                  | 458/1256 [08:06<14:26,  1.09s/it]"
     ]
    },
    {
     "name": "stdout",
     "output_type": "stream",
     "text": [
      "Processing image //vector.e3b.columbia.edu/e3b/Globus Database/UWIN Tagged Photos/batch_004/VID30086-00105.jpg\n"
     ]
    },
    {
     "name": "stderr",
     "output_type": "stream",
     "text": [
      " 37%|████████████████████████████▊                                                  | 459/1256 [08:07<14:31,  1.09s/it]"
     ]
    },
    {
     "name": "stdout",
     "output_type": "stream",
     "text": [
      "Processing image //vector.e3b.columbia.edu/e3b/Globus Database/UWIN Tagged Photos/batch_004/VID30086-00106.jpg\n"
     ]
    },
    {
     "name": "stderr",
     "output_type": "stream",
     "text": [
      " 37%|████████████████████████████▉                                                  | 460/1256 [08:08<14:37,  1.10s/it]"
     ]
    },
    {
     "name": "stdout",
     "output_type": "stream",
     "text": [
      "Processing image //vector.e3b.columbia.edu/e3b/Globus Database/UWIN Tagged Photos/batch_004/VID30086-00107.jpg\n"
     ]
    },
    {
     "name": "stderr",
     "output_type": "stream",
     "text": [
      " 37%|████████████████████████████▉                                                  | 461/1256 [08:09<14:38,  1.10s/it]"
     ]
    },
    {
     "name": "stdout",
     "output_type": "stream",
     "text": [
      "Processing image //vector.e3b.columbia.edu/e3b/Globus Database/UWIN Tagged Photos/batch_004/VID30086-00108.jpg\n"
     ]
    },
    {
     "name": "stderr",
     "output_type": "stream",
     "text": [
      " 37%|█████████████████████████████                                                  | 462/1256 [08:10<14:23,  1.09s/it]"
     ]
    },
    {
     "name": "stdout",
     "output_type": "stream",
     "text": [
      "Processing image //vector.e3b.columbia.edu/e3b/Globus Database/UWIN Tagged Photos/batch_004/VID30086-00109.jpg\n"
     ]
    },
    {
     "name": "stderr",
     "output_type": "stream",
     "text": [
      " 37%|█████████████████████████████                                                  | 463/1256 [08:11<14:05,  1.07s/it]"
     ]
    },
    {
     "name": "stdout",
     "output_type": "stream",
     "text": [
      "Processing image //vector.e3b.columbia.edu/e3b/Globus Database/UWIN Tagged Photos/batch_004/VID30086-00110.jpg\n"
     ]
    },
    {
     "name": "stderr",
     "output_type": "stream",
     "text": [
      " 37%|█████████████████████████████▏                                                 | 464/1256 [08:12<13:52,  1.05s/it]"
     ]
    },
    {
     "name": "stdout",
     "output_type": "stream",
     "text": [
      "Processing image //vector.e3b.columbia.edu/e3b/Globus Database/UWIN Tagged Photos/batch_004/VID30086-00111.jpg\n"
     ]
    },
    {
     "name": "stderr",
     "output_type": "stream",
     "text": [
      " 37%|█████████████████████████████▏                                                 | 465/1256 [08:13<13:50,  1.05s/it]"
     ]
    },
    {
     "name": "stdout",
     "output_type": "stream",
     "text": [
      "Processing image //vector.e3b.columbia.edu/e3b/Globus Database/UWIN Tagged Photos/batch_004/VID30086-00112.jpg\n"
     ]
    },
    {
     "name": "stderr",
     "output_type": "stream",
     "text": [
      " 37%|█████████████████████████████▎                                                 | 466/1256 [08:14<13:49,  1.05s/it]"
     ]
    },
    {
     "name": "stdout",
     "output_type": "stream",
     "text": [
      "Processing image //vector.e3b.columbia.edu/e3b/Globus Database/UWIN Tagged Photos/batch_004/VID30086-00113.jpg\n"
     ]
    },
    {
     "name": "stderr",
     "output_type": "stream",
     "text": [
      " 37%|█████████████████████████████▎                                                 | 467/1256 [08:16<13:43,  1.04s/it]"
     ]
    },
    {
     "name": "stdout",
     "output_type": "stream",
     "text": [
      "Processing image //vector.e3b.columbia.edu/e3b/Globus Database/UWIN Tagged Photos/batch_004/VID30086-00114.jpg\n"
     ]
    },
    {
     "name": "stderr",
     "output_type": "stream",
     "text": [
      " 37%|█████████████████████████████▍                                                 | 468/1256 [08:16<13:28,  1.03s/it]"
     ]
    },
    {
     "name": "stdout",
     "output_type": "stream",
     "text": [
      "Processing image //vector.e3b.columbia.edu/e3b/Globus Database/UWIN Tagged Photos/batch_004/VID30086-00115.jpg\n"
     ]
    },
    {
     "name": "stderr",
     "output_type": "stream",
     "text": [
      " 37%|█████████████████████████████▍                                                 | 469/1256 [08:18<13:25,  1.02s/it]"
     ]
    },
    {
     "name": "stdout",
     "output_type": "stream",
     "text": [
      "Processing image //vector.e3b.columbia.edu/e3b/Globus Database/UWIN Tagged Photos/batch_004/VID30086-00116.jpg\n"
     ]
    },
    {
     "name": "stderr",
     "output_type": "stream",
     "text": [
      " 37%|█████████████████████████████▌                                                 | 470/1256 [08:19<13:28,  1.03s/it]"
     ]
    },
    {
     "name": "stdout",
     "output_type": "stream",
     "text": [
      "Processing image //vector.e3b.columbia.edu/e3b/Globus Database/UWIN Tagged Photos/batch_004/VID30086-00117.jpg\n"
     ]
    },
    {
     "name": "stderr",
     "output_type": "stream",
     "text": [
      " 38%|█████████████████████████████▋                                                 | 471/1256 [08:20<13:32,  1.03s/it]"
     ]
    },
    {
     "name": "stdout",
     "output_type": "stream",
     "text": [
      "Processing image //vector.e3b.columbia.edu/e3b/Globus Database/UWIN Tagged Photos/batch_004/VID30086-00118.jpg\n"
     ]
    },
    {
     "name": "stderr",
     "output_type": "stream",
     "text": [
      " 38%|█████████████████████████████▋                                                 | 472/1256 [08:21<13:37,  1.04s/it]"
     ]
    },
    {
     "name": "stdout",
     "output_type": "stream",
     "text": [
      "Processing image //vector.e3b.columbia.edu/e3b/Globus Database/UWIN Tagged Photos/batch_004/VID30086-00119.jpg\n"
     ]
    },
    {
     "name": "stderr",
     "output_type": "stream",
     "text": [
      " 38%|█████████████████████████████▊                                                 | 473/1256 [08:22<13:30,  1.03s/it]"
     ]
    },
    {
     "name": "stdout",
     "output_type": "stream",
     "text": [
      "Processing image //vector.e3b.columbia.edu/e3b/Globus Database/UWIN Tagged Photos/batch_004/VID30086-00120.jpg\n"
     ]
    },
    {
     "name": "stderr",
     "output_type": "stream",
     "text": [
      " 38%|█████████████████████████████▊                                                 | 474/1256 [08:23<13:29,  1.04s/it]"
     ]
    },
    {
     "name": "stdout",
     "output_type": "stream",
     "text": [
      "Processing image //vector.e3b.columbia.edu/e3b/Globus Database/UWIN Tagged Photos/batch_004/VID30086-00121.jpg\n"
     ]
    },
    {
     "name": "stderr",
     "output_type": "stream",
     "text": [
      " 38%|█████████████████████████████▉                                                 | 475/1256 [08:24<13:29,  1.04s/it]"
     ]
    },
    {
     "name": "stdout",
     "output_type": "stream",
     "text": [
      "Processing image //vector.e3b.columbia.edu/e3b/Globus Database/UWIN Tagged Photos/batch_004/VID30086-00122.jpg\n"
     ]
    },
    {
     "name": "stderr",
     "output_type": "stream",
     "text": [
      " 38%|█████████████████████████████▉                                                 | 476/1256 [08:25<13:25,  1.03s/it]"
     ]
    },
    {
     "name": "stdout",
     "output_type": "stream",
     "text": [
      "Processing image //vector.e3b.columbia.edu/e3b/Globus Database/UWIN Tagged Photos/batch_004/VID30086-00123.jpg\n"
     ]
    },
    {
     "name": "stderr",
     "output_type": "stream",
     "text": [
      " 38%|██████████████████████████████                                                 | 477/1256 [08:26<13:26,  1.03s/it]"
     ]
    },
    {
     "name": "stdout",
     "output_type": "stream",
     "text": [
      "Processing image //vector.e3b.columbia.edu/e3b/Globus Database/UWIN Tagged Photos/batch_004/VID30086-00124.jpg\n"
     ]
    },
    {
     "name": "stderr",
     "output_type": "stream",
     "text": [
      " 38%|██████████████████████████████                                                 | 478/1256 [08:27<13:27,  1.04s/it]"
     ]
    },
    {
     "name": "stdout",
     "output_type": "stream",
     "text": [
      "Processing image //vector.e3b.columbia.edu/e3b/Globus Database/UWIN Tagged Photos/batch_004/VID30086-00125.jpg\n"
     ]
    },
    {
     "name": "stderr",
     "output_type": "stream",
     "text": [
      " 38%|██████████████████████████████▏                                                | 479/1256 [08:28<13:35,  1.05s/it]"
     ]
    },
    {
     "name": "stdout",
     "output_type": "stream",
     "text": [
      "Processing image //vector.e3b.columbia.edu/e3b/Globus Database/UWIN Tagged Photos/batch_004/VID30086-00126.jpg\n"
     ]
    },
    {
     "name": "stderr",
     "output_type": "stream",
     "text": [
      " 38%|██████████████████████████████▏                                                | 480/1256 [08:29<13:34,  1.05s/it]"
     ]
    },
    {
     "name": "stdout",
     "output_type": "stream",
     "text": [
      "Processing image //vector.e3b.columbia.edu/e3b/Globus Database/UWIN Tagged Photos/batch_004/VID30086-00127.jpg\n"
     ]
    },
    {
     "name": "stderr",
     "output_type": "stream",
     "text": [
      " 38%|██████████████████████████████▎                                                | 481/1256 [08:30<13:38,  1.06s/it]"
     ]
    },
    {
     "name": "stdout",
     "output_type": "stream",
     "text": [
      "Processing image //vector.e3b.columbia.edu/e3b/Globus Database/UWIN Tagged Photos/batch_004/VID30086-00128.jpg\n"
     ]
    },
    {
     "name": "stderr",
     "output_type": "stream",
     "text": [
      " 38%|██████████████████████████████▎                                                | 482/1256 [08:31<13:39,  1.06s/it]"
     ]
    },
    {
     "name": "stdout",
     "output_type": "stream",
     "text": [
      "Processing image //vector.e3b.columbia.edu/e3b/Globus Database/UWIN Tagged Photos/batch_004/VID30086-00129.jpg\n"
     ]
    },
    {
     "name": "stderr",
     "output_type": "stream",
     "text": [
      " 38%|██████████████████████████████▍                                                | 483/1256 [08:32<13:40,  1.06s/it]"
     ]
    },
    {
     "name": "stdout",
     "output_type": "stream",
     "text": [
      "Processing image //vector.e3b.columbia.edu/e3b/Globus Database/UWIN Tagged Photos/batch_004/VID30086-00130.jpg\n"
     ]
    },
    {
     "name": "stderr",
     "output_type": "stream",
     "text": [
      " 39%|██████████████████████████████▍                                                | 484/1256 [08:33<13:50,  1.08s/it]"
     ]
    },
    {
     "name": "stdout",
     "output_type": "stream",
     "text": [
      "Processing image //vector.e3b.columbia.edu/e3b/Globus Database/UWIN Tagged Photos/batch_004/VID30086-00131.jpg\n"
     ]
    },
    {
     "name": "stderr",
     "output_type": "stream",
     "text": [
      " 39%|██████████████████████████████▌                                                | 485/1256 [08:34<13:53,  1.08s/it]"
     ]
    },
    {
     "name": "stdout",
     "output_type": "stream",
     "text": [
      "Processing image //vector.e3b.columbia.edu/e3b/Globus Database/UWIN Tagged Photos/batch_004/VID30086-00132.jpg\n"
     ]
    },
    {
     "name": "stderr",
     "output_type": "stream",
     "text": [
      " 39%|██████████████████████████████▌                                                | 486/1256 [08:35<13:48,  1.08s/it]"
     ]
    },
    {
     "name": "stdout",
     "output_type": "stream",
     "text": [
      "Processing image //vector.e3b.columbia.edu/e3b/Globus Database/UWIN Tagged Photos/batch_004/VID30086-00133.jpg\n"
     ]
    },
    {
     "name": "stderr",
     "output_type": "stream",
     "text": [
      " 39%|██████████████████████████████▋                                                | 487/1256 [08:37<13:44,  1.07s/it]"
     ]
    },
    {
     "name": "stdout",
     "output_type": "stream",
     "text": [
      "Processing image //vector.e3b.columbia.edu/e3b/Globus Database/UWIN Tagged Photos/batch_004/VID30086-00134.jpg\n"
     ]
    },
    {
     "name": "stderr",
     "output_type": "stream",
     "text": [
      " 39%|██████████████████████████████▋                                                | 488/1256 [08:38<13:48,  1.08s/it]"
     ]
    },
    {
     "name": "stdout",
     "output_type": "stream",
     "text": [
      "Processing image //vector.e3b.columbia.edu/e3b/Globus Database/UWIN Tagged Photos/batch_004/VID30086-00135.jpg\n"
     ]
    },
    {
     "name": "stderr",
     "output_type": "stream",
     "text": [
      " 39%|██████████████████████████████▊                                                | 489/1256 [08:39<14:04,  1.10s/it]"
     ]
    },
    {
     "name": "stdout",
     "output_type": "stream",
     "text": [
      "Processing image //vector.e3b.columbia.edu/e3b/Globus Database/UWIN Tagged Photos/batch_004/VID30086-00136.jpg\n"
     ]
    },
    {
     "name": "stderr",
     "output_type": "stream",
     "text": [
      " 39%|██████████████████████████████▊                                                | 490/1256 [08:40<13:59,  1.10s/it]"
     ]
    },
    {
     "name": "stdout",
     "output_type": "stream",
     "text": [
      "Processing image //vector.e3b.columbia.edu/e3b/Globus Database/UWIN Tagged Photos/batch_004/VID30086-00137.jpg\n"
     ]
    },
    {
     "name": "stderr",
     "output_type": "stream",
     "text": [
      " 39%|██████████████████████████████▉                                                | 491/1256 [08:41<13:53,  1.09s/it]"
     ]
    },
    {
     "name": "stdout",
     "output_type": "stream",
     "text": [
      "Processing image //vector.e3b.columbia.edu/e3b/Globus Database/UWIN Tagged Photos/batch_004/VID30086-00138.jpg\n"
     ]
    },
    {
     "name": "stderr",
     "output_type": "stream",
     "text": [
      " 39%|██████████████████████████████▉                                                | 492/1256 [08:42<13:49,  1.09s/it]"
     ]
    },
    {
     "name": "stdout",
     "output_type": "stream",
     "text": [
      "Processing image //vector.e3b.columbia.edu/e3b/Globus Database/UWIN Tagged Photos/batch_004/VID30086-00139.jpg\n"
     ]
    },
    {
     "name": "stderr",
     "output_type": "stream",
     "text": [
      " 39%|███████████████████████████████                                                | 493/1256 [08:43<13:45,  1.08s/it]"
     ]
    },
    {
     "name": "stdout",
     "output_type": "stream",
     "text": [
      "Processing image //vector.e3b.columbia.edu/e3b/Globus Database/UWIN Tagged Photos/batch_004/VID30086-00140.jpg\n"
     ]
    },
    {
     "name": "stderr",
     "output_type": "stream",
     "text": [
      " 39%|███████████████████████████████                                                | 494/1256 [08:44<13:48,  1.09s/it]"
     ]
    },
    {
     "name": "stdout",
     "output_type": "stream",
     "text": [
      "Processing image //vector.e3b.columbia.edu/e3b/Globus Database/UWIN Tagged Photos/batch_004/VID30086-00141.jpg\n"
     ]
    },
    {
     "name": "stderr",
     "output_type": "stream",
     "text": [
      " 39%|███████████████████████████████▏                                               | 495/1256 [08:45<13:56,  1.10s/it]"
     ]
    },
    {
     "name": "stdout",
     "output_type": "stream",
     "text": [
      "Processing image //vector.e3b.columbia.edu/e3b/Globus Database/UWIN Tagged Photos/batch_004/VID30086-00142.jpg\n"
     ]
    },
    {
     "name": "stderr",
     "output_type": "stream",
     "text": [
      " 39%|███████████████████████████████▏                                               | 496/1256 [08:46<13:53,  1.10s/it]"
     ]
    },
    {
     "name": "stdout",
     "output_type": "stream",
     "text": [
      "Processing image //vector.e3b.columbia.edu/e3b/Globus Database/UWIN Tagged Photos/batch_004/VID30086-00143.jpg\n"
     ]
    },
    {
     "name": "stderr",
     "output_type": "stream",
     "text": [
      " 40%|███████████████████████████████▎                                               | 497/1256 [08:47<13:51,  1.10s/it]"
     ]
    },
    {
     "name": "stdout",
     "output_type": "stream",
     "text": [
      "Processing image //vector.e3b.columbia.edu/e3b/Globus Database/UWIN Tagged Photos/batch_004/VID30086-00144.jpg\n"
     ]
    },
    {
     "name": "stderr",
     "output_type": "stream",
     "text": [
      " 40%|███████████████████████████████▎                                               | 498/1256 [08:49<13:50,  1.10s/it]"
     ]
    },
    {
     "name": "stdout",
     "output_type": "stream",
     "text": [
      "Processing image //vector.e3b.columbia.edu/e3b/Globus Database/UWIN Tagged Photos/batch_004/VID30086-00145.jpg\n"
     ]
    },
    {
     "name": "stderr",
     "output_type": "stream",
     "text": [
      " 40%|███████████████████████████████▍                                               | 499/1256 [08:50<13:46,  1.09s/it]"
     ]
    },
    {
     "name": "stdout",
     "output_type": "stream",
     "text": [
      "Processing image //vector.e3b.columbia.edu/e3b/Globus Database/UWIN Tagged Photos/batch_004/VID30086-00146.jpg\n"
     ]
    },
    {
     "name": "stderr",
     "output_type": "stream",
     "text": [
      " 40%|███████████████████████████████▍                                               | 500/1256 [08:51<13:37,  1.08s/it]"
     ]
    },
    {
     "name": "stdout",
     "output_type": "stream",
     "text": [
      "Processing image //vector.e3b.columbia.edu/e3b/Globus Database/UWIN Tagged Photos/batch_004/VID30086-00147.jpg\n"
     ]
    },
    {
     "name": "stderr",
     "output_type": "stream",
     "text": [
      " 40%|███████████████████████████████▌                                               | 501/1256 [08:52<13:37,  1.08s/it]"
     ]
    },
    {
     "name": "stdout",
     "output_type": "stream",
     "text": [
      "Processing image //vector.e3b.columbia.edu/e3b/Globus Database/UWIN Tagged Photos/batch_004/VID30086-00148.jpg\n"
     ]
    },
    {
     "name": "stderr",
     "output_type": "stream",
     "text": [
      " 40%|███████████████████████████████▌                                               | 502/1256 [08:53<13:38,  1.09s/it]"
     ]
    },
    {
     "name": "stdout",
     "output_type": "stream",
     "text": [
      "Processing image //vector.e3b.columbia.edu/e3b/Globus Database/UWIN Tagged Photos/batch_004/VID30086-00149.jpg\n"
     ]
    },
    {
     "name": "stderr",
     "output_type": "stream",
     "text": [
      " 40%|███████████████████████████████▋                                               | 503/1256 [08:54<14:06,  1.12s/it]"
     ]
    },
    {
     "name": "stdout",
     "output_type": "stream",
     "text": [
      "Processing image //vector.e3b.columbia.edu/e3b/Globus Database/UWIN Tagged Photos/batch_004/VID30086-00150.jpg\n"
     ]
    },
    {
     "name": "stderr",
     "output_type": "stream",
     "text": [
      " 40%|███████████████████████████████▋                                               | 504/1256 [08:55<14:04,  1.12s/it]"
     ]
    },
    {
     "name": "stdout",
     "output_type": "stream",
     "text": [
      "Processing image //vector.e3b.columbia.edu/e3b/Globus Database/UWIN Tagged Photos/batch_004/VID30086-00151.jpg\n"
     ]
    },
    {
     "name": "stderr",
     "output_type": "stream",
     "text": [
      " 40%|███████████████████████████████▊                                               | 505/1256 [08:56<13:53,  1.11s/it]"
     ]
    },
    {
     "name": "stdout",
     "output_type": "stream",
     "text": [
      "Processing image //vector.e3b.columbia.edu/e3b/Globus Database/UWIN Tagged Photos/batch_004/VID30086-00152.jpg\n"
     ]
    },
    {
     "name": "stderr",
     "output_type": "stream",
     "text": [
      " 40%|███████████████████████████████▊                                               | 506/1256 [08:57<13:45,  1.10s/it]"
     ]
    },
    {
     "name": "stdout",
     "output_type": "stream",
     "text": [
      "Processing image //vector.e3b.columbia.edu/e3b/Globus Database/UWIN Tagged Photos/batch_004/VID30086-00153.jpg\n"
     ]
    },
    {
     "name": "stderr",
     "output_type": "stream",
     "text": [
      " 40%|███████████████████████████████▉                                               | 507/1256 [08:58<13:42,  1.10s/it]"
     ]
    },
    {
     "name": "stdout",
     "output_type": "stream",
     "text": [
      "Processing image //vector.e3b.columbia.edu/e3b/Globus Database/UWIN Tagged Photos/batch_004/VID30086-00154.jpg\n"
     ]
    },
    {
     "name": "stderr",
     "output_type": "stream",
     "text": [
      " 40%|███████████████████████████████▉                                               | 508/1256 [09:00<13:30,  1.08s/it]"
     ]
    },
    {
     "name": "stdout",
     "output_type": "stream",
     "text": [
      "Processing image //vector.e3b.columbia.edu/e3b/Globus Database/UWIN Tagged Photos/batch_004/VID30086-00155.jpg\n"
     ]
    },
    {
     "name": "stderr",
     "output_type": "stream",
     "text": [
      " 41%|████████████████████████████████                                               | 509/1256 [09:01<13:31,  1.09s/it]"
     ]
    },
    {
     "name": "stdout",
     "output_type": "stream",
     "text": [
      "Processing image //vector.e3b.columbia.edu/e3b/Globus Database/UWIN Tagged Photos/batch_004/VID30086-00156.jpg\n"
     ]
    },
    {
     "name": "stderr",
     "output_type": "stream",
     "text": [
      " 41%|████████████████████████████████                                               | 510/1256 [09:02<13:23,  1.08s/it]"
     ]
    },
    {
     "name": "stdout",
     "output_type": "stream",
     "text": [
      "Processing image //vector.e3b.columbia.edu/e3b/Globus Database/UWIN Tagged Photos/batch_004/VID30086-00157.jpg\n"
     ]
    },
    {
     "name": "stderr",
     "output_type": "stream",
     "text": [
      " 41%|████████████████████████████████▏                                              | 511/1256 [09:03<13:06,  1.06s/it]"
     ]
    },
    {
     "name": "stdout",
     "output_type": "stream",
     "text": [
      "Processing image //vector.e3b.columbia.edu/e3b/Globus Database/UWIN Tagged Photos/batch_004/VID30086-00158.jpg\n"
     ]
    },
    {
     "name": "stderr",
     "output_type": "stream",
     "text": [
      " 41%|████████████████████████████████▏                                              | 512/1256 [09:04<12:46,  1.03s/it]"
     ]
    },
    {
     "name": "stdout",
     "output_type": "stream",
     "text": [
      "Processing image //vector.e3b.columbia.edu/e3b/Globus Database/UWIN Tagged Photos/batch_004/VID30086-00159.jpg\n"
     ]
    },
    {
     "name": "stderr",
     "output_type": "stream",
     "text": [
      " 41%|████████████████████████████████▎                                              | 513/1256 [09:05<12:45,  1.03s/it]"
     ]
    },
    {
     "name": "stdout",
     "output_type": "stream",
     "text": [
      "Processing image //vector.e3b.columbia.edu/e3b/Globus Database/UWIN Tagged Photos/batch_004/VID30086-00160.jpg\n"
     ]
    },
    {
     "name": "stderr",
     "output_type": "stream",
     "text": [
      " 41%|████████████████████████████████▎                                              | 514/1256 [09:06<12:43,  1.03s/it]"
     ]
    },
    {
     "name": "stdout",
     "output_type": "stream",
     "text": [
      "Processing image //vector.e3b.columbia.edu/e3b/Globus Database/UWIN Tagged Photos/batch_004/VID30086-00161.jpg\n"
     ]
    },
    {
     "name": "stderr",
     "output_type": "stream",
     "text": [
      " 41%|████████████████████████████████▍                                              | 515/1256 [09:07<12:33,  1.02s/it]"
     ]
    },
    {
     "name": "stdout",
     "output_type": "stream",
     "text": [
      "Processing image //vector.e3b.columbia.edu/e3b/Globus Database/UWIN Tagged Photos/batch_004/VID30086-00162.jpg\n"
     ]
    },
    {
     "name": "stderr",
     "output_type": "stream",
     "text": [
      " 41%|████████████████████████████████▍                                              | 516/1256 [09:08<12:30,  1.01s/it]"
     ]
    },
    {
     "name": "stdout",
     "output_type": "stream",
     "text": [
      "Processing image //vector.e3b.columbia.edu/e3b/Globus Database/UWIN Tagged Photos/batch_004/VID30086-00163.jpg\n"
     ]
    },
    {
     "name": "stderr",
     "output_type": "stream",
     "text": [
      " 41%|████████████████████████████████▌                                              | 517/1256 [09:09<12:21,  1.00s/it]"
     ]
    },
    {
     "name": "stdout",
     "output_type": "stream",
     "text": [
      "Processing image //vector.e3b.columbia.edu/e3b/Globus Database/UWIN Tagged Photos/batch_004/VID30086-00164.jpg\n"
     ]
    },
    {
     "name": "stderr",
     "output_type": "stream",
     "text": [
      " 41%|████████████████████████████████▌                                              | 518/1256 [09:10<12:24,  1.01s/it]"
     ]
    },
    {
     "name": "stdout",
     "output_type": "stream",
     "text": [
      "Processing image //vector.e3b.columbia.edu/e3b/Globus Database/UWIN Tagged Photos/batch_004/VID30086-00165.jpg\n"
     ]
    },
    {
     "name": "stderr",
     "output_type": "stream",
     "text": [
      " 41%|████████████████████████████████▋                                              | 519/1256 [09:11<12:23,  1.01s/it]"
     ]
    },
    {
     "name": "stdout",
     "output_type": "stream",
     "text": [
      "Processing image //vector.e3b.columbia.edu/e3b/Globus Database/UWIN Tagged Photos/batch_004/VID30086-00166.jpg\n"
     ]
    },
    {
     "name": "stderr",
     "output_type": "stream",
     "text": [
      " 41%|████████████████████████████████▋                                              | 520/1256 [09:12<12:22,  1.01s/it]"
     ]
    },
    {
     "name": "stdout",
     "output_type": "stream",
     "text": [
      "Processing image //vector.e3b.columbia.edu/e3b/Globus Database/UWIN Tagged Photos/batch_004/VID30086-00167.jpg\n"
     ]
    },
    {
     "name": "stderr",
     "output_type": "stream",
     "text": [
      " 41%|████████████████████████████████▊                                              | 521/1256 [09:13<12:27,  1.02s/it]"
     ]
    },
    {
     "name": "stdout",
     "output_type": "stream",
     "text": [
      "Processing image //vector.e3b.columbia.edu/e3b/Globus Database/UWIN Tagged Photos/batch_004/VID30086-00168.jpg\n"
     ]
    },
    {
     "name": "stderr",
     "output_type": "stream",
     "text": [
      " 42%|████████████████████████████████▊                                              | 522/1256 [09:14<12:15,  1.00s/it]"
     ]
    },
    {
     "name": "stdout",
     "output_type": "stream",
     "text": [
      "Processing image //vector.e3b.columbia.edu/e3b/Globus Database/UWIN Tagged Photos/batch_004/VID30086-00169.jpg\n"
     ]
    },
    {
     "name": "stderr",
     "output_type": "stream",
     "text": [
      " 42%|████████████████████████████████▉                                              | 523/1256 [09:15<12:21,  1.01s/it]"
     ]
    },
    {
     "name": "stdout",
     "output_type": "stream",
     "text": [
      "Processing image //vector.e3b.columbia.edu/e3b/Globus Database/UWIN Tagged Photos/batch_004/VID30086-00170.jpg\n"
     ]
    },
    {
     "name": "stderr",
     "output_type": "stream",
     "text": [
      " 42%|████████████████████████████████▉                                              | 524/1256 [09:16<12:18,  1.01s/it]"
     ]
    },
    {
     "name": "stdout",
     "output_type": "stream",
     "text": [
      "Processing image //vector.e3b.columbia.edu/e3b/Globus Database/UWIN Tagged Photos/batch_004/VID30086-00171.jpg\n"
     ]
    },
    {
     "name": "stderr",
     "output_type": "stream",
     "text": [
      " 42%|█████████████████████████████████                                              | 525/1256 [09:17<12:15,  1.01s/it]"
     ]
    },
    {
     "name": "stdout",
     "output_type": "stream",
     "text": [
      "Processing image //vector.e3b.columbia.edu/e3b/Globus Database/UWIN Tagged Photos/batch_004/VID30086-00172.jpg\n"
     ]
    },
    {
     "name": "stderr",
     "output_type": "stream",
     "text": [
      " 42%|█████████████████████████████████                                              | 526/1256 [09:18<12:10,  1.00s/it]"
     ]
    },
    {
     "name": "stdout",
     "output_type": "stream",
     "text": [
      "Processing image //vector.e3b.columbia.edu/e3b/Globus Database/UWIN Tagged Photos/batch_004/VID30086-00173.jpg\n"
     ]
    },
    {
     "name": "stderr",
     "output_type": "stream",
     "text": [
      " 42%|█████████████████████████████████▏                                             | 527/1256 [09:19<12:18,  1.01s/it]"
     ]
    },
    {
     "name": "stdout",
     "output_type": "stream",
     "text": [
      "Processing image //vector.e3b.columbia.edu/e3b/Globus Database/UWIN Tagged Photos/batch_004/VID30086-00174.jpg\n"
     ]
    },
    {
     "name": "stderr",
     "output_type": "stream",
     "text": [
      " 42%|█████████████████████████████████▏                                             | 528/1256 [09:20<12:20,  1.02s/it]"
     ]
    },
    {
     "name": "stdout",
     "output_type": "stream",
     "text": [
      "Processing image //vector.e3b.columbia.edu/e3b/Globus Database/UWIN Tagged Photos/batch_004/VID30086-00175.jpg\n"
     ]
    },
    {
     "name": "stderr",
     "output_type": "stream",
     "text": [
      " 42%|█████████████████████████████████▎                                             | 529/1256 [09:21<12:05,  1.00it/s]"
     ]
    },
    {
     "name": "stdout",
     "output_type": "stream",
     "text": [
      "Processing image //vector.e3b.columbia.edu/e3b/Globus Database/UWIN Tagged Photos/batch_004/VID30086-00176.jpg\n"
     ]
    },
    {
     "name": "stderr",
     "output_type": "stream",
     "text": [
      " 42%|█████████████████████████████████▎                                             | 530/1256 [09:22<12:03,  1.00it/s]"
     ]
    },
    {
     "name": "stdout",
     "output_type": "stream",
     "text": [
      "Processing image //vector.e3b.columbia.edu/e3b/Globus Database/UWIN Tagged Photos/batch_004/VID30086-00177.jpg\n"
     ]
    },
    {
     "name": "stderr",
     "output_type": "stream",
     "text": [
      " 42%|█████████████████████████████████▍                                             | 531/1256 [09:23<12:08,  1.00s/it]"
     ]
    },
    {
     "name": "stdout",
     "output_type": "stream",
     "text": [
      "Processing image //vector.e3b.columbia.edu/e3b/Globus Database/UWIN Tagged Photos/batch_004/VID30086-00178.jpg\n"
     ]
    },
    {
     "name": "stderr",
     "output_type": "stream",
     "text": [
      " 42%|█████████████████████████████████▍                                             | 532/1256 [09:24<12:01,  1.00it/s]"
     ]
    },
    {
     "name": "stdout",
     "output_type": "stream",
     "text": [
      "Processing image //vector.e3b.columbia.edu/e3b/Globus Database/UWIN Tagged Photos/batch_004/VID30086-00179.jpg\n"
     ]
    },
    {
     "name": "stderr",
     "output_type": "stream",
     "text": [
      " 42%|█████████████████████████████████▌                                             | 533/1256 [09:25<11:59,  1.01it/s]"
     ]
    },
    {
     "name": "stdout",
     "output_type": "stream",
     "text": [
      "Processing image //vector.e3b.columbia.edu/e3b/Globus Database/UWIN Tagged Photos/batch_004/VID30086-00180.jpg\n"
     ]
    },
    {
     "name": "stderr",
     "output_type": "stream",
     "text": [
      " 43%|█████████████████████████████████▌                                             | 534/1256 [09:26<11:54,  1.01it/s]"
     ]
    },
    {
     "name": "stdout",
     "output_type": "stream",
     "text": [
      "Processing image //vector.e3b.columbia.edu/e3b/Globus Database/UWIN Tagged Photos/batch_004/VID30086-00181.jpg\n"
     ]
    },
    {
     "name": "stderr",
     "output_type": "stream",
     "text": [
      " 43%|█████████████████████████████████▋                                             | 535/1256 [09:27<12:07,  1.01s/it]"
     ]
    },
    {
     "name": "stdout",
     "output_type": "stream",
     "text": [
      "Processing image //vector.e3b.columbia.edu/e3b/Globus Database/UWIN Tagged Photos/batch_004/VID30086-00182.jpg\n"
     ]
    },
    {
     "name": "stderr",
     "output_type": "stream",
     "text": [
      " 43%|█████████████████████████████████▋                                             | 536/1256 [09:28<12:00,  1.00s/it]"
     ]
    },
    {
     "name": "stdout",
     "output_type": "stream",
     "text": [
      "Processing image //vector.e3b.columbia.edu/e3b/Globus Database/UWIN Tagged Photos/batch_004/VID30086-00183.jpg\n"
     ]
    },
    {
     "name": "stderr",
     "output_type": "stream",
     "text": [
      " 43%|█████████████████████████████████▊                                             | 537/1256 [09:29<11:59,  1.00s/it]"
     ]
    },
    {
     "name": "stdout",
     "output_type": "stream",
     "text": [
      "Processing image //vector.e3b.columbia.edu/e3b/Globus Database/UWIN Tagged Photos/batch_004/VID30086-00184.jpg\n"
     ]
    },
    {
     "name": "stderr",
     "output_type": "stream",
     "text": [
      " 43%|█████████████████████████████████▊                                             | 538/1256 [09:30<11:55,  1.00it/s]"
     ]
    },
    {
     "name": "stdout",
     "output_type": "stream",
     "text": [
      "Processing image //vector.e3b.columbia.edu/e3b/Globus Database/UWIN Tagged Photos/batch_004/VID30086-00185.jpg\n"
     ]
    },
    {
     "name": "stderr",
     "output_type": "stream",
     "text": [
      " 43%|█████████████████████████████████▉                                             | 539/1256 [09:31<11:48,  1.01it/s]"
     ]
    },
    {
     "name": "stdout",
     "output_type": "stream",
     "text": [
      "Processing image //vector.e3b.columbia.edu/e3b/Globus Database/UWIN Tagged Photos/batch_004/VID30086-00186.jpg\n"
     ]
    },
    {
     "name": "stderr",
     "output_type": "stream",
     "text": [
      " 43%|█████████████████████████████████▉                                             | 540/1256 [09:32<11:56,  1.00s/it]"
     ]
    },
    {
     "name": "stdout",
     "output_type": "stream",
     "text": [
      "Processing image //vector.e3b.columbia.edu/e3b/Globus Database/UWIN Tagged Photos/batch_004/VID30086-00187.jpg\n"
     ]
    },
    {
     "name": "stderr",
     "output_type": "stream",
     "text": [
      " 43%|██████████████████████████████████                                             | 541/1256 [09:33<11:54,  1.00it/s]"
     ]
    },
    {
     "name": "stdout",
     "output_type": "stream",
     "text": [
      "Processing image //vector.e3b.columbia.edu/e3b/Globus Database/UWIN Tagged Photos/batch_004/VID30086-00188.jpg\n"
     ]
    },
    {
     "name": "stderr",
     "output_type": "stream",
     "text": [
      " 43%|██████████████████████████████████                                             | 542/1256 [09:34<11:56,  1.00s/it]"
     ]
    },
    {
     "name": "stdout",
     "output_type": "stream",
     "text": [
      "Processing image //vector.e3b.columbia.edu/e3b/Globus Database/UWIN Tagged Photos/batch_004/VID30086-00189.jpg\n"
     ]
    },
    {
     "name": "stderr",
     "output_type": "stream",
     "text": [
      " 43%|██████████████████████████████████▏                                            | 543/1256 [09:35<11:56,  1.01s/it]"
     ]
    },
    {
     "name": "stdout",
     "output_type": "stream",
     "text": [
      "Processing image //vector.e3b.columbia.edu/e3b/Globus Database/UWIN Tagged Photos/batch_004/VID30086-00190.jpg\n"
     ]
    },
    {
     "name": "stderr",
     "output_type": "stream",
     "text": [
      " 43%|██████████████████████████████████▏                                            | 544/1256 [09:36<11:57,  1.01s/it]"
     ]
    },
    {
     "name": "stdout",
     "output_type": "stream",
     "text": [
      "Processing image //vector.e3b.columbia.edu/e3b/Globus Database/UWIN Tagged Photos/batch_004/VID30086-00191.jpg\n"
     ]
    },
    {
     "name": "stderr",
     "output_type": "stream",
     "text": [
      " 43%|██████████████████████████████████▎                                            | 545/1256 [09:37<12:01,  1.02s/it]"
     ]
    },
    {
     "name": "stdout",
     "output_type": "stream",
     "text": [
      "Processing image //vector.e3b.columbia.edu/e3b/Globus Database/UWIN Tagged Photos/batch_004/VID30086-00192.jpg\n"
     ]
    },
    {
     "name": "stderr",
     "output_type": "stream",
     "text": [
      " 43%|██████████████████████████████████▎                                            | 546/1256 [09:38<11:59,  1.01s/it]"
     ]
    },
    {
     "name": "stdout",
     "output_type": "stream",
     "text": [
      "Processing image //vector.e3b.columbia.edu/e3b/Globus Database/UWIN Tagged Photos/batch_004/VID30086-00193.jpg\n"
     ]
    },
    {
     "name": "stderr",
     "output_type": "stream",
     "text": [
      " 44%|██████████████████████████████████▍                                            | 547/1256 [09:39<11:56,  1.01s/it]"
     ]
    },
    {
     "name": "stdout",
     "output_type": "stream",
     "text": [
      "Processing image //vector.e3b.columbia.edu/e3b/Globus Database/UWIN Tagged Photos/batch_004/VID30086-00194.jpg\n"
     ]
    },
    {
     "name": "stderr",
     "output_type": "stream",
     "text": [
      " 44%|██████████████████████████████████▍                                            | 548/1256 [09:40<12:00,  1.02s/it]"
     ]
    },
    {
     "name": "stdout",
     "output_type": "stream",
     "text": [
      "Processing image //vector.e3b.columbia.edu/e3b/Globus Database/UWIN Tagged Photos/batch_004/VID30086-00195.jpg\n"
     ]
    },
    {
     "name": "stderr",
     "output_type": "stream",
     "text": [
      " 44%|██████████████████████████████████▌                                            | 549/1256 [09:41<12:08,  1.03s/it]"
     ]
    },
    {
     "name": "stdout",
     "output_type": "stream",
     "text": [
      "Processing image //vector.e3b.columbia.edu/e3b/Globus Database/UWIN Tagged Photos/batch_004/VID30086-00196.jpg\n"
     ]
    },
    {
     "name": "stderr",
     "output_type": "stream",
     "text": [
      " 44%|██████████████████████████████████▌                                            | 550/1256 [09:42<12:00,  1.02s/it]"
     ]
    },
    {
     "name": "stdout",
     "output_type": "stream",
     "text": [
      "Processing image //vector.e3b.columbia.edu/e3b/Globus Database/UWIN Tagged Photos/batch_004/VID30086-00197.jpg\n"
     ]
    },
    {
     "name": "stderr",
     "output_type": "stream",
     "text": [
      " 44%|██████████████████████████████████▋                                            | 551/1256 [09:43<11:58,  1.02s/it]"
     ]
    },
    {
     "name": "stdout",
     "output_type": "stream",
     "text": [
      "Processing image //vector.e3b.columbia.edu/e3b/Globus Database/UWIN Tagged Photos/batch_004/VID30086-00198.jpg\n"
     ]
    },
    {
     "name": "stderr",
     "output_type": "stream",
     "text": [
      " 44%|██████████████████████████████████▋                                            | 552/1256 [09:44<11:52,  1.01s/it]"
     ]
    },
    {
     "name": "stdout",
     "output_type": "stream",
     "text": [
      "Processing image //vector.e3b.columbia.edu/e3b/Globus Database/UWIN Tagged Photos/batch_004/VID30086-00199.jpg\n"
     ]
    },
    {
     "name": "stderr",
     "output_type": "stream",
     "text": [
      " 44%|██████████████████████████████████▊                                            | 553/1256 [09:45<11:50,  1.01s/it]"
     ]
    },
    {
     "name": "stdout",
     "output_type": "stream",
     "text": [
      "Processing image //vector.e3b.columbia.edu/e3b/Globus Database/UWIN Tagged Photos/batch_004/VID30086-00200.jpg\n"
     ]
    },
    {
     "name": "stderr",
     "output_type": "stream",
     "text": [
      " 44%|██████████████████████████████████▊                                            | 554/1256 [09:46<11:40,  1.00it/s]"
     ]
    },
    {
     "name": "stdout",
     "output_type": "stream",
     "text": [
      "Processing image //vector.e3b.columbia.edu/e3b/Globus Database/UWIN Tagged Photos/batch_004/VID30086-00201.jpg\n"
     ]
    },
    {
     "name": "stderr",
     "output_type": "stream",
     "text": [
      " 44%|██████████████████████████████████▉                                            | 555/1256 [09:47<11:51,  1.01s/it]"
     ]
    },
    {
     "name": "stdout",
     "output_type": "stream",
     "text": [
      "Processing image //vector.e3b.columbia.edu/e3b/Globus Database/UWIN Tagged Photos/batch_004/VID30086-00202.jpg\n"
     ]
    },
    {
     "name": "stderr",
     "output_type": "stream",
     "text": [
      " 44%|██████████████████████████████████▉                                            | 556/1256 [09:48<11:44,  1.01s/it]"
     ]
    },
    {
     "name": "stdout",
     "output_type": "stream",
     "text": [
      "Processing image //vector.e3b.columbia.edu/e3b/Globus Database/UWIN Tagged Photos/batch_004/VID30086-00203.jpg\n"
     ]
    },
    {
     "name": "stderr",
     "output_type": "stream",
     "text": [
      " 44%|███████████████████████████████████                                            | 557/1256 [09:49<11:36,  1.00it/s]"
     ]
    },
    {
     "name": "stdout",
     "output_type": "stream",
     "text": [
      "Processing image //vector.e3b.columbia.edu/e3b/Globus Database/UWIN Tagged Photos/batch_004/VID30086-00204.jpg\n"
     ]
    },
    {
     "name": "stderr",
     "output_type": "stream",
     "text": [
      " 44%|███████████████████████████████████                                            | 558/1256 [09:50<11:41,  1.01s/it]"
     ]
    },
    {
     "name": "stdout",
     "output_type": "stream",
     "text": [
      "Processing image //vector.e3b.columbia.edu/e3b/Globus Database/UWIN Tagged Photos/batch_004/VID30086-00205.jpg\n"
     ]
    },
    {
     "name": "stderr",
     "output_type": "stream",
     "text": [
      " 45%|███████████████████████████████████▏                                           | 559/1256 [09:51<11:34,  1.00it/s]"
     ]
    },
    {
     "name": "stdout",
     "output_type": "stream",
     "text": [
      "Processing image //vector.e3b.columbia.edu/e3b/Globus Database/UWIN Tagged Photos/batch_004/VID30086-00206.jpg\n"
     ]
    },
    {
     "name": "stderr",
     "output_type": "stream",
     "text": [
      " 45%|███████████████████████████████████▏                                           | 560/1256 [09:52<11:28,  1.01it/s]"
     ]
    },
    {
     "name": "stdout",
     "output_type": "stream",
     "text": [
      "Processing image //vector.e3b.columbia.edu/e3b/Globus Database/UWIN Tagged Photos/batch_004/VID30086-00207.jpg\n"
     ]
    },
    {
     "name": "stderr",
     "output_type": "stream",
     "text": [
      " 45%|███████████████████████████████████▎                                           | 561/1256 [09:53<11:21,  1.02it/s]"
     ]
    },
    {
     "name": "stdout",
     "output_type": "stream",
     "text": [
      "Processing image //vector.e3b.columbia.edu/e3b/Globus Database/UWIN Tagged Photos/batch_004/VID30086-00208.jpg\n"
     ]
    },
    {
     "name": "stderr",
     "output_type": "stream",
     "text": [
      " 45%|███████████████████████████████████▎                                           | 562/1256 [09:54<11:28,  1.01it/s]"
     ]
    },
    {
     "name": "stdout",
     "output_type": "stream",
     "text": [
      "Processing image //vector.e3b.columbia.edu/e3b/Globus Database/UWIN Tagged Photos/batch_004/VID30086-00209.jpg\n"
     ]
    },
    {
     "name": "stderr",
     "output_type": "stream",
     "text": [
      " 45%|███████████████████████████████████▍                                           | 563/1256 [09:55<11:26,  1.01it/s]"
     ]
    },
    {
     "name": "stdout",
     "output_type": "stream",
     "text": [
      "Processing image //vector.e3b.columbia.edu/e3b/Globus Database/UWIN Tagged Photos/batch_004/VID30086-00210.jpg\n"
     ]
    },
    {
     "name": "stderr",
     "output_type": "stream",
     "text": [
      " 45%|███████████████████████████████████▍                                           | 564/1256 [09:56<11:36,  1.01s/it]"
     ]
    },
    {
     "name": "stdout",
     "output_type": "stream",
     "text": [
      "Processing image //vector.e3b.columbia.edu/e3b/Globus Database/UWIN Tagged Photos/batch_004/VID30086-00211.jpg\n"
     ]
    },
    {
     "name": "stderr",
     "output_type": "stream",
     "text": [
      " 45%|███████████████████████████████████▌                                           | 565/1256 [09:57<11:40,  1.01s/it]"
     ]
    },
    {
     "name": "stdout",
     "output_type": "stream",
     "text": [
      "Processing image //vector.e3b.columbia.edu/e3b/Globus Database/UWIN Tagged Photos/batch_004/VID30086-00212.jpg\n"
     ]
    },
    {
     "name": "stderr",
     "output_type": "stream",
     "text": [
      " 45%|███████████████████████████████████▌                                           | 566/1256 [09:58<11:46,  1.02s/it]"
     ]
    },
    {
     "name": "stdout",
     "output_type": "stream",
     "text": [
      "Processing image //vector.e3b.columbia.edu/e3b/Globus Database/UWIN Tagged Photos/batch_004/VID30086-00213.jpg\n"
     ]
    },
    {
     "name": "stderr",
     "output_type": "stream",
     "text": [
      " 45%|███████████████████████████████████▋                                           | 567/1256 [09:59<11:47,  1.03s/it]"
     ]
    },
    {
     "name": "stdout",
     "output_type": "stream",
     "text": [
      "Processing image //vector.e3b.columbia.edu/e3b/Globus Database/UWIN Tagged Photos/batch_004/VID30086-00214.jpg\n"
     ]
    },
    {
     "name": "stderr",
     "output_type": "stream",
     "text": [
      " 45%|███████████████████████████████████▋                                           | 568/1256 [10:00<11:56,  1.04s/it]"
     ]
    },
    {
     "name": "stdout",
     "output_type": "stream",
     "text": [
      "Processing image //vector.e3b.columbia.edu/e3b/Globus Database/UWIN Tagged Photos/batch_004/VID30086-00215.jpg\n"
     ]
    },
    {
     "name": "stderr",
     "output_type": "stream",
     "text": [
      " 45%|███████████████████████████████████▊                                           | 569/1256 [10:01<12:00,  1.05s/it]"
     ]
    },
    {
     "name": "stdout",
     "output_type": "stream",
     "text": [
      "Processing image //vector.e3b.columbia.edu/e3b/Globus Database/UWIN Tagged Photos/batch_004/VID30086-00216.jpg\n"
     ]
    },
    {
     "name": "stderr",
     "output_type": "stream",
     "text": [
      " 45%|███████████████████████████████████▊                                           | 570/1256 [10:02<11:52,  1.04s/it]"
     ]
    },
    {
     "name": "stdout",
     "output_type": "stream",
     "text": [
      "Processing image //vector.e3b.columbia.edu/e3b/Globus Database/UWIN Tagged Photos/batch_004/VID30086-00217.jpg\n"
     ]
    },
    {
     "name": "stderr",
     "output_type": "stream",
     "text": [
      " 45%|███████████████████████████████████▉                                           | 571/1256 [10:03<11:52,  1.04s/it]"
     ]
    },
    {
     "name": "stdout",
     "output_type": "stream",
     "text": [
      "Processing image //vector.e3b.columbia.edu/e3b/Globus Database/UWIN Tagged Photos/batch_004/VID30086-00218.jpg\n"
     ]
    },
    {
     "name": "stderr",
     "output_type": "stream",
     "text": [
      " 46%|███████████████████████████████████▉                                           | 572/1256 [10:04<11:59,  1.05s/it]"
     ]
    },
    {
     "name": "stdout",
     "output_type": "stream",
     "text": [
      "Processing image //vector.e3b.columbia.edu/e3b/Globus Database/UWIN Tagged Photos/batch_004/VID30086-00219.jpg\n"
     ]
    },
    {
     "name": "stderr",
     "output_type": "stream",
     "text": [
      " 46%|████████████████████████████████████                                           | 573/1256 [10:05<12:04,  1.06s/it]"
     ]
    },
    {
     "name": "stdout",
     "output_type": "stream",
     "text": [
      "Processing image //vector.e3b.columbia.edu/e3b/Globus Database/UWIN Tagged Photos/batch_004/VID30086-00220.jpg\n"
     ]
    },
    {
     "name": "stderr",
     "output_type": "stream",
     "text": [
      " 46%|████████████████████████████████████                                           | 574/1256 [10:06<12:04,  1.06s/it]"
     ]
    },
    {
     "name": "stdout",
     "output_type": "stream",
     "text": [
      "Processing image //vector.e3b.columbia.edu/e3b/Globus Database/UWIN Tagged Photos/batch_004/VID30086-00221.jpg\n"
     ]
    },
    {
     "name": "stderr",
     "output_type": "stream",
     "text": [
      " 46%|████████████████████████████████████▏                                          | 575/1256 [10:08<12:11,  1.07s/it]"
     ]
    },
    {
     "name": "stdout",
     "output_type": "stream",
     "text": [
      "Processing image //vector.e3b.columbia.edu/e3b/Globus Database/UWIN Tagged Photos/batch_004/VID30086-00222.jpg\n"
     ]
    },
    {
     "name": "stderr",
     "output_type": "stream",
     "text": [
      " 46%|████████████████████████████████████▏                                          | 576/1256 [10:09<12:09,  1.07s/it]"
     ]
    },
    {
     "name": "stdout",
     "output_type": "stream",
     "text": [
      "Processing image //vector.e3b.columbia.edu/e3b/Globus Database/UWIN Tagged Photos/batch_004/VID30086-00223.jpg\n"
     ]
    },
    {
     "name": "stderr",
     "output_type": "stream",
     "text": [
      " 46%|████████████████████████████████████▎                                          | 577/1256 [10:10<12:03,  1.07s/it]"
     ]
    },
    {
     "name": "stdout",
     "output_type": "stream",
     "text": [
      "Processing image //vector.e3b.columbia.edu/e3b/Globus Database/UWIN Tagged Photos/batch_004/VID30086-00224.jpg\n"
     ]
    },
    {
     "name": "stderr",
     "output_type": "stream",
     "text": [
      " 46%|████████████████████████████████████▎                                          | 578/1256 [10:11<12:00,  1.06s/it]"
     ]
    },
    {
     "name": "stdout",
     "output_type": "stream",
     "text": [
      "Processing image //vector.e3b.columbia.edu/e3b/Globus Database/UWIN Tagged Photos/batch_004/VID30086-00225.jpg\n"
     ]
    },
    {
     "name": "stderr",
     "output_type": "stream",
     "text": [
      " 46%|████████████████████████████████████▍                                          | 579/1256 [10:12<12:12,  1.08s/it]"
     ]
    },
    {
     "name": "stdout",
     "output_type": "stream",
     "text": [
      "Processing image //vector.e3b.columbia.edu/e3b/Globus Database/UWIN Tagged Photos/batch_004/VID30086-00226.jpg\n"
     ]
    },
    {
     "name": "stderr",
     "output_type": "stream",
     "text": [
      " 46%|████████████████████████████████████▍                                          | 580/1256 [10:13<12:16,  1.09s/it]"
     ]
    },
    {
     "name": "stdout",
     "output_type": "stream",
     "text": [
      "Processing image //vector.e3b.columbia.edu/e3b/Globus Database/UWIN Tagged Photos/batch_004/VID30086-00227.jpg\n"
     ]
    },
    {
     "name": "stderr",
     "output_type": "stream",
     "text": [
      " 46%|████████████████████████████████████▌                                          | 581/1256 [10:14<12:09,  1.08s/it]"
     ]
    },
    {
     "name": "stdout",
     "output_type": "stream",
     "text": [
      "Processing image //vector.e3b.columbia.edu/e3b/Globus Database/UWIN Tagged Photos/batch_004/VID30086-00228.jpg\n"
     ]
    },
    {
     "name": "stderr",
     "output_type": "stream",
     "text": [
      " 46%|████████████████████████████████████▌                                          | 582/1256 [10:15<11:58,  1.07s/it]"
     ]
    },
    {
     "name": "stdout",
     "output_type": "stream",
     "text": [
      "Processing image //vector.e3b.columbia.edu/e3b/Globus Database/UWIN Tagged Photos/batch_004/VID30086-00229.jpg\n"
     ]
    },
    {
     "name": "stderr",
     "output_type": "stream",
     "text": [
      " 46%|████████████████████████████████████▋                                          | 583/1256 [10:16<11:55,  1.06s/it]"
     ]
    },
    {
     "name": "stdout",
     "output_type": "stream",
     "text": [
      "Processing image //vector.e3b.columbia.edu/e3b/Globus Database/UWIN Tagged Photos/batch_004/VID30086-00230.jpg\n"
     ]
    },
    {
     "name": "stderr",
     "output_type": "stream",
     "text": [
      " 46%|████████████████████████████████████▋                                          | 584/1256 [10:17<11:46,  1.05s/it]"
     ]
    },
    {
     "name": "stdout",
     "output_type": "stream",
     "text": [
      "Processing image //vector.e3b.columbia.edu/e3b/Globus Database/UWIN Tagged Photos/batch_004/VID30086-00231.jpg\n"
     ]
    },
    {
     "name": "stderr",
     "output_type": "stream",
     "text": [
      " 47%|████████████████████████████████████▊                                          | 585/1256 [10:18<11:44,  1.05s/it]"
     ]
    },
    {
     "name": "stdout",
     "output_type": "stream",
     "text": [
      "Processing image //vector.e3b.columbia.edu/e3b/Globus Database/UWIN Tagged Photos/batch_004/VID30086-00232.jpg\n"
     ]
    },
    {
     "name": "stderr",
     "output_type": "stream",
     "text": [
      " 47%|████████████████████████████████████▊                                          | 586/1256 [10:19<11:33,  1.04s/it]"
     ]
    },
    {
     "name": "stdout",
     "output_type": "stream",
     "text": [
      "Processing image //vector.e3b.columbia.edu/e3b/Globus Database/UWIN Tagged Photos/batch_004/VID30086-00233.jpg\n"
     ]
    },
    {
     "name": "stderr",
     "output_type": "stream",
     "text": [
      " 47%|████████████████████████████████████▉                                          | 587/1256 [10:20<11:31,  1.03s/it]"
     ]
    },
    {
     "name": "stdout",
     "output_type": "stream",
     "text": [
      "Processing image //vector.e3b.columbia.edu/e3b/Globus Database/UWIN Tagged Photos/batch_004/VID30086-00234.jpg\n"
     ]
    },
    {
     "name": "stderr",
     "output_type": "stream",
     "text": [
      " 47%|████████████████████████████████████▉                                          | 588/1256 [10:21<11:26,  1.03s/it]"
     ]
    },
    {
     "name": "stdout",
     "output_type": "stream",
     "text": [
      "Processing image //vector.e3b.columbia.edu/e3b/Globus Database/UWIN Tagged Photos/batch_004/VID30086-00235.jpg\n"
     ]
    },
    {
     "name": "stderr",
     "output_type": "stream",
     "text": [
      " 47%|█████████████████████████████████████                                          | 589/1256 [10:22<11:26,  1.03s/it]"
     ]
    },
    {
     "name": "stdout",
     "output_type": "stream",
     "text": [
      "Processing image //vector.e3b.columbia.edu/e3b/Globus Database/UWIN Tagged Photos/batch_004/VID30086-00236.jpg\n"
     ]
    },
    {
     "name": "stderr",
     "output_type": "stream",
     "text": [
      " 47%|█████████████████████████████████████                                          | 590/1256 [10:23<11:23,  1.03s/it]"
     ]
    },
    {
     "name": "stdout",
     "output_type": "stream",
     "text": [
      "Processing image //vector.e3b.columbia.edu/e3b/Globus Database/UWIN Tagged Photos/batch_004/VID30086-00237.jpg\n"
     ]
    },
    {
     "name": "stderr",
     "output_type": "stream",
     "text": [
      " 47%|█████████████████████████████████████▏                                         | 591/1256 [10:24<11:20,  1.02s/it]"
     ]
    },
    {
     "name": "stdout",
     "output_type": "stream",
     "text": [
      "Processing image //vector.e3b.columbia.edu/e3b/Globus Database/UWIN Tagged Photos/batch_004/VID30086-00238.jpg\n"
     ]
    },
    {
     "name": "stderr",
     "output_type": "stream",
     "text": [
      " 47%|█████████████████████████████████████▏                                         | 592/1256 [10:25<11:17,  1.02s/it]"
     ]
    },
    {
     "name": "stdout",
     "output_type": "stream",
     "text": [
      "Processing image //vector.e3b.columbia.edu/e3b/Globus Database/UWIN Tagged Photos/batch_004/VID30086-00239.jpg\n"
     ]
    },
    {
     "name": "stderr",
     "output_type": "stream",
     "text": [
      " 47%|█████████████████████████████████████▎                                         | 593/1256 [10:26<11:15,  1.02s/it]"
     ]
    },
    {
     "name": "stdout",
     "output_type": "stream",
     "text": [
      "Processing image //vector.e3b.columbia.edu/e3b/Globus Database/UWIN Tagged Photos/batch_004/VID30086-00240.jpg\n"
     ]
    },
    {
     "name": "stderr",
     "output_type": "stream",
     "text": [
      " 47%|█████████████████████████████████████▎                                         | 594/1256 [10:27<11:17,  1.02s/it]"
     ]
    },
    {
     "name": "stdout",
     "output_type": "stream",
     "text": [
      "Processing image //vector.e3b.columbia.edu/e3b/Globus Database/UWIN Tagged Photos/batch_004/VID30086-00241.jpg\n"
     ]
    },
    {
     "name": "stderr",
     "output_type": "stream",
     "text": [
      " 47%|█████████████████████████████████████▍                                         | 595/1256 [10:28<11:20,  1.03s/it]"
     ]
    },
    {
     "name": "stdout",
     "output_type": "stream",
     "text": [
      "Processing image //vector.e3b.columbia.edu/e3b/Globus Database/UWIN Tagged Photos/batch_004/VID30086-00242.jpg\n"
     ]
    },
    {
     "name": "stderr",
     "output_type": "stream",
     "text": [
      " 47%|█████████████████████████████████████▍                                         | 596/1256 [10:29<11:29,  1.04s/it]"
     ]
    },
    {
     "name": "stdout",
     "output_type": "stream",
     "text": [
      "Processing image //vector.e3b.columbia.edu/e3b/Globus Database/UWIN Tagged Photos/batch_004/VID30086-00243.jpg\n"
     ]
    },
    {
     "name": "stderr",
     "output_type": "stream",
     "text": [
      " 48%|█████████████████████████████████████▌                                         | 597/1256 [10:31<11:32,  1.05s/it]"
     ]
    },
    {
     "name": "stdout",
     "output_type": "stream",
     "text": [
      "Processing image //vector.e3b.columbia.edu/e3b/Globus Database/UWIN Tagged Photos/batch_004/VID30086-00244.jpg\n"
     ]
    },
    {
     "name": "stderr",
     "output_type": "stream",
     "text": [
      " 48%|█████████████████████████████████████▌                                         | 598/1256 [10:32<11:33,  1.05s/it]"
     ]
    },
    {
     "name": "stdout",
     "output_type": "stream",
     "text": [
      "Processing image //vector.e3b.columbia.edu/e3b/Globus Database/UWIN Tagged Photos/batch_004/VID30086-00245.jpg\n"
     ]
    },
    {
     "name": "stderr",
     "output_type": "stream",
     "text": [
      " 48%|█████████████████████████████████████▋                                         | 599/1256 [10:33<11:26,  1.05s/it]"
     ]
    },
    {
     "name": "stdout",
     "output_type": "stream",
     "text": [
      "Processing image //vector.e3b.columbia.edu/e3b/Globus Database/UWIN Tagged Photos/batch_004/VID30086-00246.jpg\n"
     ]
    },
    {
     "name": "stderr",
     "output_type": "stream",
     "text": [
      " 48%|█████████████████████████████████████▋                                         | 600/1256 [10:34<11:26,  1.05s/it]"
     ]
    },
    {
     "name": "stdout",
     "output_type": "stream",
     "text": [
      "Processing image //vector.e3b.columbia.edu/e3b/Globus Database/UWIN Tagged Photos/batch_004/VID30086-00247.jpg\n"
     ]
    },
    {
     "name": "stderr",
     "output_type": "stream",
     "text": [
      " 48%|█████████████████████████████████████▊                                         | 601/1256 [10:35<11:26,  1.05s/it]"
     ]
    },
    {
     "name": "stdout",
     "output_type": "stream",
     "text": [
      "Processing image //vector.e3b.columbia.edu/e3b/Globus Database/UWIN Tagged Photos/batch_004/VID30086-00248.jpg\n"
     ]
    },
    {
     "name": "stderr",
     "output_type": "stream",
     "text": [
      " 48%|█████████████████████████████████████▊                                         | 602/1256 [10:36<11:33,  1.06s/it]"
     ]
    },
    {
     "name": "stdout",
     "output_type": "stream",
     "text": [
      "Processing image //vector.e3b.columbia.edu/e3b/Globus Database/UWIN Tagged Photos/batch_004/VID30086-00249.jpg\n"
     ]
    },
    {
     "name": "stderr",
     "output_type": "stream",
     "text": [
      " 48%|█████████████████████████████████████▉                                         | 603/1256 [10:37<11:34,  1.06s/it]"
     ]
    },
    {
     "name": "stdout",
     "output_type": "stream",
     "text": [
      "Processing image //vector.e3b.columbia.edu/e3b/Globus Database/UWIN Tagged Photos/batch_004/VID30086-00250.jpg\n"
     ]
    },
    {
     "name": "stderr",
     "output_type": "stream",
     "text": [
      " 48%|█████████████████████████████████████▉                                         | 604/1256 [10:38<11:40,  1.07s/it]"
     ]
    },
    {
     "name": "stdout",
     "output_type": "stream",
     "text": [
      "Processing image //vector.e3b.columbia.edu/e3b/Globus Database/UWIN Tagged Photos/batch_004/VID30086-00251.jpg\n"
     ]
    },
    {
     "name": "stderr",
     "output_type": "stream",
     "text": [
      " 48%|██████████████████████████████████████                                         | 605/1256 [10:39<11:52,  1.09s/it]"
     ]
    },
    {
     "name": "stdout",
     "output_type": "stream",
     "text": [
      "Processing image //vector.e3b.columbia.edu/e3b/Globus Database/UWIN Tagged Photos/batch_004/VID30086-00252.jpg\n"
     ]
    },
    {
     "name": "stderr",
     "output_type": "stream",
     "text": [
      " 48%|██████████████████████████████████████                                         | 606/1256 [10:40<11:48,  1.09s/it]"
     ]
    },
    {
     "name": "stdout",
     "output_type": "stream",
     "text": [
      "Processing image //vector.e3b.columbia.edu/e3b/Globus Database/UWIN Tagged Photos/batch_004/VID30086-00253.jpg\n"
     ]
    },
    {
     "name": "stderr",
     "output_type": "stream",
     "text": [
      " 48%|██████████████████████████████████████▏                                        | 607/1256 [10:41<11:44,  1.09s/it]"
     ]
    },
    {
     "name": "stdout",
     "output_type": "stream",
     "text": [
      "Processing image //vector.e3b.columbia.edu/e3b/Globus Database/UWIN Tagged Photos/batch_004/VID30086-00254.jpg\n"
     ]
    },
    {
     "name": "stderr",
     "output_type": "stream",
     "text": [
      " 48%|██████████████████████████████████████▏                                        | 608/1256 [10:42<11:45,  1.09s/it]"
     ]
    },
    {
     "name": "stdout",
     "output_type": "stream",
     "text": [
      "Processing image //vector.e3b.columbia.edu/e3b/Globus Database/UWIN Tagged Photos/batch_004/VID30086-00255.jpg\n"
     ]
    },
    {
     "name": "stderr",
     "output_type": "stream",
     "text": [
      " 48%|██████████████████████████████████████▎                                        | 609/1256 [10:43<11:45,  1.09s/it]"
     ]
    },
    {
     "name": "stdout",
     "output_type": "stream",
     "text": [
      "Processing image //vector.e3b.columbia.edu/e3b/Globus Database/UWIN Tagged Photos/batch_004/VID30086-00256.jpg\n"
     ]
    },
    {
     "name": "stderr",
     "output_type": "stream",
     "text": [
      " 49%|██████████████████████████████████████▎                                        | 610/1256 [10:45<11:46,  1.09s/it]"
     ]
    },
    {
     "name": "stdout",
     "output_type": "stream",
     "text": [
      "Processing image //vector.e3b.columbia.edu/e3b/Globus Database/UWIN Tagged Photos/batch_004/VID30086-00257.jpg\n"
     ]
    },
    {
     "name": "stderr",
     "output_type": "stream",
     "text": [
      " 49%|██████████████████████████████████████▍                                        | 611/1256 [10:46<11:43,  1.09s/it]"
     ]
    },
    {
     "name": "stdout",
     "output_type": "stream",
     "text": [
      "Processing image //vector.e3b.columbia.edu/e3b/Globus Database/UWIN Tagged Photos/batch_004/VID30086-00258.jpg\n"
     ]
    },
    {
     "name": "stderr",
     "output_type": "stream",
     "text": [
      " 49%|██████████████████████████████████████▍                                        | 612/1256 [10:47<11:48,  1.10s/it]"
     ]
    },
    {
     "name": "stdout",
     "output_type": "stream",
     "text": [
      "Processing image //vector.e3b.columbia.edu/e3b/Globus Database/UWIN Tagged Photos/batch_004/VID30086-00259.jpg\n"
     ]
    },
    {
     "name": "stderr",
     "output_type": "stream",
     "text": [
      " 49%|██████████████████████████████████████▌                                        | 613/1256 [10:48<11:48,  1.10s/it]"
     ]
    },
    {
     "name": "stdout",
     "output_type": "stream",
     "text": [
      "Processing image //vector.e3b.columbia.edu/e3b/Globus Database/UWIN Tagged Photos/batch_004/VID30086-00260.jpg\n"
     ]
    },
    {
     "name": "stderr",
     "output_type": "stream",
     "text": [
      " 49%|██████████████████████████████████████▌                                        | 614/1256 [10:49<11:46,  1.10s/it]"
     ]
    },
    {
     "name": "stdout",
     "output_type": "stream",
     "text": [
      "Processing image //vector.e3b.columbia.edu/e3b/Globus Database/UWIN Tagged Photos/batch_004/VID30086-00261.jpg\n"
     ]
    },
    {
     "name": "stderr",
     "output_type": "stream",
     "text": [
      " 49%|██████████████████████████████████████▋                                        | 615/1256 [10:50<11:42,  1.10s/it]"
     ]
    },
    {
     "name": "stdout",
     "output_type": "stream",
     "text": [
      "Processing image //vector.e3b.columbia.edu/e3b/Globus Database/UWIN Tagged Photos/batch_004/VID30086-00262.jpg\n"
     ]
    },
    {
     "name": "stderr",
     "output_type": "stream",
     "text": [
      " 49%|██████████████████████████████████████▋                                        | 616/1256 [10:51<11:34,  1.09s/it]"
     ]
    },
    {
     "name": "stdout",
     "output_type": "stream",
     "text": [
      "Processing image //vector.e3b.columbia.edu/e3b/Globus Database/UWIN Tagged Photos/batch_004/VID30086-00263.jpg\n"
     ]
    },
    {
     "name": "stderr",
     "output_type": "stream",
     "text": [
      " 49%|██████████████████████████████████████▊                                        | 617/1256 [10:52<11:49,  1.11s/it]"
     ]
    },
    {
     "name": "stdout",
     "output_type": "stream",
     "text": [
      "Processing image //vector.e3b.columbia.edu/e3b/Globus Database/UWIN Tagged Photos/batch_004/VID30086-00264.jpg\n"
     ]
    },
    {
     "name": "stderr",
     "output_type": "stream",
     "text": [
      " 49%|██████████████████████████████████████▊                                        | 618/1256 [10:53<11:45,  1.11s/it]"
     ]
    },
    {
     "name": "stdout",
     "output_type": "stream",
     "text": [
      "Processing image //vector.e3b.columbia.edu/e3b/Globus Database/UWIN Tagged Photos/batch_004/VID30086-00265.jpg\n"
     ]
    },
    {
     "name": "stderr",
     "output_type": "stream",
     "text": [
      " 49%|██████████████████████████████████████▉                                        | 619/1256 [10:55<11:50,  1.12s/it]"
     ]
    },
    {
     "name": "stdout",
     "output_type": "stream",
     "text": [
      "Processing image //vector.e3b.columbia.edu/e3b/Globus Database/UWIN Tagged Photos/batch_004/VID30086-00266.jpg\n"
     ]
    },
    {
     "name": "stderr",
     "output_type": "stream",
     "text": [
      " 49%|██████████████████████████████████████▉                                        | 620/1256 [10:56<11:40,  1.10s/it]"
     ]
    },
    {
     "name": "stdout",
     "output_type": "stream",
     "text": [
      "Processing image //vector.e3b.columbia.edu/e3b/Globus Database/UWIN Tagged Photos/batch_004/VID30086-00267.jpg\n"
     ]
    },
    {
     "name": "stderr",
     "output_type": "stream",
     "text": [
      " 49%|███████████████████████████████████████                                        | 621/1256 [10:57<11:37,  1.10s/it]"
     ]
    },
    {
     "name": "stdout",
     "output_type": "stream",
     "text": [
      "Processing image //vector.e3b.columbia.edu/e3b/Globus Database/UWIN Tagged Photos/batch_004/VID30086-00268.jpg\n"
     ]
    },
    {
     "name": "stderr",
     "output_type": "stream",
     "text": [
      " 50%|███████████████████████████████████████                                        | 622/1256 [10:58<11:39,  1.10s/it]"
     ]
    },
    {
     "name": "stdout",
     "output_type": "stream",
     "text": [
      "Processing image //vector.e3b.columbia.edu/e3b/Globus Database/UWIN Tagged Photos/batch_004/VID30086-00269.jpg\n"
     ]
    },
    {
     "name": "stderr",
     "output_type": "stream",
     "text": [
      " 50%|███████████████████████████████████████▏                                       | 623/1256 [10:59<11:26,  1.08s/it]"
     ]
    },
    {
     "name": "stdout",
     "output_type": "stream",
     "text": [
      "Processing image //vector.e3b.columbia.edu/e3b/Globus Database/UWIN Tagged Photos/batch_004/VID30086-00270.jpg\n"
     ]
    },
    {
     "name": "stderr",
     "output_type": "stream",
     "text": [
      " 50%|███████████████████████████████████████▏                                       | 624/1256 [11:00<11:21,  1.08s/it]"
     ]
    },
    {
     "name": "stdout",
     "output_type": "stream",
     "text": [
      "Processing image //vector.e3b.columbia.edu/e3b/Globus Database/UWIN Tagged Photos/batch_004/VID30086-00271.jpg\n"
     ]
    },
    {
     "name": "stderr",
     "output_type": "stream",
     "text": [
      " 50%|███████████████████████████████████████▎                                       | 625/1256 [11:01<11:12,  1.07s/it]"
     ]
    },
    {
     "name": "stdout",
     "output_type": "stream",
     "text": [
      "Processing image //vector.e3b.columbia.edu/e3b/Globus Database/UWIN Tagged Photos/batch_004/VID30086-00272.jpg\n"
     ]
    },
    {
     "name": "stderr",
     "output_type": "stream",
     "text": [
      " 50%|███████████████████████████████████████▎                                       | 626/1256 [11:02<11:09,  1.06s/it]"
     ]
    },
    {
     "name": "stdout",
     "output_type": "stream",
     "text": [
      "Processing image //vector.e3b.columbia.edu/e3b/Globus Database/UWIN Tagged Photos/batch_004/VID30086-00273.jpg\n"
     ]
    },
    {
     "name": "stderr",
     "output_type": "stream",
     "text": [
      " 50%|███████████████████████████████████████▍                                       | 627/1256 [11:03<11:06,  1.06s/it]"
     ]
    },
    {
     "name": "stdout",
     "output_type": "stream",
     "text": [
      "Processing image //vector.e3b.columbia.edu/e3b/Globus Database/UWIN Tagged Photos/batch_004/VID30086-00274.jpg\n"
     ]
    },
    {
     "name": "stderr",
     "output_type": "stream",
     "text": [
      " 50%|███████████████████████████████████████▌                                       | 628/1256 [11:04<11:04,  1.06s/it]"
     ]
    },
    {
     "name": "stdout",
     "output_type": "stream",
     "text": [
      "Processing image //vector.e3b.columbia.edu/e3b/Globus Database/UWIN Tagged Photos/batch_004/VID30086-00275.jpg\n"
     ]
    },
    {
     "name": "stderr",
     "output_type": "stream",
     "text": [
      " 50%|███████████████████████████████████████▌                                       | 629/1256 [11:05<10:59,  1.05s/it]"
     ]
    },
    {
     "name": "stdout",
     "output_type": "stream",
     "text": [
      "Processing image //vector.e3b.columbia.edu/e3b/Globus Database/UWIN Tagged Photos/batch_004/VID30086-00276.jpg\n"
     ]
    },
    {
     "name": "stderr",
     "output_type": "stream",
     "text": [
      " 50%|███████████████████████████████████████▋                                       | 630/1256 [11:06<10:51,  1.04s/it]"
     ]
    },
    {
     "name": "stdout",
     "output_type": "stream",
     "text": [
      "Processing image //vector.e3b.columbia.edu/e3b/Globus Database/UWIN Tagged Photos/batch_004/VID30086-00277.jpg\n"
     ]
    },
    {
     "name": "stderr",
     "output_type": "stream",
     "text": [
      " 50%|███████████████████████████████████████▋                                       | 631/1256 [11:07<10:48,  1.04s/it]"
     ]
    },
    {
     "name": "stdout",
     "output_type": "stream",
     "text": [
      "Processing image //vector.e3b.columbia.edu/e3b/Globus Database/UWIN Tagged Photos/batch_004/VID30086-00278.jpg\n"
     ]
    },
    {
     "name": "stderr",
     "output_type": "stream",
     "text": [
      " 50%|███████████████████████████████████████▊                                       | 632/1256 [11:08<10:46,  1.04s/it]"
     ]
    },
    {
     "name": "stdout",
     "output_type": "stream",
     "text": [
      "Processing image //vector.e3b.columbia.edu/e3b/Globus Database/UWIN Tagged Photos/batch_004/VID30086-00279.jpg\n"
     ]
    },
    {
     "name": "stderr",
     "output_type": "stream",
     "text": [
      " 50%|███████████████████████████████████████▊                                       | 633/1256 [11:09<10:44,  1.03s/it]"
     ]
    },
    {
     "name": "stdout",
     "output_type": "stream",
     "text": [
      "Processing image //vector.e3b.columbia.edu/e3b/Globus Database/UWIN Tagged Photos/batch_004/VID30086-00280.jpg\n"
     ]
    },
    {
     "name": "stderr",
     "output_type": "stream",
     "text": [
      " 50%|███████████████████████████████████████▉                                       | 634/1256 [11:10<10:49,  1.04s/it]"
     ]
    },
    {
     "name": "stdout",
     "output_type": "stream",
     "text": [
      "Processing image //vector.e3b.columbia.edu/e3b/Globus Database/UWIN Tagged Photos/batch_004/VID30086-00281.jpg\n"
     ]
    },
    {
     "name": "stderr",
     "output_type": "stream",
     "text": [
      " 51%|███████████████████████████████████████▉                                       | 635/1256 [11:11<10:50,  1.05s/it]"
     ]
    },
    {
     "name": "stdout",
     "output_type": "stream",
     "text": [
      "Processing image //vector.e3b.columbia.edu/e3b/Globus Database/UWIN Tagged Photos/batch_004/VID30086-00282.jpg\n"
     ]
    },
    {
     "name": "stderr",
     "output_type": "stream",
     "text": [
      " 51%|████████████████████████████████████████                                       | 636/1256 [11:12<10:47,  1.04s/it]"
     ]
    },
    {
     "name": "stdout",
     "output_type": "stream",
     "text": [
      "Processing image //vector.e3b.columbia.edu/e3b/Globus Database/UWIN Tagged Photos/batch_004/VID30086-00283.jpg\n"
     ]
    },
    {
     "name": "stderr",
     "output_type": "stream",
     "text": [
      " 51%|████████████████████████████████████████                                       | 637/1256 [11:13<10:46,  1.04s/it]"
     ]
    },
    {
     "name": "stdout",
     "output_type": "stream",
     "text": [
      "Processing image //vector.e3b.columbia.edu/e3b/Globus Database/UWIN Tagged Photos/batch_004/VID30086-00284.jpg\n"
     ]
    },
    {
     "name": "stderr",
     "output_type": "stream",
     "text": [
      " 51%|████████████████████████████████████████▏                                      | 638/1256 [11:14<10:35,  1.03s/it]"
     ]
    },
    {
     "name": "stdout",
     "output_type": "stream",
     "text": [
      "Processing image //vector.e3b.columbia.edu/e3b/Globus Database/UWIN Tagged Photos/batch_004/VID30086-00285.jpg\n"
     ]
    },
    {
     "name": "stderr",
     "output_type": "stream",
     "text": [
      " 51%|████████████████████████████████████████▏                                      | 639/1256 [11:16<10:36,  1.03s/it]"
     ]
    },
    {
     "name": "stdout",
     "output_type": "stream",
     "text": [
      "Processing image //vector.e3b.columbia.edu/e3b/Globus Database/UWIN Tagged Photos/batch_004/VID30086-00286.jpg\n"
     ]
    },
    {
     "name": "stderr",
     "output_type": "stream",
     "text": [
      " 51%|████████████████████████████████████████▎                                      | 640/1256 [11:17<10:36,  1.03s/it]"
     ]
    },
    {
     "name": "stdout",
     "output_type": "stream",
     "text": [
      "Processing image //vector.e3b.columbia.edu/e3b/Globus Database/UWIN Tagged Photos/batch_004/VID30086-00287.jpg\n"
     ]
    },
    {
     "name": "stderr",
     "output_type": "stream",
     "text": [
      " 51%|████████████████████████████████████████▎                                      | 641/1256 [11:18<10:34,  1.03s/it]"
     ]
    },
    {
     "name": "stdout",
     "output_type": "stream",
     "text": [
      "Processing image //vector.e3b.columbia.edu/e3b/Globus Database/UWIN Tagged Photos/batch_004/VID30086-00288.jpg\n"
     ]
    },
    {
     "name": "stderr",
     "output_type": "stream",
     "text": [
      " 51%|████████████████████████████████████████▍                                      | 642/1256 [11:19<10:36,  1.04s/it]"
     ]
    },
    {
     "name": "stdout",
     "output_type": "stream",
     "text": [
      "Processing image //vector.e3b.columbia.edu/e3b/Globus Database/UWIN Tagged Photos/batch_004/VID30086-00289.jpg\n"
     ]
    },
    {
     "name": "stderr",
     "output_type": "stream",
     "text": [
      " 51%|████████████████████████████████████████▍                                      | 643/1256 [11:20<10:30,  1.03s/it]"
     ]
    },
    {
     "name": "stdout",
     "output_type": "stream",
     "text": [
      "Processing image //vector.e3b.columbia.edu/e3b/Globus Database/UWIN Tagged Photos/batch_004/VID30086-00290.jpg\n"
     ]
    },
    {
     "name": "stderr",
     "output_type": "stream",
     "text": [
      " 51%|████████████████████████████████████████▌                                      | 644/1256 [11:21<10:30,  1.03s/it]"
     ]
    },
    {
     "name": "stdout",
     "output_type": "stream",
     "text": [
      "Processing image //vector.e3b.columbia.edu/e3b/Globus Database/UWIN Tagged Photos/batch_004/VID30086-00291.jpg\n"
     ]
    },
    {
     "name": "stderr",
     "output_type": "stream",
     "text": [
      " 51%|████████████████████████████████████████▌                                      | 645/1256 [11:22<10:27,  1.03s/it]"
     ]
    },
    {
     "name": "stdout",
     "output_type": "stream",
     "text": [
      "Processing image //vector.e3b.columbia.edu/e3b/Globus Database/UWIN Tagged Photos/batch_004/VID30086-00292.jpg\n"
     ]
    },
    {
     "name": "stderr",
     "output_type": "stream",
     "text": [
      " 51%|████████████████████████████████████████▋                                      | 646/1256 [11:23<10:25,  1.02s/it]"
     ]
    },
    {
     "name": "stdout",
     "output_type": "stream",
     "text": [
      "Processing image //vector.e3b.columbia.edu/e3b/Globus Database/UWIN Tagged Photos/batch_004/VID30086-00293.jpg\n"
     ]
    },
    {
     "name": "stderr",
     "output_type": "stream",
     "text": [
      " 52%|████████████████████████████████████████▋                                      | 647/1256 [11:24<10:26,  1.03s/it]"
     ]
    },
    {
     "name": "stdout",
     "output_type": "stream",
     "text": [
      "Processing image //vector.e3b.columbia.edu/e3b/Globus Database/UWIN Tagged Photos/batch_004/VID30086-00294.jpg\n"
     ]
    },
    {
     "name": "stderr",
     "output_type": "stream",
     "text": [
      " 52%|████████████████████████████████████████▊                                      | 648/1256 [11:25<10:20,  1.02s/it]"
     ]
    },
    {
     "name": "stdout",
     "output_type": "stream",
     "text": [
      "Processing image //vector.e3b.columbia.edu/e3b/Globus Database/UWIN Tagged Photos/batch_004/VID30086-00295.jpg\n"
     ]
    },
    {
     "name": "stderr",
     "output_type": "stream",
     "text": [
      " 52%|████████████████████████████████████████▊                                      | 649/1256 [11:26<10:18,  1.02s/it]"
     ]
    },
    {
     "name": "stdout",
     "output_type": "stream",
     "text": [
      "Processing image //vector.e3b.columbia.edu/e3b/Globus Database/UWIN Tagged Photos/batch_004/VID30086-00296.jpg\n"
     ]
    },
    {
     "name": "stderr",
     "output_type": "stream",
     "text": [
      " 52%|████████████████████████████████████████▉                                      | 650/1256 [11:27<10:15,  1.02s/it]"
     ]
    },
    {
     "name": "stdout",
     "output_type": "stream",
     "text": [
      "Processing image //vector.e3b.columbia.edu/e3b/Globus Database/UWIN Tagged Photos/batch_004/VID30086-00297.jpg\n"
     ]
    },
    {
     "name": "stderr",
     "output_type": "stream",
     "text": [
      " 52%|████████████████████████████████████████▉                                      | 651/1256 [11:28<10:16,  1.02s/it]"
     ]
    },
    {
     "name": "stdout",
     "output_type": "stream",
     "text": [
      "Processing image //vector.e3b.columbia.edu/e3b/Globus Database/UWIN Tagged Photos/batch_004/VID30086-00298.jpg\n"
     ]
    },
    {
     "name": "stderr",
     "output_type": "stream",
     "text": [
      " 52%|█████████████████████████████████████████                                      | 652/1256 [11:29<10:23,  1.03s/it]"
     ]
    },
    {
     "name": "stdout",
     "output_type": "stream",
     "text": [
      "Processing image //vector.e3b.columbia.edu/e3b/Globus Database/UWIN Tagged Photos/batch_004/VID30086-00299.jpg\n"
     ]
    },
    {
     "name": "stderr",
     "output_type": "stream",
     "text": [
      " 52%|█████████████████████████████████████████                                      | 653/1256 [11:30<10:06,  1.01s/it]"
     ]
    },
    {
     "name": "stdout",
     "output_type": "stream",
     "text": [
      "Processing image //vector.e3b.columbia.edu/e3b/Globus Database/UWIN Tagged Photos/batch_004/VID30086-00300.jpg\n"
     ]
    },
    {
     "name": "stderr",
     "output_type": "stream",
     "text": [
      " 52%|█████████████████████████████████████████▏                                     | 654/1256 [11:31<10:10,  1.01s/it]"
     ]
    },
    {
     "name": "stdout",
     "output_type": "stream",
     "text": [
      "Processing image //vector.e3b.columbia.edu/e3b/Globus Database/UWIN Tagged Photos/batch_004/VID30086-00301.jpg\n"
     ]
    },
    {
     "name": "stderr",
     "output_type": "stream",
     "text": [
      " 52%|█████████████████████████████████████████▏                                     | 655/1256 [11:32<10:13,  1.02s/it]"
     ]
    },
    {
     "name": "stdout",
     "output_type": "stream",
     "text": [
      "Processing image //vector.e3b.columbia.edu/e3b/Globus Database/UWIN Tagged Photos/batch_004/VID30086-00302.jpg\n"
     ]
    },
    {
     "name": "stderr",
     "output_type": "stream",
     "text": [
      " 52%|█████████████████████████████████████████▎                                     | 656/1256 [11:33<10:02,  1.00s/it]"
     ]
    },
    {
     "name": "stdout",
     "output_type": "stream",
     "text": [
      "Processing image //vector.e3b.columbia.edu/e3b/Globus Database/UWIN Tagged Photos/batch_004/VID30086-00303.jpg\n"
     ]
    },
    {
     "name": "stderr",
     "output_type": "stream",
     "text": [
      " 52%|█████████████████████████████████████████▎                                     | 657/1256 [11:34<10:06,  1.01s/it]"
     ]
    },
    {
     "name": "stdout",
     "output_type": "stream",
     "text": [
      "Processing image //vector.e3b.columbia.edu/e3b/Globus Database/UWIN Tagged Photos/batch_004/VID30086-00304.jpg\n"
     ]
    },
    {
     "name": "stderr",
     "output_type": "stream",
     "text": [
      " 52%|█████████████████████████████████████████▍                                     | 658/1256 [11:35<10:02,  1.01s/it]"
     ]
    },
    {
     "name": "stdout",
     "output_type": "stream",
     "text": [
      "Processing image //vector.e3b.columbia.edu/e3b/Globus Database/UWIN Tagged Photos/batch_004/VID30086-00305.jpg\n"
     ]
    },
    {
     "name": "stderr",
     "output_type": "stream",
     "text": [
      " 52%|█████████████████████████████████████████▍                                     | 659/1256 [11:36<10:07,  1.02s/it]"
     ]
    },
    {
     "name": "stdout",
     "output_type": "stream",
     "text": [
      "Processing image //vector.e3b.columbia.edu/e3b/Globus Database/UWIN Tagged Photos/batch_004/VID30086-00306.jpg\n"
     ]
    },
    {
     "name": "stderr",
     "output_type": "stream",
     "text": [
      " 53%|█████████████████████████████████████████▌                                     | 660/1256 [11:37<10:13,  1.03s/it]"
     ]
    },
    {
     "name": "stdout",
     "output_type": "stream",
     "text": [
      "Processing image //vector.e3b.columbia.edu/e3b/Globus Database/UWIN Tagged Photos/batch_004/VID30086-00307.jpg\n"
     ]
    },
    {
     "name": "stderr",
     "output_type": "stream",
     "text": [
      " 53%|█████████████████████████████████████████▌                                     | 661/1256 [11:38<10:18,  1.04s/it]"
     ]
    },
    {
     "name": "stdout",
     "output_type": "stream",
     "text": [
      "Processing image //vector.e3b.columbia.edu/e3b/Globus Database/UWIN Tagged Photos/batch_004/VID30086-00308.jpg\n"
     ]
    },
    {
     "name": "stderr",
     "output_type": "stream",
     "text": [
      " 53%|█████████████████████████████████████████▋                                     | 662/1256 [11:39<10:15,  1.04s/it]"
     ]
    },
    {
     "name": "stdout",
     "output_type": "stream",
     "text": [
      "Processing image //vector.e3b.columbia.edu/e3b/Globus Database/UWIN Tagged Photos/batch_004/VID30086-00309.jpg\n"
     ]
    },
    {
     "name": "stderr",
     "output_type": "stream",
     "text": [
      " 53%|█████████████████████████████████████████▋                                     | 663/1256 [11:40<10:15,  1.04s/it]"
     ]
    },
    {
     "name": "stdout",
     "output_type": "stream",
     "text": [
      "Processing image //vector.e3b.columbia.edu/e3b/Globus Database/UWIN Tagged Photos/batch_004/VID30086-00310.jpg\n"
     ]
    },
    {
     "name": "stderr",
     "output_type": "stream",
     "text": [
      " 53%|█████████████████████████████████████████▊                                     | 664/1256 [11:41<10:08,  1.03s/it]"
     ]
    },
    {
     "name": "stdout",
     "output_type": "stream",
     "text": [
      "Processing image //vector.e3b.columbia.edu/e3b/Globus Database/UWIN Tagged Photos/batch_004/VID30086-00311.jpg\n"
     ]
    },
    {
     "name": "stderr",
     "output_type": "stream",
     "text": [
      " 53%|█████████████████████████████████████████▊                                     | 665/1256 [11:42<10:22,  1.05s/it]"
     ]
    },
    {
     "name": "stdout",
     "output_type": "stream",
     "text": [
      "Processing image //vector.e3b.columbia.edu/e3b/Globus Database/UWIN Tagged Photos/batch_004/VID30086-00312.jpg\n"
     ]
    },
    {
     "name": "stderr",
     "output_type": "stream",
     "text": [
      " 53%|█████████████████████████████████████████▉                                     | 666/1256 [11:43<10:20,  1.05s/it]"
     ]
    },
    {
     "name": "stdout",
     "output_type": "stream",
     "text": [
      "Processing image //vector.e3b.columbia.edu/e3b/Globus Database/UWIN Tagged Photos/batch_004/VID30086-00313.jpg\n"
     ]
    },
    {
     "name": "stderr",
     "output_type": "stream",
     "text": [
      " 53%|█████████████████████████████████████████▉                                     | 667/1256 [11:44<10:21,  1.05s/it]"
     ]
    },
    {
     "name": "stdout",
     "output_type": "stream",
     "text": [
      "Processing image //vector.e3b.columbia.edu/e3b/Globus Database/UWIN Tagged Photos/batch_004/VID30086-00314.jpg\n"
     ]
    },
    {
     "name": "stderr",
     "output_type": "stream",
     "text": [
      " 53%|██████████████████████████████████████████                                     | 668/1256 [11:45<10:24,  1.06s/it]"
     ]
    },
    {
     "name": "stdout",
     "output_type": "stream",
     "text": [
      "Processing image //vector.e3b.columbia.edu/e3b/Globus Database/UWIN Tagged Photos/batch_004/VID30086-00315.jpg\n"
     ]
    },
    {
     "name": "stderr",
     "output_type": "stream",
     "text": [
      " 53%|██████████████████████████████████████████                                     | 669/1256 [11:46<10:20,  1.06s/it]"
     ]
    },
    {
     "name": "stdout",
     "output_type": "stream",
     "text": [
      "Processing image //vector.e3b.columbia.edu/e3b/Globus Database/UWIN Tagged Photos/batch_004/VID30086-00316.jpg\n"
     ]
    },
    {
     "name": "stderr",
     "output_type": "stream",
     "text": [
      " 53%|██████████████████████████████████████████▏                                    | 670/1256 [11:47<10:17,  1.05s/it]"
     ]
    },
    {
     "name": "stdout",
     "output_type": "stream",
     "text": [
      "Processing image //vector.e3b.columbia.edu/e3b/Globus Database/UWIN Tagged Photos/batch_004/VID30086-00317.jpg\n"
     ]
    },
    {
     "name": "stderr",
     "output_type": "stream",
     "text": [
      " 53%|██████████████████████████████████████████▏                                    | 671/1256 [11:49<10:19,  1.06s/it]"
     ]
    },
    {
     "name": "stdout",
     "output_type": "stream",
     "text": [
      "Processing image //vector.e3b.columbia.edu/e3b/Globus Database/UWIN Tagged Photos/batch_004/VID30086-00318.jpg\n"
     ]
    },
    {
     "name": "stderr",
     "output_type": "stream",
     "text": [
      " 54%|██████████████████████████████████████████▎                                    | 672/1256 [11:50<10:24,  1.07s/it]"
     ]
    },
    {
     "name": "stdout",
     "output_type": "stream",
     "text": [
      "Processing image //vector.e3b.columbia.edu/e3b/Globus Database/UWIN Tagged Photos/batch_004/VID30086-00319.jpg\n"
     ]
    },
    {
     "name": "stderr",
     "output_type": "stream",
     "text": [
      " 54%|██████████████████████████████████████████▎                                    | 673/1256 [11:51<10:20,  1.06s/it]"
     ]
    },
    {
     "name": "stdout",
     "output_type": "stream",
     "text": [
      "Processing image //vector.e3b.columbia.edu/e3b/Globus Database/UWIN Tagged Photos/batch_004/VID30086-00320.jpg\n"
     ]
    },
    {
     "name": "stderr",
     "output_type": "stream",
     "text": [
      " 54%|██████████████████████████████████████████▍                                    | 674/1256 [11:52<10:24,  1.07s/it]"
     ]
    },
    {
     "name": "stdout",
     "output_type": "stream",
     "text": [
      "Processing image //vector.e3b.columbia.edu/e3b/Globus Database/UWIN Tagged Photos/batch_004/VID30086-00321.jpg\n"
     ]
    },
    {
     "name": "stderr",
     "output_type": "stream",
     "text": [
      " 54%|██████████████████████████████████████████▍                                    | 675/1256 [11:53<10:19,  1.07s/it]"
     ]
    },
    {
     "name": "stdout",
     "output_type": "stream",
     "text": [
      "Processing image //vector.e3b.columbia.edu/e3b/Globus Database/UWIN Tagged Photos/batch_004/VID30086-00322.jpg\n"
     ]
    },
    {
     "name": "stderr",
     "output_type": "stream",
     "text": [
      " 54%|██████████████████████████████████████████▌                                    | 676/1256 [11:54<10:25,  1.08s/it]"
     ]
    },
    {
     "name": "stdout",
     "output_type": "stream",
     "text": [
      "Processing image //vector.e3b.columbia.edu/e3b/Globus Database/UWIN Tagged Photos/batch_004/VID30086-00323.jpg\n"
     ]
    },
    {
     "name": "stderr",
     "output_type": "stream",
     "text": [
      " 54%|██████████████████████████████████████████▌                                    | 677/1256 [11:55<10:27,  1.08s/it]"
     ]
    },
    {
     "name": "stdout",
     "output_type": "stream",
     "text": [
      "Processing image //vector.e3b.columbia.edu/e3b/Globus Database/UWIN Tagged Photos/batch_004/VID30086-00324.jpg\n"
     ]
    },
    {
     "name": "stderr",
     "output_type": "stream",
     "text": [
      " 54%|██████████████████████████████████████████▋                                    | 678/1256 [11:56<10:24,  1.08s/it]"
     ]
    },
    {
     "name": "stdout",
     "output_type": "stream",
     "text": [
      "Processing image //vector.e3b.columbia.edu/e3b/Globus Database/UWIN Tagged Photos/batch_004/VID30086-00325.jpg\n"
     ]
    },
    {
     "name": "stderr",
     "output_type": "stream",
     "text": [
      " 54%|██████████████████████████████████████████▋                                    | 679/1256 [11:57<10:24,  1.08s/it]"
     ]
    },
    {
     "name": "stdout",
     "output_type": "stream",
     "text": [
      "Processing image //vector.e3b.columbia.edu/e3b/Globus Database/UWIN Tagged Photos/batch_004/VID30086-00326.jpg\n"
     ]
    },
    {
     "name": "stderr",
     "output_type": "stream",
     "text": [
      " 54%|██████████████████████████████████████████▊                                    | 680/1256 [11:58<10:22,  1.08s/it]"
     ]
    },
    {
     "name": "stdout",
     "output_type": "stream",
     "text": [
      "Processing image //vector.e3b.columbia.edu/e3b/Globus Database/UWIN Tagged Photos/batch_004/VID30086-00327.jpg\n"
     ]
    },
    {
     "name": "stderr",
     "output_type": "stream",
     "text": [
      " 54%|██████████████████████████████████████████▊                                    | 681/1256 [11:59<10:18,  1.08s/it]"
     ]
    },
    {
     "name": "stdout",
     "output_type": "stream",
     "text": [
      "Processing image //vector.e3b.columbia.edu/e3b/Globus Database/UWIN Tagged Photos/batch_004/VID30086-00328.jpg\n"
     ]
    },
    {
     "name": "stderr",
     "output_type": "stream",
     "text": [
      " 54%|██████████████████████████████████████████▉                                    | 682/1256 [12:00<10:20,  1.08s/it]"
     ]
    },
    {
     "name": "stdout",
     "output_type": "stream",
     "text": [
      "Processing image //vector.e3b.columbia.edu/e3b/Globus Database/UWIN Tagged Photos/batch_004/VID30086-00329.jpg\n"
     ]
    },
    {
     "name": "stderr",
     "output_type": "stream",
     "text": [
      " 54%|██████████████████████████████████████████▉                                    | 683/1256 [12:02<10:18,  1.08s/it]"
     ]
    },
    {
     "name": "stdout",
     "output_type": "stream",
     "text": [
      "Processing image //vector.e3b.columbia.edu/e3b/Globus Database/UWIN Tagged Photos/batch_004/VID30086-00330.jpg\n"
     ]
    },
    {
     "name": "stderr",
     "output_type": "stream",
     "text": [
      " 54%|███████████████████████████████████████████                                    | 684/1256 [12:03<10:23,  1.09s/it]"
     ]
    },
    {
     "name": "stdout",
     "output_type": "stream",
     "text": [
      "Processing image //vector.e3b.columbia.edu/e3b/Globus Database/UWIN Tagged Photos/batch_004/VID30086-00331.jpg\n"
     ]
    },
    {
     "name": "stderr",
     "output_type": "stream",
     "text": [
      " 55%|███████████████████████████████████████████                                    | 685/1256 [12:04<10:15,  1.08s/it]"
     ]
    },
    {
     "name": "stdout",
     "output_type": "stream",
     "text": [
      "Processing image //vector.e3b.columbia.edu/e3b/Globus Database/UWIN Tagged Photos/batch_004/VID30086-00332.jpg\n"
     ]
    },
    {
     "name": "stderr",
     "output_type": "stream",
     "text": [
      " 55%|███████████████████████████████████████████▏                                   | 686/1256 [12:05<10:12,  1.08s/it]"
     ]
    },
    {
     "name": "stdout",
     "output_type": "stream",
     "text": [
      "Processing image //vector.e3b.columbia.edu/e3b/Globus Database/UWIN Tagged Photos/batch_004/VID30086-00333.jpg\n"
     ]
    },
    {
     "name": "stderr",
     "output_type": "stream",
     "text": [
      " 55%|███████████████████████████████████████████▏                                   | 687/1256 [12:06<10:07,  1.07s/it]"
     ]
    },
    {
     "name": "stdout",
     "output_type": "stream",
     "text": [
      "Processing image //vector.e3b.columbia.edu/e3b/Globus Database/UWIN Tagged Photos/batch_004/VID30086-00334.jpg\n"
     ]
    },
    {
     "name": "stderr",
     "output_type": "stream",
     "text": [
      " 55%|███████████████████████████████████████████▎                                   | 688/1256 [12:07<09:59,  1.06s/it]"
     ]
    },
    {
     "name": "stdout",
     "output_type": "stream",
     "text": [
      "Processing image //vector.e3b.columbia.edu/e3b/Globus Database/UWIN Tagged Photos/batch_004/VID30086-00335.jpg\n"
     ]
    },
    {
     "name": "stderr",
     "output_type": "stream",
     "text": [
      " 55%|███████████████████████████████████████████▎                                   | 689/1256 [12:08<10:05,  1.07s/it]"
     ]
    },
    {
     "name": "stdout",
     "output_type": "stream",
     "text": [
      "Processing image //vector.e3b.columbia.edu/e3b/Globus Database/UWIN Tagged Photos/batch_004/VID30086-00336.jpg\n"
     ]
    },
    {
     "name": "stderr",
     "output_type": "stream",
     "text": [
      " 55%|███████████████████████████████████████████▍                                   | 690/1256 [12:09<10:13,  1.08s/it]"
     ]
    },
    {
     "name": "stdout",
     "output_type": "stream",
     "text": [
      "Processing image //vector.e3b.columbia.edu/e3b/Globus Database/UWIN Tagged Photos/batch_004/VID30086-00337.jpg\n"
     ]
    },
    {
     "name": "stderr",
     "output_type": "stream",
     "text": [
      " 55%|███████████████████████████████████████████▍                                   | 691/1256 [12:10<10:16,  1.09s/it]"
     ]
    },
    {
     "name": "stdout",
     "output_type": "stream",
     "text": [
      "Processing image //vector.e3b.columbia.edu/e3b/Globus Database/UWIN Tagged Photos/batch_004/VID30086-00338.jpg\n"
     ]
    },
    {
     "name": "stderr",
     "output_type": "stream",
     "text": [
      " 55%|███████████████████████████████████████████▌                                   | 692/1256 [12:11<10:11,  1.08s/it]"
     ]
    },
    {
     "name": "stdout",
     "output_type": "stream",
     "text": [
      "Processing image //vector.e3b.columbia.edu/e3b/Globus Database/UWIN Tagged Photos/batch_004/VID30086-00339.jpg\n"
     ]
    },
    {
     "name": "stderr",
     "output_type": "stream",
     "text": [
      " 55%|███████████████████████████████████████████▌                                   | 693/1256 [12:12<10:06,  1.08s/it]"
     ]
    },
    {
     "name": "stdout",
     "output_type": "stream",
     "text": [
      "Processing image //vector.e3b.columbia.edu/e3b/Globus Database/UWIN Tagged Photos/batch_004/VID30086-00340.jpg\n"
     ]
    },
    {
     "name": "stderr",
     "output_type": "stream",
     "text": [
      " 55%|███████████████████████████████████████████▋                                   | 694/1256 [12:13<10:03,  1.07s/it]"
     ]
    },
    {
     "name": "stdout",
     "output_type": "stream",
     "text": [
      "Processing image //vector.e3b.columbia.edu/e3b/Globus Database/UWIN Tagged Photos/batch_004/VID30086-00341.jpg\n"
     ]
    },
    {
     "name": "stderr",
     "output_type": "stream",
     "text": [
      " 55%|███████████████████████████████████████████▋                                   | 695/1256 [12:14<10:05,  1.08s/it]"
     ]
    },
    {
     "name": "stdout",
     "output_type": "stream",
     "text": [
      "Processing image //vector.e3b.columbia.edu/e3b/Globus Database/UWIN Tagged Photos/batch_004/VID30086-00342.jpg\n"
     ]
    },
    {
     "name": "stderr",
     "output_type": "stream",
     "text": [
      " 55%|███████████████████████████████████████████▊                                   | 696/1256 [12:16<10:03,  1.08s/it]"
     ]
    },
    {
     "name": "stdout",
     "output_type": "stream",
     "text": [
      "Processing image //vector.e3b.columbia.edu/e3b/Globus Database/UWIN Tagged Photos/batch_004/VID30086-00343.jpg\n"
     ]
    },
    {
     "name": "stderr",
     "output_type": "stream",
     "text": [
      " 55%|███████████████████████████████████████████▊                                   | 697/1256 [12:17<10:01,  1.08s/it]"
     ]
    },
    {
     "name": "stdout",
     "output_type": "stream",
     "text": [
      "Processing image //vector.e3b.columbia.edu/e3b/Globus Database/UWIN Tagged Photos/batch_004/VID30086-00344.jpg\n"
     ]
    },
    {
     "name": "stderr",
     "output_type": "stream",
     "text": [
      " 56%|███████████████████████████████████████████▉                                   | 698/1256 [12:18<09:59,  1.07s/it]"
     ]
    },
    {
     "name": "stdout",
     "output_type": "stream",
     "text": [
      "Processing image //vector.e3b.columbia.edu/e3b/Globus Database/UWIN Tagged Photos/batch_004/VID30086-00345.jpg\n"
     ]
    },
    {
     "name": "stderr",
     "output_type": "stream",
     "text": [
      " 56%|███████████████████████████████████████████▉                                   | 699/1256 [12:19<09:53,  1.07s/it]"
     ]
    },
    {
     "name": "stdout",
     "output_type": "stream",
     "text": [
      "Processing image //vector.e3b.columbia.edu/e3b/Globus Database/UWIN Tagged Photos/batch_004/VID30086-00346.jpg\n"
     ]
    },
    {
     "name": "stderr",
     "output_type": "stream",
     "text": [
      " 56%|████████████████████████████████████████████                                   | 700/1256 [12:20<09:53,  1.07s/it]"
     ]
    },
    {
     "name": "stdout",
     "output_type": "stream",
     "text": [
      "Processing image //vector.e3b.columbia.edu/e3b/Globus Database/UWIN Tagged Photos/batch_004/VID30086-00347.jpg\n"
     ]
    },
    {
     "name": "stderr",
     "output_type": "stream",
     "text": [
      " 56%|████████████████████████████████████████████                                   | 701/1256 [12:21<09:55,  1.07s/it]"
     ]
    },
    {
     "name": "stdout",
     "output_type": "stream",
     "text": [
      "Processing image //vector.e3b.columbia.edu/e3b/Globus Database/UWIN Tagged Photos/batch_004/VID30086-00348.jpg\n"
     ]
    },
    {
     "name": "stderr",
     "output_type": "stream",
     "text": [
      " 56%|████████████████████████████████████████████▏                                  | 702/1256 [12:22<09:49,  1.06s/it]"
     ]
    },
    {
     "name": "stdout",
     "output_type": "stream",
     "text": [
      "Processing image //vector.e3b.columbia.edu/e3b/Globus Database/UWIN Tagged Photos/batch_004/VID30086-00349.jpg\n"
     ]
    },
    {
     "name": "stderr",
     "output_type": "stream",
     "text": [
      " 56%|████████████████████████████████████████████▏                                  | 703/1256 [12:23<09:45,  1.06s/it]"
     ]
    },
    {
     "name": "stdout",
     "output_type": "stream",
     "text": [
      "Processing image //vector.e3b.columbia.edu/e3b/Globus Database/UWIN Tagged Photos/batch_004/VID30086-00350.jpg\n"
     ]
    },
    {
     "name": "stderr",
     "output_type": "stream",
     "text": [
      " 56%|████████████████████████████████████████████▎                                  | 704/1256 [12:24<09:40,  1.05s/it]"
     ]
    },
    {
     "name": "stdout",
     "output_type": "stream",
     "text": [
      "Processing image //vector.e3b.columbia.edu/e3b/Globus Database/UWIN Tagged Photos/batch_004/VID30086-00351.jpg\n"
     ]
    },
    {
     "name": "stderr",
     "output_type": "stream",
     "text": [
      " 56%|████████████████████████████████████████████▎                                  | 705/1256 [12:25<09:39,  1.05s/it]"
     ]
    },
    {
     "name": "stdout",
     "output_type": "stream",
     "text": [
      "Processing image //vector.e3b.columbia.edu/e3b/Globus Database/UWIN Tagged Photos/batch_004/VID30086-00352.jpg\n"
     ]
    },
    {
     "name": "stderr",
     "output_type": "stream",
     "text": [
      " 56%|████████████████████████████████████████████▍                                  | 706/1256 [12:26<09:42,  1.06s/it]"
     ]
    },
    {
     "name": "stdout",
     "output_type": "stream",
     "text": [
      "Processing image //vector.e3b.columbia.edu/e3b/Globus Database/UWIN Tagged Photos/batch_004/VID30086-00353.jpg\n"
     ]
    },
    {
     "name": "stderr",
     "output_type": "stream",
     "text": [
      " 56%|████████████████████████████████████████████▍                                  | 707/1256 [12:27<09:43,  1.06s/it]"
     ]
    },
    {
     "name": "stdout",
     "output_type": "stream",
     "text": [
      "Processing image //vector.e3b.columbia.edu/e3b/Globus Database/UWIN Tagged Photos/batch_004/VID30086-00354.jpg\n"
     ]
    },
    {
     "name": "stderr",
     "output_type": "stream",
     "text": [
      " 56%|████████████████████████████████████████████▌                                  | 708/1256 [12:28<09:40,  1.06s/it]"
     ]
    },
    {
     "name": "stdout",
     "output_type": "stream",
     "text": [
      "Processing image //vector.e3b.columbia.edu/e3b/Globus Database/UWIN Tagged Photos/batch_004/VID30086-00355.jpg\n"
     ]
    },
    {
     "name": "stderr",
     "output_type": "stream",
     "text": [
      " 56%|████████████████████████████████████████████▌                                  | 709/1256 [12:29<09:42,  1.06s/it]"
     ]
    },
    {
     "name": "stdout",
     "output_type": "stream",
     "text": [
      "Processing image //vector.e3b.columbia.edu/e3b/Globus Database/UWIN Tagged Photos/batch_004/VID30086-00356.jpg\n"
     ]
    },
    {
     "name": "stderr",
     "output_type": "stream",
     "text": [
      " 57%|████████████████████████████████████████████▋                                  | 710/1256 [12:30<09:45,  1.07s/it]"
     ]
    },
    {
     "name": "stdout",
     "output_type": "stream",
     "text": [
      "Processing image //vector.e3b.columbia.edu/e3b/Globus Database/UWIN Tagged Photos/batch_004/VID30086-00357.jpg\n"
     ]
    },
    {
     "name": "stderr",
     "output_type": "stream",
     "text": [
      " 57%|████████████████████████████████████████████▋                                  | 711/1256 [12:31<09:41,  1.07s/it]"
     ]
    },
    {
     "name": "stdout",
     "output_type": "stream",
     "text": [
      "Processing image //vector.e3b.columbia.edu/e3b/Globus Database/UWIN Tagged Photos/batch_004/VID30086-00358.jpg\n"
     ]
    },
    {
     "name": "stderr",
     "output_type": "stream",
     "text": [
      " 57%|████████████████████████████████████████████▊                                  | 712/1256 [12:33<09:37,  1.06s/it]"
     ]
    },
    {
     "name": "stdout",
     "output_type": "stream",
     "text": [
      "Processing image //vector.e3b.columbia.edu/e3b/Globus Database/UWIN Tagged Photos/batch_004/VID30086-00359.jpg\n"
     ]
    },
    {
     "name": "stderr",
     "output_type": "stream",
     "text": [
      " 57%|████████████████████████████████████████████▊                                  | 713/1256 [12:34<09:33,  1.06s/it]"
     ]
    },
    {
     "name": "stdout",
     "output_type": "stream",
     "text": [
      "Processing image //vector.e3b.columbia.edu/e3b/Globus Database/UWIN Tagged Photos/batch_004/VID30086-00360.jpg\n"
     ]
    },
    {
     "name": "stderr",
     "output_type": "stream",
     "text": [
      " 57%|████████████████████████████████████████████▉                                  | 714/1256 [12:35<09:36,  1.06s/it]"
     ]
    },
    {
     "name": "stdout",
     "output_type": "stream",
     "text": [
      "Processing image //vector.e3b.columbia.edu/e3b/Globus Database/UWIN Tagged Photos/batch_004/VID30086-00361.jpg\n"
     ]
    },
    {
     "name": "stderr",
     "output_type": "stream",
     "text": [
      " 57%|████████████████████████████████████████████▉                                  | 715/1256 [12:36<09:36,  1.07s/it]"
     ]
    },
    {
     "name": "stdout",
     "output_type": "stream",
     "text": [
      "Processing image //vector.e3b.columbia.edu/e3b/Globus Database/UWIN Tagged Photos/batch_004/VID30086-00362.jpg\n"
     ]
    },
    {
     "name": "stderr",
     "output_type": "stream",
     "text": [
      " 57%|█████████████████████████████████████████████                                  | 716/1256 [12:37<09:36,  1.07s/it]"
     ]
    },
    {
     "name": "stdout",
     "output_type": "stream",
     "text": [
      "Processing image //vector.e3b.columbia.edu/e3b/Globus Database/UWIN Tagged Photos/batch_004/VID30086-00363.jpg\n"
     ]
    },
    {
     "name": "stderr",
     "output_type": "stream",
     "text": [
      " 57%|█████████████████████████████████████████████                                  | 717/1256 [12:38<09:46,  1.09s/it]"
     ]
    },
    {
     "name": "stdout",
     "output_type": "stream",
     "text": [
      "Processing image //vector.e3b.columbia.edu/e3b/Globus Database/UWIN Tagged Photos/batch_004/VID30086-00364.jpg\n"
     ]
    },
    {
     "name": "stderr",
     "output_type": "stream",
     "text": [
      " 57%|█████████████████████████████████████████████▏                                 | 718/1256 [12:39<09:39,  1.08s/it]"
     ]
    },
    {
     "name": "stdout",
     "output_type": "stream",
     "text": [
      "Processing image //vector.e3b.columbia.edu/e3b/Globus Database/UWIN Tagged Photos/batch_004/VID30086-00365.jpg\n"
     ]
    },
    {
     "name": "stderr",
     "output_type": "stream",
     "text": [
      " 57%|█████████████████████████████████████████████▏                                 | 719/1256 [12:40<09:36,  1.07s/it]"
     ]
    },
    {
     "name": "stdout",
     "output_type": "stream",
     "text": [
      "Processing image //vector.e3b.columbia.edu/e3b/Globus Database/UWIN Tagged Photos/batch_004/VID30086-00366.jpg\n"
     ]
    },
    {
     "name": "stderr",
     "output_type": "stream",
     "text": [
      " 57%|█████████████████████████████████████████████▎                                 | 720/1256 [12:41<09:41,  1.09s/it]"
     ]
    },
    {
     "name": "stdout",
     "output_type": "stream",
     "text": [
      "Processing image //vector.e3b.columbia.edu/e3b/Globus Database/UWIN Tagged Photos/batch_004/VID30086-00367.jpg\n"
     ]
    },
    {
     "name": "stderr",
     "output_type": "stream",
     "text": [
      " 57%|█████████████████████████████████████████████▎                                 | 721/1256 [12:42<09:41,  1.09s/it]"
     ]
    },
    {
     "name": "stdout",
     "output_type": "stream",
     "text": [
      "Processing image //vector.e3b.columbia.edu/e3b/Globus Database/UWIN Tagged Photos/batch_004/VID30086-00368.jpg\n"
     ]
    },
    {
     "name": "stderr",
     "output_type": "stream",
     "text": [
      " 57%|█████████████████████████████████████████████▍                                 | 722/1256 [12:43<09:44,  1.09s/it]"
     ]
    },
    {
     "name": "stdout",
     "output_type": "stream",
     "text": [
      "Processing image //vector.e3b.columbia.edu/e3b/Globus Database/UWIN Tagged Photos/batch_004/VID30086-00369.jpg\n"
     ]
    },
    {
     "name": "stderr",
     "output_type": "stream",
     "text": [
      " 58%|█████████████████████████████████████████████▍                                 | 723/1256 [12:44<09:43,  1.10s/it]"
     ]
    },
    {
     "name": "stdout",
     "output_type": "stream",
     "text": [
      "Processing image //vector.e3b.columbia.edu/e3b/Globus Database/UWIN Tagged Photos/batch_004/VID30086-00370.jpg\n"
     ]
    },
    {
     "name": "stderr",
     "output_type": "stream",
     "text": [
      " 58%|█████████████████████████████████████████████▌                                 | 724/1256 [12:46<09:48,  1.11s/it]"
     ]
    },
    {
     "name": "stdout",
     "output_type": "stream",
     "text": [
      "Processing image //vector.e3b.columbia.edu/e3b/Globus Database/UWIN Tagged Photos/batch_004/VID30086-00371.jpg\n"
     ]
    },
    {
     "name": "stderr",
     "output_type": "stream",
     "text": [
      " 58%|█████████████████████████████████████████████▌                                 | 725/1256 [12:47<09:50,  1.11s/it]"
     ]
    },
    {
     "name": "stdout",
     "output_type": "stream",
     "text": [
      "Processing image //vector.e3b.columbia.edu/e3b/Globus Database/UWIN Tagged Photos/batch_004/VID30086-00372.jpg\n"
     ]
    },
    {
     "name": "stderr",
     "output_type": "stream",
     "text": [
      " 58%|█████████████████████████████████████████████▋                                 | 726/1256 [12:48<09:47,  1.11s/it]"
     ]
    },
    {
     "name": "stdout",
     "output_type": "stream",
     "text": [
      "Processing image //vector.e3b.columbia.edu/e3b/Globus Database/UWIN Tagged Photos/batch_004/VID30086-00373.jpg\n"
     ]
    },
    {
     "name": "stderr",
     "output_type": "stream",
     "text": [
      " 58%|█████████████████████████████████████████████▋                                 | 727/1256 [12:49<09:52,  1.12s/it]"
     ]
    },
    {
     "name": "stdout",
     "output_type": "stream",
     "text": [
      "Processing image //vector.e3b.columbia.edu/e3b/Globus Database/UWIN Tagged Photos/batch_004/VID30086-00374.jpg\n"
     ]
    },
    {
     "name": "stderr",
     "output_type": "stream",
     "text": [
      " 58%|█████████████████████████████████████████████▊                                 | 728/1256 [12:50<09:47,  1.11s/it]"
     ]
    },
    {
     "name": "stdout",
     "output_type": "stream",
     "text": [
      "Processing image //vector.e3b.columbia.edu/e3b/Globus Database/UWIN Tagged Photos/batch_004/VID30086-00375.jpg\n"
     ]
    },
    {
     "name": "stderr",
     "output_type": "stream",
     "text": [
      " 58%|█████████████████████████████████████████████▊                                 | 729/1256 [12:51<09:43,  1.11s/it]"
     ]
    },
    {
     "name": "stdout",
     "output_type": "stream",
     "text": [
      "Processing image //vector.e3b.columbia.edu/e3b/Globus Database/UWIN Tagged Photos/batch_004/VID30086-00376.jpg\n"
     ]
    },
    {
     "name": "stderr",
     "output_type": "stream",
     "text": [
      " 58%|█████████████████████████████████████████████▉                                 | 730/1256 [12:52<09:42,  1.11s/it]"
     ]
    },
    {
     "name": "stdout",
     "output_type": "stream",
     "text": [
      "Processing image //vector.e3b.columbia.edu/e3b/Globus Database/UWIN Tagged Photos/batch_004/VID30086-00377.jpg\n"
     ]
    },
    {
     "name": "stderr",
     "output_type": "stream",
     "text": [
      " 58%|█████████████████████████████████████████████▉                                 | 731/1256 [12:53<09:39,  1.10s/it]"
     ]
    },
    {
     "name": "stdout",
     "output_type": "stream",
     "text": [
      "Processing image //vector.e3b.columbia.edu/e3b/Globus Database/UWIN Tagged Photos/batch_004/VID30086-00378.jpg\n"
     ]
    },
    {
     "name": "stderr",
     "output_type": "stream",
     "text": [
      " 58%|██████████████████████████████████████████████                                 | 732/1256 [12:54<09:31,  1.09s/it]"
     ]
    },
    {
     "name": "stdout",
     "output_type": "stream",
     "text": [
      "Processing image //vector.e3b.columbia.edu/e3b/Globus Database/UWIN Tagged Photos/batch_004/VID30086-00379.jpg\n"
     ]
    },
    {
     "name": "stderr",
     "output_type": "stream",
     "text": [
      " 58%|██████████████████████████████████████████████                                 | 733/1256 [12:55<09:24,  1.08s/it]"
     ]
    },
    {
     "name": "stdout",
     "output_type": "stream",
     "text": [
      "Processing image //vector.e3b.columbia.edu/e3b/Globus Database/UWIN Tagged Photos/batch_004/VID30086-00380.jpg\n"
     ]
    },
    {
     "name": "stderr",
     "output_type": "stream",
     "text": [
      " 58%|██████████████████████████████████████████████▏                                | 734/1256 [12:57<09:24,  1.08s/it]"
     ]
    },
    {
     "name": "stdout",
     "output_type": "stream",
     "text": [
      "Processing image //vector.e3b.columbia.edu/e3b/Globus Database/UWIN Tagged Photos/batch_004/VID30086-00381.jpg\n"
     ]
    },
    {
     "name": "stderr",
     "output_type": "stream",
     "text": [
      " 59%|██████████████████████████████████████████████▏                                | 735/1256 [12:58<09:25,  1.09s/it]"
     ]
    },
    {
     "name": "stdout",
     "output_type": "stream",
     "text": [
      "Processing image //vector.e3b.columbia.edu/e3b/Globus Database/UWIN Tagged Photos/batch_004/VID30086-00382.jpg\n"
     ]
    },
    {
     "name": "stderr",
     "output_type": "stream",
     "text": [
      " 59%|██████████████████████████████████████████████▎                                | 736/1256 [12:59<09:28,  1.09s/it]"
     ]
    },
    {
     "name": "stdout",
     "output_type": "stream",
     "text": [
      "Processing image //vector.e3b.columbia.edu/e3b/Globus Database/UWIN Tagged Photos/batch_004/VID30086-00383.jpg\n"
     ]
    },
    {
     "name": "stderr",
     "output_type": "stream",
     "text": [
      " 59%|██████████████████████████████████████████████▎                                | 737/1256 [13:00<09:21,  1.08s/it]"
     ]
    },
    {
     "name": "stdout",
     "output_type": "stream",
     "text": [
      "Processing image //vector.e3b.columbia.edu/e3b/Globus Database/UWIN Tagged Photos/batch_004/VID30086-00384.jpg\n"
     ]
    },
    {
     "name": "stderr",
     "output_type": "stream",
     "text": [
      " 59%|██████████████████████████████████████████████▍                                | 738/1256 [13:01<09:13,  1.07s/it]"
     ]
    },
    {
     "name": "stdout",
     "output_type": "stream",
     "text": [
      "Processing image //vector.e3b.columbia.edu/e3b/Globus Database/UWIN Tagged Photos/batch_004/VID30086-00385.jpg\n"
     ]
    },
    {
     "name": "stderr",
     "output_type": "stream",
     "text": [
      " 59%|██████████████████████████████████████████████▍                                | 739/1256 [13:02<09:12,  1.07s/it]"
     ]
    },
    {
     "name": "stdout",
     "output_type": "stream",
     "text": [
      "Processing image //vector.e3b.columbia.edu/e3b/Globus Database/UWIN Tagged Photos/batch_004/VID30086-00386.jpg\n"
     ]
    },
    {
     "name": "stderr",
     "output_type": "stream",
     "text": [
      " 59%|██████████████████████████████████████████████▌                                | 740/1256 [13:03<09:08,  1.06s/it]"
     ]
    },
    {
     "name": "stdout",
     "output_type": "stream",
     "text": [
      "Processing image //vector.e3b.columbia.edu/e3b/Globus Database/UWIN Tagged Photos/batch_004/VID30086-00387.jpg\n"
     ]
    },
    {
     "name": "stderr",
     "output_type": "stream",
     "text": [
      " 59%|██████████████████████████████████████████████▌                                | 741/1256 [13:04<09:04,  1.06s/it]"
     ]
    },
    {
     "name": "stdout",
     "output_type": "stream",
     "text": [
      "Processing image //vector.e3b.columbia.edu/e3b/Globus Database/UWIN Tagged Photos/batch_004/VID30086-00388.jpg\n"
     ]
    },
    {
     "name": "stderr",
     "output_type": "stream",
     "text": [
      " 59%|██████████████████████████████████████████████▋                                | 742/1256 [13:05<08:55,  1.04s/it]"
     ]
    },
    {
     "name": "stdout",
     "output_type": "stream",
     "text": [
      "Processing image //vector.e3b.columbia.edu/e3b/Globus Database/UWIN Tagged Photos/batch_004/VID30086-00389.jpg\n"
     ]
    },
    {
     "name": "stderr",
     "output_type": "stream",
     "text": [
      " 59%|██████████████████████████████████████████████▋                                | 743/1256 [13:06<08:52,  1.04s/it]"
     ]
    },
    {
     "name": "stdout",
     "output_type": "stream",
     "text": [
      "Processing image //vector.e3b.columbia.edu/e3b/Globus Database/UWIN Tagged Photos/batch_004/VID30086-00390.jpg\n"
     ]
    },
    {
     "name": "stderr",
     "output_type": "stream",
     "text": [
      " 59%|██████████████████████████████████████████████▊                                | 744/1256 [13:07<08:55,  1.05s/it]"
     ]
    },
    {
     "name": "stdout",
     "output_type": "stream",
     "text": [
      "Processing image //vector.e3b.columbia.edu/e3b/Globus Database/UWIN Tagged Photos/batch_004/VID30086-00391.jpg\n"
     ]
    },
    {
     "name": "stderr",
     "output_type": "stream",
     "text": [
      " 59%|██████████████████████████████████████████████▊                                | 745/1256 [13:08<08:57,  1.05s/it]"
     ]
    },
    {
     "name": "stdout",
     "output_type": "stream",
     "text": [
      "Processing image //vector.e3b.columbia.edu/e3b/Globus Database/UWIN Tagged Photos/batch_004/VID30086-00392.jpg\n"
     ]
    },
    {
     "name": "stderr",
     "output_type": "stream",
     "text": [
      " 59%|██████████████████████████████████████████████▉                                | 746/1256 [13:09<08:57,  1.05s/it]"
     ]
    },
    {
     "name": "stdout",
     "output_type": "stream",
     "text": [
      "Processing image //vector.e3b.columbia.edu/e3b/Globus Database/UWIN Tagged Photos/batch_004/VID30086-00393.jpg\n"
     ]
    },
    {
     "name": "stderr",
     "output_type": "stream",
     "text": [
      " 59%|██████████████████████████████████████████████▉                                | 747/1256 [13:10<09:00,  1.06s/it]"
     ]
    },
    {
     "name": "stdout",
     "output_type": "stream",
     "text": [
      "Processing image //vector.e3b.columbia.edu/e3b/Globus Database/UWIN Tagged Photos/batch_004/VID30086-00394.jpg\n"
     ]
    },
    {
     "name": "stderr",
     "output_type": "stream",
     "text": [
      " 60%|███████████████████████████████████████████████                                | 748/1256 [13:11<09:06,  1.08s/it]"
     ]
    },
    {
     "name": "stdout",
     "output_type": "stream",
     "text": [
      "Processing image //vector.e3b.columbia.edu/e3b/Globus Database/UWIN Tagged Photos/batch_004/VID30086-00395.jpg\n"
     ]
    },
    {
     "name": "stderr",
     "output_type": "stream",
     "text": [
      " 60%|███████████████████████████████████████████████                                | 749/1256 [13:12<09:01,  1.07s/it]"
     ]
    },
    {
     "name": "stdout",
     "output_type": "stream",
     "text": [
      "Processing image //vector.e3b.columbia.edu/e3b/Globus Database/UWIN Tagged Photos/batch_004/VID30086-00396.jpg\n"
     ]
    },
    {
     "name": "stderr",
     "output_type": "stream",
     "text": [
      " 60%|███████████████████████████████████████████████▏                               | 750/1256 [13:14<09:04,  1.08s/it]"
     ]
    },
    {
     "name": "stdout",
     "output_type": "stream",
     "text": [
      "Processing image //vector.e3b.columbia.edu/e3b/Globus Database/UWIN Tagged Photos/batch_004/VID30086-00397.jpg\n"
     ]
    },
    {
     "name": "stderr",
     "output_type": "stream",
     "text": [
      " 60%|███████████████████████████████████████████████▏                               | 751/1256 [13:15<09:08,  1.09s/it]"
     ]
    },
    {
     "name": "stdout",
     "output_type": "stream",
     "text": [
      "Processing image //vector.e3b.columbia.edu/e3b/Globus Database/UWIN Tagged Photos/batch_004/VID30086-00398.jpg\n"
     ]
    },
    {
     "name": "stderr",
     "output_type": "stream",
     "text": [
      " 60%|███████████████████████████████████████████████▎                               | 752/1256 [13:16<09:03,  1.08s/it]"
     ]
    },
    {
     "name": "stdout",
     "output_type": "stream",
     "text": [
      "Processing image //vector.e3b.columbia.edu/e3b/Globus Database/UWIN Tagged Photos/batch_004/VID30086-00399.jpg\n"
     ]
    },
    {
     "name": "stderr",
     "output_type": "stream",
     "text": [
      " 60%|███████████████████████████████████████████████▎                               | 753/1256 [13:17<09:10,  1.09s/it]"
     ]
    },
    {
     "name": "stdout",
     "output_type": "stream",
     "text": [
      "Processing image //vector.e3b.columbia.edu/e3b/Globus Database/UWIN Tagged Photos/batch_004/VID30086-00400.jpg\n"
     ]
    },
    {
     "name": "stderr",
     "output_type": "stream",
     "text": [
      " 60%|███████████████████████████████████████████████▍                               | 754/1256 [13:18<09:05,  1.09s/it]"
     ]
    },
    {
     "name": "stdout",
     "output_type": "stream",
     "text": [
      "Processing image //vector.e3b.columbia.edu/e3b/Globus Database/UWIN Tagged Photos/batch_004/VID30086-00401.jpg\n"
     ]
    },
    {
     "name": "stderr",
     "output_type": "stream",
     "text": [
      " 60%|███████████████████████████████████████████████▍                               | 755/1256 [13:19<09:04,  1.09s/it]"
     ]
    },
    {
     "name": "stdout",
     "output_type": "stream",
     "text": [
      "Processing image //vector.e3b.columbia.edu/e3b/Globus Database/UWIN Tagged Photos/batch_004/VID30086-00402.jpg\n"
     ]
    },
    {
     "name": "stderr",
     "output_type": "stream",
     "text": [
      " 60%|███████████████████████████████████████████████▌                               | 756/1256 [13:20<09:02,  1.09s/it]"
     ]
    },
    {
     "name": "stdout",
     "output_type": "stream",
     "text": [
      "Processing image //vector.e3b.columbia.edu/e3b/Globus Database/UWIN Tagged Photos/batch_004/VID30086-00403.jpg\n"
     ]
    },
    {
     "name": "stderr",
     "output_type": "stream",
     "text": [
      " 60%|███████████████████████████████████████████████▌                               | 757/1256 [13:21<08:56,  1.07s/it]"
     ]
    },
    {
     "name": "stdout",
     "output_type": "stream",
     "text": [
      "Processing image //vector.e3b.columbia.edu/e3b/Globus Database/UWIN Tagged Photos/batch_004/VID30086-00404.jpg\n"
     ]
    },
    {
     "name": "stderr",
     "output_type": "stream",
     "text": [
      " 60%|███████████████████████████████████████████████▋                               | 758/1256 [13:22<09:02,  1.09s/it]"
     ]
    },
    {
     "name": "stdout",
     "output_type": "stream",
     "text": [
      "Processing image //vector.e3b.columbia.edu/e3b/Globus Database/UWIN Tagged Photos/batch_004/VID30086-00405.jpg\n"
     ]
    },
    {
     "name": "stderr",
     "output_type": "stream",
     "text": [
      " 60%|███████████████████████████████████████████████▋                               | 759/1256 [13:23<09:06,  1.10s/it]"
     ]
    },
    {
     "name": "stdout",
     "output_type": "stream",
     "text": [
      "Processing image //vector.e3b.columbia.edu/e3b/Globus Database/UWIN Tagged Photos/batch_004/VID30086-00406.jpg\n"
     ]
    },
    {
     "name": "stderr",
     "output_type": "stream",
     "text": [
      " 61%|███████████████████████████████████████████████▊                               | 760/1256 [13:24<09:04,  1.10s/it]"
     ]
    },
    {
     "name": "stdout",
     "output_type": "stream",
     "text": [
      "Processing image //vector.e3b.columbia.edu/e3b/Globus Database/UWIN Tagged Photos/batch_004/VID30086-00407.jpg\n"
     ]
    },
    {
     "name": "stderr",
     "output_type": "stream",
     "text": [
      " 61%|███████████████████████████████████████████████▊                               | 761/1256 [13:26<09:06,  1.10s/it]"
     ]
    },
    {
     "name": "stdout",
     "output_type": "stream",
     "text": [
      "Processing image //vector.e3b.columbia.edu/e3b/Globus Database/UWIN Tagged Photos/batch_004/VID30086-00408.jpg\n"
     ]
    },
    {
     "name": "stderr",
     "output_type": "stream",
     "text": [
      " 61%|███████████████████████████████████████████████▉                               | 762/1256 [13:27<08:59,  1.09s/it]"
     ]
    },
    {
     "name": "stdout",
     "output_type": "stream",
     "text": [
      "Processing image //vector.e3b.columbia.edu/e3b/Globus Database/UWIN Tagged Photos/batch_004/VID30086-00409.jpg\n"
     ]
    },
    {
     "name": "stderr",
     "output_type": "stream",
     "text": [
      " 61%|███████████████████████████████████████████████▉                               | 763/1256 [13:28<09:07,  1.11s/it]"
     ]
    },
    {
     "name": "stdout",
     "output_type": "stream",
     "text": [
      "Processing image //vector.e3b.columbia.edu/e3b/Globus Database/UWIN Tagged Photos/batch_004/VID30086-00410.jpg\n"
     ]
    },
    {
     "name": "stderr",
     "output_type": "stream",
     "text": [
      " 61%|████████████████████████████████████████████████                               | 764/1256 [13:29<09:03,  1.10s/it]"
     ]
    },
    {
     "name": "stdout",
     "output_type": "stream",
     "text": [
      "Processing image //vector.e3b.columbia.edu/e3b/Globus Database/UWIN Tagged Photos/batch_004/VID30086-00411.jpg\n"
     ]
    },
    {
     "name": "stderr",
     "output_type": "stream",
     "text": [
      " 61%|████████████████████████████████████████████████                               | 765/1256 [13:30<09:00,  1.10s/it]"
     ]
    },
    {
     "name": "stdout",
     "output_type": "stream",
     "text": [
      "Processing image //vector.e3b.columbia.edu/e3b/Globus Database/UWIN Tagged Photos/batch_004/VID30086-00412.jpg\n"
     ]
    },
    {
     "name": "stderr",
     "output_type": "stream",
     "text": [
      " 61%|████████████████████████████████████████████████▏                              | 766/1256 [13:31<09:01,  1.10s/it]"
     ]
    },
    {
     "name": "stdout",
     "output_type": "stream",
     "text": [
      "Processing image //vector.e3b.columbia.edu/e3b/Globus Database/UWIN Tagged Photos/batch_004/VID30086-00413.jpg\n"
     ]
    },
    {
     "name": "stderr",
     "output_type": "stream",
     "text": [
      " 61%|████████████████████████████████████████████████▏                              | 767/1256 [13:32<08:55,  1.10s/it]"
     ]
    },
    {
     "name": "stdout",
     "output_type": "stream",
     "text": [
      "Processing image //vector.e3b.columbia.edu/e3b/Globus Database/UWIN Tagged Photos/batch_004/VID30086-00414.jpg\n"
     ]
    },
    {
     "name": "stderr",
     "output_type": "stream",
     "text": [
      " 61%|████████████████████████████████████████████████▎                              | 768/1256 [13:33<08:54,  1.09s/it]"
     ]
    },
    {
     "name": "stdout",
     "output_type": "stream",
     "text": [
      "Processing image //vector.e3b.columbia.edu/e3b/Globus Database/UWIN Tagged Photos/batch_004/VID30086-00415.jpg\n"
     ]
    },
    {
     "name": "stderr",
     "output_type": "stream",
     "text": [
      " 61%|████████████████████████████████████████████████▎                              | 769/1256 [13:34<08:46,  1.08s/it]"
     ]
    },
    {
     "name": "stdout",
     "output_type": "stream",
     "text": [
      "Processing image //vector.e3b.columbia.edu/e3b/Globus Database/UWIN Tagged Photos/batch_004/VID30086-00416.jpg\n"
     ]
    },
    {
     "name": "stderr",
     "output_type": "stream",
     "text": [
      " 61%|████████████████████████████████████████████████▍                              | 770/1256 [13:35<08:47,  1.09s/it]"
     ]
    },
    {
     "name": "stdout",
     "output_type": "stream",
     "text": [
      "Processing image //vector.e3b.columbia.edu/e3b/Globus Database/UWIN Tagged Photos/batch_004/VID30086-00417.jpg\n"
     ]
    },
    {
     "name": "stderr",
     "output_type": "stream",
     "text": [
      " 61%|████████████████████████████████████████████████▍                              | 771/1256 [13:37<08:51,  1.10s/it]"
     ]
    },
    {
     "name": "stdout",
     "output_type": "stream",
     "text": [
      "Processing image //vector.e3b.columbia.edu/e3b/Globus Database/UWIN Tagged Photos/batch_004/VID30086-00418.jpg\n"
     ]
    },
    {
     "name": "stderr",
     "output_type": "stream",
     "text": [
      " 61%|████████████████████████████████████████████████▌                              | 772/1256 [13:38<08:49,  1.09s/it]"
     ]
    },
    {
     "name": "stdout",
     "output_type": "stream",
     "text": [
      "Processing image //vector.e3b.columbia.edu/e3b/Globus Database/UWIN Tagged Photos/batch_004/VID30086-00419.jpg\n"
     ]
    },
    {
     "name": "stderr",
     "output_type": "stream",
     "text": [
      " 62%|████████████████████████████████████████████████▌                              | 773/1256 [13:39<08:47,  1.09s/it]"
     ]
    },
    {
     "name": "stdout",
     "output_type": "stream",
     "text": [
      "Processing image //vector.e3b.columbia.edu/e3b/Globus Database/UWIN Tagged Photos/batch_004/VID30086-00420.jpg\n"
     ]
    },
    {
     "name": "stderr",
     "output_type": "stream",
     "text": [
      " 62%|████████████████████████████████████████████████▋                              | 774/1256 [13:40<08:45,  1.09s/it]"
     ]
    },
    {
     "name": "stdout",
     "output_type": "stream",
     "text": [
      "Processing image //vector.e3b.columbia.edu/e3b/Globus Database/UWIN Tagged Photos/batch_004/VID30086-00421.jpg\n"
     ]
    },
    {
     "name": "stderr",
     "output_type": "stream",
     "text": [
      " 62%|████████████████████████████████████████████████▋                              | 775/1256 [13:41<08:41,  1.08s/it]"
     ]
    },
    {
     "name": "stdout",
     "output_type": "stream",
     "text": [
      "Processing image //vector.e3b.columbia.edu/e3b/Globus Database/UWIN Tagged Photos/batch_004/VID30086-00422.jpg\n"
     ]
    },
    {
     "name": "stderr",
     "output_type": "stream",
     "text": [
      " 62%|████████████████████████████████████████████████▊                              | 776/1256 [13:42<08:36,  1.08s/it]"
     ]
    },
    {
     "name": "stdout",
     "output_type": "stream",
     "text": [
      "Processing image //vector.e3b.columbia.edu/e3b/Globus Database/UWIN Tagged Photos/batch_004/VID30086-00423.jpg\n"
     ]
    },
    {
     "name": "stderr",
     "output_type": "stream",
     "text": [
      " 62%|████████████████████████████████████████████████▊                              | 777/1256 [13:43<08:38,  1.08s/it]"
     ]
    },
    {
     "name": "stdout",
     "output_type": "stream",
     "text": [
      "Processing image //vector.e3b.columbia.edu/e3b/Globus Database/UWIN Tagged Photos/batch_004/VID30086-00424.jpg\n"
     ]
    },
    {
     "name": "stderr",
     "output_type": "stream",
     "text": [
      " 62%|████████████████████████████████████████████████▉                              | 778/1256 [13:44<08:38,  1.08s/it]"
     ]
    },
    {
     "name": "stdout",
     "output_type": "stream",
     "text": [
      "Processing image //vector.e3b.columbia.edu/e3b/Globus Database/UWIN Tagged Photos/batch_004/VID30086-00425.jpg\n"
     ]
    },
    {
     "name": "stderr",
     "output_type": "stream",
     "text": [
      " 62%|████████████████████████████████████████████████▉                              | 779/1256 [13:45<08:32,  1.07s/it]"
     ]
    },
    {
     "name": "stdout",
     "output_type": "stream",
     "text": [
      "Processing image //vector.e3b.columbia.edu/e3b/Globus Database/UWIN Tagged Photos/batch_004/VID30086-00426.jpg\n"
     ]
    },
    {
     "name": "stderr",
     "output_type": "stream",
     "text": [
      " 62%|█████████████████████████████████████████████████                              | 780/1256 [13:46<08:38,  1.09s/it]"
     ]
    },
    {
     "name": "stdout",
     "output_type": "stream",
     "text": [
      "Processing image //vector.e3b.columbia.edu/e3b/Globus Database/UWIN Tagged Photos/batch_004/VID30086-00427.jpg\n"
     ]
    },
    {
     "name": "stderr",
     "output_type": "stream",
     "text": [
      " 62%|█████████████████████████████████████████████████                              | 781/1256 [13:47<08:35,  1.09s/it]"
     ]
    },
    {
     "name": "stdout",
     "output_type": "stream",
     "text": [
      "Processing image //vector.e3b.columbia.edu/e3b/Globus Database/UWIN Tagged Photos/batch_004/VID30086-00428.jpg\n"
     ]
    },
    {
     "name": "stderr",
     "output_type": "stream",
     "text": [
      " 62%|█████████████████████████████████████████████████▏                             | 782/1256 [13:48<08:33,  1.08s/it]"
     ]
    },
    {
     "name": "stdout",
     "output_type": "stream",
     "text": [
      "Processing image //vector.e3b.columbia.edu/e3b/Globus Database/UWIN Tagged Photos/batch_004/VID30086-00429.jpg\n"
     ]
    },
    {
     "name": "stderr",
     "output_type": "stream",
     "text": [
      " 62%|█████████████████████████████████████████████████▏                             | 783/1256 [13:50<08:35,  1.09s/it]"
     ]
    },
    {
     "name": "stdout",
     "output_type": "stream",
     "text": [
      "Processing image //vector.e3b.columbia.edu/e3b/Globus Database/UWIN Tagged Photos/batch_004/VID30086-00430.jpg\n"
     ]
    },
    {
     "name": "stderr",
     "output_type": "stream",
     "text": [
      " 62%|█████████████████████████████████████████████████▎                             | 784/1256 [13:51<08:37,  1.10s/it]"
     ]
    },
    {
     "name": "stdout",
     "output_type": "stream",
     "text": [
      "Processing image //vector.e3b.columbia.edu/e3b/Globus Database/UWIN Tagged Photos/batch_004/VID30086-00431.jpg\n"
     ]
    },
    {
     "name": "stderr",
     "output_type": "stream",
     "text": [
      " 62%|█████████████████████████████████████████████████▍                             | 785/1256 [13:52<08:35,  1.09s/it]"
     ]
    },
    {
     "name": "stdout",
     "output_type": "stream",
     "text": [
      "Processing image //vector.e3b.columbia.edu/e3b/Globus Database/UWIN Tagged Photos/batch_004/VID30086-00432.jpg\n"
     ]
    },
    {
     "name": "stderr",
     "output_type": "stream",
     "text": [
      " 63%|█████████████████████████████████████████████████▍                             | 786/1256 [13:53<08:33,  1.09s/it]"
     ]
    },
    {
     "name": "stdout",
     "output_type": "stream",
     "text": [
      "Processing image //vector.e3b.columbia.edu/e3b/Globus Database/UWIN Tagged Photos/batch_004/VID30086-00433.jpg\n"
     ]
    },
    {
     "name": "stderr",
     "output_type": "stream",
     "text": [
      " 63%|█████████████████████████████████████████████████▌                             | 787/1256 [13:54<08:36,  1.10s/it]"
     ]
    },
    {
     "name": "stdout",
     "output_type": "stream",
     "text": [
      "Processing image //vector.e3b.columbia.edu/e3b/Globus Database/UWIN Tagged Photos/batch_004/VID30086-00434.jpg\n"
     ]
    },
    {
     "name": "stderr",
     "output_type": "stream",
     "text": [
      " 63%|█████████████████████████████████████████████████▌                             | 788/1256 [13:55<08:34,  1.10s/it]"
     ]
    },
    {
     "name": "stdout",
     "output_type": "stream",
     "text": [
      "Processing image //vector.e3b.columbia.edu/e3b/Globus Database/UWIN Tagged Photos/batch_004/VID30086-00435.jpg\n"
     ]
    },
    {
     "name": "stderr",
     "output_type": "stream",
     "text": [
      " 63%|█████████████████████████████████████████████████▋                             | 789/1256 [13:56<08:32,  1.10s/it]"
     ]
    },
    {
     "name": "stdout",
     "output_type": "stream",
     "text": [
      "Processing image //vector.e3b.columbia.edu/e3b/Globus Database/UWIN Tagged Photos/batch_004/VID30086-00436.jpg\n"
     ]
    },
    {
     "name": "stderr",
     "output_type": "stream",
     "text": [
      " 63%|█████████████████████████████████████████████████▋                             | 790/1256 [13:57<08:22,  1.08s/it]"
     ]
    },
    {
     "name": "stdout",
     "output_type": "stream",
     "text": [
      "Processing image //vector.e3b.columbia.edu/e3b/Globus Database/UWIN Tagged Photos/batch_004/VID30086-00437.jpg\n"
     ]
    },
    {
     "name": "stderr",
     "output_type": "stream",
     "text": [
      " 63%|█████████████████████████████████████████████████▊                             | 791/1256 [13:58<08:16,  1.07s/it]"
     ]
    },
    {
     "name": "stdout",
     "output_type": "stream",
     "text": [
      "Processing image //vector.e3b.columbia.edu/e3b/Globus Database/UWIN Tagged Photos/batch_004/VID30086-00438.jpg\n"
     ]
    },
    {
     "name": "stderr",
     "output_type": "stream",
     "text": [
      " 63%|█████████████████████████████████████████████████▊                             | 792/1256 [13:59<08:10,  1.06s/it]"
     ]
    },
    {
     "name": "stdout",
     "output_type": "stream",
     "text": [
      "Processing image //vector.e3b.columbia.edu/e3b/Globus Database/UWIN Tagged Photos/batch_004/VID30086-00439.jpg\n"
     ]
    },
    {
     "name": "stderr",
     "output_type": "stream",
     "text": [
      " 63%|█████████████████████████████████████████████████▉                             | 793/1256 [14:00<08:17,  1.07s/it]"
     ]
    },
    {
     "name": "stdout",
     "output_type": "stream",
     "text": [
      "Processing image //vector.e3b.columbia.edu/e3b/Globus Database/UWIN Tagged Photos/batch_004/VID30086-00440.jpg\n"
     ]
    },
    {
     "name": "stderr",
     "output_type": "stream",
     "text": [
      " 63%|█████████████████████████████████████████████████▉                             | 794/1256 [14:02<08:23,  1.09s/it]"
     ]
    },
    {
     "name": "stdout",
     "output_type": "stream",
     "text": [
      "Processing image //vector.e3b.columbia.edu/e3b/Globus Database/UWIN Tagged Photos/batch_004/VID30086-00441.jpg\n"
     ]
    },
    {
     "name": "stderr",
     "output_type": "stream",
     "text": [
      " 63%|██████████████████████████████████████████████████                             | 795/1256 [14:03<08:24,  1.09s/it]"
     ]
    },
    {
     "name": "stdout",
     "output_type": "stream",
     "text": [
      "Processing image //vector.e3b.columbia.edu/e3b/Globus Database/UWIN Tagged Photos/batch_004/VID30086-00442.jpg\n"
     ]
    },
    {
     "name": "stderr",
     "output_type": "stream",
     "text": [
      " 63%|██████████████████████████████████████████████████                             | 796/1256 [14:04<08:22,  1.09s/it]"
     ]
    },
    {
     "name": "stdout",
     "output_type": "stream",
     "text": [
      "Processing image //vector.e3b.columbia.edu/e3b/Globus Database/UWIN Tagged Photos/batch_004/VID30086-00443.jpg\n"
     ]
    },
    {
     "name": "stderr",
     "output_type": "stream",
     "text": [
      " 63%|██████████████████████████████████████████████████▏                            | 797/1256 [14:05<08:17,  1.08s/it]"
     ]
    },
    {
     "name": "stdout",
     "output_type": "stream",
     "text": [
      "Processing image //vector.e3b.columbia.edu/e3b/Globus Database/UWIN Tagged Photos/batch_004/VID30086-00444.jpg\n"
     ]
    },
    {
     "name": "stderr",
     "output_type": "stream",
     "text": [
      " 64%|██████████████████████████████████████████████████▏                            | 798/1256 [14:06<08:20,  1.09s/it]"
     ]
    },
    {
     "name": "stdout",
     "output_type": "stream",
     "text": [
      "Processing image //vector.e3b.columbia.edu/e3b/Globus Database/UWIN Tagged Photos/batch_004/VID30086-00445.jpg\n"
     ]
    },
    {
     "name": "stderr",
     "output_type": "stream",
     "text": [
      " 64%|██████████████████████████████████████████████████▎                            | 799/1256 [14:07<08:18,  1.09s/it]"
     ]
    },
    {
     "name": "stdout",
     "output_type": "stream",
     "text": [
      "Processing image //vector.e3b.columbia.edu/e3b/Globus Database/UWIN Tagged Photos/batch_004/VID30086-00446.jpg\n"
     ]
    },
    {
     "name": "stderr",
     "output_type": "stream",
     "text": [
      " 64%|██████████████████████████████████████████████████▎                            | 800/1256 [14:08<08:16,  1.09s/it]"
     ]
    },
    {
     "name": "stdout",
     "output_type": "stream",
     "text": [
      "Processing image //vector.e3b.columbia.edu/e3b/Globus Database/UWIN Tagged Photos/batch_004/VID30086-00447.jpg\n"
     ]
    },
    {
     "name": "stderr",
     "output_type": "stream",
     "text": [
      " 64%|██████████████████████████████████████████████████▍                            | 801/1256 [14:09<08:18,  1.10s/it]"
     ]
    },
    {
     "name": "stdout",
     "output_type": "stream",
     "text": [
      "Processing image //vector.e3b.columbia.edu/e3b/Globus Database/UWIN Tagged Photos/batch_004/VID30086-00448.jpg\n"
     ]
    },
    {
     "name": "stderr",
     "output_type": "stream",
     "text": [
      " 64%|██████████████████████████████████████████████████▍                            | 802/1256 [14:10<08:15,  1.09s/it]"
     ]
    },
    {
     "name": "stdout",
     "output_type": "stream",
     "text": [
      "Processing image //vector.e3b.columbia.edu/e3b/Globus Database/UWIN Tagged Photos/batch_004/VID30086-00449.jpg\n"
     ]
    },
    {
     "name": "stderr",
     "output_type": "stream",
     "text": [
      " 64%|██████████████████████████████████████████████████▌                            | 803/1256 [14:11<08:14,  1.09s/it]"
     ]
    },
    {
     "name": "stdout",
     "output_type": "stream",
     "text": [
      "Processing image //vector.e3b.columbia.edu/e3b/Globus Database/UWIN Tagged Photos/batch_004/VID30086-00450.jpg\n"
     ]
    },
    {
     "name": "stderr",
     "output_type": "stream",
     "text": [
      " 64%|██████████████████████████████████████████████████▌                            | 804/1256 [14:12<08:20,  1.11s/it]"
     ]
    },
    {
     "name": "stdout",
     "output_type": "stream",
     "text": [
      "Processing image //vector.e3b.columbia.edu/e3b/Globus Database/UWIN Tagged Photos/batch_004/VID30086-00451.jpg\n"
     ]
    },
    {
     "name": "stderr",
     "output_type": "stream",
     "text": [
      " 64%|██████████████████████████████████████████████████▋                            | 805/1256 [14:14<08:13,  1.09s/it]"
     ]
    },
    {
     "name": "stdout",
     "output_type": "stream",
     "text": [
      "Processing image //vector.e3b.columbia.edu/e3b/Globus Database/UWIN Tagged Photos/batch_004/VID30086-00452.jpg\n"
     ]
    },
    {
     "name": "stderr",
     "output_type": "stream",
     "text": [
      " 64%|██████████████████████████████████████████████████▋                            | 806/1256 [14:15<08:11,  1.09s/it]"
     ]
    },
    {
     "name": "stdout",
     "output_type": "stream",
     "text": [
      "Processing image //vector.e3b.columbia.edu/e3b/Globus Database/UWIN Tagged Photos/batch_004/VID30086-00453.jpg\n"
     ]
    },
    {
     "name": "stderr",
     "output_type": "stream",
     "text": [
      " 64%|██████████████████████████████████████████████████▊                            | 807/1256 [14:16<08:08,  1.09s/it]"
     ]
    },
    {
     "name": "stdout",
     "output_type": "stream",
     "text": [
      "Processing image //vector.e3b.columbia.edu/e3b/Globus Database/UWIN Tagged Photos/batch_004/VID30086-00454.jpg\n"
     ]
    },
    {
     "name": "stderr",
     "output_type": "stream",
     "text": [
      " 64%|██████████████████████████████████████████████████▊                            | 808/1256 [14:17<08:02,  1.08s/it]"
     ]
    },
    {
     "name": "stdout",
     "output_type": "stream",
     "text": [
      "Processing image //vector.e3b.columbia.edu/e3b/Globus Database/UWIN Tagged Photos/batch_004/VID30086-00455.jpg\n"
     ]
    },
    {
     "name": "stderr",
     "output_type": "stream",
     "text": [
      " 64%|██████████████████████████████████████████████████▉                            | 809/1256 [14:18<07:58,  1.07s/it]"
     ]
    },
    {
     "name": "stdout",
     "output_type": "stream",
     "text": [
      "Processing image //vector.e3b.columbia.edu/e3b/Globus Database/UWIN Tagged Photos/batch_004/VID30086-00456.jpg\n"
     ]
    },
    {
     "name": "stderr",
     "output_type": "stream",
     "text": [
      " 64%|██████████████████████████████████████████████████▉                            | 810/1256 [14:19<07:50,  1.05s/it]"
     ]
    },
    {
     "name": "stdout",
     "output_type": "stream",
     "text": [
      "Processing image //vector.e3b.columbia.edu/e3b/Globus Database/UWIN Tagged Photos/batch_004/VID30086-00457.jpg\n"
     ]
    },
    {
     "name": "stderr",
     "output_type": "stream",
     "text": [
      " 65%|███████████████████████████████████████████████████                            | 811/1256 [14:20<07:49,  1.06s/it]"
     ]
    },
    {
     "name": "stdout",
     "output_type": "stream",
     "text": [
      "Processing image //vector.e3b.columbia.edu/e3b/Globus Database/UWIN Tagged Photos/batch_004/VID30086-00458.jpg\n"
     ]
    },
    {
     "name": "stderr",
     "output_type": "stream",
     "text": [
      " 65%|███████████████████████████████████████████████████                            | 812/1256 [14:21<07:44,  1.05s/it]"
     ]
    },
    {
     "name": "stdout",
     "output_type": "stream",
     "text": [
      "Processing image //vector.e3b.columbia.edu/e3b/Globus Database/UWIN Tagged Photos/batch_004/VID30086-00459.jpg\n"
     ]
    },
    {
     "name": "stderr",
     "output_type": "stream",
     "text": [
      " 65%|███████████████████████████████████████████████████▏                           | 813/1256 [14:22<07:42,  1.04s/it]"
     ]
    },
    {
     "name": "stdout",
     "output_type": "stream",
     "text": [
      "Processing image //vector.e3b.columbia.edu/e3b/Globus Database/UWIN Tagged Photos/batch_004/VID30086-00460.jpg\n"
     ]
    },
    {
     "name": "stderr",
     "output_type": "stream",
     "text": [
      " 65%|███████████████████████████████████████████████████▏                           | 814/1256 [14:23<07:40,  1.04s/it]"
     ]
    },
    {
     "name": "stdout",
     "output_type": "stream",
     "text": [
      "Processing image //vector.e3b.columbia.edu/e3b/Globus Database/UWIN Tagged Photos/batch_004/VID30086-00461.jpg\n"
     ]
    },
    {
     "name": "stderr",
     "output_type": "stream",
     "text": [
      " 65%|███████████████████████████████████████████████████▎                           | 815/1256 [14:24<07:39,  1.04s/it]"
     ]
    },
    {
     "name": "stdout",
     "output_type": "stream",
     "text": [
      "Processing image //vector.e3b.columbia.edu/e3b/Globus Database/UWIN Tagged Photos/batch_004/VID30086-00462.jpg\n"
     ]
    },
    {
     "name": "stderr",
     "output_type": "stream",
     "text": [
      " 65%|███████████████████████████████████████████████████▎                           | 816/1256 [14:25<07:37,  1.04s/it]"
     ]
    },
    {
     "name": "stdout",
     "output_type": "stream",
     "text": [
      "Processing image //vector.e3b.columbia.edu/e3b/Globus Database/UWIN Tagged Photos/batch_004/VID30086-00463.jpg\n"
     ]
    },
    {
     "name": "stderr",
     "output_type": "stream",
     "text": [
      " 65%|███████████████████████████████████████████████████▍                           | 817/1256 [14:26<07:35,  1.04s/it]"
     ]
    },
    {
     "name": "stdout",
     "output_type": "stream",
     "text": [
      "Processing image //vector.e3b.columbia.edu/e3b/Globus Database/UWIN Tagged Photos/batch_004/VID30086-00464.jpg\n"
     ]
    },
    {
     "name": "stderr",
     "output_type": "stream",
     "text": [
      " 65%|███████████████████████████████████████████████████▍                           | 818/1256 [14:27<07:35,  1.04s/it]"
     ]
    },
    {
     "name": "stdout",
     "output_type": "stream",
     "text": [
      "Processing image //vector.e3b.columbia.edu/e3b/Globus Database/UWIN Tagged Photos/batch_004/VID30086-00465.jpg\n"
     ]
    },
    {
     "name": "stderr",
     "output_type": "stream",
     "text": [
      " 65%|███████████████████████████████████████████████████▌                           | 819/1256 [14:28<07:33,  1.04s/it]"
     ]
    },
    {
     "name": "stdout",
     "output_type": "stream",
     "text": [
      "Processing image //vector.e3b.columbia.edu/e3b/Globus Database/UWIN Tagged Photos/batch_004/VID30086-00466.jpg\n"
     ]
    },
    {
     "name": "stderr",
     "output_type": "stream",
     "text": [
      " 65%|███████████████████████████████████████████████████▌                           | 820/1256 [14:29<07:33,  1.04s/it]"
     ]
    },
    {
     "name": "stdout",
     "output_type": "stream",
     "text": [
      "Processing image //vector.e3b.columbia.edu/e3b/Globus Database/UWIN Tagged Photos/batch_004/VID30086-00467.jpg\n"
     ]
    },
    {
     "name": "stderr",
     "output_type": "stream",
     "text": [
      " 65%|███████████████████████████████████████████████████▋                           | 821/1256 [14:30<07:35,  1.05s/it]"
     ]
    },
    {
     "name": "stdout",
     "output_type": "stream",
     "text": [
      "Processing image //vector.e3b.columbia.edu/e3b/Globus Database/UWIN Tagged Photos/batch_004/VID30086-00468.jpg\n"
     ]
    },
    {
     "name": "stderr",
     "output_type": "stream",
     "text": [
      " 65%|███████████████████████████████████████████████████▋                           | 822/1256 [14:31<07:36,  1.05s/it]"
     ]
    },
    {
     "name": "stdout",
     "output_type": "stream",
     "text": [
      "Processing image //vector.e3b.columbia.edu/e3b/Globus Database/UWIN Tagged Photos/batch_004/VID30086-00469.jpg\n"
     ]
    },
    {
     "name": "stderr",
     "output_type": "stream",
     "text": [
      " 66%|███████████████████████████████████████████████████▊                           | 823/1256 [14:32<07:38,  1.06s/it]"
     ]
    },
    {
     "name": "stdout",
     "output_type": "stream",
     "text": [
      "Processing image //vector.e3b.columbia.edu/e3b/Globus Database/UWIN Tagged Photos/batch_004/VID30086-00470.jpg\n"
     ]
    },
    {
     "name": "stderr",
     "output_type": "stream",
     "text": [
      " 66%|███████████████████████████████████████████████████▊                           | 824/1256 [14:34<07:39,  1.06s/it]"
     ]
    },
    {
     "name": "stdout",
     "output_type": "stream",
     "text": [
      "Processing image //vector.e3b.columbia.edu/e3b/Globus Database/UWIN Tagged Photos/batch_004/VID30086-00471.jpg\n"
     ]
    },
    {
     "name": "stderr",
     "output_type": "stream",
     "text": [
      " 66%|███████████████████████████████████████████████████▉                           | 825/1256 [14:35<07:39,  1.07s/it]"
     ]
    },
    {
     "name": "stdout",
     "output_type": "stream",
     "text": [
      "Processing image //vector.e3b.columbia.edu/e3b/Globus Database/UWIN Tagged Photos/batch_004/VID30086-00472.jpg\n"
     ]
    },
    {
     "name": "stderr",
     "output_type": "stream",
     "text": [
      " 66%|███████████████████████████████████████████████████▉                           | 826/1256 [14:36<07:40,  1.07s/it]"
     ]
    },
    {
     "name": "stdout",
     "output_type": "stream",
     "text": [
      "Processing image //vector.e3b.columbia.edu/e3b/Globus Database/UWIN Tagged Photos/batch_004/VID30086-00473.jpg\n"
     ]
    },
    {
     "name": "stderr",
     "output_type": "stream",
     "text": [
      " 66%|████████████████████████████████████████████████████                           | 827/1256 [14:37<07:36,  1.07s/it]"
     ]
    },
    {
     "name": "stdout",
     "output_type": "stream",
     "text": [
      "Processing image //vector.e3b.columbia.edu/e3b/Globus Database/UWIN Tagged Photos/batch_004/VID30086-00474.jpg\n"
     ]
    },
    {
     "name": "stderr",
     "output_type": "stream",
     "text": [
      " 66%|████████████████████████████████████████████████████                           | 828/1256 [14:38<07:34,  1.06s/it]"
     ]
    },
    {
     "name": "stdout",
     "output_type": "stream",
     "text": [
      "Processing image //vector.e3b.columbia.edu/e3b/Globus Database/UWIN Tagged Photos/batch_004/VID30086-00475.jpg\n"
     ]
    },
    {
     "name": "stderr",
     "output_type": "stream",
     "text": [
      " 66%|████████████████████████████████████████████████████▏                          | 829/1256 [14:39<07:28,  1.05s/it]"
     ]
    },
    {
     "name": "stdout",
     "output_type": "stream",
     "text": [
      "Processing image //vector.e3b.columbia.edu/e3b/Globus Database/UWIN Tagged Photos/batch_004/VID30086-00476.jpg\n"
     ]
    },
    {
     "name": "stderr",
     "output_type": "stream",
     "text": [
      " 66%|████████████████████████████████████████████████████▏                          | 830/1256 [14:40<07:26,  1.05s/it]"
     ]
    },
    {
     "name": "stdout",
     "output_type": "stream",
     "text": [
      "Processing image //vector.e3b.columbia.edu/e3b/Globus Database/UWIN Tagged Photos/batch_004/VID30086-00477.jpg\n"
     ]
    },
    {
     "name": "stderr",
     "output_type": "stream",
     "text": [
      " 66%|████████████████████████████████████████████████████▎                          | 831/1256 [14:41<07:23,  1.04s/it]"
     ]
    },
    {
     "name": "stdout",
     "output_type": "stream",
     "text": [
      "Processing image //vector.e3b.columbia.edu/e3b/Globus Database/UWIN Tagged Photos/batch_004/VID30086-00478.jpg\n"
     ]
    },
    {
     "name": "stderr",
     "output_type": "stream",
     "text": [
      " 66%|████████████████████████████████████████████████████▎                          | 832/1256 [14:42<07:22,  1.04s/it]"
     ]
    },
    {
     "name": "stdout",
     "output_type": "stream",
     "text": [
      "Processing image //vector.e3b.columbia.edu/e3b/Globus Database/UWIN Tagged Photos/batch_004/VID30086-00479.jpg\n"
     ]
    },
    {
     "name": "stderr",
     "output_type": "stream",
     "text": [
      " 66%|████████████████████████████████████████████████████▍                          | 833/1256 [14:43<07:22,  1.05s/it]"
     ]
    },
    {
     "name": "stdout",
     "output_type": "stream",
     "text": [
      "Processing image //vector.e3b.columbia.edu/e3b/Globus Database/UWIN Tagged Photos/batch_004/VID30086-00480.jpg\n"
     ]
    },
    {
     "name": "stderr",
     "output_type": "stream",
     "text": [
      " 66%|████████████████████████████████████████████████████▍                          | 834/1256 [14:44<07:29,  1.07s/it]"
     ]
    },
    {
     "name": "stdout",
     "output_type": "stream",
     "text": [
      "Processing image //vector.e3b.columbia.edu/e3b/Globus Database/UWIN Tagged Photos/batch_004/VID30086-00481.jpg\n"
     ]
    },
    {
     "name": "stderr",
     "output_type": "stream",
     "text": [
      " 66%|████████████████████████████████████████████████████▌                          | 835/1256 [14:45<07:31,  1.07s/it]"
     ]
    },
    {
     "name": "stdout",
     "output_type": "stream",
     "text": [
      "Processing image //vector.e3b.columbia.edu/e3b/Globus Database/UWIN Tagged Photos/batch_004/VID30086-00482.jpg\n"
     ]
    },
    {
     "name": "stderr",
     "output_type": "stream",
     "text": [
      " 67%|████████████████████████████████████████████████████▌                          | 836/1256 [14:46<07:29,  1.07s/it]"
     ]
    },
    {
     "name": "stdout",
     "output_type": "stream",
     "text": [
      "Processing image //vector.e3b.columbia.edu/e3b/Globus Database/UWIN Tagged Photos/batch_004/VID30086-00483.jpg\n"
     ]
    },
    {
     "name": "stderr",
     "output_type": "stream",
     "text": [
      " 67%|████████████████████████████████████████████████████▋                          | 837/1256 [14:47<07:31,  1.08s/it]"
     ]
    },
    {
     "name": "stdout",
     "output_type": "stream",
     "text": [
      "Processing image //vector.e3b.columbia.edu/e3b/Globus Database/UWIN Tagged Photos/batch_004/VID30086-00484.jpg\n"
     ]
    },
    {
     "name": "stderr",
     "output_type": "stream",
     "text": [
      " 67%|████████████████████████████████████████████████████▋                          | 838/1256 [14:48<07:32,  1.08s/it]"
     ]
    },
    {
     "name": "stdout",
     "output_type": "stream",
     "text": [
      "Processing image //vector.e3b.columbia.edu/e3b/Globus Database/UWIN Tagged Photos/batch_004/VID30086-00485.jpg\n"
     ]
    },
    {
     "name": "stderr",
     "output_type": "stream",
     "text": [
      " 67%|████████████████████████████████████████████████████▊                          | 839/1256 [14:50<07:33,  1.09s/it]"
     ]
    },
    {
     "name": "stdout",
     "output_type": "stream",
     "text": [
      "Processing image //vector.e3b.columbia.edu/e3b/Globus Database/UWIN Tagged Photos/batch_004/VID30086-00486.jpg\n"
     ]
    },
    {
     "name": "stderr",
     "output_type": "stream",
     "text": [
      " 67%|████████████████████████████████████████████████████▊                          | 840/1256 [14:51<07:25,  1.07s/it]"
     ]
    },
    {
     "name": "stdout",
     "output_type": "stream",
     "text": [
      "Processing image //vector.e3b.columbia.edu/e3b/Globus Database/UWIN Tagged Photos/batch_004/VID30086-00487.jpg\n"
     ]
    },
    {
     "name": "stderr",
     "output_type": "stream",
     "text": [
      " 67%|████████████████████████████████████████████████████▉                          | 841/1256 [14:52<07:25,  1.07s/it]"
     ]
    },
    {
     "name": "stdout",
     "output_type": "stream",
     "text": [
      "Processing image //vector.e3b.columbia.edu/e3b/Globus Database/UWIN Tagged Photos/batch_004/VID30086-00488.jpg\n"
     ]
    },
    {
     "name": "stderr",
     "output_type": "stream",
     "text": [
      " 67%|████████████████████████████████████████████████████▉                          | 842/1256 [14:53<07:30,  1.09s/it]"
     ]
    },
    {
     "name": "stdout",
     "output_type": "stream",
     "text": [
      "Processing image //vector.e3b.columbia.edu/e3b/Globus Database/UWIN Tagged Photos/batch_004/VID30086-00489.jpg\n"
     ]
    },
    {
     "name": "stderr",
     "output_type": "stream",
     "text": [
      " 67%|█████████████████████████████████████████████████████                          | 843/1256 [14:54<07:20,  1.07s/it]"
     ]
    },
    {
     "name": "stdout",
     "output_type": "stream",
     "text": [
      "Processing image //vector.e3b.columbia.edu/e3b/Globus Database/UWIN Tagged Photos/batch_004/VID30086-00490.jpg\n"
     ]
    },
    {
     "name": "stderr",
     "output_type": "stream",
     "text": [
      " 67%|█████████████████████████████████████████████████████                          | 844/1256 [14:55<07:15,  1.06s/it]"
     ]
    },
    {
     "name": "stdout",
     "output_type": "stream",
     "text": [
      "Processing image //vector.e3b.columbia.edu/e3b/Globus Database/UWIN Tagged Photos/batch_004/VID30086-00491.jpg\n"
     ]
    },
    {
     "name": "stderr",
     "output_type": "stream",
     "text": [
      " 67%|█████████████████████████████████████████████████████▏                         | 845/1256 [14:56<07:17,  1.06s/it]"
     ]
    },
    {
     "name": "stdout",
     "output_type": "stream",
     "text": [
      "Processing image //vector.e3b.columbia.edu/e3b/Globus Database/UWIN Tagged Photos/batch_004/VID30086-00492.jpg\n"
     ]
    },
    {
     "name": "stderr",
     "output_type": "stream",
     "text": [
      " 67%|█████████████████████████████████████████████████████▏                         | 846/1256 [14:57<07:10,  1.05s/it]"
     ]
    },
    {
     "name": "stdout",
     "output_type": "stream",
     "text": [
      "Processing image //vector.e3b.columbia.edu/e3b/Globus Database/UWIN Tagged Photos/batch_004/VID30086-00493.jpg\n"
     ]
    },
    {
     "name": "stderr",
     "output_type": "stream",
     "text": [
      " 67%|█████████████████████████████████████████████████████▎                         | 847/1256 [14:58<07:09,  1.05s/it]"
     ]
    },
    {
     "name": "stdout",
     "output_type": "stream",
     "text": [
      "Processing image //vector.e3b.columbia.edu/e3b/Globus Database/UWIN Tagged Photos/batch_004/VID30086-00494.jpg\n"
     ]
    },
    {
     "name": "stderr",
     "output_type": "stream",
     "text": [
      " 68%|█████████████████████████████████████████████████████▎                         | 848/1256 [14:59<07:11,  1.06s/it]"
     ]
    },
    {
     "name": "stdout",
     "output_type": "stream",
     "text": [
      "Processing image //vector.e3b.columbia.edu/e3b/Globus Database/UWIN Tagged Photos/batch_004/VID30086-00495.jpg\n"
     ]
    },
    {
     "name": "stderr",
     "output_type": "stream",
     "text": [
      " 68%|█████████████████████████████████████████████████████▍                         | 849/1256 [15:00<07:13,  1.06s/it]"
     ]
    },
    {
     "name": "stdout",
     "output_type": "stream",
     "text": [
      "Processing image //vector.e3b.columbia.edu/e3b/Globus Database/UWIN Tagged Photos/batch_004/VID30086-00496.jpg\n"
     ]
    },
    {
     "name": "stderr",
     "output_type": "stream",
     "text": [
      " 68%|█████████████████████████████████████████████████████▍                         | 850/1256 [15:01<07:11,  1.06s/it]"
     ]
    },
    {
     "name": "stdout",
     "output_type": "stream",
     "text": [
      "Processing image //vector.e3b.columbia.edu/e3b/Globus Database/UWIN Tagged Photos/batch_004/VID30086-00497.jpg\n"
     ]
    },
    {
     "name": "stderr",
     "output_type": "stream",
     "text": [
      " 68%|█████████████████████████████████████████████████████▌                         | 851/1256 [15:02<07:08,  1.06s/it]"
     ]
    },
    {
     "name": "stdout",
     "output_type": "stream",
     "text": [
      "Processing image //vector.e3b.columbia.edu/e3b/Globus Database/UWIN Tagged Photos/batch_004/VID30086-00498.jpg\n"
     ]
    },
    {
     "name": "stderr",
     "output_type": "stream",
     "text": [
      " 68%|█████████████████████████████████████████████████████▌                         | 852/1256 [15:03<07:08,  1.06s/it]"
     ]
    },
    {
     "name": "stdout",
     "output_type": "stream",
     "text": [
      "Processing image //vector.e3b.columbia.edu/e3b/Globus Database/UWIN Tagged Photos/batch_004/VID30086-00499.jpg\n"
     ]
    },
    {
     "name": "stderr",
     "output_type": "stream",
     "text": [
      " 68%|█████████████████████████████████████████████████████▋                         | 853/1256 [15:04<07:13,  1.07s/it]"
     ]
    },
    {
     "name": "stdout",
     "output_type": "stream",
     "text": [
      "Processing image //vector.e3b.columbia.edu/e3b/Globus Database/UWIN Tagged Photos/batch_004/VID30086-00500.jpg\n"
     ]
    },
    {
     "name": "stderr",
     "output_type": "stream",
     "text": [
      " 68%|█████████████████████████████████████████████████████▋                         | 854/1256 [15:05<07:12,  1.08s/it]"
     ]
    },
    {
     "name": "stdout",
     "output_type": "stream",
     "text": [
      "Processing image //vector.e3b.columbia.edu/e3b/Globus Database/UWIN Tagged Photos/batch_004/VID30086-00501.jpg\n"
     ]
    },
    {
     "name": "stderr",
     "output_type": "stream",
     "text": [
      " 68%|█████████████████████████████████████████████████████▊                         | 855/1256 [15:07<07:09,  1.07s/it]"
     ]
    },
    {
     "name": "stdout",
     "output_type": "stream",
     "text": [
      "Processing image //vector.e3b.columbia.edu/e3b/Globus Database/UWIN Tagged Photos/batch_004/VID30086-00502.jpg\n"
     ]
    },
    {
     "name": "stderr",
     "output_type": "stream",
     "text": [
      " 68%|█████████████████████████████████████████████████████▊                         | 856/1256 [15:08<07:07,  1.07s/it]"
     ]
    },
    {
     "name": "stdout",
     "output_type": "stream",
     "text": [
      "Processing image //vector.e3b.columbia.edu/e3b/Globus Database/UWIN Tagged Photos/batch_004/VID30086-00503.jpg\n"
     ]
    },
    {
     "name": "stderr",
     "output_type": "stream",
     "text": [
      " 68%|█████████████████████████████████████████████████████▉                         | 857/1256 [15:09<07:08,  1.07s/it]"
     ]
    },
    {
     "name": "stdout",
     "output_type": "stream",
     "text": [
      "Processing image //vector.e3b.columbia.edu/e3b/Globus Database/UWIN Tagged Photos/batch_004/VID30086-00504.jpg\n"
     ]
    },
    {
     "name": "stderr",
     "output_type": "stream",
     "text": [
      " 68%|█████████████████████████████████████████████████████▉                         | 858/1256 [15:10<07:10,  1.08s/it]"
     ]
    },
    {
     "name": "stdout",
     "output_type": "stream",
     "text": [
      "Processing image //vector.e3b.columbia.edu/e3b/Globus Database/UWIN Tagged Photos/batch_004/VID30086-00505.jpg\n"
     ]
    },
    {
     "name": "stderr",
     "output_type": "stream",
     "text": [
      " 68%|██████████████████████████████████████████████████████                         | 859/1256 [15:11<07:09,  1.08s/it]"
     ]
    },
    {
     "name": "stdout",
     "output_type": "stream",
     "text": [
      "Processing image //vector.e3b.columbia.edu/e3b/Globus Database/UWIN Tagged Photos/batch_004/VID30086-00506.jpg\n"
     ]
    },
    {
     "name": "stderr",
     "output_type": "stream",
     "text": [
      " 68%|██████████████████████████████████████████████████████                         | 860/1256 [15:12<07:08,  1.08s/it]"
     ]
    },
    {
     "name": "stdout",
     "output_type": "stream",
     "text": [
      "Processing image //vector.e3b.columbia.edu/e3b/Globus Database/UWIN Tagged Photos/batch_004/VID30086-00507.jpg\n"
     ]
    },
    {
     "name": "stderr",
     "output_type": "stream",
     "text": [
      " 69%|██████████████████████████████████████████████████████▏                        | 861/1256 [15:13<07:10,  1.09s/it]"
     ]
    },
    {
     "name": "stdout",
     "output_type": "stream",
     "text": [
      "Processing image //vector.e3b.columbia.edu/e3b/Globus Database/UWIN Tagged Photos/batch_004/VID30086-00508.jpg\n"
     ]
    },
    {
     "name": "stderr",
     "output_type": "stream",
     "text": [
      " 69%|██████████████████████████████████████████████████████▏                        | 862/1256 [15:14<07:06,  1.08s/it]"
     ]
    },
    {
     "name": "stdout",
     "output_type": "stream",
     "text": [
      "Processing image //vector.e3b.columbia.edu/e3b/Globus Database/UWIN Tagged Photos/batch_004/VID30086-00509.jpg\n"
     ]
    },
    {
     "name": "stderr",
     "output_type": "stream",
     "text": [
      " 69%|██████████████████████████████████████████████████████▎                        | 863/1256 [15:15<07:04,  1.08s/it]"
     ]
    },
    {
     "name": "stdout",
     "output_type": "stream",
     "text": [
      "Processing image //vector.e3b.columbia.edu/e3b/Globus Database/UWIN Tagged Photos/batch_004/VID30086-00510.jpg\n"
     ]
    },
    {
     "name": "stderr",
     "output_type": "stream",
     "text": [
      " 69%|██████████████████████████████████████████████████████▎                        | 864/1256 [15:16<07:02,  1.08s/it]"
     ]
    },
    {
     "name": "stdout",
     "output_type": "stream",
     "text": [
      "Processing image //vector.e3b.columbia.edu/e3b/Globus Database/UWIN Tagged Photos/batch_004/VID30086-00511.jpg\n"
     ]
    },
    {
     "name": "stderr",
     "output_type": "stream",
     "text": [
      " 69%|██████████████████████████████████████████████████████▍                        | 865/1256 [15:17<06:59,  1.07s/it]"
     ]
    },
    {
     "name": "stdout",
     "output_type": "stream",
     "text": [
      "Processing image //vector.e3b.columbia.edu/e3b/Globus Database/UWIN Tagged Photos/batch_004/VID30086-00512.jpg\n"
     ]
    },
    {
     "name": "stderr",
     "output_type": "stream",
     "text": [
      " 69%|██████████████████████████████████████████████████████▍                        | 866/1256 [15:18<07:02,  1.08s/it]"
     ]
    },
    {
     "name": "stdout",
     "output_type": "stream",
     "text": [
      "Processing image //vector.e3b.columbia.edu/e3b/Globus Database/UWIN Tagged Photos/batch_004/VID30086-00513.jpg\n"
     ]
    },
    {
     "name": "stderr",
     "output_type": "stream",
     "text": [
      " 69%|██████████████████████████████████████████████████████▌                        | 867/1256 [15:20<07:01,  1.08s/it]"
     ]
    },
    {
     "name": "stdout",
     "output_type": "stream",
     "text": [
      "Processing image //vector.e3b.columbia.edu/e3b/Globus Database/UWIN Tagged Photos/batch_004/VID30086-00514.jpg\n"
     ]
    },
    {
     "name": "stderr",
     "output_type": "stream",
     "text": [
      " 69%|██████████████████████████████████████████████████████▌                        | 868/1256 [15:21<07:01,  1.09s/it]"
     ]
    },
    {
     "name": "stdout",
     "output_type": "stream",
     "text": [
      "Processing image //vector.e3b.columbia.edu/e3b/Globus Database/UWIN Tagged Photos/batch_004/VID30086-00515.jpg\n"
     ]
    },
    {
     "name": "stderr",
     "output_type": "stream",
     "text": [
      " 69%|██████████████████████████████████████████████████████▋                        | 869/1256 [15:22<07:00,  1.09s/it]"
     ]
    },
    {
     "name": "stdout",
     "output_type": "stream",
     "text": [
      "Processing image //vector.e3b.columbia.edu/e3b/Globus Database/UWIN Tagged Photos/batch_004/VID30086-00516.jpg\n"
     ]
    },
    {
     "name": "stderr",
     "output_type": "stream",
     "text": [
      " 69%|██████████████████████████████████████████████████████▋                        | 870/1256 [15:23<07:00,  1.09s/it]"
     ]
    },
    {
     "name": "stdout",
     "output_type": "stream",
     "text": [
      "Processing image //vector.e3b.columbia.edu/e3b/Globus Database/UWIN Tagged Photos/batch_004/VID30086-00517.jpg\n"
     ]
    },
    {
     "name": "stderr",
     "output_type": "stream",
     "text": [
      " 69%|██████████████████████████████████████████████████████▊                        | 871/1256 [15:24<06:57,  1.08s/it]"
     ]
    },
    {
     "name": "stdout",
     "output_type": "stream",
     "text": [
      "Processing image //vector.e3b.columbia.edu/e3b/Globus Database/UWIN Tagged Photos/batch_004/VID30086-00518.jpg\n"
     ]
    },
    {
     "name": "stderr",
     "output_type": "stream",
     "text": [
      " 69%|██████████████████████████████████████████████████████▊                        | 872/1256 [15:25<06:54,  1.08s/it]"
     ]
    },
    {
     "name": "stdout",
     "output_type": "stream",
     "text": [
      "Processing image //vector.e3b.columbia.edu/e3b/Globus Database/UWIN Tagged Photos/batch_004/VID30086-00519.jpg\n"
     ]
    },
    {
     "name": "stderr",
     "output_type": "stream",
     "text": [
      " 70%|██████████████████████████████████████████████████████▉                        | 873/1256 [15:26<06:53,  1.08s/it]"
     ]
    },
    {
     "name": "stdout",
     "output_type": "stream",
     "text": [
      "Processing image //vector.e3b.columbia.edu/e3b/Globus Database/UWIN Tagged Photos/batch_004/VID30086-00520.jpg\n"
     ]
    },
    {
     "name": "stderr",
     "output_type": "stream",
     "text": [
      " 70%|██████████████████████████████████████████████████████▉                        | 874/1256 [15:27<06:54,  1.08s/it]"
     ]
    },
    {
     "name": "stdout",
     "output_type": "stream",
     "text": [
      "Processing image //vector.e3b.columbia.edu/e3b/Globus Database/UWIN Tagged Photos/batch_004/VID30086-00521.jpg\n"
     ]
    },
    {
     "name": "stderr",
     "output_type": "stream",
     "text": [
      " 70%|███████████████████████████████████████████████████████                        | 875/1256 [15:28<06:55,  1.09s/it]"
     ]
    },
    {
     "name": "stdout",
     "output_type": "stream",
     "text": [
      "Processing image //vector.e3b.columbia.edu/e3b/Globus Database/UWIN Tagged Photos/batch_004/VID30086-00522.jpg\n"
     ]
    },
    {
     "name": "stderr",
     "output_type": "stream",
     "text": [
      " 70%|███████████████████████████████████████████████████████                        | 876/1256 [15:29<06:54,  1.09s/it]"
     ]
    },
    {
     "name": "stdout",
     "output_type": "stream",
     "text": [
      "Processing image //vector.e3b.columbia.edu/e3b/Globus Database/UWIN Tagged Photos/batch_004/VID30086-00523.jpg\n"
     ]
    },
    {
     "name": "stderr",
     "output_type": "stream",
     "text": [
      " 70%|███████████████████████████████████████████████████████▏                       | 877/1256 [15:30<06:50,  1.08s/it]"
     ]
    },
    {
     "name": "stdout",
     "output_type": "stream",
     "text": [
      "Processing image //vector.e3b.columbia.edu/e3b/Globus Database/UWIN Tagged Photos/batch_004/VID30086-00524.jpg\n"
     ]
    },
    {
     "name": "stderr",
     "output_type": "stream",
     "text": [
      " 70%|███████████████████████████████████████████████████████▏                       | 878/1256 [15:31<06:52,  1.09s/it]"
     ]
    },
    {
     "name": "stdout",
     "output_type": "stream",
     "text": [
      "Processing image //vector.e3b.columbia.edu/e3b/Globus Database/UWIN Tagged Photos/batch_004/VID30086-00525.jpg\n"
     ]
    },
    {
     "name": "stderr",
     "output_type": "stream",
     "text": [
      " 70%|███████████████████████████████████████████████████████▎                       | 879/1256 [15:33<06:49,  1.09s/it]"
     ]
    },
    {
     "name": "stdout",
     "output_type": "stream",
     "text": [
      "Processing image //vector.e3b.columbia.edu/e3b/Globus Database/UWIN Tagged Photos/batch_004/VID30086-00526.jpg\n"
     ]
    },
    {
     "name": "stderr",
     "output_type": "stream",
     "text": [
      " 70%|███████████████████████████████████████████████████████▎                       | 880/1256 [15:34<06:50,  1.09s/it]"
     ]
    },
    {
     "name": "stdout",
     "output_type": "stream",
     "text": [
      "Processing image //vector.e3b.columbia.edu/e3b/Globus Database/UWIN Tagged Photos/batch_004/VID30086-00527.jpg\n"
     ]
    },
    {
     "name": "stderr",
     "output_type": "stream",
     "text": [
      " 70%|███████████████████████████████████████████████████████▍                       | 881/1256 [15:35<06:47,  1.09s/it]"
     ]
    },
    {
     "name": "stdout",
     "output_type": "stream",
     "text": [
      "Processing image //vector.e3b.columbia.edu/e3b/Globus Database/UWIN Tagged Photos/batch_004/VID30086-00528.jpg\n"
     ]
    },
    {
     "name": "stderr",
     "output_type": "stream",
     "text": [
      " 70%|███████████████████████████████████████████████████████▍                       | 882/1256 [15:36<06:42,  1.08s/it]"
     ]
    },
    {
     "name": "stdout",
     "output_type": "stream",
     "text": [
      "Processing image //vector.e3b.columbia.edu/e3b/Globus Database/UWIN Tagged Photos/batch_004/VID30086-00529.jpg\n"
     ]
    },
    {
     "name": "stderr",
     "output_type": "stream",
     "text": [
      " 70%|███████████████████████████████████████████████████████▌                       | 883/1256 [15:37<06:43,  1.08s/it]"
     ]
    },
    {
     "name": "stdout",
     "output_type": "stream",
     "text": [
      "Processing image //vector.e3b.columbia.edu/e3b/Globus Database/UWIN Tagged Photos/batch_004/VID30086-00530.jpg\n"
     ]
    },
    {
     "name": "stderr",
     "output_type": "stream",
     "text": [
      " 70%|███████████████████████████████████████████████████████▌                       | 884/1256 [15:38<06:36,  1.07s/it]"
     ]
    },
    {
     "name": "stdout",
     "output_type": "stream",
     "text": [
      "Processing image //vector.e3b.columbia.edu/e3b/Globus Database/UWIN Tagged Photos/batch_004/VID30086-00531.jpg\n"
     ]
    },
    {
     "name": "stderr",
     "output_type": "stream",
     "text": [
      " 70%|███████████████████████████████████████████████████████▋                       | 885/1256 [15:39<06:38,  1.07s/it]"
     ]
    },
    {
     "name": "stdout",
     "output_type": "stream",
     "text": [
      "Processing image //vector.e3b.columbia.edu/e3b/Globus Database/UWIN Tagged Photos/batch_004/VID30086-00532.jpg\n"
     ]
    },
    {
     "name": "stderr",
     "output_type": "stream",
     "text": [
      " 71%|███████████████████████████████████████████████████████▋                       | 886/1256 [15:40<06:40,  1.08s/it]"
     ]
    },
    {
     "name": "stdout",
     "output_type": "stream",
     "text": [
      "Processing image //vector.e3b.columbia.edu/e3b/Globus Database/UWIN Tagged Photos/batch_004/VID30086-00533.jpg\n"
     ]
    },
    {
     "name": "stderr",
     "output_type": "stream",
     "text": [
      " 71%|███████████████████████████████████████████████████████▊                       | 887/1256 [15:41<06:36,  1.07s/it]"
     ]
    },
    {
     "name": "stdout",
     "output_type": "stream",
     "text": [
      "Processing image //vector.e3b.columbia.edu/e3b/Globus Database/UWIN Tagged Photos/batch_004/VID30086-00534.jpg\n"
     ]
    },
    {
     "name": "stderr",
     "output_type": "stream",
     "text": [
      " 71%|███████████████████████████████████████████████████████▊                       | 888/1256 [15:42<06:35,  1.08s/it]"
     ]
    },
    {
     "name": "stdout",
     "output_type": "stream",
     "text": [
      "Processing image //vector.e3b.columbia.edu/e3b/Globus Database/UWIN Tagged Photos/batch_004/VID30086-00535.jpg\n"
     ]
    },
    {
     "name": "stderr",
     "output_type": "stream",
     "text": [
      " 71%|███████████████████████████████████████████████████████▉                       | 889/1256 [15:43<06:36,  1.08s/it]"
     ]
    },
    {
     "name": "stdout",
     "output_type": "stream",
     "text": [
      "Processing image //vector.e3b.columbia.edu/e3b/Globus Database/UWIN Tagged Photos/batch_004/VID30086-00536.jpg\n"
     ]
    },
    {
     "name": "stderr",
     "output_type": "stream",
     "text": [
      " 71%|███████████████████████████████████████████████████████▉                       | 890/1256 [15:44<06:32,  1.07s/it]"
     ]
    },
    {
     "name": "stdout",
     "output_type": "stream",
     "text": [
      "Processing image //vector.e3b.columbia.edu/e3b/Globus Database/UWIN Tagged Photos/batch_004/VID30086-00537.jpg\n"
     ]
    },
    {
     "name": "stderr",
     "output_type": "stream",
     "text": [
      " 71%|████████████████████████████████████████████████████████                       | 891/1256 [15:46<06:37,  1.09s/it]"
     ]
    },
    {
     "name": "stdout",
     "output_type": "stream",
     "text": [
      "Processing image //vector.e3b.columbia.edu/e3b/Globus Database/UWIN Tagged Photos/batch_004/VID30086-00538.jpg\n"
     ]
    },
    {
     "name": "stderr",
     "output_type": "stream",
     "text": [
      " 71%|████████████████████████████████████████████████████████                       | 892/1256 [15:47<06:34,  1.08s/it]"
     ]
    },
    {
     "name": "stdout",
     "output_type": "stream",
     "text": [
      "Processing image //vector.e3b.columbia.edu/e3b/Globus Database/UWIN Tagged Photos/batch_004/VID30086-00539.jpg\n"
     ]
    },
    {
     "name": "stderr",
     "output_type": "stream",
     "text": [
      " 71%|████████████████████████████████████████████████████████▏                      | 893/1256 [15:48<06:32,  1.08s/it]"
     ]
    },
    {
     "name": "stdout",
     "output_type": "stream",
     "text": [
      "Processing image //vector.e3b.columbia.edu/e3b/Globus Database/UWIN Tagged Photos/batch_004/VID30086-00540.jpg\n"
     ]
    },
    {
     "name": "stderr",
     "output_type": "stream",
     "text": [
      " 71%|████████████████████████████████████████████████████████▏                      | 894/1256 [15:49<06:27,  1.07s/it]"
     ]
    },
    {
     "name": "stdout",
     "output_type": "stream",
     "text": [
      "Processing image //vector.e3b.columbia.edu/e3b/Globus Database/UWIN Tagged Photos/batch_004/VID30086-00541.jpg\n"
     ]
    },
    {
     "name": "stderr",
     "output_type": "stream",
     "text": [
      " 71%|████████████████████████████████████████████████████████▎                      | 895/1256 [15:50<06:31,  1.08s/it]"
     ]
    },
    {
     "name": "stdout",
     "output_type": "stream",
     "text": [
      "Processing image //vector.e3b.columbia.edu/e3b/Globus Database/UWIN Tagged Photos/batch_004/VID30086-00542.jpg\n"
     ]
    },
    {
     "name": "stderr",
     "output_type": "stream",
     "text": [
      " 71%|████████████████████████████████████████████████████████▎                      | 896/1256 [15:51<06:27,  1.08s/it]"
     ]
    },
    {
     "name": "stdout",
     "output_type": "stream",
     "text": [
      "Processing image //vector.e3b.columbia.edu/e3b/Globus Database/UWIN Tagged Photos/batch_004/VID30086-00543.jpg\n"
     ]
    },
    {
     "name": "stderr",
     "output_type": "stream",
     "text": [
      " 71%|████████████████████████████████████████████████████████▍                      | 897/1256 [15:52<06:29,  1.09s/it]"
     ]
    },
    {
     "name": "stdout",
     "output_type": "stream",
     "text": [
      "Processing image //vector.e3b.columbia.edu/e3b/Globus Database/UWIN Tagged Photos/batch_004/VID30086-00544.jpg\n"
     ]
    },
    {
     "name": "stderr",
     "output_type": "stream",
     "text": [
      " 71%|████████████████████████████████████████████████████████▍                      | 898/1256 [15:53<06:30,  1.09s/it]"
     ]
    },
    {
     "name": "stdout",
     "output_type": "stream",
     "text": [
      "Processing image //vector.e3b.columbia.edu/e3b/Globus Database/UWIN Tagged Photos/batch_004/VID30086-00545.jpg\n"
     ]
    },
    {
     "name": "stderr",
     "output_type": "stream",
     "text": [
      " 72%|████████████████████████████████████████████████████████▌                      | 899/1256 [15:54<06:24,  1.08s/it]"
     ]
    },
    {
     "name": "stdout",
     "output_type": "stream",
     "text": [
      "Processing image //vector.e3b.columbia.edu/e3b/Globus Database/UWIN Tagged Photos/batch_004/VID30086-00546.jpg\n"
     ]
    },
    {
     "name": "stderr",
     "output_type": "stream",
     "text": [
      " 72%|████████████████████████████████████████████████████████▌                      | 900/1256 [15:55<06:24,  1.08s/it]"
     ]
    },
    {
     "name": "stdout",
     "output_type": "stream",
     "text": [
      "Processing image //vector.e3b.columbia.edu/e3b/Globus Database/UWIN Tagged Photos/batch_004/VID30086-00547.jpg\n"
     ]
    },
    {
     "name": "stderr",
     "output_type": "stream",
     "text": [
      " 72%|████████████████████████████████████████████████████████▋                      | 901/1256 [15:56<06:16,  1.06s/it]"
     ]
    },
    {
     "name": "stdout",
     "output_type": "stream",
     "text": [
      "Processing image //vector.e3b.columbia.edu/e3b/Globus Database/UWIN Tagged Photos/batch_004/VID30086-00548.jpg\n"
     ]
    },
    {
     "name": "stderr",
     "output_type": "stream",
     "text": [
      " 72%|████████████████████████████████████████████████████████▋                      | 902/1256 [15:57<06:14,  1.06s/it]"
     ]
    },
    {
     "name": "stdout",
     "output_type": "stream",
     "text": [
      "Processing image //vector.e3b.columbia.edu/e3b/Globus Database/UWIN Tagged Photos/batch_004/VID30086-00549.jpg\n"
     ]
    },
    {
     "name": "stderr",
     "output_type": "stream",
     "text": [
      " 72%|████████████████████████████████████████████████████████▊                      | 903/1256 [15:58<06:08,  1.04s/it]"
     ]
    },
    {
     "name": "stdout",
     "output_type": "stream",
     "text": [
      "Processing image //vector.e3b.columbia.edu/e3b/Globus Database/UWIN Tagged Photos/batch_004/VID30086-00550.jpg\n"
     ]
    },
    {
     "name": "stderr",
     "output_type": "stream",
     "text": [
      " 72%|████████████████████████████████████████████████████████▊                      | 904/1256 [15:59<06:08,  1.05s/it]"
     ]
    },
    {
     "name": "stdout",
     "output_type": "stream",
     "text": [
      "Processing image //vector.e3b.columbia.edu/e3b/Globus Database/UWIN Tagged Photos/batch_004/VID30086-00551.jpg\n"
     ]
    },
    {
     "name": "stderr",
     "output_type": "stream",
     "text": [
      " 72%|████████████████████████████████████████████████████████▉                      | 905/1256 [16:00<06:02,  1.03s/it]"
     ]
    },
    {
     "name": "stdout",
     "output_type": "stream",
     "text": [
      "Processing image //vector.e3b.columbia.edu/e3b/Globus Database/UWIN Tagged Photos/batch_004/VID30086-00552.jpg\n"
     ]
    },
    {
     "name": "stderr",
     "output_type": "stream",
     "text": [
      " 72%|████████████████████████████████████████████████████████▉                      | 906/1256 [16:01<05:57,  1.02s/it]"
     ]
    },
    {
     "name": "stdout",
     "output_type": "stream",
     "text": [
      "Processing image //vector.e3b.columbia.edu/e3b/Globus Database/UWIN Tagged Photos/batch_004/VID30086-00553.jpg\n"
     ]
    },
    {
     "name": "stderr",
     "output_type": "stream",
     "text": [
      " 72%|█████████████████████████████████████████████████████████                      | 907/1256 [16:02<06:01,  1.03s/it]"
     ]
    },
    {
     "name": "stdout",
     "output_type": "stream",
     "text": [
      "Processing image //vector.e3b.columbia.edu/e3b/Globus Database/UWIN Tagged Photos/batch_004/VID30086-00554.jpg\n"
     ]
    },
    {
     "name": "stderr",
     "output_type": "stream",
     "text": [
      " 72%|█████████████████████████████████████████████████████████                      | 908/1256 [16:04<06:05,  1.05s/it]"
     ]
    },
    {
     "name": "stdout",
     "output_type": "stream",
     "text": [
      "Processing image //vector.e3b.columbia.edu/e3b/Globus Database/UWIN Tagged Photos/batch_004/VID30086-00555.jpg\n"
     ]
    },
    {
     "name": "stderr",
     "output_type": "stream",
     "text": [
      " 72%|█████████████████████████████████████████████████████████▏                     | 909/1256 [16:05<06:06,  1.06s/it]"
     ]
    },
    {
     "name": "stdout",
     "output_type": "stream",
     "text": [
      "Processing image //vector.e3b.columbia.edu/e3b/Globus Database/UWIN Tagged Photos/batch_004/VID30086-00556.jpg\n"
     ]
    },
    {
     "name": "stderr",
     "output_type": "stream",
     "text": [
      " 72%|█████████████████████████████████████████████████████████▏                     | 910/1256 [16:06<06:11,  1.07s/it]"
     ]
    },
    {
     "name": "stdout",
     "output_type": "stream",
     "text": [
      "Processing image //vector.e3b.columbia.edu/e3b/Globus Database/UWIN Tagged Photos/batch_004/VID30086-00557.jpg\n"
     ]
    },
    {
     "name": "stderr",
     "output_type": "stream",
     "text": [
      " 73%|█████████████████████████████████████████████████████████▎                     | 911/1256 [16:07<06:09,  1.07s/it]"
     ]
    },
    {
     "name": "stdout",
     "output_type": "stream",
     "text": [
      "Processing image //vector.e3b.columbia.edu/e3b/Globus Database/UWIN Tagged Photos/batch_004/VID30086-00558.jpg\n"
     ]
    },
    {
     "name": "stderr",
     "output_type": "stream",
     "text": [
      " 73%|█████████████████████████████████████████████████████████▎                     | 912/1256 [16:08<06:10,  1.08s/it]"
     ]
    },
    {
     "name": "stdout",
     "output_type": "stream",
     "text": [
      "Processing image //vector.e3b.columbia.edu/e3b/Globus Database/UWIN Tagged Photos/batch_004/VID30086-00559.jpg\n"
     ]
    },
    {
     "name": "stderr",
     "output_type": "stream",
     "text": [
      " 73%|█████████████████████████████████████████████████████████▍                     | 913/1256 [16:09<06:10,  1.08s/it]"
     ]
    },
    {
     "name": "stdout",
     "output_type": "stream",
     "text": [
      "Processing image //vector.e3b.columbia.edu/e3b/Globus Database/UWIN Tagged Photos/batch_004/VID30086-00560.jpg\n"
     ]
    },
    {
     "name": "stderr",
     "output_type": "stream",
     "text": [
      " 73%|█████████████████████████████████████████████████████████▍                     | 914/1256 [16:10<06:11,  1.09s/it]"
     ]
    },
    {
     "name": "stdout",
     "output_type": "stream",
     "text": [
      "Processing image //vector.e3b.columbia.edu/e3b/Globus Database/UWIN Tagged Photos/batch_004/VID30086-00561.jpg\n"
     ]
    },
    {
     "name": "stderr",
     "output_type": "stream",
     "text": [
      " 73%|█████████████████████████████████████████████████████████▌                     | 915/1256 [16:11<06:10,  1.09s/it]"
     ]
    },
    {
     "name": "stdout",
     "output_type": "stream",
     "text": [
      "Processing image //vector.e3b.columbia.edu/e3b/Globus Database/UWIN Tagged Photos/batch_004/VID30086-00562.jpg\n"
     ]
    },
    {
     "name": "stderr",
     "output_type": "stream",
     "text": [
      " 73%|█████████████████████████████████████████████████████████▌                     | 916/1256 [16:12<06:10,  1.09s/it]"
     ]
    },
    {
     "name": "stdout",
     "output_type": "stream",
     "text": [
      "Processing image //vector.e3b.columbia.edu/e3b/Globus Database/UWIN Tagged Photos/batch_004/VID30086-00563.jpg\n"
     ]
    },
    {
     "name": "stderr",
     "output_type": "stream",
     "text": [
      " 73%|█████████████████████████████████████████████████████████▋                     | 917/1256 [16:13<06:10,  1.09s/it]"
     ]
    },
    {
     "name": "stdout",
     "output_type": "stream",
     "text": [
      "Processing image //vector.e3b.columbia.edu/e3b/Globus Database/UWIN Tagged Photos/batch_004/VID30086-00564.jpg\n"
     ]
    },
    {
     "name": "stderr",
     "output_type": "stream",
     "text": [
      " 73%|█████████████████████████████████████████████████████████▋                     | 918/1256 [16:14<06:08,  1.09s/it]"
     ]
    },
    {
     "name": "stdout",
     "output_type": "stream",
     "text": [
      "Processing image //vector.e3b.columbia.edu/e3b/Globus Database/UWIN Tagged Photos/batch_004/VID30086-00565.jpg\n"
     ]
    },
    {
     "name": "stderr",
     "output_type": "stream",
     "text": [
      " 73%|█████████████████████████████████████████████████████████▊                     | 919/1256 [16:16<06:09,  1.10s/it]"
     ]
    },
    {
     "name": "stdout",
     "output_type": "stream",
     "text": [
      "Processing image //vector.e3b.columbia.edu/e3b/Globus Database/UWIN Tagged Photos/batch_004/VID30086-00566.jpg\n"
     ]
    },
    {
     "name": "stderr",
     "output_type": "stream",
     "text": [
      " 73%|█████████████████████████████████████████████████████████▊                     | 920/1256 [16:17<06:06,  1.09s/it]"
     ]
    },
    {
     "name": "stdout",
     "output_type": "stream",
     "text": [
      "Processing image //vector.e3b.columbia.edu/e3b/Globus Database/UWIN Tagged Photos/batch_004/VID30086-00567.jpg\n"
     ]
    },
    {
     "name": "stderr",
     "output_type": "stream",
     "text": [
      " 73%|█████████████████████████████████████████████████████████▉                     | 921/1256 [16:18<06:02,  1.08s/it]"
     ]
    },
    {
     "name": "stdout",
     "output_type": "stream",
     "text": [
      "Processing image //vector.e3b.columbia.edu/e3b/Globus Database/UWIN Tagged Photos/batch_004/VID30086-00568.jpg\n"
     ]
    },
    {
     "name": "stderr",
     "output_type": "stream",
     "text": [
      " 73%|█████████████████████████████████████████████████████████▉                     | 922/1256 [16:19<06:08,  1.10s/it]"
     ]
    },
    {
     "name": "stdout",
     "output_type": "stream",
     "text": [
      "Processing image //vector.e3b.columbia.edu/e3b/Globus Database/UWIN Tagged Photos/batch_004/VID30086-00569.jpg\n"
     ]
    },
    {
     "name": "stderr",
     "output_type": "stream",
     "text": [
      " 73%|██████████████████████████████████████████████████████████                     | 923/1256 [16:20<06:01,  1.09s/it]"
     ]
    },
    {
     "name": "stdout",
     "output_type": "stream",
     "text": [
      "Processing image //vector.e3b.columbia.edu/e3b/Globus Database/UWIN Tagged Photos/batch_004/VID30086-00570.jpg\n"
     ]
    },
    {
     "name": "stderr",
     "output_type": "stream",
     "text": [
      " 74%|██████████████████████████████████████████████████████████                     | 924/1256 [16:21<06:03,  1.09s/it]"
     ]
    },
    {
     "name": "stdout",
     "output_type": "stream",
     "text": [
      "Processing image //vector.e3b.columbia.edu/e3b/Globus Database/UWIN Tagged Photos/batch_004/VID30086-00571.jpg\n"
     ]
    },
    {
     "name": "stderr",
     "output_type": "stream",
     "text": [
      " 74%|██████████████████████████████████████████████████████████▏                    | 925/1256 [16:22<05:58,  1.08s/it]"
     ]
    },
    {
     "name": "stdout",
     "output_type": "stream",
     "text": [
      "Processing image //vector.e3b.columbia.edu/e3b/Globus Database/UWIN Tagged Photos/batch_004/VID30086-00572.jpg\n"
     ]
    },
    {
     "name": "stderr",
     "output_type": "stream",
     "text": [
      " 74%|██████████████████████████████████████████████████████████▏                    | 926/1256 [16:23<05:58,  1.09s/it]"
     ]
    },
    {
     "name": "stdout",
     "output_type": "stream",
     "text": [
      "Processing image //vector.e3b.columbia.edu/e3b/Globus Database/UWIN Tagged Photos/batch_004/VID30086-00573.jpg\n"
     ]
    },
    {
     "name": "stderr",
     "output_type": "stream",
     "text": [
      " 74%|██████████████████████████████████████████████████████████▎                    | 927/1256 [16:24<05:57,  1.09s/it]"
     ]
    },
    {
     "name": "stdout",
     "output_type": "stream",
     "text": [
      "Processing image //vector.e3b.columbia.edu/e3b/Globus Database/UWIN Tagged Photos/batch_004/VID30086-00574.jpg\n"
     ]
    },
    {
     "name": "stderr",
     "output_type": "stream",
     "text": [
      " 74%|██████████████████████████████████████████████████████████▎                    | 928/1256 [16:25<05:52,  1.07s/it]"
     ]
    },
    {
     "name": "stdout",
     "output_type": "stream",
     "text": [
      "Processing image //vector.e3b.columbia.edu/e3b/Globus Database/UWIN Tagged Photos/batch_004/VID30086-00575.jpg\n"
     ]
    },
    {
     "name": "stderr",
     "output_type": "stream",
     "text": [
      " 74%|██████████████████████████████████████████████████████████▍                    | 929/1256 [16:26<05:45,  1.06s/it]"
     ]
    },
    {
     "name": "stdout",
     "output_type": "stream",
     "text": [
      "Processing image //vector.e3b.columbia.edu/e3b/Globus Database/UWIN Tagged Photos/batch_004/VID30086-00576.jpg\n"
     ]
    },
    {
     "name": "stderr",
     "output_type": "stream",
     "text": [
      " 74%|██████████████████████████████████████████████████████████▍                    | 930/1256 [16:27<05:48,  1.07s/it]"
     ]
    },
    {
     "name": "stdout",
     "output_type": "stream",
     "text": [
      "Processing image //vector.e3b.columbia.edu/e3b/Globus Database/UWIN Tagged Photos/batch_004/VID30086-00577.jpg\n"
     ]
    },
    {
     "name": "stderr",
     "output_type": "stream",
     "text": [
      " 74%|██████████████████████████████████████████████████████████▌                    | 931/1256 [16:28<05:49,  1.08s/it]"
     ]
    },
    {
     "name": "stdout",
     "output_type": "stream",
     "text": [
      "Processing image //vector.e3b.columbia.edu/e3b/Globus Database/UWIN Tagged Photos/batch_004/VID30086-00578.jpg\n"
     ]
    },
    {
     "name": "stderr",
     "output_type": "stream",
     "text": [
      " 74%|██████████████████████████████████████████████████████████▌                    | 932/1256 [16:30<05:49,  1.08s/it]"
     ]
    },
    {
     "name": "stdout",
     "output_type": "stream",
     "text": [
      "Processing image //vector.e3b.columbia.edu/e3b/Globus Database/UWIN Tagged Photos/batch_004/VID30086-00579.jpg\n"
     ]
    },
    {
     "name": "stderr",
     "output_type": "stream",
     "text": [
      " 74%|██████████████████████████████████████████████████████████▋                    | 933/1256 [16:31<05:55,  1.10s/it]"
     ]
    },
    {
     "name": "stdout",
     "output_type": "stream",
     "text": [
      "Processing image //vector.e3b.columbia.edu/e3b/Globus Database/UWIN Tagged Photos/batch_004/VID30086-00580.jpg\n"
     ]
    },
    {
     "name": "stderr",
     "output_type": "stream",
     "text": [
      " 74%|██████████████████████████████████████████████████████████▋                    | 934/1256 [16:32<05:48,  1.08s/it]"
     ]
    },
    {
     "name": "stdout",
     "output_type": "stream",
     "text": [
      "Processing image //vector.e3b.columbia.edu/e3b/Globus Database/UWIN Tagged Photos/batch_004/VID30086-00581.jpg\n"
     ]
    },
    {
     "name": "stderr",
     "output_type": "stream",
     "text": [
      " 74%|██████████████████████████████████████████████████████████▊                    | 935/1256 [16:33<05:50,  1.09s/it]"
     ]
    },
    {
     "name": "stdout",
     "output_type": "stream",
     "text": [
      "Processing image //vector.e3b.columbia.edu/e3b/Globus Database/UWIN Tagged Photos/batch_004/VID30086-00582.jpg\n"
     ]
    },
    {
     "name": "stderr",
     "output_type": "stream",
     "text": [
      " 75%|██████████████████████████████████████████████████████████▊                    | 936/1256 [16:34<05:48,  1.09s/it]"
     ]
    },
    {
     "name": "stdout",
     "output_type": "stream",
     "text": [
      "Processing image //vector.e3b.columbia.edu/e3b/Globus Database/UWIN Tagged Photos/batch_004/VID30086-00583.jpg\n"
     ]
    },
    {
     "name": "stderr",
     "output_type": "stream",
     "text": [
      " 75%|██████████████████████████████████████████████████████████▉                    | 937/1256 [16:35<05:47,  1.09s/it]"
     ]
    },
    {
     "name": "stdout",
     "output_type": "stream",
     "text": [
      "Processing image //vector.e3b.columbia.edu/e3b/Globus Database/UWIN Tagged Photos/batch_004/VID30086-00584.jpg\n"
     ]
    },
    {
     "name": "stderr",
     "output_type": "stream",
     "text": [
      " 75%|██████████████████████████████████████████████████████████▉                    | 938/1256 [16:36<05:47,  1.09s/it]"
     ]
    },
    {
     "name": "stdout",
     "output_type": "stream",
     "text": [
      "Processing image //vector.e3b.columbia.edu/e3b/Globus Database/UWIN Tagged Photos/batch_004/VID30086-00585.jpg\n"
     ]
    },
    {
     "name": "stderr",
     "output_type": "stream",
     "text": [
      " 75%|███████████████████████████████████████████████████████████                    | 939/1256 [16:37<05:49,  1.10s/it]"
     ]
    },
    {
     "name": "stdout",
     "output_type": "stream",
     "text": [
      "Processing image //vector.e3b.columbia.edu/e3b/Globus Database/UWIN Tagged Photos/batch_004/VID30086-00586.jpg\n"
     ]
    },
    {
     "name": "stderr",
     "output_type": "stream",
     "text": [
      " 75%|███████████████████████████████████████████████████████████                    | 940/1256 [16:38<05:41,  1.08s/it]"
     ]
    },
    {
     "name": "stdout",
     "output_type": "stream",
     "text": [
      "Processing image //vector.e3b.columbia.edu/e3b/Globus Database/UWIN Tagged Photos/batch_004/VID30086-00587.jpg\n"
     ]
    },
    {
     "name": "stderr",
     "output_type": "stream",
     "text": [
      " 75%|███████████████████████████████████████████████████████████▏                   | 941/1256 [16:39<05:39,  1.08s/it]"
     ]
    },
    {
     "name": "stdout",
     "output_type": "stream",
     "text": [
      "Processing image //vector.e3b.columbia.edu/e3b/Globus Database/UWIN Tagged Photos/batch_004/VID30086-00588.jpg\n"
     ]
    },
    {
     "name": "stderr",
     "output_type": "stream",
     "text": [
      " 75%|███████████████████████████████████████████████████████████▎                   | 942/1256 [16:40<05:41,  1.09s/it]"
     ]
    },
    {
     "name": "stdout",
     "output_type": "stream",
     "text": [
      "Processing image //vector.e3b.columbia.edu/e3b/Globus Database/UWIN Tagged Photos/batch_004/VID30086-00589.jpg\n"
     ]
    },
    {
     "name": "stderr",
     "output_type": "stream",
     "text": [
      " 75%|███████████████████████████████████████████████████████████▎                   | 943/1256 [16:41<05:36,  1.07s/it]"
     ]
    },
    {
     "name": "stdout",
     "output_type": "stream",
     "text": [
      "Processing image //vector.e3b.columbia.edu/e3b/Globus Database/UWIN Tagged Photos/batch_004/VID30086-00590.jpg\n"
     ]
    },
    {
     "name": "stderr",
     "output_type": "stream",
     "text": [
      " 75%|███████████████████████████████████████████████████████████▍                   | 944/1256 [16:43<05:37,  1.08s/it]"
     ]
    },
    {
     "name": "stdout",
     "output_type": "stream",
     "text": [
      "Processing image //vector.e3b.columbia.edu/e3b/Globus Database/UWIN Tagged Photos/batch_004/VID30086-00591.jpg\n"
     ]
    },
    {
     "name": "stderr",
     "output_type": "stream",
     "text": [
      " 75%|███████████████████████████████████████████████████████████▍                   | 945/1256 [16:44<05:35,  1.08s/it]"
     ]
    },
    {
     "name": "stdout",
     "output_type": "stream",
     "text": [
      "Processing image //vector.e3b.columbia.edu/e3b/Globus Database/UWIN Tagged Photos/batch_004/VID30086-00592.jpg\n"
     ]
    },
    {
     "name": "stderr",
     "output_type": "stream",
     "text": [
      " 75%|███████████████████████████████████████████████████████████▌                   | 946/1256 [16:45<05:33,  1.08s/it]"
     ]
    },
    {
     "name": "stdout",
     "output_type": "stream",
     "text": [
      "Processing image //vector.e3b.columbia.edu/e3b/Globus Database/UWIN Tagged Photos/batch_004/VID30086-00593.jpg\n"
     ]
    },
    {
     "name": "stderr",
     "output_type": "stream",
     "text": [
      " 75%|███████████████████████████████████████████████████████████▌                   | 947/1256 [16:46<05:35,  1.09s/it]"
     ]
    },
    {
     "name": "stdout",
     "output_type": "stream",
     "text": [
      "Processing image //vector.e3b.columbia.edu/e3b/Globus Database/UWIN Tagged Photos/batch_004/VID30086-00594.jpg\n"
     ]
    },
    {
     "name": "stderr",
     "output_type": "stream",
     "text": [
      " 75%|███████████████████████████████████████████████████████████▋                   | 948/1256 [16:47<05:33,  1.08s/it]"
     ]
    },
    {
     "name": "stdout",
     "output_type": "stream",
     "text": [
      "Processing image //vector.e3b.columbia.edu/e3b/Globus Database/UWIN Tagged Photos/batch_004/VID30086-00595.jpg\n"
     ]
    },
    {
     "name": "stderr",
     "output_type": "stream",
     "text": [
      " 76%|███████████████████████████████████████████████████████████▋                   | 949/1256 [16:48<05:30,  1.08s/it]"
     ]
    },
    {
     "name": "stdout",
     "output_type": "stream",
     "text": [
      "Processing image //vector.e3b.columbia.edu/e3b/Globus Database/UWIN Tagged Photos/batch_004/VID30086-00596.jpg\n"
     ]
    },
    {
     "name": "stderr",
     "output_type": "stream",
     "text": [
      " 76%|███████████████████████████████████████████████████████████▊                   | 950/1256 [16:49<05:32,  1.09s/it]"
     ]
    },
    {
     "name": "stdout",
     "output_type": "stream",
     "text": [
      "Processing image //vector.e3b.columbia.edu/e3b/Globus Database/UWIN Tagged Photos/batch_004/VID30086-00597.jpg\n"
     ]
    },
    {
     "name": "stderr",
     "output_type": "stream",
     "text": [
      " 76%|███████████████████████████████████████████████████████████▊                   | 951/1256 [16:50<05:30,  1.08s/it]"
     ]
    },
    {
     "name": "stdout",
     "output_type": "stream",
     "text": [
      "Processing image //vector.e3b.columbia.edu/e3b/Globus Database/UWIN Tagged Photos/batch_004/VID30086-00598.jpg\n"
     ]
    },
    {
     "name": "stderr",
     "output_type": "stream",
     "text": [
      " 76%|███████████████████████████████████████████████████████████▉                   | 952/1256 [16:51<05:31,  1.09s/it]"
     ]
    },
    {
     "name": "stdout",
     "output_type": "stream",
     "text": [
      "Processing image //vector.e3b.columbia.edu/e3b/Globus Database/UWIN Tagged Photos/batch_004/VID30086-00599.jpg\n"
     ]
    },
    {
     "name": "stderr",
     "output_type": "stream",
     "text": [
      " 76%|███████████████████████████████████████████████████████████▉                   | 953/1256 [16:52<05:29,  1.09s/it]"
     ]
    },
    {
     "name": "stdout",
     "output_type": "stream",
     "text": [
      "Processing image //vector.e3b.columbia.edu/e3b/Globus Database/UWIN Tagged Photos/batch_004/VID30086-00600.jpg\n"
     ]
    },
    {
     "name": "stderr",
     "output_type": "stream",
     "text": [
      " 76%|████████████████████████████████████████████████████████████                   | 954/1256 [16:53<05:27,  1.09s/it]"
     ]
    },
    {
     "name": "stdout",
     "output_type": "stream",
     "text": [
      "Processing image //vector.e3b.columbia.edu/e3b/Globus Database/UWIN Tagged Photos/batch_004/VID30086-00601.jpg\n"
     ]
    },
    {
     "name": "stderr",
     "output_type": "stream",
     "text": [
      " 76%|████████████████████████████████████████████████████████████                   | 955/1256 [16:55<05:27,  1.09s/it]"
     ]
    },
    {
     "name": "stdout",
     "output_type": "stream",
     "text": [
      "Processing image //vector.e3b.columbia.edu/e3b/Globus Database/UWIN Tagged Photos/batch_004/VID30086-00602.jpg\n"
     ]
    },
    {
     "name": "stderr",
     "output_type": "stream",
     "text": [
      " 76%|████████████████████████████████████████████████████████████▏                  | 956/1256 [16:56<05:24,  1.08s/it]"
     ]
    },
    {
     "name": "stdout",
     "output_type": "stream",
     "text": [
      "Processing image //vector.e3b.columbia.edu/e3b/Globus Database/UWIN Tagged Photos/batch_004/VID30086-00603.jpg\n"
     ]
    },
    {
     "name": "stderr",
     "output_type": "stream",
     "text": [
      " 76%|████████████████████████████████████████████████████████████▏                  | 957/1256 [16:57<05:26,  1.09s/it]"
     ]
    },
    {
     "name": "stdout",
     "output_type": "stream",
     "text": [
      "Processing image //vector.e3b.columbia.edu/e3b/Globus Database/UWIN Tagged Photos/batch_004/VID30086-00604.jpg\n"
     ]
    },
    {
     "name": "stderr",
     "output_type": "stream",
     "text": [
      " 76%|████████████████████████████████████████████████████████████▎                  | 958/1256 [16:58<05:24,  1.09s/it]"
     ]
    },
    {
     "name": "stdout",
     "output_type": "stream",
     "text": [
      "Processing image //vector.e3b.columbia.edu/e3b/Globus Database/UWIN Tagged Photos/batch_004/VID30086-00605.jpg\n"
     ]
    },
    {
     "name": "stderr",
     "output_type": "stream",
     "text": [
      " 76%|████████████████████████████████████████████████████████████▎                  | 959/1256 [16:59<05:27,  1.10s/it]"
     ]
    },
    {
     "name": "stdout",
     "output_type": "stream",
     "text": [
      "Processing image //vector.e3b.columbia.edu/e3b/Globus Database/UWIN Tagged Photos/batch_004/VID30086-00606.jpg\n"
     ]
    },
    {
     "name": "stderr",
     "output_type": "stream",
     "text": [
      " 76%|████████████████████████████████████████████████████████████▍                  | 960/1256 [17:00<05:29,  1.11s/it]"
     ]
    },
    {
     "name": "stdout",
     "output_type": "stream",
     "text": [
      "Processing image //vector.e3b.columbia.edu/e3b/Globus Database/UWIN Tagged Photos/batch_004/VID30086-00607.jpg\n"
     ]
    },
    {
     "name": "stderr",
     "output_type": "stream",
     "text": [
      " 77%|████████████████████████████████████████████████████████████▍                  | 961/1256 [17:01<05:27,  1.11s/it]"
     ]
    },
    {
     "name": "stdout",
     "output_type": "stream",
     "text": [
      "Processing image //vector.e3b.columbia.edu/e3b/Globus Database/UWIN Tagged Photos/batch_004/VID30086-00608.jpg\n"
     ]
    },
    {
     "name": "stderr",
     "output_type": "stream",
     "text": [
      " 77%|████████████████████████████████████████████████████████████▌                  | 962/1256 [17:02<05:24,  1.10s/it]"
     ]
    },
    {
     "name": "stdout",
     "output_type": "stream",
     "text": [
      "Processing image //vector.e3b.columbia.edu/e3b/Globus Database/UWIN Tagged Photos/batch_004/VID30086-00609.jpg\n"
     ]
    },
    {
     "name": "stderr",
     "output_type": "stream",
     "text": [
      " 77%|████████████████████████████████████████████████████████████▌                  | 963/1256 [17:03<05:24,  1.11s/it]"
     ]
    },
    {
     "name": "stdout",
     "output_type": "stream",
     "text": [
      "Processing image //vector.e3b.columbia.edu/e3b/Globus Database/UWIN Tagged Photos/batch_004/VID30086-00610.jpg\n"
     ]
    },
    {
     "name": "stderr",
     "output_type": "stream",
     "text": [
      " 77%|████████████████████████████████████████████████████████████▋                  | 964/1256 [17:04<05:19,  1.09s/it]"
     ]
    },
    {
     "name": "stdout",
     "output_type": "stream",
     "text": [
      "Processing image //vector.e3b.columbia.edu/e3b/Globus Database/UWIN Tagged Photos/batch_004/VID30086-00611.jpg\n"
     ]
    },
    {
     "name": "stderr",
     "output_type": "stream",
     "text": [
      " 77%|████████████████████████████████████████████████████████████▋                  | 965/1256 [17:06<05:17,  1.09s/it]"
     ]
    },
    {
     "name": "stdout",
     "output_type": "stream",
     "text": [
      "Processing image //vector.e3b.columbia.edu/e3b/Globus Database/UWIN Tagged Photos/batch_004/VID30086-00612.jpg\n"
     ]
    },
    {
     "name": "stderr",
     "output_type": "stream",
     "text": [
      " 77%|████████████████████████████████████████████████████████████▊                  | 966/1256 [17:07<05:14,  1.08s/it]"
     ]
    },
    {
     "name": "stdout",
     "output_type": "stream",
     "text": [
      "Processing image //vector.e3b.columbia.edu/e3b/Globus Database/UWIN Tagged Photos/batch_004/VID30086-00613.jpg\n"
     ]
    },
    {
     "name": "stderr",
     "output_type": "stream",
     "text": [
      " 77%|████████████████████████████████████████████████████████████▊                  | 967/1256 [17:08<05:13,  1.08s/it]"
     ]
    },
    {
     "name": "stdout",
     "output_type": "stream",
     "text": [
      "Processing image //vector.e3b.columbia.edu/e3b/Globus Database/UWIN Tagged Photos/batch_004/VID30086-00614.jpg\n"
     ]
    },
    {
     "name": "stderr",
     "output_type": "stream",
     "text": [
      " 77%|████████████████████████████████████████████████████████████▉                  | 968/1256 [17:09<05:08,  1.07s/it]"
     ]
    },
    {
     "name": "stdout",
     "output_type": "stream",
     "text": [
      "Processing image //vector.e3b.columbia.edu/e3b/Globus Database/UWIN Tagged Photos/batch_004/VID30086-00615.jpg\n"
     ]
    },
    {
     "name": "stderr",
     "output_type": "stream",
     "text": [
      " 77%|████████████████████████████████████████████████████████████▉                  | 969/1256 [17:10<05:09,  1.08s/it]"
     ]
    },
    {
     "name": "stdout",
     "output_type": "stream",
     "text": [
      "Processing image //vector.e3b.columbia.edu/e3b/Globus Database/UWIN Tagged Photos/batch_004/VID30086-00616.jpg\n"
     ]
    },
    {
     "name": "stderr",
     "output_type": "stream",
     "text": [
      " 77%|█████████████████████████████████████████████████████████████                  | 970/1256 [17:11<05:14,  1.10s/it]"
     ]
    },
    {
     "name": "stdout",
     "output_type": "stream",
     "text": [
      "Processing image //vector.e3b.columbia.edu/e3b/Globus Database/UWIN Tagged Photos/batch_004/VID30086-00617.jpg\n"
     ]
    },
    {
     "name": "stderr",
     "output_type": "stream",
     "text": [
      " 77%|█████████████████████████████████████████████████████████████                  | 971/1256 [17:12<05:10,  1.09s/it]"
     ]
    },
    {
     "name": "stdout",
     "output_type": "stream",
     "text": [
      "Processing image //vector.e3b.columbia.edu/e3b/Globus Database/UWIN Tagged Photos/batch_004/VID30086-00618.jpg\n"
     ]
    },
    {
     "name": "stderr",
     "output_type": "stream",
     "text": [
      " 77%|█████████████████████████████████████████████████████████████▏                 | 972/1256 [17:13<05:00,  1.06s/it]"
     ]
    },
    {
     "name": "stdout",
     "output_type": "stream",
     "text": [
      "Processing image //vector.e3b.columbia.edu/e3b/Globus Database/UWIN Tagged Photos/batch_004/VID30086-00619.jpg\n"
     ]
    },
    {
     "name": "stderr",
     "output_type": "stream",
     "text": [
      " 77%|█████████████████████████████████████████████████████████████▏                 | 973/1256 [17:14<04:57,  1.05s/it]"
     ]
    },
    {
     "name": "stdout",
     "output_type": "stream",
     "text": [
      "Processing image //vector.e3b.columbia.edu/e3b/Globus Database/UWIN Tagged Photos/batch_004/VID30086-00620.jpg\n"
     ]
    },
    {
     "name": "stderr",
     "output_type": "stream",
     "text": [
      " 78%|█████████████████████████████████████████████████████████████▎                 | 974/1256 [17:15<04:55,  1.05s/it]"
     ]
    },
    {
     "name": "stdout",
     "output_type": "stream",
     "text": [
      "Processing image //vector.e3b.columbia.edu/e3b/Globus Database/UWIN Tagged Photos/batch_004/VID30086-00621.jpg\n"
     ]
    },
    {
     "name": "stderr",
     "output_type": "stream",
     "text": [
      " 78%|█████████████████████████████████████████████████████████████▎                 | 975/1256 [17:16<04:53,  1.04s/it]"
     ]
    },
    {
     "name": "stdout",
     "output_type": "stream",
     "text": [
      "Processing image //vector.e3b.columbia.edu/e3b/Globus Database/UWIN Tagged Photos/batch_004/VID30086-00622.jpg\n"
     ]
    },
    {
     "name": "stderr",
     "output_type": "stream",
     "text": [
      " 78%|█████████████████████████████████████████████████████████████▍                 | 976/1256 [17:17<04:52,  1.04s/it]"
     ]
    },
    {
     "name": "stdout",
     "output_type": "stream",
     "text": [
      "Processing image //vector.e3b.columbia.edu/e3b/Globus Database/UWIN Tagged Photos/batch_004/VID30086-00623.jpg\n"
     ]
    },
    {
     "name": "stderr",
     "output_type": "stream",
     "text": [
      " 78%|█████████████████████████████████████████████████████████████▍                 | 977/1256 [17:18<04:50,  1.04s/it]"
     ]
    },
    {
     "name": "stdout",
     "output_type": "stream",
     "text": [
      "Processing image //vector.e3b.columbia.edu/e3b/Globus Database/UWIN Tagged Photos/batch_004/VID30086-00624.jpg\n"
     ]
    },
    {
     "name": "stderr",
     "output_type": "stream",
     "text": [
      " 78%|█████████████████████████████████████████████████████████████▌                 | 978/1256 [17:19<04:48,  1.04s/it]"
     ]
    },
    {
     "name": "stdout",
     "output_type": "stream",
     "text": [
      "Processing image //vector.e3b.columbia.edu/e3b/Globus Database/UWIN Tagged Photos/batch_004/VID30086-00625.jpg\n"
     ]
    },
    {
     "name": "stderr",
     "output_type": "stream",
     "text": [
      " 78%|█████████████████████████████████████████████████████████████▌                 | 979/1256 [17:20<04:45,  1.03s/it]"
     ]
    },
    {
     "name": "stdout",
     "output_type": "stream",
     "text": [
      "Processing image //vector.e3b.columbia.edu/e3b/Globus Database/UWIN Tagged Photos/batch_004/VID30086-00626.jpg\n"
     ]
    },
    {
     "name": "stderr",
     "output_type": "stream",
     "text": [
      " 78%|█████████████████████████████████████████████████████████████▋                 | 980/1256 [17:21<04:45,  1.04s/it]"
     ]
    },
    {
     "name": "stdout",
     "output_type": "stream",
     "text": [
      "Processing image //vector.e3b.columbia.edu/e3b/Globus Database/UWIN Tagged Photos/batch_004/VID30086-00627.jpg\n"
     ]
    },
    {
     "name": "stderr",
     "output_type": "stream",
     "text": [
      " 78%|█████████████████████████████████████████████████████████████▋                 | 981/1256 [17:22<04:44,  1.03s/it]"
     ]
    },
    {
     "name": "stdout",
     "output_type": "stream",
     "text": [
      "Processing image //vector.e3b.columbia.edu/e3b/Globus Database/UWIN Tagged Photos/batch_004/VID30086-00628.jpg\n"
     ]
    },
    {
     "name": "stderr",
     "output_type": "stream",
     "text": [
      " 78%|█████████████████████████████████████████████████████████████▊                 | 982/1256 [17:23<04:45,  1.04s/it]"
     ]
    },
    {
     "name": "stdout",
     "output_type": "stream",
     "text": [
      "Processing image //vector.e3b.columbia.edu/e3b/Globus Database/UWIN Tagged Photos/batch_004/VID30086-00629.jpg\n"
     ]
    },
    {
     "name": "stderr",
     "output_type": "stream",
     "text": [
      " 78%|█████████████████████████████████████████████████████████████▊                 | 983/1256 [17:24<04:44,  1.04s/it]"
     ]
    },
    {
     "name": "stdout",
     "output_type": "stream",
     "text": [
      "Processing image //vector.e3b.columbia.edu/e3b/Globus Database/UWIN Tagged Photos/batch_004/VID30086-00630.jpg\n"
     ]
    },
    {
     "name": "stderr",
     "output_type": "stream",
     "text": [
      " 78%|█████████████████████████████████████████████████████████████▉                 | 984/1256 [17:25<04:43,  1.04s/it]"
     ]
    },
    {
     "name": "stdout",
     "output_type": "stream",
     "text": [
      "Processing image //vector.e3b.columbia.edu/e3b/Globus Database/UWIN Tagged Photos/batch_004/VID30086-00631.jpg\n"
     ]
    },
    {
     "name": "stderr",
     "output_type": "stream",
     "text": [
      " 78%|█████████████████████████████████████████████████████████████▉                 | 985/1256 [17:26<04:41,  1.04s/it]"
     ]
    },
    {
     "name": "stdout",
     "output_type": "stream",
     "text": [
      "Processing image //vector.e3b.columbia.edu/e3b/Globus Database/UWIN Tagged Photos/batch_004/VID30086-00632.jpg\n"
     ]
    },
    {
     "name": "stderr",
     "output_type": "stream",
     "text": [
      " 79%|██████████████████████████████████████████████████████████████                 | 986/1256 [17:27<04:37,  1.03s/it]"
     ]
    },
    {
     "name": "stdout",
     "output_type": "stream",
     "text": [
      "Processing image //vector.e3b.columbia.edu/e3b/Globus Database/UWIN Tagged Photos/batch_004/VID30086-00633.jpg\n"
     ]
    },
    {
     "name": "stderr",
     "output_type": "stream",
     "text": [
      " 79%|██████████████████████████████████████████████████████████████                 | 987/1256 [17:29<04:40,  1.04s/it]"
     ]
    },
    {
     "name": "stdout",
     "output_type": "stream",
     "text": [
      "Processing image //vector.e3b.columbia.edu/e3b/Globus Database/UWIN Tagged Photos/batch_004/VID30086-00634.jpg\n"
     ]
    },
    {
     "name": "stderr",
     "output_type": "stream",
     "text": [
      " 79%|██████████████████████████████████████████████████████████████▏                | 988/1256 [17:30<04:36,  1.03s/it]"
     ]
    },
    {
     "name": "stdout",
     "output_type": "stream",
     "text": [
      "Processing image //vector.e3b.columbia.edu/e3b/Globus Database/UWIN Tagged Photos/batch_004/VID30086-00635.jpg\n"
     ]
    },
    {
     "name": "stderr",
     "output_type": "stream",
     "text": [
      " 79%|██████████████████████████████████████████████████████████████▏                | 989/1256 [17:31<04:36,  1.04s/it]"
     ]
    },
    {
     "name": "stdout",
     "output_type": "stream",
     "text": [
      "Processing image //vector.e3b.columbia.edu/e3b/Globus Database/UWIN Tagged Photos/batch_004/VID30086-00636.jpg\n"
     ]
    },
    {
     "name": "stderr",
     "output_type": "stream",
     "text": [
      " 79%|██████████████████████████████████████████████████████████████▎                | 990/1256 [17:32<04:33,  1.03s/it]"
     ]
    },
    {
     "name": "stdout",
     "output_type": "stream",
     "text": [
      "Processing image //vector.e3b.columbia.edu/e3b/Globus Database/UWIN Tagged Photos/batch_004/VID30086-00637.jpg\n"
     ]
    },
    {
     "name": "stderr",
     "output_type": "stream",
     "text": [
      " 79%|██████████████████████████████████████████████████████████████▎                | 991/1256 [17:33<04:32,  1.03s/it]"
     ]
    },
    {
     "name": "stdout",
     "output_type": "stream",
     "text": [
      "Processing image //vector.e3b.columbia.edu/e3b/Globus Database/UWIN Tagged Photos/batch_004/VID30086-00638.jpg\n"
     ]
    },
    {
     "name": "stderr",
     "output_type": "stream",
     "text": [
      " 79%|██████████████████████████████████████████████████████████████▍                | 992/1256 [17:34<04:35,  1.04s/it]"
     ]
    },
    {
     "name": "stdout",
     "output_type": "stream",
     "text": [
      "Processing image //vector.e3b.columbia.edu/e3b/Globus Database/UWIN Tagged Photos/batch_004/VID30086-00639.jpg\n"
     ]
    },
    {
     "name": "stderr",
     "output_type": "stream",
     "text": [
      " 79%|██████████████████████████████████████████████████████████████▍                | 993/1256 [17:35<04:38,  1.06s/it]"
     ]
    },
    {
     "name": "stdout",
     "output_type": "stream",
     "text": [
      "Processing image //vector.e3b.columbia.edu/e3b/Globus Database/UWIN Tagged Photos/batch_004/VID30086-00640.jpg\n"
     ]
    },
    {
     "name": "stderr",
     "output_type": "stream",
     "text": [
      " 79%|██████████████████████████████████████████████████████████████▌                | 994/1256 [17:36<04:43,  1.08s/it]"
     ]
    },
    {
     "name": "stdout",
     "output_type": "stream",
     "text": [
      "Processing image //vector.e3b.columbia.edu/e3b/Globus Database/UWIN Tagged Photos/batch_004/VID30086-00641.jpg\n"
     ]
    },
    {
     "name": "stderr",
     "output_type": "stream",
     "text": [
      " 79%|██████████████████████████████████████████████████████████████▌                | 995/1256 [17:37<04:44,  1.09s/it]"
     ]
    },
    {
     "name": "stdout",
     "output_type": "stream",
     "text": [
      "Processing image //vector.e3b.columbia.edu/e3b/Globus Database/UWIN Tagged Photos/batch_004/VID30086-00642.jpg\n"
     ]
    },
    {
     "name": "stderr",
     "output_type": "stream",
     "text": [
      " 79%|██████████████████████████████████████████████████████████████▋                | 996/1256 [17:38<04:42,  1.09s/it]"
     ]
    },
    {
     "name": "stdout",
     "output_type": "stream",
     "text": [
      "Processing image //vector.e3b.columbia.edu/e3b/Globus Database/UWIN Tagged Photos/batch_004/VID30086-00643.jpg\n"
     ]
    },
    {
     "name": "stderr",
     "output_type": "stream",
     "text": [
      " 79%|██████████████████████████████████████████████████████████████▋                | 997/1256 [17:39<04:42,  1.09s/it]"
     ]
    },
    {
     "name": "stdout",
     "output_type": "stream",
     "text": [
      "Processing image //vector.e3b.columbia.edu/e3b/Globus Database/UWIN Tagged Photos/batch_004/VID30086-00644.jpg\n"
     ]
    },
    {
     "name": "stderr",
     "output_type": "stream",
     "text": [
      " 79%|██████████████████████████████████████████████████████████████▊                | 998/1256 [17:40<04:40,  1.09s/it]"
     ]
    },
    {
     "name": "stdout",
     "output_type": "stream",
     "text": [
      "Processing image //vector.e3b.columbia.edu/e3b/Globus Database/UWIN Tagged Photos/batch_004/VID30086-00645.jpg\n"
     ]
    },
    {
     "name": "stderr",
     "output_type": "stream",
     "text": [
      " 80%|██████████████████████████████████████████████████████████████▊                | 999/1256 [17:41<04:38,  1.08s/it]"
     ]
    },
    {
     "name": "stdout",
     "output_type": "stream",
     "text": [
      "Processing image //vector.e3b.columbia.edu/e3b/Globus Database/UWIN Tagged Photos/batch_004/VID30086-00646.jpg\n"
     ]
    },
    {
     "name": "stderr",
     "output_type": "stream",
     "text": [
      " 80%|██████████████████████████████████████████████████████████████                | 1000/1256 [17:43<04:40,  1.10s/it]"
     ]
    },
    {
     "name": "stdout",
     "output_type": "stream",
     "text": [
      "Processing image //vector.e3b.columbia.edu/e3b/Globus Database/UWIN Tagged Photos/batch_004/VID30086-00647.jpg\n"
     ]
    },
    {
     "name": "stderr",
     "output_type": "stream",
     "text": [
      " 80%|██████████████████████████████████████████████████████████████▏               | 1001/1256 [17:44<04:37,  1.09s/it]"
     ]
    },
    {
     "name": "stdout",
     "output_type": "stream",
     "text": [
      "Processing image //vector.e3b.columbia.edu/e3b/Globus Database/UWIN Tagged Photos/batch_004/VID30086-00648.jpg\n"
     ]
    },
    {
     "name": "stderr",
     "output_type": "stream",
     "text": [
      " 80%|██████████████████████████████████████████████████████████████▏               | 1002/1256 [17:45<04:34,  1.08s/it]"
     ]
    },
    {
     "name": "stdout",
     "output_type": "stream",
     "text": [
      "Processing image //vector.e3b.columbia.edu/e3b/Globus Database/UWIN Tagged Photos/batch_004/VID30086-00649.jpg\n"
     ]
    },
    {
     "name": "stderr",
     "output_type": "stream",
     "text": [
      " 80%|██████████████████████████████████████████████████████████████▎               | 1003/1256 [17:46<04:33,  1.08s/it]"
     ]
    },
    {
     "name": "stdout",
     "output_type": "stream",
     "text": [
      "Processing image //vector.e3b.columbia.edu/e3b/Globus Database/UWIN Tagged Photos/batch_004/VID30086-00650.jpg\n"
     ]
    },
    {
     "name": "stderr",
     "output_type": "stream",
     "text": [
      " 80%|██████████████████████████████████████████████████████████████▎               | 1004/1256 [17:47<04:32,  1.08s/it]"
     ]
    },
    {
     "name": "stdout",
     "output_type": "stream",
     "text": [
      "Processing image //vector.e3b.columbia.edu/e3b/Globus Database/UWIN Tagged Photos/batch_004/VID30086-00651.jpg\n"
     ]
    },
    {
     "name": "stderr",
     "output_type": "stream",
     "text": [
      " 80%|██████████████████████████████████████████████████████████████▍               | 1005/1256 [17:48<04:31,  1.08s/it]"
     ]
    },
    {
     "name": "stdout",
     "output_type": "stream",
     "text": [
      "Processing image //vector.e3b.columbia.edu/e3b/Globus Database/UWIN Tagged Photos/batch_004/VID30086-00652.jpg\n"
     ]
    },
    {
     "name": "stderr",
     "output_type": "stream",
     "text": [
      " 80%|██████████████████████████████████████████████████████████████▍               | 1006/1256 [17:49<04:33,  1.09s/it]"
     ]
    },
    {
     "name": "stdout",
     "output_type": "stream",
     "text": [
      "Processing image //vector.e3b.columbia.edu/e3b/Globus Database/UWIN Tagged Photos/batch_004/VID30086-00653.jpg\n"
     ]
    },
    {
     "name": "stderr",
     "output_type": "stream",
     "text": [
      " 80%|██████████████████████████████████████████████████████████████▌               | 1007/1256 [17:50<04:33,  1.10s/it]"
     ]
    },
    {
     "name": "stdout",
     "output_type": "stream",
     "text": [
      "Processing image //vector.e3b.columbia.edu/e3b/Globus Database/UWIN Tagged Photos/batch_004/VID30086-00654.jpg\n"
     ]
    },
    {
     "name": "stderr",
     "output_type": "stream",
     "text": [
      " 80%|██████████████████████████████████████████████████████████████▌               | 1008/1256 [17:51<04:32,  1.10s/it]"
     ]
    },
    {
     "name": "stdout",
     "output_type": "stream",
     "text": [
      "Processing image //vector.e3b.columbia.edu/e3b/Globus Database/UWIN Tagged Photos/batch_004/VID30086-00655.jpg\n"
     ]
    },
    {
     "name": "stderr",
     "output_type": "stream",
     "text": [
      " 80%|██████████████████████████████████████████████████████████████▋               | 1009/1256 [17:52<04:33,  1.11s/it]"
     ]
    },
    {
     "name": "stdout",
     "output_type": "stream",
     "text": [
      "Processing image //vector.e3b.columbia.edu/e3b/Globus Database/UWIN Tagged Photos/batch_004/VID30086-00656.jpg\n"
     ]
    },
    {
     "name": "stderr",
     "output_type": "stream",
     "text": [
      " 80%|██████████████████████████████████████████████████████████████▋               | 1010/1256 [17:53<04:33,  1.11s/it]"
     ]
    },
    {
     "name": "stdout",
     "output_type": "stream",
     "text": [
      "Processing image //vector.e3b.columbia.edu/e3b/Globus Database/UWIN Tagged Photos/batch_004/VID30086-00657.jpg\n"
     ]
    },
    {
     "name": "stderr",
     "output_type": "stream",
     "text": [
      " 80%|██████████████████████████████████████████████████████████████▊               | 1011/1256 [17:55<04:30,  1.10s/it]"
     ]
    },
    {
     "name": "stdout",
     "output_type": "stream",
     "text": [
      "Processing image //vector.e3b.columbia.edu/e3b/Globus Database/UWIN Tagged Photos/batch_004/VID30086-00658.jpg\n"
     ]
    },
    {
     "name": "stderr",
     "output_type": "stream",
     "text": [
      " 81%|██████████████████████████████████████████████████████████████▊               | 1012/1256 [17:56<04:27,  1.10s/it]"
     ]
    },
    {
     "name": "stdout",
     "output_type": "stream",
     "text": [
      "Processing image //vector.e3b.columbia.edu/e3b/Globus Database/UWIN Tagged Photos/batch_004/VID30086-00659.jpg\n"
     ]
    },
    {
     "name": "stderr",
     "output_type": "stream",
     "text": [
      " 81%|██████████████████████████████████████████████████████████████▉               | 1013/1256 [17:57<04:25,  1.09s/it]"
     ]
    },
    {
     "name": "stdout",
     "output_type": "stream",
     "text": [
      "Processing image //vector.e3b.columbia.edu/e3b/Globus Database/UWIN Tagged Photos/batch_004/VID30086-00660.jpg\n"
     ]
    },
    {
     "name": "stderr",
     "output_type": "stream",
     "text": [
      " 81%|██████████████████████████████████████████████████████████████▉               | 1014/1256 [17:58<04:25,  1.10s/it]"
     ]
    },
    {
     "name": "stdout",
     "output_type": "stream",
     "text": [
      "Processing image //vector.e3b.columbia.edu/e3b/Globus Database/UWIN Tagged Photos/batch_004/VID30086-00661.jpg\n"
     ]
    },
    {
     "name": "stderr",
     "output_type": "stream",
     "text": [
      " 81%|███████████████████████████████████████████████████████████████               | 1015/1256 [17:59<04:21,  1.09s/it]"
     ]
    },
    {
     "name": "stdout",
     "output_type": "stream",
     "text": [
      "Processing image //vector.e3b.columbia.edu/e3b/Globus Database/UWIN Tagged Photos/batch_004/VID30086-00662.jpg\n"
     ]
    },
    {
     "name": "stderr",
     "output_type": "stream",
     "text": [
      " 81%|███████████████████████████████████████████████████████████████               | 1016/1256 [18:00<04:21,  1.09s/it]"
     ]
    },
    {
     "name": "stdout",
     "output_type": "stream",
     "text": [
      "Processing image //vector.e3b.columbia.edu/e3b/Globus Database/UWIN Tagged Photos/batch_004/VID30086-00663.jpg\n"
     ]
    },
    {
     "name": "stderr",
     "output_type": "stream",
     "text": [
      " 81%|███████████████████████████████████████████████████████████████▏              | 1017/1256 [18:01<04:19,  1.09s/it]"
     ]
    },
    {
     "name": "stdout",
     "output_type": "stream",
     "text": [
      "Processing image //vector.e3b.columbia.edu/e3b/Globus Database/UWIN Tagged Photos/batch_004/VID30086-00664.jpg\n"
     ]
    },
    {
     "name": "stderr",
     "output_type": "stream",
     "text": [
      " 81%|███████████████████████████████████████████████████████████████▏              | 1018/1256 [18:02<04:16,  1.08s/it]"
     ]
    },
    {
     "name": "stdout",
     "output_type": "stream",
     "text": [
      "Processing image //vector.e3b.columbia.edu/e3b/Globus Database/UWIN Tagged Photos/batch_004/VID30086-00665.jpg\n"
     ]
    },
    {
     "name": "stderr",
     "output_type": "stream",
     "text": [
      " 81%|███████████████████████████████████████████████████████████████▎              | 1019/1256 [18:03<04:16,  1.08s/it]"
     ]
    },
    {
     "name": "stdout",
     "output_type": "stream",
     "text": [
      "Processing image //vector.e3b.columbia.edu/e3b/Globus Database/UWIN Tagged Photos/batch_004/VID30086-00666.jpg\n"
     ]
    },
    {
     "name": "stderr",
     "output_type": "stream",
     "text": [
      " 81%|███████████████████████████████████████████████████████████████▎              | 1020/1256 [18:04<04:16,  1.09s/it]"
     ]
    },
    {
     "name": "stdout",
     "output_type": "stream",
     "text": [
      "Processing image //vector.e3b.columbia.edu/e3b/Globus Database/UWIN Tagged Photos/batch_004/VID30086-00667.jpg\n"
     ]
    },
    {
     "name": "stderr",
     "output_type": "stream",
     "text": [
      " 81%|███████████████████████████████████████████████████████████████▍              | 1021/1256 [18:05<04:13,  1.08s/it]"
     ]
    },
    {
     "name": "stdout",
     "output_type": "stream",
     "text": [
      "Processing image //vector.e3b.columbia.edu/e3b/Globus Database/UWIN Tagged Photos/batch_004/VID30086-00668.jpg\n"
     ]
    },
    {
     "name": "stderr",
     "output_type": "stream",
     "text": [
      " 81%|███████████████████████████████████████████████████████████████▍              | 1022/1256 [18:06<04:11,  1.07s/it]"
     ]
    },
    {
     "name": "stdout",
     "output_type": "stream",
     "text": [
      "Processing image //vector.e3b.columbia.edu/e3b/Globus Database/UWIN Tagged Photos/batch_004/VID30086-00669.jpg\n"
     ]
    },
    {
     "name": "stderr",
     "output_type": "stream",
     "text": [
      " 81%|███████████████████████████████████████████████████████████████▌              | 1023/1256 [18:08<04:09,  1.07s/it]"
     ]
    },
    {
     "name": "stdout",
     "output_type": "stream",
     "text": [
      "Processing image //vector.e3b.columbia.edu/e3b/Globus Database/UWIN Tagged Photos/batch_004/VID30086-00670.jpg\n"
     ]
    },
    {
     "name": "stderr",
     "output_type": "stream",
     "text": [
      " 82%|███████████████████████████████████████████████████████████████▌              | 1024/1256 [18:09<04:08,  1.07s/it]"
     ]
    },
    {
     "name": "stdout",
     "output_type": "stream",
     "text": [
      "Processing image //vector.e3b.columbia.edu/e3b/Globus Database/UWIN Tagged Photos/batch_004/VID30086-00671.jpg\n"
     ]
    },
    {
     "name": "stderr",
     "output_type": "stream",
     "text": [
      " 82%|███████████████████████████████████████████████████████████████▋              | 1025/1256 [18:10<04:01,  1.05s/it]"
     ]
    },
    {
     "name": "stdout",
     "output_type": "stream",
     "text": [
      "Processing image //vector.e3b.columbia.edu/e3b/Globus Database/UWIN Tagged Photos/batch_004/VID31449-00000.jpg\n"
     ]
    },
    {
     "name": "stderr",
     "output_type": "stream",
     "text": [
      " 82%|███████████████████████████████████████████████████████████████▋              | 1026/1256 [18:11<03:55,  1.03s/it]"
     ]
    },
    {
     "name": "stdout",
     "output_type": "stream",
     "text": [
      "Processing image //vector.e3b.columbia.edu/e3b/Globus Database/UWIN Tagged Photos/batch_004/VID31449-00001.jpg\n"
     ]
    },
    {
     "name": "stderr",
     "output_type": "stream",
     "text": [
      " 82%|███████████████████████████████████████████████████████████████▊              | 1027/1256 [18:12<03:51,  1.01s/it]"
     ]
    },
    {
     "name": "stdout",
     "output_type": "stream",
     "text": [
      "Processing image //vector.e3b.columbia.edu/e3b/Globus Database/UWIN Tagged Photos/batch_004/VID31449-00002.jpg\n"
     ]
    },
    {
     "name": "stderr",
     "output_type": "stream",
     "text": [
      " 82%|███████████████████████████████████████████████████████████████▊              | 1028/1256 [18:13<03:48,  1.00s/it]"
     ]
    },
    {
     "name": "stdout",
     "output_type": "stream",
     "text": [
      "Processing image //vector.e3b.columbia.edu/e3b/Globus Database/UWIN Tagged Photos/batch_004/VID31449-00003.jpg\n"
     ]
    },
    {
     "name": "stderr",
     "output_type": "stream",
     "text": [
      " 82%|███████████████████████████████████████████████████████████████▉              | 1029/1256 [18:13<03:43,  1.01it/s]"
     ]
    },
    {
     "name": "stdout",
     "output_type": "stream",
     "text": [
      "Processing image //vector.e3b.columbia.edu/e3b/Globus Database/UWIN Tagged Photos/batch_004/VID31449-00004.jpg\n"
     ]
    },
    {
     "name": "stderr",
     "output_type": "stream",
     "text": [
      " 82%|███████████████████████████████████████████████████████████████▉              | 1030/1256 [18:14<03:41,  1.02it/s]"
     ]
    },
    {
     "name": "stdout",
     "output_type": "stream",
     "text": [
      "Processing image //vector.e3b.columbia.edu/e3b/Globus Database/UWIN Tagged Photos/batch_004/VID31449-00005.jpg\n"
     ]
    },
    {
     "name": "stderr",
     "output_type": "stream",
     "text": [
      " 82%|████████████████████████████████████████████████████████████████              | 1031/1256 [18:15<03:40,  1.02it/s]"
     ]
    },
    {
     "name": "stdout",
     "output_type": "stream",
     "text": [
      "Processing image //vector.e3b.columbia.edu/e3b/Globus Database/UWIN Tagged Photos/batch_004/VID31449-00006.jpg\n"
     ]
    },
    {
     "name": "stderr",
     "output_type": "stream",
     "text": [
      " 82%|████████████████████████████████████████████████████████████████              | 1032/1256 [18:16<03:39,  1.02it/s]"
     ]
    },
    {
     "name": "stdout",
     "output_type": "stream",
     "text": [
      "Processing image //vector.e3b.columbia.edu/e3b/Globus Database/UWIN Tagged Photos/batch_004/VID31449-00007.jpg\n"
     ]
    },
    {
     "name": "stderr",
     "output_type": "stream",
     "text": [
      " 82%|████████████████████████████████████████████████████████████████▏             | 1033/1256 [18:17<03:38,  1.02it/s]"
     ]
    },
    {
     "name": "stdout",
     "output_type": "stream",
     "text": [
      "Processing image //vector.e3b.columbia.edu/e3b/Globus Database/UWIN Tagged Photos/batch_004/VID31449-00008.jpg\n"
     ]
    },
    {
     "name": "stderr",
     "output_type": "stream",
     "text": [
      " 82%|████████████████████████████████████████████████████████████████▏             | 1034/1256 [18:18<03:33,  1.04it/s]"
     ]
    },
    {
     "name": "stdout",
     "output_type": "stream",
     "text": [
      "Processing image //vector.e3b.columbia.edu/e3b/Globus Database/UWIN Tagged Photos/batch_004/VID31449-00009.jpg\n"
     ]
    },
    {
     "name": "stderr",
     "output_type": "stream",
     "text": [
      " 82%|████████████████████████████████████████████████████████████████▎             | 1035/1256 [18:19<03:31,  1.04it/s]"
     ]
    },
    {
     "name": "stdout",
     "output_type": "stream",
     "text": [
      "Processing image //vector.e3b.columbia.edu/e3b/Globus Database/UWIN Tagged Photos/batch_004/VID31449-00010.jpg\n"
     ]
    },
    {
     "name": "stderr",
     "output_type": "stream",
     "text": [
      " 82%|████████████████████████████████████████████████████████████████▎             | 1036/1256 [18:20<03:32,  1.04it/s]"
     ]
    },
    {
     "name": "stdout",
     "output_type": "stream",
     "text": [
      "Processing image //vector.e3b.columbia.edu/e3b/Globus Database/UWIN Tagged Photos/batch_004/VID31449-00011.jpg\n"
     ]
    },
    {
     "name": "stderr",
     "output_type": "stream",
     "text": [
      " 83%|████████████████████████████████████████████████████████████████▍             | 1037/1256 [18:21<03:30,  1.04it/s]"
     ]
    },
    {
     "name": "stdout",
     "output_type": "stream",
     "text": [
      "Processing image //vector.e3b.columbia.edu/e3b/Globus Database/UWIN Tagged Photos/batch_004/VID31449-00012.jpg\n"
     ]
    },
    {
     "name": "stderr",
     "output_type": "stream",
     "text": [
      " 83%|████████████████████████████████████████████████████████████████▍             | 1038/1256 [18:22<03:30,  1.03it/s]"
     ]
    },
    {
     "name": "stdout",
     "output_type": "stream",
     "text": [
      "Processing image //vector.e3b.columbia.edu/e3b/Globus Database/UWIN Tagged Photos/batch_004/VID31449-00013.jpg\n"
     ]
    },
    {
     "name": "stderr",
     "output_type": "stream",
     "text": [
      " 83%|████████████████████████████████████████████████████████████████▌             | 1039/1256 [18:23<03:29,  1.04it/s]"
     ]
    },
    {
     "name": "stdout",
     "output_type": "stream",
     "text": [
      "Processing image //vector.e3b.columbia.edu/e3b/Globus Database/UWIN Tagged Photos/batch_004/VID31449-00014.jpg\n"
     ]
    },
    {
     "name": "stderr",
     "output_type": "stream",
     "text": [
      " 83%|████████████████████████████████████████████████████████████████▌             | 1040/1256 [18:24<03:28,  1.04it/s]"
     ]
    },
    {
     "name": "stdout",
     "output_type": "stream",
     "text": [
      "Processing image //vector.e3b.columbia.edu/e3b/Globus Database/UWIN Tagged Photos/batch_004/VID31449-00015.jpg\n"
     ]
    },
    {
     "name": "stderr",
     "output_type": "stream",
     "text": [
      " 83%|████████████████████████████████████████████████████████████████▋             | 1041/1256 [18:25<03:30,  1.02it/s]"
     ]
    },
    {
     "name": "stdout",
     "output_type": "stream",
     "text": [
      "Processing image //vector.e3b.columbia.edu/e3b/Globus Database/UWIN Tagged Photos/batch_004/VID31449-00016.jpg\n"
     ]
    },
    {
     "name": "stderr",
     "output_type": "stream",
     "text": [
      " 83%|████████████████████████████████████████████████████████████████▋             | 1042/1256 [18:26<03:30,  1.02it/s]"
     ]
    },
    {
     "name": "stdout",
     "output_type": "stream",
     "text": [
      "Processing image //vector.e3b.columbia.edu/e3b/Globus Database/UWIN Tagged Photos/batch_004/VID31449-00017.jpg\n"
     ]
    },
    {
     "name": "stderr",
     "output_type": "stream",
     "text": [
      " 83%|████████████████████████████████████████████████████████████████▊             | 1043/1256 [18:27<03:28,  1.02it/s]"
     ]
    },
    {
     "name": "stdout",
     "output_type": "stream",
     "text": [
      "Processing image //vector.e3b.columbia.edu/e3b/Globus Database/UWIN Tagged Photos/batch_004/VID31449-00018.jpg\n"
     ]
    },
    {
     "name": "stderr",
     "output_type": "stream",
     "text": [
      " 83%|████████████████████████████████████████████████████████████████▊             | 1044/1256 [18:28<03:28,  1.02it/s]"
     ]
    },
    {
     "name": "stdout",
     "output_type": "stream",
     "text": [
      "Processing image //vector.e3b.columbia.edu/e3b/Globus Database/UWIN Tagged Photos/batch_004/VID31449-00019.jpg\n"
     ]
    },
    {
     "name": "stderr",
     "output_type": "stream",
     "text": [
      " 83%|████████████████████████████████████████████████████████████████▉             | 1045/1256 [18:29<03:27,  1.02it/s]"
     ]
    },
    {
     "name": "stdout",
     "output_type": "stream",
     "text": [
      "Processing image //vector.e3b.columbia.edu/e3b/Globus Database/UWIN Tagged Photos/batch_004/VID31449-00020.jpg\n"
     ]
    },
    {
     "name": "stderr",
     "output_type": "stream",
     "text": [
      " 83%|████████████████████████████████████████████████████████████████▉             | 1046/1256 [18:30<03:26,  1.02it/s]"
     ]
    },
    {
     "name": "stdout",
     "output_type": "stream",
     "text": [
      "Processing image //vector.e3b.columbia.edu/e3b/Globus Database/UWIN Tagged Photos/batch_004/VID31449-00021.jpg\n"
     ]
    },
    {
     "name": "stderr",
     "output_type": "stream",
     "text": [
      " 83%|█████████████████████████████████████████████████████████████████             | 1047/1256 [18:31<03:28,  1.00it/s]"
     ]
    },
    {
     "name": "stdout",
     "output_type": "stream",
     "text": [
      "Processing image //vector.e3b.columbia.edu/e3b/Globus Database/UWIN Tagged Photos/batch_004/VID31449-00022.jpg\n"
     ]
    },
    {
     "name": "stderr",
     "output_type": "stream",
     "text": [
      " 83%|█████████████████████████████████████████████████████████████████             | 1048/1256 [18:32<03:26,  1.01it/s]"
     ]
    },
    {
     "name": "stdout",
     "output_type": "stream",
     "text": [
      "Processing image //vector.e3b.columbia.edu/e3b/Globus Database/UWIN Tagged Photos/batch_004/VID31449-00023.jpg\n"
     ]
    },
    {
     "name": "stderr",
     "output_type": "stream",
     "text": [
      " 84%|█████████████████████████████████████████████████████████████████▏            | 1049/1256 [18:33<03:23,  1.02it/s]"
     ]
    },
    {
     "name": "stdout",
     "output_type": "stream",
     "text": [
      "Processing image //vector.e3b.columbia.edu/e3b/Globus Database/UWIN Tagged Photos/batch_004/VID31449-00024.jpg\n"
     ]
    },
    {
     "name": "stderr",
     "output_type": "stream",
     "text": [
      " 84%|█████████████████████████████████████████████████████████████████▏            | 1050/1256 [18:34<03:19,  1.03it/s]"
     ]
    },
    {
     "name": "stdout",
     "output_type": "stream",
     "text": [
      "Processing image //vector.e3b.columbia.edu/e3b/Globus Database/UWIN Tagged Photos/batch_004/VID31449-00025.jpg\n"
     ]
    },
    {
     "name": "stderr",
     "output_type": "stream",
     "text": [
      " 84%|█████████████████████████████████████████████████████████████████▎            | 1051/1256 [18:35<03:19,  1.03it/s]"
     ]
    },
    {
     "name": "stdout",
     "output_type": "stream",
     "text": [
      "Processing image //vector.e3b.columbia.edu/e3b/Globus Database/UWIN Tagged Photos/batch_004/VID31449-00026.jpg\n"
     ]
    },
    {
     "name": "stderr",
     "output_type": "stream",
     "text": [
      " 84%|█████████████████████████████████████████████████████████████████▎            | 1052/1256 [18:36<03:21,  1.01it/s]"
     ]
    },
    {
     "name": "stdout",
     "output_type": "stream",
     "text": [
      "Processing image //vector.e3b.columbia.edu/e3b/Globus Database/UWIN Tagged Photos/batch_004/VID31449-00027.jpg\n"
     ]
    },
    {
     "name": "stderr",
     "output_type": "stream",
     "text": [
      " 84%|█████████████████████████████████████████████████████████████████▍            | 1053/1256 [18:37<03:21,  1.01it/s]"
     ]
    },
    {
     "name": "stdout",
     "output_type": "stream",
     "text": [
      "Processing image //vector.e3b.columbia.edu/e3b/Globus Database/UWIN Tagged Photos/batch_004/VID31449-00028.jpg\n"
     ]
    },
    {
     "name": "stderr",
     "output_type": "stream",
     "text": [
      " 84%|█████████████████████████████████████████████████████████████████▍            | 1054/1256 [18:38<03:21,  1.00it/s]"
     ]
    },
    {
     "name": "stdout",
     "output_type": "stream",
     "text": [
      "Processing image //vector.e3b.columbia.edu/e3b/Globus Database/UWIN Tagged Photos/batch_004/VID31449-00029.jpg\n"
     ]
    },
    {
     "name": "stderr",
     "output_type": "stream",
     "text": [
      " 84%|█████████████████████████████████████████████████████████████████▌            | 1055/1256 [18:39<03:22,  1.01s/it]"
     ]
    },
    {
     "name": "stdout",
     "output_type": "stream",
     "text": [
      "Processing image //vector.e3b.columbia.edu/e3b/Globus Database/UWIN Tagged Photos/batch_004/VID31449-00030.jpg\n"
     ]
    },
    {
     "name": "stderr",
     "output_type": "stream",
     "text": [
      " 84%|█████████████████████████████████████████████████████████████████▌            | 1056/1256 [18:40<03:20,  1.00s/it]"
     ]
    },
    {
     "name": "stdout",
     "output_type": "stream",
     "text": [
      "Processing image //vector.e3b.columbia.edu/e3b/Globus Database/UWIN Tagged Photos/batch_004/VID31449-00031.jpg\n"
     ]
    },
    {
     "name": "stderr",
     "output_type": "stream",
     "text": [
      " 84%|█████████████████████████████████████████████████████████████████▋            | 1057/1256 [18:41<03:17,  1.01it/s]"
     ]
    },
    {
     "name": "stdout",
     "output_type": "stream",
     "text": [
      "Processing image //vector.e3b.columbia.edu/e3b/Globus Database/UWIN Tagged Photos/batch_004/VID31449-00032.jpg\n"
     ]
    },
    {
     "name": "stderr",
     "output_type": "stream",
     "text": [
      " 84%|█████████████████████████████████████████████████████████████████▋            | 1058/1256 [18:42<03:18,  1.00s/it]"
     ]
    },
    {
     "name": "stdout",
     "output_type": "stream",
     "text": [
      "Processing image //vector.e3b.columbia.edu/e3b/Globus Database/UWIN Tagged Photos/batch_004/VID31449-00033.jpg\n"
     ]
    },
    {
     "name": "stderr",
     "output_type": "stream",
     "text": [
      " 84%|█████████████████████████████████████████████████████████████████▊            | 1059/1256 [18:43<03:15,  1.01it/s]"
     ]
    },
    {
     "name": "stdout",
     "output_type": "stream",
     "text": [
      "Processing image //vector.e3b.columbia.edu/e3b/Globus Database/UWIN Tagged Photos/batch_004/VID31449-00034.jpg\n"
     ]
    },
    {
     "name": "stderr",
     "output_type": "stream",
     "text": [
      " 84%|█████████████████████████████████████████████████████████████████▊            | 1060/1256 [18:44<03:12,  1.02it/s]"
     ]
    },
    {
     "name": "stdout",
     "output_type": "stream",
     "text": [
      "Processing image //vector.e3b.columbia.edu/e3b/Globus Database/UWIN Tagged Photos/batch_004/VID31449-00035.jpg\n"
     ]
    },
    {
     "name": "stderr",
     "output_type": "stream",
     "text": [
      " 84%|█████████████████████████████████████████████████████████████████▉            | 1061/1256 [18:45<03:11,  1.02it/s]"
     ]
    },
    {
     "name": "stdout",
     "output_type": "stream",
     "text": [
      "Processing image //vector.e3b.columbia.edu/e3b/Globus Database/UWIN Tagged Photos/batch_004/VID31449-00036.jpg\n"
     ]
    },
    {
     "name": "stderr",
     "output_type": "stream",
     "text": [
      " 85%|█████████████████████████████████████████████████████████████████▉            | 1062/1256 [18:46<03:12,  1.01it/s]"
     ]
    },
    {
     "name": "stdout",
     "output_type": "stream",
     "text": [
      "Processing image //vector.e3b.columbia.edu/e3b/Globus Database/UWIN Tagged Photos/batch_004/VID31449-00037.jpg\n"
     ]
    },
    {
     "name": "stderr",
     "output_type": "stream",
     "text": [
      " 85%|██████████████████████████████████████████████████████████████████            | 1063/1256 [18:47<03:11,  1.01it/s]"
     ]
    },
    {
     "name": "stdout",
     "output_type": "stream",
     "text": [
      "Processing image //vector.e3b.columbia.edu/e3b/Globus Database/UWIN Tagged Photos/batch_004/VID31449-00038.jpg\n"
     ]
    },
    {
     "name": "stderr",
     "output_type": "stream",
     "text": [
      " 85%|██████████████████████████████████████████████████████████████████            | 1064/1256 [18:48<03:10,  1.01it/s]"
     ]
    },
    {
     "name": "stdout",
     "output_type": "stream",
     "text": [
      "Processing image //vector.e3b.columbia.edu/e3b/Globus Database/UWIN Tagged Photos/batch_004/VID31449-00039.jpg\n"
     ]
    },
    {
     "name": "stderr",
     "output_type": "stream",
     "text": [
      " 85%|██████████████████████████████████████████████████████████████████▏           | 1065/1256 [18:49<03:08,  1.01it/s]"
     ]
    },
    {
     "name": "stdout",
     "output_type": "stream",
     "text": [
      "Processing image //vector.e3b.columbia.edu/e3b/Globus Database/UWIN Tagged Photos/batch_004/VID31449-00040.jpg\n"
     ]
    },
    {
     "name": "stderr",
     "output_type": "stream",
     "text": [
      " 85%|██████████████████████████████████████████████████████████████████▏           | 1066/1256 [18:50<03:05,  1.02it/s]"
     ]
    },
    {
     "name": "stdout",
     "output_type": "stream",
     "text": [
      "Processing image //vector.e3b.columbia.edu/e3b/Globus Database/UWIN Tagged Photos/batch_004/VID31449-00041.jpg\n"
     ]
    },
    {
     "name": "stderr",
     "output_type": "stream",
     "text": [
      " 85%|██████████████████████████████████████████████████████████████████▎           | 1067/1256 [18:51<03:06,  1.02it/s]"
     ]
    },
    {
     "name": "stdout",
     "output_type": "stream",
     "text": [
      "Processing image //vector.e3b.columbia.edu/e3b/Globus Database/UWIN Tagged Photos/batch_004/VID31449-00042.jpg\n"
     ]
    },
    {
     "name": "stderr",
     "output_type": "stream",
     "text": [
      " 85%|██████████████████████████████████████████████████████████████████▎           | 1068/1256 [18:52<03:05,  1.01it/s]"
     ]
    },
    {
     "name": "stdout",
     "output_type": "stream",
     "text": [
      "Processing image //vector.e3b.columbia.edu/e3b/Globus Database/UWIN Tagged Photos/batch_004/VID31449-00043.jpg\n"
     ]
    },
    {
     "name": "stderr",
     "output_type": "stream",
     "text": [
      " 85%|██████████████████████████████████████████████████████████████████▍           | 1069/1256 [18:53<03:03,  1.02it/s]"
     ]
    },
    {
     "name": "stdout",
     "output_type": "stream",
     "text": [
      "Processing image //vector.e3b.columbia.edu/e3b/Globus Database/UWIN Tagged Photos/batch_004/VID31449-00044.jpg\n"
     ]
    },
    {
     "name": "stderr",
     "output_type": "stream",
     "text": [
      " 85%|██████████████████████████████████████████████████████████████████▍           | 1070/1256 [18:54<03:01,  1.02it/s]"
     ]
    },
    {
     "name": "stdout",
     "output_type": "stream",
     "text": [
      "Processing image //vector.e3b.columbia.edu/e3b/Globus Database/UWIN Tagged Photos/batch_004/VID31449-00045.jpg\n"
     ]
    },
    {
     "name": "stderr",
     "output_type": "stream",
     "text": [
      " 85%|██████████████████████████████████████████████████████████████████▌           | 1071/1256 [18:55<03:00,  1.02it/s]"
     ]
    },
    {
     "name": "stdout",
     "output_type": "stream",
     "text": [
      "Processing image //vector.e3b.columbia.edu/e3b/Globus Database/UWIN Tagged Photos/batch_004/VID31449-00046.jpg\n"
     ]
    },
    {
     "name": "stderr",
     "output_type": "stream",
     "text": [
      " 85%|██████████████████████████████████████████████████████████████████▌           | 1072/1256 [18:56<02:59,  1.03it/s]"
     ]
    },
    {
     "name": "stdout",
     "output_type": "stream",
     "text": [
      "Processing image //vector.e3b.columbia.edu/e3b/Globus Database/UWIN Tagged Photos/batch_004/VID31449-00047.jpg\n"
     ]
    },
    {
     "name": "stderr",
     "output_type": "stream",
     "text": [
      " 85%|██████████████████████████████████████████████████████████████████▋           | 1073/1256 [18:57<02:57,  1.03it/s]"
     ]
    },
    {
     "name": "stdout",
     "output_type": "stream",
     "text": [
      "Processing image //vector.e3b.columbia.edu/e3b/Globus Database/UWIN Tagged Photos/batch_004/VID31449-00048.jpg\n"
     ]
    },
    {
     "name": "stderr",
     "output_type": "stream",
     "text": [
      " 86%|██████████████████████████████████████████████████████████████████▋           | 1074/1256 [18:58<02:56,  1.03it/s]"
     ]
    },
    {
     "name": "stdout",
     "output_type": "stream",
     "text": [
      "Processing image //vector.e3b.columbia.edu/e3b/Globus Database/UWIN Tagged Photos/batch_004/VID31449-00049.jpg\n"
     ]
    },
    {
     "name": "stderr",
     "output_type": "stream",
     "text": [
      " 86%|██████████████████████████████████████████████████████████████████▊           | 1075/1256 [18:59<02:55,  1.03it/s]"
     ]
    },
    {
     "name": "stdout",
     "output_type": "stream",
     "text": [
      "Processing image //vector.e3b.columbia.edu/e3b/Globus Database/UWIN Tagged Photos/batch_004/VID31449-00050.jpg\n"
     ]
    },
    {
     "name": "stderr",
     "output_type": "stream",
     "text": [
      " 86%|██████████████████████████████████████████████████████████████████▊           | 1076/1256 [19:00<02:55,  1.03it/s]"
     ]
    },
    {
     "name": "stdout",
     "output_type": "stream",
     "text": [
      "Processing image //vector.e3b.columbia.edu/e3b/Globus Database/UWIN Tagged Photos/batch_004/VID31449-00051.jpg\n"
     ]
    },
    {
     "name": "stderr",
     "output_type": "stream",
     "text": [
      " 86%|██████████████████████████████████████████████████████████████████▉           | 1077/1256 [19:01<02:54,  1.02it/s]"
     ]
    },
    {
     "name": "stdout",
     "output_type": "stream",
     "text": [
      "Processing image //vector.e3b.columbia.edu/e3b/Globus Database/UWIN Tagged Photos/batch_004/VID31449-00052.jpg\n"
     ]
    },
    {
     "name": "stderr",
     "output_type": "stream",
     "text": [
      " 86%|██████████████████████████████████████████████████████████████████▉           | 1078/1256 [19:01<02:51,  1.04it/s]"
     ]
    },
    {
     "name": "stdout",
     "output_type": "stream",
     "text": [
      "Processing image //vector.e3b.columbia.edu/e3b/Globus Database/UWIN Tagged Photos/batch_004/VID31449-00053.jpg\n"
     ]
    },
    {
     "name": "stderr",
     "output_type": "stream",
     "text": [
      " 86%|███████████████████████████████████████████████████████████████████           | 1079/1256 [19:02<02:51,  1.03it/s]"
     ]
    },
    {
     "name": "stdout",
     "output_type": "stream",
     "text": [
      "Processing image //vector.e3b.columbia.edu/e3b/Globus Database/UWIN Tagged Photos/batch_004/VID31449-00054.jpg\n"
     ]
    },
    {
     "name": "stderr",
     "output_type": "stream",
     "text": [
      " 86%|███████████████████████████████████████████████████████████████████           | 1080/1256 [19:03<02:52,  1.02it/s]"
     ]
    },
    {
     "name": "stdout",
     "output_type": "stream",
     "text": [
      "Processing image //vector.e3b.columbia.edu/e3b/Globus Database/UWIN Tagged Photos/batch_004/VID31449-00055.jpg\n"
     ]
    },
    {
     "name": "stderr",
     "output_type": "stream",
     "text": [
      " 86%|███████████████████████████████████████████████████████████████████▏          | 1081/1256 [19:04<02:53,  1.01it/s]"
     ]
    },
    {
     "name": "stdout",
     "output_type": "stream",
     "text": [
      "Processing image //vector.e3b.columbia.edu/e3b/Globus Database/UWIN Tagged Photos/batch_004/VID31449-00056.jpg\n"
     ]
    },
    {
     "name": "stderr",
     "output_type": "stream",
     "text": [
      " 86%|███████████████████████████████████████████████████████████████████▏          | 1082/1256 [19:05<02:52,  1.01it/s]"
     ]
    },
    {
     "name": "stdout",
     "output_type": "stream",
     "text": [
      "Processing image //vector.e3b.columbia.edu/e3b/Globus Database/UWIN Tagged Photos/batch_004/VID31449-00057.jpg\n"
     ]
    },
    {
     "name": "stderr",
     "output_type": "stream",
     "text": [
      " 86%|███████████████████████████████████████████████████████████████████▎          | 1083/1256 [19:07<02:55,  1.01s/it]"
     ]
    },
    {
     "name": "stdout",
     "output_type": "stream",
     "text": [
      "Processing image //vector.e3b.columbia.edu/e3b/Globus Database/UWIN Tagged Photos/batch_004/VID31449-00058.jpg\n"
     ]
    },
    {
     "name": "stderr",
     "output_type": "stream",
     "text": [
      " 86%|███████████████████████████████████████████████████████████████████▎          | 1084/1256 [19:07<02:50,  1.01it/s]"
     ]
    },
    {
     "name": "stdout",
     "output_type": "stream",
     "text": [
      "Processing image //vector.e3b.columbia.edu/e3b/Globus Database/UWIN Tagged Photos/batch_004/VID31449-00059.jpg\n"
     ]
    },
    {
     "name": "stderr",
     "output_type": "stream",
     "text": [
      " 86%|███████████████████████████████████████████████████████████████████▍          | 1085/1256 [19:08<02:49,  1.01it/s]"
     ]
    },
    {
     "name": "stdout",
     "output_type": "stream",
     "text": [
      "Processing image //vector.e3b.columbia.edu/e3b/Globus Database/UWIN Tagged Photos/batch_004/VID31449-00060.jpg\n"
     ]
    },
    {
     "name": "stderr",
     "output_type": "stream",
     "text": [
      " 86%|███████████████████████████████████████████████████████████████████▍          | 1086/1256 [19:09<02:47,  1.02it/s]"
     ]
    },
    {
     "name": "stdout",
     "output_type": "stream",
     "text": [
      "Processing image //vector.e3b.columbia.edu/e3b/Globus Database/UWIN Tagged Photos/batch_004/VID31449-00061.jpg\n"
     ]
    },
    {
     "name": "stderr",
     "output_type": "stream",
     "text": [
      " 87%|███████████████████████████████████████████████████████████████████▌          | 1087/1256 [19:10<02:46,  1.01it/s]"
     ]
    },
    {
     "name": "stdout",
     "output_type": "stream",
     "text": [
      "Processing image //vector.e3b.columbia.edu/e3b/Globus Database/UWIN Tagged Photos/batch_004/VID31449-00062.jpg\n"
     ]
    },
    {
     "name": "stderr",
     "output_type": "stream",
     "text": [
      " 87%|███████████████████████████████████████████████████████████████████▌          | 1088/1256 [19:11<02:47,  1.00it/s]"
     ]
    },
    {
     "name": "stdout",
     "output_type": "stream",
     "text": [
      "Processing image //vector.e3b.columbia.edu/e3b/Globus Database/UWIN Tagged Photos/batch_004/VID31449-00063.jpg\n"
     ]
    },
    {
     "name": "stderr",
     "output_type": "stream",
     "text": [
      " 87%|███████████████████████████████████████████████████████████████████▋          | 1089/1256 [19:12<02:45,  1.01it/s]"
     ]
    },
    {
     "name": "stdout",
     "output_type": "stream",
     "text": [
      "Processing image //vector.e3b.columbia.edu/e3b/Globus Database/UWIN Tagged Photos/batch_004/VID31449-00064.jpg\n"
     ]
    },
    {
     "name": "stderr",
     "output_type": "stream",
     "text": [
      " 87%|███████████████████████████████████████████████████████████████████▋          | 1090/1256 [19:13<02:43,  1.02it/s]"
     ]
    },
    {
     "name": "stdout",
     "output_type": "stream",
     "text": [
      "Processing image //vector.e3b.columbia.edu/e3b/Globus Database/UWIN Tagged Photos/batch_004/VID31449-00065.jpg\n"
     ]
    },
    {
     "name": "stderr",
     "output_type": "stream",
     "text": [
      " 87%|███████████████████████████████████████████████████████████████████▊          | 1091/1256 [19:14<02:42,  1.01it/s]"
     ]
    },
    {
     "name": "stdout",
     "output_type": "stream",
     "text": [
      "Processing image //vector.e3b.columbia.edu/e3b/Globus Database/UWIN Tagged Photos/batch_004/VID31449-00066.jpg\n"
     ]
    },
    {
     "name": "stderr",
     "output_type": "stream",
     "text": [
      " 87%|███████████████████████████████████████████████████████████████████▊          | 1092/1256 [19:15<02:40,  1.02it/s]"
     ]
    },
    {
     "name": "stdout",
     "output_type": "stream",
     "text": [
      "Processing image //vector.e3b.columbia.edu/e3b/Globus Database/UWIN Tagged Photos/batch_004/VID31449-00067.jpg\n"
     ]
    },
    {
     "name": "stderr",
     "output_type": "stream",
     "text": [
      " 87%|███████████████████████████████████████████████████████████████████▉          | 1093/1256 [19:16<02:39,  1.02it/s]"
     ]
    },
    {
     "name": "stdout",
     "output_type": "stream",
     "text": [
      "Processing image //vector.e3b.columbia.edu/e3b/Globus Database/UWIN Tagged Photos/batch_004/VID31449-00068.jpg\n"
     ]
    },
    {
     "name": "stderr",
     "output_type": "stream",
     "text": [
      " 87%|███████████████████████████████████████████████████████████████████▉          | 1094/1256 [19:17<02:37,  1.03it/s]"
     ]
    },
    {
     "name": "stdout",
     "output_type": "stream",
     "text": [
      "Processing image //vector.e3b.columbia.edu/e3b/Globus Database/UWIN Tagged Photos/batch_004/VID31449-00069.jpg\n"
     ]
    },
    {
     "name": "stderr",
     "output_type": "stream",
     "text": [
      " 87%|████████████████████████████████████████████████████████████████████          | 1095/1256 [19:18<02:36,  1.03it/s]"
     ]
    },
    {
     "name": "stdout",
     "output_type": "stream",
     "text": [
      "Processing image //vector.e3b.columbia.edu/e3b/Globus Database/UWIN Tagged Photos/batch_004/VID31449-00070.jpg\n"
     ]
    },
    {
     "name": "stderr",
     "output_type": "stream",
     "text": [
      " 87%|████████████████████████████████████████████████████████████████████          | 1096/1256 [19:19<02:35,  1.03it/s]"
     ]
    },
    {
     "name": "stdout",
     "output_type": "stream",
     "text": [
      "Processing image //vector.e3b.columbia.edu/e3b/Globus Database/UWIN Tagged Photos/batch_004/VID31449-00071.jpg\n"
     ]
    },
    {
     "name": "stderr",
     "output_type": "stream",
     "text": [
      " 87%|████████████████████████████████████████████████████████████████████▏         | 1097/1256 [19:20<02:36,  1.02it/s]"
     ]
    },
    {
     "name": "stdout",
     "output_type": "stream",
     "text": [
      "Processing image //vector.e3b.columbia.edu/e3b/Globus Database/UWIN Tagged Photos/batch_004/VID31449-00072.jpg\n"
     ]
    },
    {
     "name": "stderr",
     "output_type": "stream",
     "text": [
      " 87%|████████████████████████████████████████████████████████████████████▏         | 1098/1256 [19:21<02:33,  1.03it/s]"
     ]
    },
    {
     "name": "stdout",
     "output_type": "stream",
     "text": [
      "Processing image //vector.e3b.columbia.edu/e3b/Globus Database/UWIN Tagged Photos/batch_004/VID31449-00073.jpg\n"
     ]
    },
    {
     "name": "stderr",
     "output_type": "stream",
     "text": [
      " 88%|████████████████████████████████████████████████████████████████████▎         | 1099/1256 [19:22<02:33,  1.02it/s]"
     ]
    },
    {
     "name": "stdout",
     "output_type": "stream",
     "text": [
      "Processing image //vector.e3b.columbia.edu/e3b/Globus Database/UWIN Tagged Photos/batch_004/VID31449-00074.jpg\n"
     ]
    },
    {
     "name": "stderr",
     "output_type": "stream",
     "text": [
      " 88%|████████████████████████████████████████████████████████████████████▎         | 1100/1256 [19:23<02:32,  1.02it/s]"
     ]
    },
    {
     "name": "stdout",
     "output_type": "stream",
     "text": [
      "Processing image //vector.e3b.columbia.edu/e3b/Globus Database/UWIN Tagged Photos/batch_004/VID31449-00075.jpg\n"
     ]
    },
    {
     "name": "stderr",
     "output_type": "stream",
     "text": [
      " 88%|████████████████████████████████████████████████████████████████████▎         | 1101/1256 [19:24<02:29,  1.04it/s]"
     ]
    },
    {
     "name": "stdout",
     "output_type": "stream",
     "text": [
      "Processing image //vector.e3b.columbia.edu/e3b/Globus Database/UWIN Tagged Photos/batch_004/VID31449-00076.jpg\n"
     ]
    },
    {
     "name": "stderr",
     "output_type": "stream",
     "text": [
      " 88%|████████████████████████████████████████████████████████████████████▍         | 1102/1256 [19:25<02:27,  1.04it/s]"
     ]
    },
    {
     "name": "stdout",
     "output_type": "stream",
     "text": [
      "Processing image //vector.e3b.columbia.edu/e3b/Globus Database/UWIN Tagged Photos/batch_004/VID31449-00077.jpg\n"
     ]
    },
    {
     "name": "stderr",
     "output_type": "stream",
     "text": [
      " 88%|████████████████████████████████████████████████████████████████████▍         | 1103/1256 [19:26<02:29,  1.02it/s]"
     ]
    },
    {
     "name": "stdout",
     "output_type": "stream",
     "text": [
      "Processing image //vector.e3b.columbia.edu/e3b/Globus Database/UWIN Tagged Photos/batch_004/VID31449-00078.jpg\n"
     ]
    },
    {
     "name": "stderr",
     "output_type": "stream",
     "text": [
      " 88%|████████████████████████████████████████████████████████████████████▌         | 1104/1256 [19:27<02:28,  1.02it/s]"
     ]
    },
    {
     "name": "stdout",
     "output_type": "stream",
     "text": [
      "Processing image //vector.e3b.columbia.edu/e3b/Globus Database/UWIN Tagged Photos/batch_004/VID31449-00079.jpg\n"
     ]
    },
    {
     "name": "stderr",
     "output_type": "stream",
     "text": [
      " 88%|████████████████████████████████████████████████████████████████████▌         | 1105/1256 [19:28<02:25,  1.04it/s]"
     ]
    },
    {
     "name": "stdout",
     "output_type": "stream",
     "text": [
      "Processing image //vector.e3b.columbia.edu/e3b/Globus Database/UWIN Tagged Photos/batch_004/VID31449-00080.jpg\n"
     ]
    },
    {
     "name": "stderr",
     "output_type": "stream",
     "text": [
      " 88%|████████████████████████████████████████████████████████████████████▋         | 1106/1256 [19:29<02:25,  1.03it/s]"
     ]
    },
    {
     "name": "stdout",
     "output_type": "stream",
     "text": [
      "Processing image //vector.e3b.columbia.edu/e3b/Globus Database/UWIN Tagged Photos/batch_004/VID31449-00081.jpg\n"
     ]
    },
    {
     "name": "stderr",
     "output_type": "stream",
     "text": [
      " 88%|████████████████████████████████████████████████████████████████████▋         | 1107/1256 [19:30<02:23,  1.04it/s]"
     ]
    },
    {
     "name": "stdout",
     "output_type": "stream",
     "text": [
      "Processing image //vector.e3b.columbia.edu/e3b/Globus Database/UWIN Tagged Photos/batch_004/VID31449-00082.jpg\n"
     ]
    },
    {
     "name": "stderr",
     "output_type": "stream",
     "text": [
      " 88%|████████████████████████████████████████████████████████████████████▊         | 1108/1256 [19:31<02:21,  1.05it/s]"
     ]
    },
    {
     "name": "stdout",
     "output_type": "stream",
     "text": [
      "Processing image //vector.e3b.columbia.edu/e3b/Globus Database/UWIN Tagged Photos/batch_004/VID31449-00083.jpg\n"
     ]
    },
    {
     "name": "stderr",
     "output_type": "stream",
     "text": [
      " 88%|████████████████████████████████████████████████████████████████████▊         | 1109/1256 [19:32<02:25,  1.01it/s]"
     ]
    },
    {
     "name": "stdout",
     "output_type": "stream",
     "text": [
      "Processing image //vector.e3b.columbia.edu/e3b/Globus Database/UWIN Tagged Photos/batch_004/VID31449-00084.jpg\n"
     ]
    },
    {
     "name": "stderr",
     "output_type": "stream",
     "text": [
      " 88%|████████████████████████████████████████████████████████████████████▉         | 1110/1256 [19:33<02:22,  1.02it/s]"
     ]
    },
    {
     "name": "stdout",
     "output_type": "stream",
     "text": [
      "Processing image //vector.e3b.columbia.edu/e3b/Globus Database/UWIN Tagged Photos/batch_004/VID31449-00085.jpg\n"
     ]
    },
    {
     "name": "stderr",
     "output_type": "stream",
     "text": [
      " 88%|████████████████████████████████████████████████████████████████████▉         | 1111/1256 [19:34<02:20,  1.03it/s]"
     ]
    },
    {
     "name": "stdout",
     "output_type": "stream",
     "text": [
      "Processing image //vector.e3b.columbia.edu/e3b/Globus Database/UWIN Tagged Photos/batch_004/VID31449-00086.jpg\n"
     ]
    },
    {
     "name": "stderr",
     "output_type": "stream",
     "text": [
      " 89%|█████████████████████████████████████████████████████████████████████         | 1112/1256 [19:35<02:20,  1.03it/s]"
     ]
    },
    {
     "name": "stdout",
     "output_type": "stream",
     "text": [
      "Processing image //vector.e3b.columbia.edu/e3b/Globus Database/UWIN Tagged Photos/batch_004/VID31449-00087.jpg\n"
     ]
    },
    {
     "name": "stderr",
     "output_type": "stream",
     "text": [
      " 89%|█████████████████████████████████████████████████████████████████████         | 1113/1256 [19:36<02:20,  1.02it/s]"
     ]
    },
    {
     "name": "stdout",
     "output_type": "stream",
     "text": [
      "Processing image //vector.e3b.columbia.edu/e3b/Globus Database/UWIN Tagged Photos/batch_004/VID31449-00088.jpg\n"
     ]
    },
    {
     "name": "stderr",
     "output_type": "stream",
     "text": [
      " 89%|█████████████████████████████████████████████████████████████████████▏        | 1114/1256 [19:37<02:18,  1.03it/s]"
     ]
    },
    {
     "name": "stdout",
     "output_type": "stream",
     "text": [
      "Processing image //vector.e3b.columbia.edu/e3b/Globus Database/UWIN Tagged Photos/batch_004/VID31449-00089.jpg\n"
     ]
    },
    {
     "name": "stderr",
     "output_type": "stream",
     "text": [
      " 89%|█████████████████████████████████████████████████████████████████████▏        | 1115/1256 [19:38<02:18,  1.02it/s]"
     ]
    },
    {
     "name": "stdout",
     "output_type": "stream",
     "text": [
      "Processing image //vector.e3b.columbia.edu/e3b/Globus Database/UWIN Tagged Photos/batch_004/VID31449-00090.jpg\n"
     ]
    },
    {
     "name": "stderr",
     "output_type": "stream",
     "text": [
      " 89%|█████████████████████████████████████████████████████████████████████▎        | 1116/1256 [19:39<02:17,  1.02it/s]"
     ]
    },
    {
     "name": "stdout",
     "output_type": "stream",
     "text": [
      "Processing image //vector.e3b.columbia.edu/e3b/Globus Database/UWIN Tagged Photos/batch_004/VID31449-00091.jpg\n"
     ]
    },
    {
     "name": "stderr",
     "output_type": "stream",
     "text": [
      " 89%|█████████████████████████████████████████████████████████████████████▎        | 1117/1256 [19:40<02:16,  1.02it/s]"
     ]
    },
    {
     "name": "stdout",
     "output_type": "stream",
     "text": [
      "Processing image //vector.e3b.columbia.edu/e3b/Globus Database/UWIN Tagged Photos/batch_004/VID31449-00092.jpg\n"
     ]
    },
    {
     "name": "stderr",
     "output_type": "stream",
     "text": [
      " 89%|█████████████████████████████████████████████████████████████████████▍        | 1118/1256 [19:41<02:14,  1.03it/s]"
     ]
    },
    {
     "name": "stdout",
     "output_type": "stream",
     "text": [
      "Processing image //vector.e3b.columbia.edu/e3b/Globus Database/UWIN Tagged Photos/batch_004/VID31449-00093.jpg\n"
     ]
    },
    {
     "name": "stderr",
     "output_type": "stream",
     "text": [
      " 89%|█████████████████████████████████████████████████████████████████████▍        | 1119/1256 [19:42<02:13,  1.03it/s]"
     ]
    },
    {
     "name": "stdout",
     "output_type": "stream",
     "text": [
      "Processing image //vector.e3b.columbia.edu/e3b/Globus Database/UWIN Tagged Photos/batch_004/VID31449-00094.jpg\n"
     ]
    },
    {
     "name": "stderr",
     "output_type": "stream",
     "text": [
      " 89%|█████████████████████████████████████████████████████████████████████▌        | 1120/1256 [19:43<02:13,  1.02it/s]"
     ]
    },
    {
     "name": "stdout",
     "output_type": "stream",
     "text": [
      "Processing image //vector.e3b.columbia.edu/e3b/Globus Database/UWIN Tagged Photos/batch_004/VID31449-00095.jpg\n"
     ]
    },
    {
     "name": "stderr",
     "output_type": "stream",
     "text": [
      " 89%|█████████████████████████████████████████████████████████████████████▌        | 1121/1256 [19:44<02:11,  1.03it/s]"
     ]
    },
    {
     "name": "stdout",
     "output_type": "stream",
     "text": [
      "Processing image //vector.e3b.columbia.edu/e3b/Globus Database/UWIN Tagged Photos/batch_004/VID31449-00096.jpg\n"
     ]
    },
    {
     "name": "stderr",
     "output_type": "stream",
     "text": [
      " 89%|█████████████████████████████████████████████████████████████████████▋        | 1122/1256 [19:45<02:12,  1.01it/s]"
     ]
    },
    {
     "name": "stdout",
     "output_type": "stream",
     "text": [
      "Processing image //vector.e3b.columbia.edu/e3b/Globus Database/UWIN Tagged Photos/batch_004/VID31449-00097.jpg\n"
     ]
    },
    {
     "name": "stderr",
     "output_type": "stream",
     "text": [
      " 89%|█████████████████████████████████████████████████████████████████████▋        | 1123/1256 [19:46<02:09,  1.03it/s]"
     ]
    },
    {
     "name": "stdout",
     "output_type": "stream",
     "text": [
      "Processing image //vector.e3b.columbia.edu/e3b/Globus Database/UWIN Tagged Photos/batch_004/VID31449-00098.jpg\n"
     ]
    },
    {
     "name": "stderr",
     "output_type": "stream",
     "text": [
      " 89%|█████████████████████████████████████████████████████████████████████▊        | 1124/1256 [19:46<02:07,  1.04it/s]"
     ]
    },
    {
     "name": "stdout",
     "output_type": "stream",
     "text": [
      "Processing image //vector.e3b.columbia.edu/e3b/Globus Database/UWIN Tagged Photos/batch_004/VID31449-00099.jpg\n"
     ]
    },
    {
     "name": "stderr",
     "output_type": "stream",
     "text": [
      " 90%|█████████████████████████████████████████████████████████████████████▊        | 1125/1256 [19:47<02:05,  1.04it/s]"
     ]
    },
    {
     "name": "stdout",
     "output_type": "stream",
     "text": [
      "Processing image //vector.e3b.columbia.edu/e3b/Globus Database/UWIN Tagged Photos/batch_004/VID31449-00100.jpg\n"
     ]
    },
    {
     "name": "stderr",
     "output_type": "stream",
     "text": [
      " 90%|█████████████████████████████████████████████████████████████████████▉        | 1126/1256 [19:48<02:05,  1.03it/s]"
     ]
    },
    {
     "name": "stdout",
     "output_type": "stream",
     "text": [
      "Processing image //vector.e3b.columbia.edu/e3b/Globus Database/UWIN Tagged Photos/batch_004/VID31449-00101.jpg\n"
     ]
    },
    {
     "name": "stderr",
     "output_type": "stream",
     "text": [
      " 90%|█████████████████████████████████████████████████████████████████████▉        | 1127/1256 [19:49<02:03,  1.04it/s]"
     ]
    },
    {
     "name": "stdout",
     "output_type": "stream",
     "text": [
      "Processing image //vector.e3b.columbia.edu/e3b/Globus Database/UWIN Tagged Photos/batch_004/VID31449-00102.jpg\n"
     ]
    },
    {
     "name": "stderr",
     "output_type": "stream",
     "text": [
      " 90%|██████████████████████████████████████████████████████████████████████        | 1128/1256 [19:50<02:02,  1.04it/s]"
     ]
    },
    {
     "name": "stdout",
     "output_type": "stream",
     "text": [
      "Processing image //vector.e3b.columbia.edu/e3b/Globus Database/UWIN Tagged Photos/batch_004/VID31449-00103.jpg\n"
     ]
    },
    {
     "name": "stderr",
     "output_type": "stream",
     "text": [
      " 90%|██████████████████████████████████████████████████████████████████████        | 1129/1256 [19:51<02:01,  1.05it/s]"
     ]
    },
    {
     "name": "stdout",
     "output_type": "stream",
     "text": [
      "Processing image //vector.e3b.columbia.edu/e3b/Globus Database/UWIN Tagged Photos/batch_004/VID31449-00104.jpg\n"
     ]
    },
    {
     "name": "stderr",
     "output_type": "stream",
     "text": [
      " 90%|██████████████████████████████████████████████████████████████████████▏       | 1130/1256 [19:52<01:59,  1.05it/s]"
     ]
    },
    {
     "name": "stdout",
     "output_type": "stream",
     "text": [
      "Processing image //vector.e3b.columbia.edu/e3b/Globus Database/UWIN Tagged Photos/batch_004/VID31449-00105.jpg\n"
     ]
    },
    {
     "name": "stderr",
     "output_type": "stream",
     "text": [
      " 90%|██████████████████████████████████████████████████████████████████████▏       | 1131/1256 [19:53<01:59,  1.05it/s]"
     ]
    },
    {
     "name": "stdout",
     "output_type": "stream",
     "text": [
      "Processing image //vector.e3b.columbia.edu/e3b/Globus Database/UWIN Tagged Photos/batch_004/VID31449-00106.jpg\n"
     ]
    },
    {
     "name": "stderr",
     "output_type": "stream",
     "text": [
      " 90%|██████████████████████████████████████████████████████████████████████▎       | 1132/1256 [19:54<01:58,  1.05it/s]"
     ]
    },
    {
     "name": "stdout",
     "output_type": "stream",
     "text": [
      "Processing image //vector.e3b.columbia.edu/e3b/Globus Database/UWIN Tagged Photos/batch_004/VID31449-00107.jpg\n"
     ]
    },
    {
     "name": "stderr",
     "output_type": "stream",
     "text": [
      " 90%|██████████████████████████████████████████████████████████████████████▎       | 1133/1256 [19:55<01:58,  1.04it/s]"
     ]
    },
    {
     "name": "stdout",
     "output_type": "stream",
     "text": [
      "Processing image //vector.e3b.columbia.edu/e3b/Globus Database/UWIN Tagged Photos/batch_004/VID31449-00108.jpg\n"
     ]
    },
    {
     "name": "stderr",
     "output_type": "stream",
     "text": [
      " 90%|██████████████████████████████████████████████████████████████████████▍       | 1134/1256 [19:56<01:58,  1.03it/s]"
     ]
    },
    {
     "name": "stdout",
     "output_type": "stream",
     "text": [
      "Processing image //vector.e3b.columbia.edu/e3b/Globus Database/UWIN Tagged Photos/batch_004/VID31449-00109.jpg\n"
     ]
    },
    {
     "name": "stderr",
     "output_type": "stream",
     "text": [
      " 90%|██████████████████████████████████████████████████████████████████████▍       | 1135/1256 [19:57<01:56,  1.03it/s]"
     ]
    },
    {
     "name": "stdout",
     "output_type": "stream",
     "text": [
      "Processing image //vector.e3b.columbia.edu/e3b/Globus Database/UWIN Tagged Photos/batch_004/VID31449-00110.jpg\n"
     ]
    },
    {
     "name": "stderr",
     "output_type": "stream",
     "text": [
      " 90%|██████████████████████████████████████████████████████████████████████▌       | 1136/1256 [19:58<01:55,  1.04it/s]"
     ]
    },
    {
     "name": "stdout",
     "output_type": "stream",
     "text": [
      "Processing image //vector.e3b.columbia.edu/e3b/Globus Database/UWIN Tagged Photos/batch_004/VID31449-00111.jpg\n"
     ]
    },
    {
     "name": "stderr",
     "output_type": "stream",
     "text": [
      " 91%|██████████████████████████████████████████████████████████████████████▌       | 1137/1256 [19:59<01:55,  1.03it/s]"
     ]
    },
    {
     "name": "stdout",
     "output_type": "stream",
     "text": [
      "Processing image //vector.e3b.columbia.edu/e3b/Globus Database/UWIN Tagged Photos/batch_004/VID31449-00112.jpg\n"
     ]
    },
    {
     "name": "stderr",
     "output_type": "stream",
     "text": [
      " 91%|██████████████████████████████████████████████████████████████████████▋       | 1138/1256 [20:00<01:54,  1.03it/s]"
     ]
    },
    {
     "name": "stdout",
     "output_type": "stream",
     "text": [
      "Processing image //vector.e3b.columbia.edu/e3b/Globus Database/UWIN Tagged Photos/batch_004/VID31449-00113.jpg\n"
     ]
    },
    {
     "name": "stderr",
     "output_type": "stream",
     "text": [
      " 91%|██████████████████████████████████████████████████████████████████████▋       | 1139/1256 [20:01<01:53,  1.03it/s]"
     ]
    },
    {
     "name": "stdout",
     "output_type": "stream",
     "text": [
      "Processing image //vector.e3b.columbia.edu/e3b/Globus Database/UWIN Tagged Photos/batch_004/VID31449-00114.jpg\n"
     ]
    },
    {
     "name": "stderr",
     "output_type": "stream",
     "text": [
      " 91%|██████████████████████████████████████████████████████████████████████▊       | 1140/1256 [20:02<01:52,  1.03it/s]"
     ]
    },
    {
     "name": "stdout",
     "output_type": "stream",
     "text": [
      "Processing image //vector.e3b.columbia.edu/e3b/Globus Database/UWIN Tagged Photos/batch_004/VID31449-00115.jpg\n"
     ]
    },
    {
     "name": "stderr",
     "output_type": "stream",
     "text": [
      " 91%|██████████████████████████████████████████████████████████████████████▊       | 1141/1256 [20:03<01:51,  1.03it/s]"
     ]
    },
    {
     "name": "stdout",
     "output_type": "stream",
     "text": [
      "Processing image //vector.e3b.columbia.edu/e3b/Globus Database/UWIN Tagged Photos/batch_004/VID31449-00116.jpg\n"
     ]
    },
    {
     "name": "stderr",
     "output_type": "stream",
     "text": [
      " 91%|██████████████████████████████████████████████████████████████████████▉       | 1142/1256 [20:04<01:51,  1.02it/s]"
     ]
    },
    {
     "name": "stdout",
     "output_type": "stream",
     "text": [
      "Processing image //vector.e3b.columbia.edu/e3b/Globus Database/UWIN Tagged Photos/batch_004/VID31449-00117.jpg\n"
     ]
    },
    {
     "name": "stderr",
     "output_type": "stream",
     "text": [
      " 91%|██████████████████████████████████████████████████████████████████████▉       | 1143/1256 [20:05<01:50,  1.03it/s]"
     ]
    },
    {
     "name": "stdout",
     "output_type": "stream",
     "text": [
      "Processing image //vector.e3b.columbia.edu/e3b/Globus Database/UWIN Tagged Photos/batch_004/VID31449-00118.jpg\n"
     ]
    },
    {
     "name": "stderr",
     "output_type": "stream",
     "text": [
      " 91%|███████████████████████████████████████████████████████████████████████       | 1144/1256 [20:06<01:48,  1.03it/s]"
     ]
    },
    {
     "name": "stdout",
     "output_type": "stream",
     "text": [
      "Processing image //vector.e3b.columbia.edu/e3b/Globus Database/UWIN Tagged Photos/batch_004/VID31449-00119.jpg\n"
     ]
    },
    {
     "name": "stderr",
     "output_type": "stream",
     "text": [
      " 91%|███████████████████████████████████████████████████████████████████████       | 1145/1256 [20:07<01:47,  1.03it/s]"
     ]
    },
    {
     "name": "stdout",
     "output_type": "stream",
     "text": [
      "Processing image //vector.e3b.columbia.edu/e3b/Globus Database/UWIN Tagged Photos/batch_004/VID31449-00120.jpg\n"
     ]
    },
    {
     "name": "stderr",
     "output_type": "stream",
     "text": [
      " 91%|███████████████████████████████████████████████████████████████████████▏      | 1146/1256 [20:08<01:46,  1.03it/s]"
     ]
    },
    {
     "name": "stdout",
     "output_type": "stream",
     "text": [
      "Processing image //vector.e3b.columbia.edu/e3b/Globus Database/UWIN Tagged Photos/batch_004/VID31449-00121.jpg\n"
     ]
    },
    {
     "name": "stderr",
     "output_type": "stream",
     "text": [
      " 91%|███████████████████████████████████████████████████████████████████████▏      | 1147/1256 [20:09<01:45,  1.04it/s]"
     ]
    },
    {
     "name": "stdout",
     "output_type": "stream",
     "text": [
      "Processing image //vector.e3b.columbia.edu/e3b/Globus Database/UWIN Tagged Photos/batch_004/VID31449-00122.jpg\n"
     ]
    },
    {
     "name": "stderr",
     "output_type": "stream",
     "text": [
      " 91%|███████████████████████████████████████████████████████████████████████▎      | 1148/1256 [20:10<01:45,  1.02it/s]"
     ]
    },
    {
     "name": "stdout",
     "output_type": "stream",
     "text": [
      "Processing image //vector.e3b.columbia.edu/e3b/Globus Database/UWIN Tagged Photos/batch_004/VID31449-00123.jpg\n"
     ]
    },
    {
     "name": "stderr",
     "output_type": "stream",
     "text": [
      " 91%|███████████████████████████████████████████████████████████████████████▎      | 1149/1256 [20:11<01:44,  1.03it/s]"
     ]
    },
    {
     "name": "stdout",
     "output_type": "stream",
     "text": [
      "Processing image //vector.e3b.columbia.edu/e3b/Globus Database/UWIN Tagged Photos/batch_004/VID31449-00124.jpg\n"
     ]
    },
    {
     "name": "stderr",
     "output_type": "stream",
     "text": [
      " 92%|███████████████████████████████████████████████████████████████████████▍      | 1150/1256 [20:12<01:44,  1.02it/s]"
     ]
    },
    {
     "name": "stdout",
     "output_type": "stream",
     "text": [
      "Processing image //vector.e3b.columbia.edu/e3b/Globus Database/UWIN Tagged Photos/batch_004/VID31449-00125.jpg\n"
     ]
    },
    {
     "name": "stderr",
     "output_type": "stream",
     "text": [
      " 92%|███████████████████████████████████████████████████████████████████████▍      | 1151/1256 [20:13<01:43,  1.01it/s]"
     ]
    },
    {
     "name": "stdout",
     "output_type": "stream",
     "text": [
      "Processing image //vector.e3b.columbia.edu/e3b/Globus Database/UWIN Tagged Photos/batch_004/VID31449-00126.jpg\n"
     ]
    },
    {
     "name": "stderr",
     "output_type": "stream",
     "text": [
      " 92%|███████████████████████████████████████████████████████████████████████▌      | 1152/1256 [20:14<01:41,  1.03it/s]"
     ]
    },
    {
     "name": "stdout",
     "output_type": "stream",
     "text": [
      "Processing image //vector.e3b.columbia.edu/e3b/Globus Database/UWIN Tagged Photos/batch_004/VID31449-00127.jpg\n"
     ]
    },
    {
     "name": "stderr",
     "output_type": "stream",
     "text": [
      " 92%|███████████████████████████████████████████████████████████████████████▌      | 1153/1256 [20:15<01:39,  1.03it/s]"
     ]
    },
    {
     "name": "stdout",
     "output_type": "stream",
     "text": [
      "Processing image //vector.e3b.columbia.edu/e3b/Globus Database/UWIN Tagged Photos/batch_004/VID31449-00128.jpg\n"
     ]
    },
    {
     "name": "stderr",
     "output_type": "stream",
     "text": [
      " 92%|███████████████████████████████████████████████████████████████████████▋      | 1154/1256 [20:16<01:39,  1.02it/s]"
     ]
    },
    {
     "name": "stdout",
     "output_type": "stream",
     "text": [
      "Processing image //vector.e3b.columbia.edu/e3b/Globus Database/UWIN Tagged Photos/batch_004/VID31449-00129.jpg\n"
     ]
    },
    {
     "name": "stderr",
     "output_type": "stream",
     "text": [
      " 92%|███████████████████████████████████████████████████████████████████████▋      | 1155/1256 [20:17<01:38,  1.02it/s]"
     ]
    },
    {
     "name": "stdout",
     "output_type": "stream",
     "text": [
      "Processing image //vector.e3b.columbia.edu/e3b/Globus Database/UWIN Tagged Photos/batch_004/VID31449-00130.jpg\n"
     ]
    },
    {
     "name": "stderr",
     "output_type": "stream",
     "text": [
      " 92%|███████████████████████████████████████████████████████████████████████▊      | 1156/1256 [20:17<01:36,  1.04it/s]"
     ]
    },
    {
     "name": "stdout",
     "output_type": "stream",
     "text": [
      "Processing image //vector.e3b.columbia.edu/e3b/Globus Database/UWIN Tagged Photos/batch_004/VID31449-00131.jpg\n"
     ]
    },
    {
     "name": "stderr",
     "output_type": "stream",
     "text": [
      " 92%|███████████████████████████████████████████████████████████████████████▊      | 1157/1256 [20:18<01:35,  1.03it/s]"
     ]
    },
    {
     "name": "stdout",
     "output_type": "stream",
     "text": [
      "Processing image //vector.e3b.columbia.edu/e3b/Globus Database/UWIN Tagged Photos/batch_004/VID31449-00132.jpg\n"
     ]
    },
    {
     "name": "stderr",
     "output_type": "stream",
     "text": [
      " 92%|███████████████████████████████████████████████████████████████████████▉      | 1158/1256 [20:19<01:33,  1.04it/s]"
     ]
    },
    {
     "name": "stdout",
     "output_type": "stream",
     "text": [
      "Processing image //vector.e3b.columbia.edu/e3b/Globus Database/UWIN Tagged Photos/batch_004/VID31449-00133.jpg\n"
     ]
    },
    {
     "name": "stderr",
     "output_type": "stream",
     "text": [
      " 92%|███████████████████████████████████████████████████████████████████████▉      | 1159/1256 [20:20<01:33,  1.03it/s]"
     ]
    },
    {
     "name": "stdout",
     "output_type": "stream",
     "text": [
      "Processing image //vector.e3b.columbia.edu/e3b/Globus Database/UWIN Tagged Photos/batch_004/VID31449-00134.jpg\n"
     ]
    },
    {
     "name": "stderr",
     "output_type": "stream",
     "text": [
      " 92%|████████████████████████████████████████████████████████████████████████      | 1160/1256 [20:21<01:33,  1.03it/s]"
     ]
    },
    {
     "name": "stdout",
     "output_type": "stream",
     "text": [
      "Processing image //vector.e3b.columbia.edu/e3b/Globus Database/UWIN Tagged Photos/batch_004/VID31449-00135.jpg\n"
     ]
    },
    {
     "name": "stderr",
     "output_type": "stream",
     "text": [
      " 92%|████████████████████████████████████████████████████████████████████████      | 1161/1256 [20:22<01:32,  1.03it/s]"
     ]
    },
    {
     "name": "stdout",
     "output_type": "stream",
     "text": [
      "Processing image //vector.e3b.columbia.edu/e3b/Globus Database/UWIN Tagged Photos/batch_004/VID31449-00136.jpg\n"
     ]
    },
    {
     "name": "stderr",
     "output_type": "stream",
     "text": [
      " 93%|████████████████████████████████████████████████████████████████████████▏     | 1162/1256 [20:23<01:30,  1.04it/s]"
     ]
    },
    {
     "name": "stdout",
     "output_type": "stream",
     "text": [
      "Processing image //vector.e3b.columbia.edu/e3b/Globus Database/UWIN Tagged Photos/batch_004/VID31449-00137.jpg\n"
     ]
    },
    {
     "name": "stderr",
     "output_type": "stream",
     "text": [
      " 93%|████████████████████████████████████████████████████████████████████████▏     | 1163/1256 [20:24<01:29,  1.04it/s]"
     ]
    },
    {
     "name": "stdout",
     "output_type": "stream",
     "text": [
      "Processing image //vector.e3b.columbia.edu/e3b/Globus Database/UWIN Tagged Photos/batch_004/VID31449-00138.jpg\n"
     ]
    },
    {
     "name": "stderr",
     "output_type": "stream",
     "text": [
      " 93%|████████████████████████████████████████████████████████████████████████▎     | 1164/1256 [20:25<01:28,  1.04it/s]"
     ]
    },
    {
     "name": "stdout",
     "output_type": "stream",
     "text": [
      "Processing image //vector.e3b.columbia.edu/e3b/Globus Database/UWIN Tagged Photos/batch_004/VID31449-00139.jpg\n"
     ]
    },
    {
     "name": "stderr",
     "output_type": "stream",
     "text": [
      " 93%|████████████████████████████████████████████████████████████████████████▎     | 1165/1256 [20:26<01:27,  1.04it/s]"
     ]
    },
    {
     "name": "stdout",
     "output_type": "stream",
     "text": [
      "Processing image //vector.e3b.columbia.edu/e3b/Globus Database/UWIN Tagged Photos/batch_004/VID31449-00140.jpg\n"
     ]
    },
    {
     "name": "stderr",
     "output_type": "stream",
     "text": [
      " 93%|████████████████████████████████████████████████████████████████████████▍     | 1166/1256 [20:27<01:27,  1.03it/s]"
     ]
    },
    {
     "name": "stdout",
     "output_type": "stream",
     "text": [
      "Processing image //vector.e3b.columbia.edu/e3b/Globus Database/UWIN Tagged Photos/batch_004/VID31449-00141.jpg\n"
     ]
    },
    {
     "name": "stderr",
     "output_type": "stream",
     "text": [
      " 93%|████████████████████████████████████████████████████████████████████████▍     | 1167/1256 [20:28<01:25,  1.04it/s]"
     ]
    },
    {
     "name": "stdout",
     "output_type": "stream",
     "text": [
      "Processing image //vector.e3b.columbia.edu/e3b/Globus Database/UWIN Tagged Photos/batch_004/VID31449-00142.jpg\n"
     ]
    },
    {
     "name": "stderr",
     "output_type": "stream",
     "text": [
      " 93%|████████████████████████████████████████████████████████████████████████▌     | 1168/1256 [20:29<01:25,  1.03it/s]"
     ]
    },
    {
     "name": "stdout",
     "output_type": "stream",
     "text": [
      "Processing image //vector.e3b.columbia.edu/e3b/Globus Database/UWIN Tagged Photos/batch_004/VID31449-00143.jpg\n"
     ]
    },
    {
     "name": "stderr",
     "output_type": "stream",
     "text": [
      " 93%|████████████████████████████████████████████████████████████████████████▌     | 1169/1256 [20:30<01:23,  1.04it/s]"
     ]
    },
    {
     "name": "stdout",
     "output_type": "stream",
     "text": [
      "Processing image //vector.e3b.columbia.edu/e3b/Globus Database/UWIN Tagged Photos/batch_004/VID31449-00144.jpg\n"
     ]
    },
    {
     "name": "stderr",
     "output_type": "stream",
     "text": [
      " 93%|████████████████████████████████████████████████████████████████████████▋     | 1170/1256 [20:31<01:22,  1.04it/s]"
     ]
    },
    {
     "name": "stdout",
     "output_type": "stream",
     "text": [
      "Processing image //vector.e3b.columbia.edu/e3b/Globus Database/UWIN Tagged Photos/batch_004/VID31449-00145.jpg\n"
     ]
    },
    {
     "name": "stderr",
     "output_type": "stream",
     "text": [
      " 93%|████████████████████████████████████████████████████████████████████████▋     | 1171/1256 [20:32<01:22,  1.03it/s]"
     ]
    },
    {
     "name": "stdout",
     "output_type": "stream",
     "text": [
      "Processing image //vector.e3b.columbia.edu/e3b/Globus Database/UWIN Tagged Photos/batch_004/VID31449-00146.jpg\n"
     ]
    },
    {
     "name": "stderr",
     "output_type": "stream",
     "text": [
      " 93%|████████████████████████████████████████████████████████████████████████▊     | 1172/1256 [20:33<01:20,  1.04it/s]"
     ]
    },
    {
     "name": "stdout",
     "output_type": "stream",
     "text": [
      "Processing image //vector.e3b.columbia.edu/e3b/Globus Database/UWIN Tagged Photos/batch_004/VID31449-00147.jpg\n"
     ]
    },
    {
     "name": "stderr",
     "output_type": "stream",
     "text": [
      " 93%|████████████████████████████████████████████████████████████████████████▊     | 1173/1256 [20:34<01:19,  1.05it/s]"
     ]
    },
    {
     "name": "stdout",
     "output_type": "stream",
     "text": [
      "Processing image //vector.e3b.columbia.edu/e3b/Globus Database/UWIN Tagged Photos/batch_004/VID31449-00148.jpg\n"
     ]
    },
    {
     "name": "stderr",
     "output_type": "stream",
     "text": [
      " 93%|████████████████████████████████████████████████████████████████████████▉     | 1174/1256 [20:35<01:18,  1.04it/s]"
     ]
    },
    {
     "name": "stdout",
     "output_type": "stream",
     "text": [
      "Processing image //vector.e3b.columbia.edu/e3b/Globus Database/UWIN Tagged Photos/batch_004/VID31449-00149.jpg\n"
     ]
    },
    {
     "name": "stderr",
     "output_type": "stream",
     "text": [
      " 94%|████████████████████████████████████████████████████████████████████████▉     | 1175/1256 [20:36<01:17,  1.04it/s]"
     ]
    },
    {
     "name": "stdout",
     "output_type": "stream",
     "text": [
      "Processing image //vector.e3b.columbia.edu/e3b/Globus Database/UWIN Tagged Photos/batch_004/VID31449-00150.jpg\n"
     ]
    },
    {
     "name": "stderr",
     "output_type": "stream",
     "text": [
      " 94%|█████████████████████████████████████████████████████████████████████████     | 1176/1256 [20:37<01:16,  1.05it/s]"
     ]
    },
    {
     "name": "stdout",
     "output_type": "stream",
     "text": [
      "Processing image //vector.e3b.columbia.edu/e3b/Globus Database/UWIN Tagged Photos/batch_004/VID31449-00151.jpg\n"
     ]
    },
    {
     "name": "stderr",
     "output_type": "stream",
     "text": [
      " 94%|█████████████████████████████████████████████████████████████████████████     | 1177/1256 [20:38<01:16,  1.03it/s]"
     ]
    },
    {
     "name": "stdout",
     "output_type": "stream",
     "text": [
      "Processing image //vector.e3b.columbia.edu/e3b/Globus Database/UWIN Tagged Photos/batch_004/VID31449-00152.jpg\n"
     ]
    },
    {
     "name": "stderr",
     "output_type": "stream",
     "text": [
      " 94%|█████████████████████████████████████████████████████████████████████████▏    | 1178/1256 [20:39<01:16,  1.02it/s]"
     ]
    },
    {
     "name": "stdout",
     "output_type": "stream",
     "text": [
      "Processing image //vector.e3b.columbia.edu/e3b/Globus Database/UWIN Tagged Photos/batch_004/VID31449-00153.jpg\n"
     ]
    },
    {
     "name": "stderr",
     "output_type": "stream",
     "text": [
      " 94%|█████████████████████████████████████████████████████████████████████████▏    | 1179/1256 [20:40<01:15,  1.02it/s]"
     ]
    },
    {
     "name": "stdout",
     "output_type": "stream",
     "text": [
      "Processing image //vector.e3b.columbia.edu/e3b/Globus Database/UWIN Tagged Photos/batch_004/VID31449-00154.jpg\n"
     ]
    },
    {
     "name": "stderr",
     "output_type": "stream",
     "text": [
      " 94%|█████████████████████████████████████████████████████████████████████████▎    | 1180/1256 [20:41<01:14,  1.02it/s]"
     ]
    },
    {
     "name": "stdout",
     "output_type": "stream",
     "text": [
      "Processing image //vector.e3b.columbia.edu/e3b/Globus Database/UWIN Tagged Photos/batch_004/VID31449-00155.jpg\n"
     ]
    },
    {
     "name": "stderr",
     "output_type": "stream",
     "text": [
      " 94%|█████████████████████████████████████████████████████████████████████████▎    | 1181/1256 [20:42<01:13,  1.03it/s]"
     ]
    },
    {
     "name": "stdout",
     "output_type": "stream",
     "text": [
      "Processing image //vector.e3b.columbia.edu/e3b/Globus Database/UWIN Tagged Photos/batch_004/VID31449-00156.jpg\n"
     ]
    },
    {
     "name": "stderr",
     "output_type": "stream",
     "text": [
      " 94%|█████████████████████████████████████████████████████████████████████████▍    | 1182/1256 [20:43<01:12,  1.03it/s]"
     ]
    },
    {
     "name": "stdout",
     "output_type": "stream",
     "text": [
      "Processing image //vector.e3b.columbia.edu/e3b/Globus Database/UWIN Tagged Photos/batch_004/VID31449-00157.jpg\n"
     ]
    },
    {
     "name": "stderr",
     "output_type": "stream",
     "text": [
      " 94%|█████████████████████████████████████████████████████████████████████████▍    | 1183/1256 [20:44<01:10,  1.03it/s]"
     ]
    },
    {
     "name": "stdout",
     "output_type": "stream",
     "text": [
      "Processing image //vector.e3b.columbia.edu/e3b/Globus Database/UWIN Tagged Photos/batch_004/VID31449-00158.jpg\n"
     ]
    },
    {
     "name": "stderr",
     "output_type": "stream",
     "text": [
      " 94%|█████████████████████████████████████████████████████████████████████████▌    | 1184/1256 [20:45<01:09,  1.04it/s]"
     ]
    },
    {
     "name": "stdout",
     "output_type": "stream",
     "text": [
      "Processing image //vector.e3b.columbia.edu/e3b/Globus Database/UWIN Tagged Photos/batch_004/VID31449-00159.jpg\n"
     ]
    },
    {
     "name": "stderr",
     "output_type": "stream",
     "text": [
      " 94%|█████████████████████████████████████████████████████████████████████████▌    | 1185/1256 [20:45<01:08,  1.04it/s]"
     ]
    },
    {
     "name": "stdout",
     "output_type": "stream",
     "text": [
      "Processing image //vector.e3b.columbia.edu/e3b/Globus Database/UWIN Tagged Photos/batch_004/VID31449-00160.jpg\n"
     ]
    },
    {
     "name": "stderr",
     "output_type": "stream",
     "text": [
      " 94%|█████████████████████████████████████████████████████████████████████████▋    | 1186/1256 [20:46<01:07,  1.04it/s]"
     ]
    },
    {
     "name": "stdout",
     "output_type": "stream",
     "text": [
      "Processing image //vector.e3b.columbia.edu/e3b/Globus Database/UWIN Tagged Photos/batch_004/VID31449-00161.jpg\n"
     ]
    },
    {
     "name": "stderr",
     "output_type": "stream",
     "text": [
      " 95%|█████████████████████████████████████████████████████████████████████████▋    | 1187/1256 [20:47<01:06,  1.03it/s]"
     ]
    },
    {
     "name": "stdout",
     "output_type": "stream",
     "text": [
      "Processing image //vector.e3b.columbia.edu/e3b/Globus Database/UWIN Tagged Photos/batch_004/VID31449-00162.jpg\n"
     ]
    },
    {
     "name": "stderr",
     "output_type": "stream",
     "text": [
      " 95%|█████████████████████████████████████████████████████████████████████████▊    | 1188/1256 [20:48<01:06,  1.03it/s]"
     ]
    },
    {
     "name": "stdout",
     "output_type": "stream",
     "text": [
      "Processing image //vector.e3b.columbia.edu/e3b/Globus Database/UWIN Tagged Photos/batch_004/VID31449-00163.jpg\n"
     ]
    },
    {
     "name": "stderr",
     "output_type": "stream",
     "text": [
      " 95%|█████████████████████████████████████████████████████████████████████████▊    | 1189/1256 [20:49<01:05,  1.02it/s]"
     ]
    },
    {
     "name": "stdout",
     "output_type": "stream",
     "text": [
      "Processing image //vector.e3b.columbia.edu/e3b/Globus Database/UWIN Tagged Photos/batch_004/VID31449-00164.jpg\n"
     ]
    },
    {
     "name": "stderr",
     "output_type": "stream",
     "text": [
      " 95%|█████████████████████████████████████████████████████████████████████████▉    | 1190/1256 [20:50<01:04,  1.02it/s]"
     ]
    },
    {
     "name": "stdout",
     "output_type": "stream",
     "text": [
      "Processing image //vector.e3b.columbia.edu/e3b/Globus Database/UWIN Tagged Photos/batch_004/VID31449-00165.jpg\n"
     ]
    },
    {
     "name": "stderr",
     "output_type": "stream",
     "text": [
      " 95%|█████████████████████████████████████████████████████████████████████████▉    | 1191/1256 [20:51<01:03,  1.02it/s]"
     ]
    },
    {
     "name": "stdout",
     "output_type": "stream",
     "text": [
      "Processing image //vector.e3b.columbia.edu/e3b/Globus Database/UWIN Tagged Photos/batch_004/VID31449-00166.jpg\n"
     ]
    },
    {
     "name": "stderr",
     "output_type": "stream",
     "text": [
      " 95%|██████████████████████████████████████████████████████████████████████████    | 1192/1256 [20:52<01:02,  1.02it/s]"
     ]
    },
    {
     "name": "stdout",
     "output_type": "stream",
     "text": [
      "Processing image //vector.e3b.columbia.edu/e3b/Globus Database/UWIN Tagged Photos/batch_004/VID31449-00167.jpg\n"
     ]
    },
    {
     "name": "stderr",
     "output_type": "stream",
     "text": [
      " 95%|██████████████████████████████████████████████████████████████████████████    | 1193/1256 [20:53<01:01,  1.03it/s]"
     ]
    },
    {
     "name": "stdout",
     "output_type": "stream",
     "text": [
      "Processing image //vector.e3b.columbia.edu/e3b/Globus Database/UWIN Tagged Photos/batch_004/VID31449-00168.jpg\n"
     ]
    },
    {
     "name": "stderr",
     "output_type": "stream",
     "text": [
      " 95%|██████████████████████████████████████████████████████████████████████████▏   | 1194/1256 [20:54<01:00,  1.03it/s]"
     ]
    },
    {
     "name": "stdout",
     "output_type": "stream",
     "text": [
      "Processing image //vector.e3b.columbia.edu/e3b/Globus Database/UWIN Tagged Photos/batch_004/VID31449-00169.jpg\n"
     ]
    },
    {
     "name": "stderr",
     "output_type": "stream",
     "text": [
      " 95%|██████████████████████████████████████████████████████████████████████████▏   | 1195/1256 [20:55<00:58,  1.04it/s]"
     ]
    },
    {
     "name": "stdout",
     "output_type": "stream",
     "text": [
      "Processing image //vector.e3b.columbia.edu/e3b/Globus Database/UWIN Tagged Photos/batch_004/VID31449-00170.jpg\n"
     ]
    },
    {
     "name": "stderr",
     "output_type": "stream",
     "text": [
      " 95%|██████████████████████████████████████████████████████████████████████████▎   | 1196/1256 [20:56<00:57,  1.04it/s]"
     ]
    },
    {
     "name": "stdout",
     "output_type": "stream",
     "text": [
      "Processing image //vector.e3b.columbia.edu/e3b/Globus Database/UWIN Tagged Photos/batch_004/VID31449-00171.jpg\n"
     ]
    },
    {
     "name": "stderr",
     "output_type": "stream",
     "text": [
      " 95%|██████████████████████████████████████████████████████████████████████████▎   | 1197/1256 [20:57<00:57,  1.03it/s]"
     ]
    },
    {
     "name": "stdout",
     "output_type": "stream",
     "text": [
      "Processing image //vector.e3b.columbia.edu/e3b/Globus Database/UWIN Tagged Photos/batch_004/VID31449-00172.jpg\n"
     ]
    },
    {
     "name": "stderr",
     "output_type": "stream",
     "text": [
      " 95%|██████████████████████████████████████████████████████████████████████████▍   | 1198/1256 [20:58<00:55,  1.04it/s]"
     ]
    },
    {
     "name": "stdout",
     "output_type": "stream",
     "text": [
      "Processing image //vector.e3b.columbia.edu/e3b/Globus Database/UWIN Tagged Photos/batch_004/VID31449-00173.jpg\n"
     ]
    },
    {
     "name": "stderr",
     "output_type": "stream",
     "text": [
      " 95%|██████████████████████████████████████████████████████████████████████████▍   | 1199/1256 [20:59<00:55,  1.03it/s]"
     ]
    },
    {
     "name": "stdout",
     "output_type": "stream",
     "text": [
      "Processing image //vector.e3b.columbia.edu/e3b/Globus Database/UWIN Tagged Photos/batch_004/VID31449-00174.jpg\n"
     ]
    },
    {
     "name": "stderr",
     "output_type": "stream",
     "text": [
      " 96%|██████████████████████████████████████████████████████████████████████████▌   | 1200/1256 [21:00<00:54,  1.03it/s]"
     ]
    },
    {
     "name": "stdout",
     "output_type": "stream",
     "text": [
      "Processing image //vector.e3b.columbia.edu/e3b/Globus Database/UWIN Tagged Photos/batch_004/VID31449-00175.jpg\n"
     ]
    },
    {
     "name": "stderr",
     "output_type": "stream",
     "text": [
      " 96%|██████████████████████████████████████████████████████████████████████████▌   | 1201/1256 [21:01<00:53,  1.02it/s]"
     ]
    },
    {
     "name": "stdout",
     "output_type": "stream",
     "text": [
      "Processing image //vector.e3b.columbia.edu/e3b/Globus Database/UWIN Tagged Photos/batch_004/VID31449-00176.jpg\n"
     ]
    },
    {
     "name": "stderr",
     "output_type": "stream",
     "text": [
      " 96%|██████████████████████████████████████████████████████████████████████████▋   | 1202/1256 [21:02<00:52,  1.03it/s]"
     ]
    },
    {
     "name": "stdout",
     "output_type": "stream",
     "text": [
      "Processing image //vector.e3b.columbia.edu/e3b/Globus Database/UWIN Tagged Photos/batch_004/VID31449-00177.jpg\n"
     ]
    },
    {
     "name": "stderr",
     "output_type": "stream",
     "text": [
      " 96%|██████████████████████████████████████████████████████████████████████████▋   | 1203/1256 [21:03<00:51,  1.02it/s]"
     ]
    },
    {
     "name": "stdout",
     "output_type": "stream",
     "text": [
      "Processing image //vector.e3b.columbia.edu/e3b/Globus Database/UWIN Tagged Photos/batch_004/VID31449-00178.jpg\n"
     ]
    },
    {
     "name": "stderr",
     "output_type": "stream",
     "text": [
      " 96%|██████████████████████████████████████████████████████████████████████████▊   | 1204/1256 [21:04<00:51,  1.01it/s]"
     ]
    },
    {
     "name": "stdout",
     "output_type": "stream",
     "text": [
      "Processing image //vector.e3b.columbia.edu/e3b/Globus Database/UWIN Tagged Photos/batch_004/VID31449-00179.jpg\n"
     ]
    },
    {
     "name": "stderr",
     "output_type": "stream",
     "text": [
      " 96%|██████████████████████████████████████████████████████████████████████████▊   | 1205/1256 [21:05<00:50,  1.02it/s]"
     ]
    },
    {
     "name": "stdout",
     "output_type": "stream",
     "text": [
      "Processing image //vector.e3b.columbia.edu/e3b/Globus Database/UWIN Tagged Photos/batch_004/VID31449-00180.jpg\n"
     ]
    },
    {
     "name": "stderr",
     "output_type": "stream",
     "text": [
      " 96%|██████████████████████████████████████████████████████████████████████████▉   | 1206/1256 [21:06<00:49,  1.01it/s]"
     ]
    },
    {
     "name": "stdout",
     "output_type": "stream",
     "text": [
      "Processing image //vector.e3b.columbia.edu/e3b/Globus Database/UWIN Tagged Photos/batch_004/VID31449-00181.jpg\n"
     ]
    },
    {
     "name": "stderr",
     "output_type": "stream",
     "text": [
      " 96%|██████████████████████████████████████████████████████████████████████████▉   | 1207/1256 [21:07<00:48,  1.01it/s]"
     ]
    },
    {
     "name": "stdout",
     "output_type": "stream",
     "text": [
      "Processing image //vector.e3b.columbia.edu/e3b/Globus Database/UWIN Tagged Photos/batch_004/VID31449-00182.jpg\n"
     ]
    },
    {
     "name": "stderr",
     "output_type": "stream",
     "text": [
      " 96%|███████████████████████████████████████████████████████████████████████████   | 1208/1256 [21:08<00:47,  1.01it/s]"
     ]
    },
    {
     "name": "stdout",
     "output_type": "stream",
     "text": [
      "Processing image //vector.e3b.columbia.edu/e3b/Globus Database/UWIN Tagged Photos/batch_004/VID31449-00183.jpg\n"
     ]
    },
    {
     "name": "stderr",
     "output_type": "stream",
     "text": [
      " 96%|███████████████████████████████████████████████████████████████████████████   | 1209/1256 [21:09<00:46,  1.02it/s]"
     ]
    },
    {
     "name": "stdout",
     "output_type": "stream",
     "text": [
      "Processing image //vector.e3b.columbia.edu/e3b/Globus Database/UWIN Tagged Photos/batch_004/VID31449-00184.jpg\n"
     ]
    },
    {
     "name": "stderr",
     "output_type": "stream",
     "text": [
      " 96%|███████████████████████████████████████████████████████████████████████████▏  | 1210/1256 [21:10<00:45,  1.02it/s]"
     ]
    },
    {
     "name": "stdout",
     "output_type": "stream",
     "text": [
      "Processing image //vector.e3b.columbia.edu/e3b/Globus Database/UWIN Tagged Photos/batch_004/VID31449-00185.jpg\n"
     ]
    },
    {
     "name": "stderr",
     "output_type": "stream",
     "text": [
      " 96%|███████████████████████████████████████████████████████████████████████████▏  | 1211/1256 [21:11<00:44,  1.02it/s]"
     ]
    },
    {
     "name": "stdout",
     "output_type": "stream",
     "text": [
      "Processing image //vector.e3b.columbia.edu/e3b/Globus Database/UWIN Tagged Photos/batch_004/VID31449-00186.jpg\n"
     ]
    },
    {
     "name": "stderr",
     "output_type": "stream",
     "text": [
      " 96%|███████████████████████████████████████████████████████████████████████████▎  | 1212/1256 [21:12<00:42,  1.03it/s]"
     ]
    },
    {
     "name": "stdout",
     "output_type": "stream",
     "text": [
      "Processing image //vector.e3b.columbia.edu/e3b/Globus Database/UWIN Tagged Photos/batch_004/VID31449-00187.jpg\n"
     ]
    },
    {
     "name": "stderr",
     "output_type": "stream",
     "text": [
      " 97%|███████████████████████████████████████████████████████████████████████████▎  | 1213/1256 [21:13<00:41,  1.04it/s]"
     ]
    },
    {
     "name": "stdout",
     "output_type": "stream",
     "text": [
      "Processing image //vector.e3b.columbia.edu/e3b/Globus Database/UWIN Tagged Photos/batch_004/VID31449-00188.jpg\n"
     ]
    },
    {
     "name": "stderr",
     "output_type": "stream",
     "text": [
      " 97%|███████████████████████████████████████████████████████████████████████████▍  | 1214/1256 [21:14<00:40,  1.03it/s]"
     ]
    },
    {
     "name": "stdout",
     "output_type": "stream",
     "text": [
      "Processing image //vector.e3b.columbia.edu/e3b/Globus Database/UWIN Tagged Photos/batch_004/VID31449-00189.jpg\n"
     ]
    },
    {
     "name": "stderr",
     "output_type": "stream",
     "text": [
      " 97%|███████████████████████████████████████████████████████████████████████████▍  | 1215/1256 [21:15<00:39,  1.03it/s]"
     ]
    },
    {
     "name": "stdout",
     "output_type": "stream",
     "text": [
      "Processing image //vector.e3b.columbia.edu/e3b/Globus Database/UWIN Tagged Photos/batch_004/VID31449-00190.jpg\n"
     ]
    },
    {
     "name": "stderr",
     "output_type": "stream",
     "text": [
      " 97%|███████████████████████████████████████████████████████████████████████████▌  | 1216/1256 [21:16<00:38,  1.03it/s]"
     ]
    },
    {
     "name": "stdout",
     "output_type": "stream",
     "text": [
      "Processing image //vector.e3b.columbia.edu/e3b/Globus Database/UWIN Tagged Photos/batch_004/VID31449-00191.jpg\n"
     ]
    },
    {
     "name": "stderr",
     "output_type": "stream",
     "text": [
      " 97%|███████████████████████████████████████████████████████████████████████████▌  | 1217/1256 [21:17<00:37,  1.03it/s]"
     ]
    },
    {
     "name": "stdout",
     "output_type": "stream",
     "text": [
      "Processing image //vector.e3b.columbia.edu/e3b/Globus Database/UWIN Tagged Photos/batch_004/VID31449-00192.jpg\n"
     ]
    },
    {
     "name": "stderr",
     "output_type": "stream",
     "text": [
      " 97%|███████████████████████████████████████████████████████████████████████████▋  | 1218/1256 [21:18<00:36,  1.04it/s]"
     ]
    },
    {
     "name": "stdout",
     "output_type": "stream",
     "text": [
      "Processing image //vector.e3b.columbia.edu/e3b/Globus Database/UWIN Tagged Photos/batch_004/VID31449-00193.jpg\n"
     ]
    },
    {
     "name": "stderr",
     "output_type": "stream",
     "text": [
      " 97%|███████████████████████████████████████████████████████████████████████████▋  | 1219/1256 [21:19<00:35,  1.05it/s]"
     ]
    },
    {
     "name": "stdout",
     "output_type": "stream",
     "text": [
      "Processing image //vector.e3b.columbia.edu/e3b/Globus Database/UWIN Tagged Photos/batch_004/VID31449-00194.jpg\n"
     ]
    },
    {
     "name": "stderr",
     "output_type": "stream",
     "text": [
      " 97%|███████████████████████████████████████████████████████████████████████████▊  | 1220/1256 [21:20<00:34,  1.04it/s]"
     ]
    },
    {
     "name": "stdout",
     "output_type": "stream",
     "text": [
      "Processing image //vector.e3b.columbia.edu/e3b/Globus Database/UWIN Tagged Photos/batch_004/VID31449-00195.jpg\n"
     ]
    },
    {
     "name": "stderr",
     "output_type": "stream",
     "text": [
      " 97%|███████████████████████████████████████████████████████████████████████████▊  | 1221/1256 [21:21<00:33,  1.04it/s]"
     ]
    },
    {
     "name": "stdout",
     "output_type": "stream",
     "text": [
      "Processing image //vector.e3b.columbia.edu/e3b/Globus Database/UWIN Tagged Photos/batch_004/VID31449-00196.jpg\n"
     ]
    },
    {
     "name": "stderr",
     "output_type": "stream",
     "text": [
      " 97%|███████████████████████████████████████████████████████████████████████████▉  | 1222/1256 [21:22<00:33,  1.02it/s]"
     ]
    },
    {
     "name": "stdout",
     "output_type": "stream",
     "text": [
      "Processing image //vector.e3b.columbia.edu/e3b/Globus Database/UWIN Tagged Photos/batch_004/VID31449-00197.jpg\n"
     ]
    },
    {
     "name": "stderr",
     "output_type": "stream",
     "text": [
      " 97%|███████████████████████████████████████████████████████████████████████████▉  | 1223/1256 [21:22<00:31,  1.04it/s]"
     ]
    },
    {
     "name": "stdout",
     "output_type": "stream",
     "text": [
      "Processing image //vector.e3b.columbia.edu/e3b/Globus Database/UWIN Tagged Photos/batch_004/VID31449-00198.jpg\n"
     ]
    },
    {
     "name": "stderr",
     "output_type": "stream",
     "text": [
      " 97%|████████████████████████████████████████████████████████████████████████████  | 1224/1256 [21:24<00:31,  1.02it/s]"
     ]
    },
    {
     "name": "stdout",
     "output_type": "stream",
     "text": [
      "Processing image //vector.e3b.columbia.edu/e3b/Globus Database/UWIN Tagged Photos/batch_004/VID31449-00199.jpg\n"
     ]
    },
    {
     "name": "stderr",
     "output_type": "stream",
     "text": [
      " 98%|████████████████████████████████████████████████████████████████████████████  | 1225/1256 [21:24<00:30,  1.03it/s]"
     ]
    },
    {
     "name": "stdout",
     "output_type": "stream",
     "text": [
      "Processing image //vector.e3b.columbia.edu/e3b/Globus Database/UWIN Tagged Photos/batch_004/VID31449-00200.jpg\n"
     ]
    },
    {
     "name": "stderr",
     "output_type": "stream",
     "text": [
      " 98%|████████████████████████████████████████████████████████████████████████████▏ | 1226/1256 [21:25<00:29,  1.03it/s]"
     ]
    },
    {
     "name": "stdout",
     "output_type": "stream",
     "text": [
      "Processing image //vector.e3b.columbia.edu/e3b/Globus Database/UWIN Tagged Photos/batch_004/VID31449-00201.jpg\n"
     ]
    },
    {
     "name": "stderr",
     "output_type": "stream",
     "text": [
      " 98%|████████████████████████████████████████████████████████████████████████████▏ | 1227/1256 [21:26<00:28,  1.01it/s]"
     ]
    },
    {
     "name": "stdout",
     "output_type": "stream",
     "text": [
      "Processing image //vector.e3b.columbia.edu/e3b/Globus Database/UWIN Tagged Photos/batch_004/VID31449-00202.jpg\n"
     ]
    },
    {
     "name": "stderr",
     "output_type": "stream",
     "text": [
      " 98%|████████████████████████████████████████████████████████████████████████████▎ | 1228/1256 [21:27<00:27,  1.02it/s]"
     ]
    },
    {
     "name": "stdout",
     "output_type": "stream",
     "text": [
      "Processing image //vector.e3b.columbia.edu/e3b/Globus Database/UWIN Tagged Photos/batch_004/VID31449-00203.jpg\n"
     ]
    },
    {
     "name": "stderr",
     "output_type": "stream",
     "text": [
      " 98%|████████████████████████████████████████████████████████████████████████████▎ | 1229/1256 [21:28<00:26,  1.02it/s]"
     ]
    },
    {
     "name": "stdout",
     "output_type": "stream",
     "text": [
      "Processing image //vector.e3b.columbia.edu/e3b/Globus Database/UWIN Tagged Photos/batch_004/VID31449-00204.jpg\n"
     ]
    },
    {
     "name": "stderr",
     "output_type": "stream",
     "text": [
      " 98%|████████████████████████████████████████████████████████████████████████████▍ | 1230/1256 [21:29<00:25,  1.04it/s]"
     ]
    },
    {
     "name": "stdout",
     "output_type": "stream",
     "text": [
      "Processing image //vector.e3b.columbia.edu/e3b/Globus Database/UWIN Tagged Photos/batch_004/VID31449-00205.jpg\n"
     ]
    },
    {
     "name": "stderr",
     "output_type": "stream",
     "text": [
      " 98%|████████████████████████████████████████████████████████████████████████████▍ | 1231/1256 [21:30<00:24,  1.03it/s]"
     ]
    },
    {
     "name": "stdout",
     "output_type": "stream",
     "text": [
      "Processing image //vector.e3b.columbia.edu/e3b/Globus Database/UWIN Tagged Photos/batch_004/VID31449-00206.jpg\n"
     ]
    },
    {
     "name": "stderr",
     "output_type": "stream",
     "text": [
      " 98%|████████████████████████████████████████████████████████████████████████████▌ | 1232/1256 [21:31<00:23,  1.03it/s]"
     ]
    },
    {
     "name": "stdout",
     "output_type": "stream",
     "text": [
      "Processing image //vector.e3b.columbia.edu/e3b/Globus Database/UWIN Tagged Photos/batch_004/VID31449-00207.jpg\n"
     ]
    },
    {
     "name": "stderr",
     "output_type": "stream",
     "text": [
      " 98%|████████████████████████████████████████████████████████████████████████████▌ | 1233/1256 [21:32<00:22,  1.03it/s]"
     ]
    },
    {
     "name": "stdout",
     "output_type": "stream",
     "text": [
      "Processing image //vector.e3b.columbia.edu/e3b/Globus Database/UWIN Tagged Photos/batch_004/VID31449-00208.jpg\n"
     ]
    },
    {
     "name": "stderr",
     "output_type": "stream",
     "text": [
      " 98%|████████████████████████████████████████████████████████████████████████████▋ | 1234/1256 [21:33<00:21,  1.03it/s]"
     ]
    },
    {
     "name": "stdout",
     "output_type": "stream",
     "text": [
      "Processing image //vector.e3b.columbia.edu/e3b/Globus Database/UWIN Tagged Photos/batch_004/VID31449-00209.jpg\n"
     ]
    },
    {
     "name": "stderr",
     "output_type": "stream",
     "text": [
      " 98%|████████████████████████████████████████████████████████████████████████████▋ | 1235/1256 [21:34<00:20,  1.02it/s]"
     ]
    },
    {
     "name": "stdout",
     "output_type": "stream",
     "text": [
      "Processing image //vector.e3b.columbia.edu/e3b/Globus Database/UWIN Tagged Photos/batch_004/VID31449-00210.jpg\n"
     ]
    },
    {
     "name": "stderr",
     "output_type": "stream",
     "text": [
      " 98%|████████████████████████████████████████████████████████████████████████████▊ | 1236/1256 [21:35<00:19,  1.03it/s]"
     ]
    },
    {
     "name": "stdout",
     "output_type": "stream",
     "text": [
      "Processing image //vector.e3b.columbia.edu/e3b/Globus Database/UWIN Tagged Photos/batch_004/VID31449-00211.jpg\n"
     ]
    },
    {
     "name": "stderr",
     "output_type": "stream",
     "text": [
      " 98%|████████████████████████████████████████████████████████████████████████████▊ | 1237/1256 [21:36<00:18,  1.03it/s]"
     ]
    },
    {
     "name": "stdout",
     "output_type": "stream",
     "text": [
      "Processing image //vector.e3b.columbia.edu/e3b/Globus Database/UWIN Tagged Photos/batch_004/VID31449-00212.jpg\n"
     ]
    },
    {
     "name": "stderr",
     "output_type": "stream",
     "text": [
      " 99%|████████████████████████████████████████████████████████████████████████████▉ | 1238/1256 [21:37<00:17,  1.02it/s]"
     ]
    },
    {
     "name": "stdout",
     "output_type": "stream",
     "text": [
      "Processing image //vector.e3b.columbia.edu/e3b/Globus Database/UWIN Tagged Photos/batch_004/VID31449-00213.jpg\n"
     ]
    },
    {
     "name": "stderr",
     "output_type": "stream",
     "text": [
      " 99%|████████████████████████████████████████████████████████████████████████████▉ | 1239/1256 [21:38<00:16,  1.02it/s]"
     ]
    },
    {
     "name": "stdout",
     "output_type": "stream",
     "text": [
      "Processing image //vector.e3b.columbia.edu/e3b/Globus Database/UWIN Tagged Photos/batch_004/VID31449-00214.jpg\n"
     ]
    },
    {
     "name": "stderr",
     "output_type": "stream",
     "text": [
      " 99%|█████████████████████████████████████████████████████████████████████████████ | 1240/1256 [21:39<00:15,  1.01it/s]"
     ]
    },
    {
     "name": "stdout",
     "output_type": "stream",
     "text": [
      "Processing image //vector.e3b.columbia.edu/e3b/Globus Database/UWIN Tagged Photos/batch_004/VID31449-00215.jpg\n"
     ]
    },
    {
     "name": "stderr",
     "output_type": "stream",
     "text": [
      " 99%|█████████████████████████████████████████████████████████████████████████████ | 1241/1256 [21:40<00:14,  1.02it/s]"
     ]
    },
    {
     "name": "stdout",
     "output_type": "stream",
     "text": [
      "Processing image //vector.e3b.columbia.edu/e3b/Globus Database/UWIN Tagged Photos/batch_004/VID31449-00216.jpg\n"
     ]
    },
    {
     "name": "stderr",
     "output_type": "stream",
     "text": [
      " 99%|█████████████████████████████████████████████████████████████████████████████▏| 1242/1256 [21:41<00:13,  1.02it/s]"
     ]
    },
    {
     "name": "stdout",
     "output_type": "stream",
     "text": [
      "Processing image //vector.e3b.columbia.edu/e3b/Globus Database/UWIN Tagged Photos/batch_004/VID31449-00217.jpg\n"
     ]
    },
    {
     "name": "stderr",
     "output_type": "stream",
     "text": [
      " 99%|█████████████████████████████████████████████████████████████████████████████▏| 1243/1256 [21:42<00:12,  1.03it/s]"
     ]
    },
    {
     "name": "stdout",
     "output_type": "stream",
     "text": [
      "Processing image //vector.e3b.columbia.edu/e3b/Globus Database/UWIN Tagged Photos/batch_004/VID31449-00218.jpg\n"
     ]
    },
    {
     "name": "stderr",
     "output_type": "stream",
     "text": [
      " 99%|█████████████████████████████████████████████████████████████████████████████▎| 1244/1256 [21:43<00:11,  1.03it/s]"
     ]
    },
    {
     "name": "stdout",
     "output_type": "stream",
     "text": [
      "Processing image //vector.e3b.columbia.edu/e3b/Globus Database/UWIN Tagged Photos/batch_004/VID31449-00219.jpg\n"
     ]
    },
    {
     "name": "stderr",
     "output_type": "stream",
     "text": [
      " 99%|█████████████████████████████████████████████████████████████████████████████▎| 1245/1256 [21:44<00:10,  1.03it/s]"
     ]
    },
    {
     "name": "stdout",
     "output_type": "stream",
     "text": [
      "Processing image //vector.e3b.columbia.edu/e3b/Globus Database/UWIN Tagged Photos/batch_004/VID31449-00220.jpg\n"
     ]
    },
    {
     "name": "stderr",
     "output_type": "stream",
     "text": [
      " 99%|█████████████████████████████████████████████████████████████████████████████▍| 1246/1256 [21:45<00:09,  1.01it/s]"
     ]
    },
    {
     "name": "stdout",
     "output_type": "stream",
     "text": [
      "Processing image //vector.e3b.columbia.edu/e3b/Globus Database/UWIN Tagged Photos/batch_004/VID31449-00221.jpg\n"
     ]
    },
    {
     "name": "stderr",
     "output_type": "stream",
     "text": [
      " 99%|█████████████████████████████████████████████████████████████████████████████▍| 1247/1256 [21:46<00:08,  1.01it/s]"
     ]
    },
    {
     "name": "stdout",
     "output_type": "stream",
     "text": [
      "Processing image //vector.e3b.columbia.edu/e3b/Globus Database/UWIN Tagged Photos/batch_004/VID31449-00222.jpg\n"
     ]
    },
    {
     "name": "stderr",
     "output_type": "stream",
     "text": [
      " 99%|█████████████████████████████████████████████████████████████████████████████▌| 1248/1256 [21:47<00:07,  1.02it/s]"
     ]
    },
    {
     "name": "stdout",
     "output_type": "stream",
     "text": [
      "Processing image //vector.e3b.columbia.edu/e3b/Globus Database/UWIN Tagged Photos/batch_004/VID31449-00223.jpg\n"
     ]
    },
    {
     "name": "stderr",
     "output_type": "stream",
     "text": [
      " 99%|█████████████████████████████████████████████████████████████████████████████▌| 1249/1256 [21:48<00:06,  1.01it/s]"
     ]
    },
    {
     "name": "stdout",
     "output_type": "stream",
     "text": [
      "Processing image //vector.e3b.columbia.edu/e3b/Globus Database/UWIN Tagged Photos/batch_004/VID31449-00224.jpg\n"
     ]
    },
    {
     "name": "stderr",
     "output_type": "stream",
     "text": [
      "100%|█████████████████████████████████████████████████████████████████████████████▋| 1250/1256 [21:49<00:05,  1.01it/s]"
     ]
    },
    {
     "name": "stdout",
     "output_type": "stream",
     "text": [
      "Processing image //vector.e3b.columbia.edu/e3b/Globus Database/UWIN Tagged Photos/batch_004/VID31449-00225.jpg\n"
     ]
    },
    {
     "name": "stderr",
     "output_type": "stream",
     "text": [
      "100%|█████████████████████████████████████████████████████████████████████████████▋| 1251/1256 [21:50<00:04,  1.01it/s]"
     ]
    },
    {
     "name": "stdout",
     "output_type": "stream",
     "text": [
      "Processing image //vector.e3b.columbia.edu/e3b/Globus Database/UWIN Tagged Photos/batch_004/VID31449-00226.jpg\n"
     ]
    },
    {
     "name": "stderr",
     "output_type": "stream",
     "text": [
      "100%|█████████████████████████████████████████████████████████████████████████████▊| 1252/1256 [21:51<00:03,  1.02it/s]"
     ]
    },
    {
     "name": "stdout",
     "output_type": "stream",
     "text": [
      "Processing image //vector.e3b.columbia.edu/e3b/Globus Database/UWIN Tagged Photos/batch_004/VID31449-00227.jpg\n"
     ]
    },
    {
     "name": "stderr",
     "output_type": "stream",
     "text": [
      "100%|█████████████████████████████████████████████████████████████████████████████▊| 1253/1256 [21:52<00:02,  1.01it/s]"
     ]
    },
    {
     "name": "stdout",
     "output_type": "stream",
     "text": [
      "Processing image //vector.e3b.columbia.edu/e3b/Globus Database/UWIN Tagged Photos/batch_004/VID31449-00228.jpg\n"
     ]
    },
    {
     "name": "stderr",
     "output_type": "stream",
     "text": [
      "100%|█████████████████████████████████████████████████████████████████████████████▉| 1254/1256 [21:53<00:01,  1.02it/s]"
     ]
    },
    {
     "name": "stdout",
     "output_type": "stream",
     "text": [
      "Processing image //vector.e3b.columbia.edu/e3b/Globus Database/UWIN Tagged Photos/batch_004/VID31449-00229.jpg\n"
     ]
    },
    {
     "name": "stderr",
     "output_type": "stream",
     "text": [
      "100%|█████████████████████████████████████████████████████████████████████████████▉| 1255/1256 [21:54<00:00,  1.03it/s]"
     ]
    },
    {
     "name": "stdout",
     "output_type": "stream",
     "text": [
      "Processing image //vector.e3b.columbia.edu/e3b/Globus Database/UWIN Tagged Photos/batch_004/VID31449-00230.jpg\n"
     ]
    },
    {
     "name": "stderr",
     "output_type": "stream",
     "text": [
      "100%|██████████████████████████████████████████████████████████████████████████████| 1256/1256 [21:55<00:00,  1.05s/it]\n"
     ]
    }
   ],
   "source": [
    "results = load_and_run_detector_batch('MDV5A', image_file_names)"
   ]
  },
  {
   "cell_type": "code",
   "execution_count": 5,
   "id": "c7d62110-8e30-48c9-bf51-eb08d848fd56",
   "metadata": {},
   "outputs": [],
   "source": [
    "import cv2\n",
    "import os\n",
    "\n",
    "# Assuming `load_and_run_detector_batch` is defined to run MegaDetector on a batch of images\n",
    "# Define your image file names and the directory to save the processed images\n",
    "image_file_names = os.listdir(r'//vector.e3b.columbia.edu/e3b/Globus Database/UWIN Tagged Photos/batch_004')  # List of image file paths\n",
    "output_directory = r\"D:\\batch_004_outputs\"\n",
    "os.makedirs(output_directory, exist_ok=True)  # Create the directory if it doesn't exist"
   ]
  },
  {
   "cell_type": "code",
   "execution_count": 6,
   "id": "93086a7b-8edf-447c-b8d8-8701a3068f56",
   "metadata": {},
   "outputs": [],
   "source": [
    "from tqdm import tqdm"
   ]
  },
  {
   "cell_type": "code",
   "execution_count": 7,
   "id": "bfc6ea4c-7948-4b82-883d-50b19fc94396",
   "metadata": {},
   "outputs": [
    {
     "name": "stderr",
     "output_type": "stream",
     "text": [
      "100%|██████████████████████████████████████████████████████████████████████████████| 1256/1256 [09:08<00:00,  2.29it/s]"
     ]
    },
    {
     "name": "stdout",
     "output_type": "stream",
     "text": [
      "Processed images saved to 'D:\\batch_004_outputs'\n"
     ]
    },
    {
     "name": "stderr",
     "output_type": "stream",
     "text": [
      "\n"
     ]
    }
   ],
   "source": [
    "# Set the threshold for detections\n",
    "confidence_threshold = 0.2\n",
    "\n",
    "# Function to draw bounding boxes on an image\n",
    "def draw_bounding_boxes(image, detections, threshold):\n",
    "    for detection in detections:\n",
    "        if detection['conf'] > threshold:\n",
    "            bbox = detection['bbox']\n",
    "            category = detection['category']\n",
    "            conf = detection['conf']\n",
    "            height, width, _ = image.shape\n",
    "            x1 = int(bbox[0] * width)\n",
    "            y1 = int(bbox[1] * height)\n",
    "            x2 = int((bbox[0] + bbox[2]) * width)\n",
    "            y2 = int((bbox[1] + bbox[3]) * height)\n",
    "            # Draw the bounding box\n",
    "            cv2.rectangle(image, (x1, y1), (x2, y2), (0, 0, 255), 4)\n",
    "            # Draw the label\n",
    "            # Draw the label\n",
    "            label = f'Category: {category}, Conf: {conf:.2f}'\n",
    "            label_size, base_line = cv2.getTextSize(label, cv2.FONT_HERSHEY_SIMPLEX, 2, 4)\n",
    "            y1_label = y1 + label_size[1] + 10 if y1 + label_size[1] + 10 < y2 else y1 - 10\n",
    "            x1_label = x1 + 10 if x1 + label_size[0] + 20 < x2 else x1 - label_size[0] - 20\n",
    "            \n",
    "            cv2.rectangle(image, (x1_label, y1_label - label_size[1] - 10), (x1_label + label_size[0] + 20, y1_label + base_line - 10), (0, 0, 255), cv2.FILLED)\n",
    "            cv2.putText(image, label, (x1_label + 10, y1_label - 7), cv2.FONT_HERSHEY_SIMPLEX, 2, (0, 0, 0), 4)\n",
    "\n",
    "\n",
    "# Process each image and save the results\n",
    "for i in tqdm(range(len(results))):\n",
    "    image_path = results[i]['file']\n",
    "    image = cv2.imread(image_path)\n",
    "    draw_bounding_boxes(image, results[i]['detections'], confidence_threshold)\n",
    "    \n",
    "    # Save the processed image to the output directory\n",
    "    output_path = os.path.join(output_directory, os.path.basename(image_path))\n",
    "    cv2.imwrite(output_path, image)\n",
    "\n",
    "print(f\"Processed images saved to '{output_directory}'\")"
   ]
  },
  {
   "cell_type": "code",
   "execution_count": 8,
   "id": "297c7fda-e8ea-4bb3-9453-cc44623c5da9",
   "metadata": {},
   "outputs": [],
   "source": [
    "import json"
   ]
  },
  {
   "cell_type": "code",
   "execution_count": 9,
   "id": "e8de515c-2d03-4afc-a265-1cd7b875fea3",
   "metadata": {},
   "outputs": [],
   "source": [
    "file_path = 'results_batch_004.json'\n",
    "with open(file_path, 'w') as file:\n",
    "    json.dump(results, file, indent=4)"
   ]
  },
  {
   "cell_type": "code",
   "execution_count": null,
   "id": "9543e067-577c-4310-889b-7a3345a95543",
   "metadata": {},
   "outputs": [],
   "source": []
  }
 ],
 "metadata": {
  "kernelspec": {
   "display_name": "Python 3 (ipykernel)",
   "language": "python",
   "name": "python3"
  },
  "language_info": {
   "codemirror_mode": {
    "name": "ipython",
    "version": 3
   },
   "file_extension": ".py",
   "mimetype": "text/x-python",
   "name": "python",
   "nbconvert_exporter": "python",
   "pygments_lexer": "ipython3",
   "version": "3.11.7"
  }
 },
 "nbformat": 4,
 "nbformat_minor": 5
}

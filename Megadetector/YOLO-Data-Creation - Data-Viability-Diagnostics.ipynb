{
 "cells": [
  {
   "cell_type": "code",
   "execution_count": 2,
   "id": "82e8b9e7-cc8c-437b-bdcb-31a669d6fb8e",
   "metadata": {},
   "outputs": [],
   "source": [
    "import numpy as np\n",
    "import json\n",
    "\n",
    "import os\n",
    "import shutil"
   ]
  },
  {
   "cell_type": "code",
   "execution_count": 3,
   "id": "cabb9029-d6a3-478f-99aa-fe4f1d3cfc99",
   "metadata": {},
   "outputs": [],
   "source": [
    "parent_dir = r\"D:\\UWIN Tagged Photos Outputs\"\n",
    "batch_results_dir = r\"D:\\UWIN Tagged Photos Outputs\\Batchwise Results\""
   ]
  },
  {
   "cell_type": "code",
   "execution_count": 4,
   "id": "3c1fa369-96c2-41fe-9fe4-6f891c6162ec",
   "metadata": {},
   "outputs": [],
   "source": [
    "json_filenames = os.listdir(batch_results_dir)"
   ]
  },
  {
   "cell_type": "code",
   "execution_count": 5,
   "id": "ea965042-6c65-45c6-adf1-f49bf6f36615",
   "metadata": {},
   "outputs": [],
   "source": [
    "json_file = os.path.join(batch_results_dir, json_filenames[0])"
   ]
  },
  {
   "cell_type": "code",
   "execution_count": 6,
   "id": "5a137c23-6fd4-40f5-98ef-4d2fe9755cb4",
   "metadata": {},
   "outputs": [],
   "source": [
    "with open(json_file, 'r') as file:\n",
    "    results = json.load(file)"
   ]
  },
  {
   "cell_type": "code",
   "execution_count": 7,
   "id": "32a31160-9da7-4cbb-afa8-ee2952e9fb86",
   "metadata": {},
   "outputs": [
    {
     "data": {
      "text/plain": [
       "13019"
      ]
     },
     "execution_count": 7,
     "metadata": {},
     "output_type": "execute_result"
    }
   ],
   "source": [
    "len(results)"
   ]
  },
  {
   "cell_type": "code",
   "execution_count": 8,
   "id": "9880b658-fbc0-446f-9104-622f7a434aca",
   "metadata": {},
   "outputs": [
    {
     "name": "stdout",
     "output_type": "stream",
     "text": [
      "11\n",
      "0\n"
     ]
    }
   ],
   "source": [
    "c = 0\n",
    "for r in range(len(results)):\n",
    "    dets = results[r]['detections']\n",
    "    if len(dets)==1 and dets[0]['conf']>0.2:\n",
    "        print(r)\n",
    "        break\n",
    "print(c)"
   ]
  },
  {
   "cell_type": "code",
   "execution_count": 18,
   "id": "d91bc987-3c9f-4b59-a227-02758c7260ba",
   "metadata": {},
   "outputs": [],
   "source": [
    "def check_all_dirs(parent_dir, batch_results_dir):\n",
    "    json_filenames = os.listdir(batch_results_dir)\n",
    "    c = 0\n",
    "    for i in json_filenames:\n",
    "        json_file = os.path.join(batch_results_dir, json_filenames[0])\n",
    "        with open(json_file, 'r') as file:\n",
    "            results = json.load(file)\n",
    "        for r in results:\n",
    "            dets = r['detections']\n",
    "            if len(dets)==1 and dets[0]['conf']>0.2:\n",
    "                c += 1\n",
    "    return c"
   ]
  },
  {
   "cell_type": "code",
   "execution_count": 19,
   "id": "aa4b0198-2fb0-4bfb-88c9-702a15e9fb77",
   "metadata": {},
   "outputs": [
    {
     "data": {
      "text/plain": [
       "68530"
      ]
     },
     "execution_count": 19,
     "metadata": {},
     "output_type": "execute_result"
    }
   ],
   "source": [
    "check_all_dirs(parent_dir, batch_results_dir)"
   ]
  },
  {
   "cell_type": "code",
   "execution_count": null,
   "id": "d8ee4b20-9207-4a98-96ef-d3ffd469a042",
   "metadata": {},
   "outputs": [],
   "source": []
  }
 ],
 "metadata": {
  "kernelspec": {
   "display_name": "Python 3 (ipykernel)",
   "language": "python",
   "name": "python3"
  },
  "language_info": {
   "codemirror_mode": {
    "name": "ipython",
    "version": 3
   },
   "file_extension": ".py",
   "mimetype": "text/x-python",
   "name": "python",
   "nbconvert_exporter": "python",
   "pygments_lexer": "ipython3",
   "version": "3.11.7"
  }
 },
 "nbformat": 4,
 "nbformat_minor": 5
}

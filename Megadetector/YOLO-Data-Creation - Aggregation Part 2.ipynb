{
 "cells": [
  {
   "cell_type": "code",
   "execution_count": 6,
   "id": "1f2358bc-9830-4826-aebf-c11bc9a73244",
   "metadata": {},
   "outputs": [],
   "source": [
    "import os\n",
    "import shutil\n",
    "import random"
   ]
  },
  {
   "cell_type": "code",
   "execution_count": 7,
   "id": "3294b426-1e50-4bc3-ae2a-ae55dcbda8b8",
   "metadata": {},
   "outputs": [],
   "source": [
    "from tqdm import tqdm"
   ]
  },
  {
   "cell_type": "code",
   "execution_count": 8,
   "id": "b2a0f8b0-3658-48b7-bf5b-148f07cdc38d",
   "metadata": {},
   "outputs": [],
   "source": [
    "def move_files_for_validation(source_images_dir, source_labels_dir, dest_images_dir, dest_labels_dir, num_files=3000):\n",
    "    if not os.path.exists(dest_images_dir):\n",
    "        os.makedirs(dest_images_dir)\n",
    "    if not os.path.exists(dest_labels_dir):\n",
    "        os.makedirs(dest_labels_dir)\n",
    "    \n",
    "    # List all image files\n",
    "    image_files = [f for f in os.listdir(source_images_dir) if f.endswith(('.jpg', '.png'))]\n",
    "    \n",
    "    # Randomly select a subset of image files\n",
    "    selected_files = random.sample(image_files, num_files)\n",
    "    \n",
    "    for file_name in tqdm(selected_files):\n",
    "        # Move the image file\n",
    "        source_image_path = os.path.join(source_images_dir, file_name)\n",
    "        dest_image_path = os.path.join(dest_images_dir, file_name)\n",
    "        shutil.move(source_image_path, dest_image_path)\n",
    "        \n",
    "        # Move the corresponding label file\n",
    "        label_file_name = file_name.replace('.jpg', '.txt').replace('.png', '.txt')\n",
    "        source_label_path = os.path.join(source_labels_dir, label_file_name)\n",
    "        dest_label_path = os.path.join(dest_labels_dir, label_file_name)\n",
    "        if os.path.exists(source_label_path):\n",
    "            shutil.move(source_label_path, dest_label_path)\n"
   ]
  },
  {
   "cell_type": "code",
   "execution_count": 9,
   "id": "739ec88a-f69b-4cf7-bacf-6d52e8f971af",
   "metadata": {},
   "outputs": [
    {
     "name": "stderr",
     "output_type": "stream",
     "text": [
      "100%|█████████████████████████████████████████████████████████████████████████████| 4000/4000 [00:05<00:00, 681.08it/s]\n"
     ]
    }
   ],
   "source": [
    "source_images_dir = r\"C:\\Users\\ab5640\\Desktop\\Python\\dataset\\images\"\n",
    "source_labels_dir = r\"C:\\Users\\ab5640\\Desktop\\Python\\dataset\\labels\"\n",
    "dest_images_dir = r\"C:\\Users\\ab5640\\Desktop\\Python\\dataset\\val_images\"\n",
    "dest_labels_dir = r\"C:\\Users\\ab5640\\Desktop\\Python\\dataset\\val_labels\"\n",
    "\n",
    "# Move 3000 images and corresponding labels to the validation folders\n",
    "move_files_for_validation(source_images_dir, source_labels_dir, dest_images_dir, dest_labels_dir, num_files=4000)"
   ]
  },
  {
   "cell_type": "code",
   "execution_count": null,
   "id": "a4dc3211-21fd-4051-873e-3b4feaef5a04",
   "metadata": {},
   "outputs": [],
   "source": []
  }
 ],
 "metadata": {
  "kernelspec": {
   "display_name": "Python 3 (ipykernel)",
   "language": "python",
   "name": "python3"
  },
  "language_info": {
   "codemirror_mode": {
    "name": "ipython",
    "version": 3
   },
   "file_extension": ".py",
   "mimetype": "text/x-python",
   "name": "python",
   "nbconvert_exporter": "python",
   "pygments_lexer": "ipython3",
   "version": "3.11.7"
  }
 },
 "nbformat": 4,
 "nbformat_minor": 5
}

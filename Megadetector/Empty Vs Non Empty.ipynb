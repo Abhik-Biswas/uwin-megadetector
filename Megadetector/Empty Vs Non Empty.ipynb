{
 "cells": [
  {
   "cell_type": "code",
   "execution_count": 1,
   "id": "925b5604-a342-407c-a988-0c00fb4e648d",
   "metadata": {},
   "outputs": [],
   "source": [
    "import os\n",
    "import json\n",
    "import shutil\n",
    "from tqdm import tqdm\n",
    "\n",
    "def move_images_based_on_confidence(json_file, source_folder, dest_folder, empty_folder, non_empty_folder, confidence_threshold=0.2):\n",
    "    # Ensure the destination folders exist\n",
    "    os.makedirs(empty_folder, exist_ok=True)\n",
    "    os.makedirs(non_empty_folder, exist_ok=True)\n",
    "    \n",
    "    # Read the JSON file\n",
    "    with open(json_file, 'r') as file:\n",
    "        results = json.load(file)\n",
    "    \n",
    "    # Process each image in the results\n",
    "    for result in tqdm(results):\n",
    "        image_path = os.path.basename(result['file'])\n",
    "        # print(image_path)\n",
    "        detections = result['detections']\n",
    "        \n",
    "        # Check if any detection has a confidence greater than the threshold\n",
    "        has_high_confidence = any(d['conf'] > confidence_threshold for d in detections)\n",
    "        \n",
    "        # Determine the destination folder\n",
    "        if has_high_confidence:\n",
    "            dest_path = os.path.join(non_empty_folder, os.path.basename(image_path))\n",
    "        else:\n",
    "            dest_path = os.path.join(empty_folder, os.path.basename(image_path))\n",
    "        \n",
    "        # Copy the image to the appropriate folder\n",
    "        # print(os.path.join(source_folder, image_path))\n",
    "        shutil.copy(os.path.join(source_folder, image_path), dest_path)"
   ]
  },
  {
   "cell_type": "code",
   "execution_count": 2,
   "id": "aa7905c5-b201-48ea-bcb7-36e324ede68e",
   "metadata": {},
   "outputs": [],
   "source": [
    "with open(r\"D:\\UWIN Tagged Photos Outputs\\Batchwise Results\\results_batch_001.json\", 'r') as file:\n",
    "    results = json.load(file)"
   ]
  },
  {
   "cell_type": "code",
   "execution_count": 3,
   "id": "72350dd2-6552-4762-9116-71cdfca9d83e",
   "metadata": {},
   "outputs": [
    {
     "data": {
      "text/plain": [
       "{'file': '//vector.e3b.columbia.edu/e3b/Globus Database/UWIN Tagged Photos/batch_001/VID30155-00000.jpg',\n",
       " 'max_detection_conf': 0.22,\n",
       " 'detections': [{'category': '1',\n",
       "   'conf': 0.00814,\n",
       "   'bbox': [0.1802, 0.4242, 0.05624, 0.09736]},\n",
       "  {'category': '1', 'conf': 0.00999, 'bbox': [0.908, 0, 0.09177, 0.4049]},\n",
       "  {'category': '2', 'conf': 0.0148, 'bbox': [0.7455, 0, 0.2544, 0.9336]},\n",
       "  {'category': '1', 'conf': 0.22, 'bbox': [0.9055, 0.001462, 0.0944, 0.9146]}]}"
      ]
     },
     "execution_count": 3,
     "metadata": {},
     "output_type": "execute_result"
    }
   ],
   "source": [
    "results[0]"
   ]
  },
  {
   "cell_type": "code",
   "execution_count": 4,
   "id": "04babf99-3ea1-4422-9a88-da9f17e08444",
   "metadata": {},
   "outputs": [
    {
     "data": {
      "text/plain": [
       "'D:\\\\UWIN Tagged Photos Outputs\\\\batch_001_outputs\\\\VID30155-00000.jpg'"
      ]
     },
     "execution_count": 4,
     "metadata": {},
     "output_type": "execute_result"
    }
   ],
   "source": [
    "os.path.join(r\"D:\\UWIN Tagged Photos Outputs\\batch_001_outputs\", os.path.basename(results[0]['file']))"
   ]
  },
  {
   "cell_type": "code",
   "execution_count": 5,
   "id": "4f0212a1-4681-4f43-8237-e14b2b8f906a",
   "metadata": {},
   "outputs": [],
   "source": [
    "from megadetector.visualization import visualization_utils as vis_utils"
   ]
  },
  {
   "cell_type": "code",
   "execution_count": null,
   "id": "29b608f7-d2c8-40a3-8fde-fe49371744ab",
   "metadata": {},
   "outputs": [],
   "source": [
    "fp = os.path.join(r\"D:\\UWIN Tagged Photos Outputs\\batch_001_outputs\", os.path.basename(results[1]['file']))\n",
    "image = vis_utils.load_image(fp)\n",
    "image"
   ]
  },
  {
   "cell_type": "code",
   "execution_count": 7,
   "id": "d2d0eea3-cc1a-4f21-aef4-6fffce2e02ff",
   "metadata": {},
   "outputs": [],
   "source": [
    "import os\n",
    "import shutil\n",
    "\n",
    "def copy_directory_structure(src, dest):\n",
    "    for dirpath, dirnames, filenames in os.walk(src):\n",
    "        structure = os.path.join(dest, os.path.relpath(dirpath, src))\n",
    "        if not os.path.isdir(structure):\n",
    "            os.makedirs(structure)\n",
    "\n",
    "# Usage\n",
    "source_directory = r\"D:\\2024 June Outputs\"\n",
    "destination_directory = r\"D:\\Empty vs Non Empty - 2024 June\"\n",
    "\n",
    "copy_directory_structure(source_directory, destination_directory)"
   ]
  },
  {
   "cell_type": "code",
   "execution_count": 8,
   "id": "46297450-1802-49f5-925a-97e30d5fc1ef",
   "metadata": {},
   "outputs": [],
   "source": [
    "json_file = r\"D:\\UWIN Tagged Photos Outputs\\Batchwise Results\\results_batch_001.json\""
   ]
  },
  {
   "cell_type": "code",
   "execution_count": 9,
   "id": "6665ed11-1e3b-4f88-a309-c6aa218a1241",
   "metadata": {},
   "outputs": [
    {
     "data": {
      "text/plain": [
       "'D:\\\\Empty vs Non Empty\\\\results_batch_001'"
      ]
     },
     "execution_count": 9,
     "metadata": {},
     "output_type": "execute_result"
    }
   ],
   "source": [
    "os.path.join(r\"D:\\Empty vs Non Empty\", os.path.basename(json_file).split('.')[0])"
   ]
  },
  {
   "cell_type": "code",
   "execution_count": 10,
   "id": "de11d0bd-790f-42f5-a322-b9b1f1e44d6f",
   "metadata": {},
   "outputs": [
    {
     "data": {
      "text/plain": [
       "'CbGd'"
      ]
     },
     "execution_count": 10,
     "metadata": {},
     "output_type": "execute_result"
    }
   ],
   "source": [
    "os.path.basename(r\"D:\\2024 June Outputs\\CbGd\")"
   ]
  },
  {
   "cell_type": "code",
   "execution_count": 61,
   "id": "b16a7b14-b29c-4c10-8d40-416d0a129b04",
   "metadata": {},
   "outputs": [
    {
     "name": "stderr",
     "output_type": "stream",
     "text": [
      "100%|███████████████████████████████████████████████████████████████████████████████| 168/168 [00:00<00:00, 649.40it/s]\n"
     ]
    }
   ],
   "source": [
    "# Example usage\n",
    "json_file = r\"D:\\sl5145\\Photos 2024\\Batchwise Results\\c6_122_btcf.json\"\n",
    "source_folder = r\"D:\\sl5145\\Photos 2024\\C6\\122_BTCF\"\n",
    "dest_folder = os.path.join(r\"D:\\Empty vs Non Empty - sl5145\\C6\" , os.path.basename(source_folder))\n",
    "empty_folder = os.path.join(dest_folder, 'empty_images')\n",
    "non_empty_folder = os.path.join(dest_folder, 'non_empty_images')\n",
    "\n",
    "move_images_based_on_confidence(json_file, source_folder, dest_folder, empty_folder, non_empty_folder, confidence_threshold=0.2)"
   ]
  },
  {
   "cell_type": "code",
   "execution_count": null,
   "id": "8c7946d7-689f-4ce6-a6e1-691a6939707a",
   "metadata": {},
   "outputs": [],
   "source": []
  }
 ],
 "metadata": {
  "kernelspec": {
   "display_name": "Python 3 (ipykernel)",
   "language": "python",
   "name": "python3"
  },
  "language_info": {
   "codemirror_mode": {
    "name": "ipython",
    "version": 3
   },
   "file_extension": ".py",
   "mimetype": "text/x-python",
   "name": "python",
   "nbconvert_exporter": "python",
   "pygments_lexer": "ipython3",
   "version": "3.11.7"
  }
 },
 "nbformat": 4,
 "nbformat_minor": 5
}

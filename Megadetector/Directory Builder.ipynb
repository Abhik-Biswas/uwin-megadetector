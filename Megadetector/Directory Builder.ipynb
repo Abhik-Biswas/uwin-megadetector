{
 "cells": [
  {
   "cell_type": "code",
   "execution_count": 1,
   "id": "37d7a8f6-b1af-40a2-a8b0-7be95f8fbf63",
   "metadata": {},
   "outputs": [],
   "source": [
    "import os\n",
    "import shutil\n",
    "\n",
    "def copy_directory_structure(src, dest):\n",
    "    for dirpath, dirnames, filenames in os.walk(src):\n",
    "        structure = os.path.join(dest, os.path.relpath(dirpath, src))\n",
    "        if not os.path.isdir(structure):\n",
    "            os.makedirs(structure)"
   ]
  },
  {
   "cell_type": "code",
   "execution_count": 3,
   "id": "eb2d87f4-8a69-4e7f-b2f4-9b1acca4caa5",
   "metadata": {},
   "outputs": [],
   "source": [
    "# Usage\n",
    "source_directory = r\"Z:\\sl5145\\Photos 2024\"\n",
    "destination_directory = r\"D:\\Empty vs Non Empty - sl5145\"\n",
    "\n",
    "copy_directory_structure(source_directory, destination_directory)"
   ]
  },
  {
   "cell_type": "code",
   "execution_count": null,
   "id": "61a7cb4a-dd2f-4b2f-be54-5a6f1c4dd1a3",
   "metadata": {},
   "outputs": [],
   "source": []
  }
 ],
 "metadata": {
  "kernelspec": {
   "display_name": "Python 3 (ipykernel)",
   "language": "python",
   "name": "python3"
  },
  "language_info": {
   "codemirror_mode": {
    "name": "ipython",
    "version": 3
   },
   "file_extension": ".py",
   "mimetype": "text/x-python",
   "name": "python",
   "nbconvert_exporter": "python",
   "pygments_lexer": "ipython3",
   "version": "3.11.7"
  }
 },
 "nbformat": 4,
 "nbformat_minor": 5
}

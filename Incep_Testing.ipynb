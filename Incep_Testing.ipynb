{
 "cells": [
  {
   "cell_type": "code",
   "execution_count": 1,
   "id": "334e32c4-e394-49d3-9179-f46f5e26f903",
   "metadata": {},
   "outputs": [],
   "source": [
    "import numpy as np\n",
    "import pandas as pd\n",
    "from tensorflow.keras.preprocessing.image import ImageDataGenerator\n",
    "import tensorflow as tf"
   ]
  },
  {
   "cell_type": "code",
   "execution_count": 2,
   "id": "13f44318-6fcd-4c9c-af3e-32f8875d9203",
   "metadata": {},
   "outputs": [],
   "source": [
    "from keras.applications import InceptionV3"
   ]
  },
  {
   "cell_type": "code",
   "execution_count": 3,
   "id": "e9a39e4d-274f-4a89-8b0f-31edbd3beb4e",
   "metadata": {},
   "outputs": [],
   "source": [
    "base_model = InceptionV3(weights='imagenet', include_top=False, input_shape=(224,224,3))"
   ]
  },
  {
   "cell_type": "code",
   "execution_count": 4,
   "id": "610902d4-ea7d-4f3d-9a3d-93bc2e90032a",
   "metadata": {},
   "outputs": [],
   "source": [
    "x = base_model.output\n",
    "x = tf.keras.layers.Flatten()(x)\n",
    "x = tf.keras.layers.Dropout(0.16)(x)\n",
    "x = tf.keras.layers.Dense(128, activation='relu')(x)\n",
    "out = tf.keras.layers.Dense(2, activation='softmax')(x)"
   ]
  },
  {
   "cell_type": "code",
   "execution_count": 5,
   "id": "f527e9af-d9f0-423c-99bd-baeea674bc0e",
   "metadata": {},
   "outputs": [],
   "source": [
    "model = tf.keras.models.Model(inputs = base_model.input, outputs = out)"
   ]
  },
  {
   "cell_type": "code",
   "execution_count": 6,
   "id": "02be4d87-8a74-4a35-916f-ed70c0011e69",
   "metadata": {},
   "outputs": [],
   "source": [
    "model.compile(optimizer=tf.keras.optimizers.Adamax(), loss='sparse_categorical_crossentropy', metrics=['accuracy'])"
   ]
  },
  {
   "cell_type": "code",
   "execution_count": 7,
   "id": "9bbe2621-b75c-45b4-93a8-1d94ad984f57",
   "metadata": {},
   "outputs": [
    {
     "name": "stderr",
     "output_type": "stream",
     "text": [
      "C:\\Users\\ab5640\\AppData\\Roaming\\Python\\Python311\\site-packages\\keras\\src\\saving\\saving_lib.py:562: UserWarning: Skipping variable loading for optimizer 'adamax', because it has 2 variables whereas the saved optimizer has 10 variables. \n",
      "  saveable.load_own_variables(weights_store.get(inner_path))\n"
     ]
    }
   ],
   "source": [
    "model.load_weights('./best_weights_acc_incepv31/best_weights_acc.weights.h5')"
   ]
  },
  {
   "cell_type": "code",
   "execution_count": 9,
   "id": "c976775d-e2df-4bd8-92fd-6c04c866867e",
   "metadata": {},
   "outputs": [],
   "source": [
    "import os\n",
    "from details import folder\n",
    "directory = os.path.join(folder, r\"batch_002\")"
   ]
  },
  {
   "cell_type": "code",
   "execution_count": 11,
   "id": "bbbcfb5d-d0c9-45f2-855e-07b955036536",
   "metadata": {},
   "outputs": [],
   "source": [
    "data = pd.read_csv(r\"\\\\vector.e3b.columbia.edu\\e3b\\Globus Database\\UWIN Tagged Photos\\batch_002\\detections_to_update_2024-02-07.csv\", index_col=0)"
   ]
  },
  {
   "cell_type": "code",
   "execution_count": 12,
   "id": "f8450d1f-7408-4f25-b0d6-b3868f6a3e22",
   "metadata": {},
   "outputs": [],
   "source": [
    "data[\"is_present\"] = data['species'].apply(lambda x: \"not_present\" if pd.isna(x) else \"present\")"
   ]
  },
  {
   "cell_type": "code",
   "execution_count": 13,
   "id": "b8109872-9c9d-483b-b35c-2db89ba3115b",
   "metadata": {},
   "outputs": [],
   "source": [
    "datagen = ImageDataGenerator(rescale=1./255.)"
   ]
  },
  {
   "cell_type": "code",
   "execution_count": 14,
   "id": "72c880cc-84d0-4eb6-bf99-4b6af5ca85b0",
   "metadata": {},
   "outputs": [
    {
     "name": "stdout",
     "output_type": "stream",
     "text": [
      "Found 15000 validated image filenames belonging to 2 classes.\n"
     ]
    }
   ],
   "source": [
    "training_data = datagen.flow_from_dataframe(dataframe=data, \n",
    "                                            directory=directory, \n",
    "                                            x_col='photoName', \n",
    "                                            y_col='is_present', \n",
    "                                            target_size=(224,224), \n",
    "                                            class_mode='binary', \n",
    "                                            batch_size=8)"
   ]
  },
  {
   "cell_type": "code",
   "execution_count": 15,
   "id": "c3da786d-a1fe-4d38-b852-3df99912c350",
   "metadata": {},
   "outputs": [
    {
     "name": "stderr",
     "output_type": "stream",
     "text": [
      "C:\\Users\\ab5640\\AppData\\Roaming\\Python\\Python311\\site-packages\\keras\\src\\trainers\\data_adapters\\py_dataset_adapter.py:121: UserWarning: Your `PyDataset` class should call `super().__init__(**kwargs)` in its constructor. `**kwargs` can include `workers`, `use_multiprocessing`, `max_queue_size`. Do not pass these arguments to `fit()`, as they will be ignored.\n",
      "  self._warn_if_super_not_called()\n"
     ]
    },
    {
     "name": "stdout",
     "output_type": "stream",
     "text": [
      "\u001b[1m1875/1875\u001b[0m \u001b[32m━━━━━━━━━━━━━━━━━━━━\u001b[0m\u001b[37m\u001b[0m \u001b[1m2033s\u001b[0m 1s/step - accuracy: 0.6667 - loss: 0.7999\n"
     ]
    },
    {
     "data": {
      "text/plain": [
       "[0.8057844638824463, 0.6629999876022339]"
      ]
     },
     "execution_count": 15,
     "metadata": {},
     "output_type": "execute_result"
    }
   ],
   "source": [
    "model.evaluate(training_data)"
   ]
  },
  {
   "cell_type": "code",
   "execution_count": 28,
   "id": "baa50a3a-b006-473d-be56-f1e1c5018577",
   "metadata": {},
   "outputs": [],
   "source": [
    "directory = os.path.join(folder, r\"batch_003\")\n",
    "data = pd.read_csv(r\"\\\\vector.e3b.columbia.edu\\e3b\\Globus Database\\UWIN Tagged Photos\\batch_003\\detections_to_update_2024-02-08.csv\", index_col=0)\n",
    "data[\"is_present\"] = data['species'].apply(lambda x: \"not_present\" if pd.isna(x) else \"present\")"
   ]
  },
  {
   "cell_type": "code",
   "execution_count": 29,
   "id": "898405fd-bcc2-4a48-b6da-359a428e1ab6",
   "metadata": {},
   "outputs": [],
   "source": [
    "from PIL import ImageFile\n",
    "ImageFile.LOAD_TRUNCATED_IMAGES = True"
   ]
  },
  {
   "cell_type": "code",
   "execution_count": 30,
   "id": "6a66ac71-99b0-421b-ae94-2292f69d6fee",
   "metadata": {},
   "outputs": [],
   "source": [
    "datagen = ImageDataGenerator(rescale=1./255.)"
   ]
  },
  {
   "cell_type": "code",
   "execution_count": 31,
   "id": "9ab756d7-de7b-420c-9e44-a68569106063",
   "metadata": {},
   "outputs": [
    {
     "name": "stdout",
     "output_type": "stream",
     "text": [
      "Found 9940 validated image filenames belonging to 2 classes.\n"
     ]
    },
    {
     "name": "stderr",
     "output_type": "stream",
     "text": [
      "C:\\Users\\ab5640\\AppData\\Roaming\\Python\\Python311\\site-packages\\keras\\src\\legacy\\preprocessing\\image.py:920: UserWarning: Found 5060 invalid image filename(s) in x_col=\"photoName\". These filename(s) will be ignored.\n",
      "  warnings.warn(\n"
     ]
    }
   ],
   "source": [
    "training_data = datagen.flow_from_dataframe(dataframe=data, \n",
    "                                            directory=directory, \n",
    "                                            x_col='photoName', \n",
    "                                            y_col='is_present', \n",
    "                                            target_size=(224,224), \n",
    "                                            class_mode='binary', \n",
    "                                            batch_size=8)"
   ]
  },
  {
   "cell_type": "code",
   "execution_count": 32,
   "id": "f1d06a60-eef9-456f-ade2-a2be6cc77dd7",
   "metadata": {},
   "outputs": [
    {
     "name": "stderr",
     "output_type": "stream",
     "text": [
      "C:\\Users\\ab5640\\AppData\\Roaming\\Python\\Python311\\site-packages\\keras\\src\\trainers\\data_adapters\\py_dataset_adapter.py:121: UserWarning: Your `PyDataset` class should call `super().__init__(**kwargs)` in its constructor. `**kwargs` can include `workers`, `use_multiprocessing`, `max_queue_size`. Do not pass these arguments to `fit()`, as they will be ignored.\n",
      "  self._warn_if_super_not_called()\n"
     ]
    },
    {
     "name": "stdout",
     "output_type": "stream",
     "text": [
      "\u001b[1m1243/1243\u001b[0m \u001b[32m━━━━━━━━━━━━━━━━━━━━\u001b[0m\u001b[37m\u001b[0m \u001b[1m2523s\u001b[0m 2s/step - accuracy: 0.5628 - loss: 1.0907\n"
     ]
    },
    {
     "data": {
      "text/plain": [
       "[1.0987125635147095, 0.5646881461143494]"
      ]
     },
     "execution_count": 32,
     "metadata": {},
     "output_type": "execute_result"
    }
   ],
   "source": [
    "model.evaluate(training_data)"
   ]
  },
  {
   "cell_type": "code",
   "execution_count": null,
   "id": "28876af1-2afc-41aa-a016-13761002d417",
   "metadata": {},
   "outputs": [],
   "source": []
  }
 ],
 "metadata": {
  "kernelspec": {
   "display_name": "Python 3 (ipykernel)",
   "language": "python",
   "name": "python3"
  },
  "language_info": {
   "codemirror_mode": {
    "name": "ipython",
    "version": 3
   },
   "file_extension": ".py",
   "mimetype": "text/x-python",
   "name": "python",
   "nbconvert_exporter": "python",
   "pygments_lexer": "ipython3",
   "version": "3.11.7"
  }
 },
 "nbformat": 4,
 "nbformat_minor": 5
}
